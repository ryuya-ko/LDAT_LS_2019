{
 "cells": [
  {
   "cell_type": "markdown",
   "metadata": {},
   "source": [
    "# kriging_est関数とRの結果を比較する\n",
    "- 推定結果が大きく異なってしまう原因を探る\n",
    "- cvを行う"
   ]
  },
  {
   "cell_type": "code",
   "execution_count": 1,
   "metadata": {},
   "outputs": [],
   "source": [
    "import pandas as pd\n",
    "import numpy as np\n",
    "import statsmodels.api as sm\n",
    "import matplotlib.pyplot as plt\n",
    "import calc_variogram as variogram\n",
    "import kriging_est as kriging"
   ]
  },
  {
   "cell_type": "code",
   "execution_count": 2,
   "metadata": {},
   "outputs": [],
   "source": [
    "%load_ext autoreload\n",
    "%autoreload 2"
   ]
  },
  {
   "cell_type": "code",
   "execution_count": 65,
   "metadata": {},
   "outputs": [],
   "source": [
    "# 前処理\n",
    "data = pd.read_csv('/Users/LOng/sengokulab/LDAT_LS_2019/data/dev/house_price_raw.csv')\n",
    "data['price'] = np.log(data.price)"
   ]
  },
  {
   "cell_type": "code",
   "execution_count": 66,
   "metadata": {},
   "outputs": [],
   "source": [
    "data_list = [data.drop(i) for i in range(0, 128)]\n",
    "mdat_list = [data.loc[i] for i in range(0, 128)]"
   ]
  },
  {
   "cell_type": "markdown",
   "metadata": {},
   "source": [
    "# 1行目をleaveしてLOO"
   ]
  },
  {
   "cell_type": "code",
   "execution_count": 67,
   "metadata": {},
   "outputs": [],
   "source": [
    "data = data_list[0]"
   ]
  },
  {
   "cell_type": "markdown",
   "metadata": {},
   "source": [
    "## Step1: OLSから残差を算出"
   ]
  },
  {
   "cell_type": "code",
   "execution_count": 68,
   "metadata": {},
   "outputs": [],
   "source": [
    "x = data[['station', 'tokyo']]\n",
    "y = data['price']"
   ]
  },
  {
   "cell_type": "code",
   "execution_count": 69,
   "metadata": {},
   "outputs": [],
   "source": [
    "step1 = sm.OLS(y, x)\n",
    "step1_res = step1.fit()\n",
    "resid = step1_res.resid"
   ]
  },
  {
   "cell_type": "markdown",
   "metadata": {},
   "source": [
    "## Step2: 残差からvariogramを推定"
   ]
  },
  {
   "cell_type": "code",
   "execution_count": 70,
   "metadata": {},
   "outputs": [],
   "source": [
    "# 前処理\n",
    "resid = pd.DataFrame(resid, columns=['residuals'])\n",
    "resid = data[['px', 'py']].join(resid)\n",
    "resid = resid.values"
   ]
  },
  {
   "cell_type": "code",
   "execution_count": 73,
   "metadata": {},
   "outputs": [],
   "source": [
    "vario = variogram.get_diff(resid)"
   ]
  },
  {
   "cell_type": "code",
   "execution_count": 74,
   "metadata": {},
   "outputs": [
    {
     "data": {
      "text/html": [
       "<div>\n",
       "<style scoped>\n",
       "    .dataframe tbody tr th:only-of-type {\n",
       "        vertical-align: middle;\n",
       "    }\n",
       "\n",
       "    .dataframe tbody tr th {\n",
       "        vertical-align: top;\n",
       "    }\n",
       "\n",
       "    .dataframe thead th {\n",
       "        text-align: right;\n",
       "    }\n",
       "</style>\n",
       "<table border=\"1\" class=\"dataframe\">\n",
       "  <thead>\n",
       "    <tr style=\"text-align: right;\">\n",
       "      <th></th>\n",
       "      <th>0</th>\n",
       "      <th>1</th>\n",
       "    </tr>\n",
       "  </thead>\n",
       "  <tbody>\n",
       "    <tr>\n",
       "      <th>0</th>\n",
       "      <td>0.007061</td>\n",
       "      <td>0.214207</td>\n",
       "    </tr>\n",
       "    <tr>\n",
       "      <th>1</th>\n",
       "      <td>0.010417</td>\n",
       "      <td>0.348226</td>\n",
       "    </tr>\n",
       "    <tr>\n",
       "      <th>2</th>\n",
       "      <td>0.010856</td>\n",
       "      <td>0.215034</td>\n",
       "    </tr>\n",
       "    <tr>\n",
       "      <th>3</th>\n",
       "      <td>0.074268</td>\n",
       "      <td>0.638404</td>\n",
       "    </tr>\n",
       "    <tr>\n",
       "      <th>4</th>\n",
       "      <td>0.022291</td>\n",
       "      <td>0.247766</td>\n",
       "    </tr>\n",
       "    <tr>\n",
       "      <th>5</th>\n",
       "      <td>0.011664</td>\n",
       "      <td>0.543192</td>\n",
       "    </tr>\n",
       "    <tr>\n",
       "      <th>6</th>\n",
       "      <td>0.015567</td>\n",
       "      <td>1.310908</td>\n",
       "    </tr>\n",
       "    <tr>\n",
       "      <th>7</th>\n",
       "      <td>0.020441</td>\n",
       "      <td>0.912264</td>\n",
       "    </tr>\n",
       "    <tr>\n",
       "      <th>8</th>\n",
       "      <td>0.029854</td>\n",
       "      <td>0.396998</td>\n",
       "    </tr>\n",
       "    <tr>\n",
       "      <th>9</th>\n",
       "      <td>0.032312</td>\n",
       "      <td>0.279276</td>\n",
       "    </tr>\n",
       "    <tr>\n",
       "      <th>10</th>\n",
       "      <td>0.017351</td>\n",
       "      <td>1.480229</td>\n",
       "    </tr>\n",
       "    <tr>\n",
       "      <th>11</th>\n",
       "      <td>0.070234</td>\n",
       "      <td>0.262037</td>\n",
       "    </tr>\n",
       "    <tr>\n",
       "      <th>12</th>\n",
       "      <td>0.020162</td>\n",
       "      <td>1.451586</td>\n",
       "    </tr>\n",
       "    <tr>\n",
       "      <th>13</th>\n",
       "      <td>0.019461</td>\n",
       "      <td>1.232941</td>\n",
       "    </tr>\n",
       "    <tr>\n",
       "      <th>14</th>\n",
       "      <td>0.028534</td>\n",
       "      <td>1.293843</td>\n",
       "    </tr>\n",
       "    <tr>\n",
       "      <th>15</th>\n",
       "      <td>0.023529</td>\n",
       "      <td>1.281895</td>\n",
       "    </tr>\n",
       "    <tr>\n",
       "      <th>16</th>\n",
       "      <td>0.034320</td>\n",
       "      <td>1.426134</td>\n",
       "    </tr>\n",
       "    <tr>\n",
       "      <th>17</th>\n",
       "      <td>0.026915</td>\n",
       "      <td>0.524922</td>\n",
       "    </tr>\n",
       "    <tr>\n",
       "      <th>18</th>\n",
       "      <td>0.050116</td>\n",
       "      <td>1.734685</td>\n",
       "    </tr>\n",
       "    <tr>\n",
       "      <th>19</th>\n",
       "      <td>0.029212</td>\n",
       "      <td>1.653846</td>\n",
       "    </tr>\n",
       "    <tr>\n",
       "      <th>20</th>\n",
       "      <td>0.074234</td>\n",
       "      <td>1.431904</td>\n",
       "    </tr>\n",
       "    <tr>\n",
       "      <th>21</th>\n",
       "      <td>0.028728</td>\n",
       "      <td>3.239966</td>\n",
       "    </tr>\n",
       "    <tr>\n",
       "      <th>22</th>\n",
       "      <td>0.029382</td>\n",
       "      <td>1.276739</td>\n",
       "    </tr>\n",
       "    <tr>\n",
       "      <th>23</th>\n",
       "      <td>0.030312</td>\n",
       "      <td>1.796191</td>\n",
       "    </tr>\n",
       "    <tr>\n",
       "      <th>24</th>\n",
       "      <td>0.040982</td>\n",
       "      <td>2.706065</td>\n",
       "    </tr>\n",
       "    <tr>\n",
       "      <th>25</th>\n",
       "      <td>0.047734</td>\n",
       "      <td>1.330685</td>\n",
       "    </tr>\n",
       "    <tr>\n",
       "      <th>26</th>\n",
       "      <td>0.055478</td>\n",
       "      <td>3.261569</td>\n",
       "    </tr>\n",
       "    <tr>\n",
       "      <th>27</th>\n",
       "      <td>0.040839</td>\n",
       "      <td>3.916704</td>\n",
       "    </tr>\n",
       "    <tr>\n",
       "      <th>28</th>\n",
       "      <td>0.034734</td>\n",
       "      <td>2.315514</td>\n",
       "    </tr>\n",
       "    <tr>\n",
       "      <th>29</th>\n",
       "      <td>0.035129</td>\n",
       "      <td>1.930497</td>\n",
       "    </tr>\n",
       "    <tr>\n",
       "      <th>...</th>\n",
       "      <td>...</td>\n",
       "      <td>...</td>\n",
       "    </tr>\n",
       "    <tr>\n",
       "      <th>5156</th>\n",
       "      <td>0.012613</td>\n",
       "      <td>0.241419</td>\n",
       "    </tr>\n",
       "    <tr>\n",
       "      <th>5157</th>\n",
       "      <td>0.017404</td>\n",
       "      <td>0.380774</td>\n",
       "    </tr>\n",
       "    <tr>\n",
       "      <th>5158</th>\n",
       "      <td>0.007799</td>\n",
       "      <td>0.267291</td>\n",
       "    </tr>\n",
       "    <tr>\n",
       "      <th>5159</th>\n",
       "      <td>0.011170</td>\n",
       "      <td>0.471577</td>\n",
       "    </tr>\n",
       "    <tr>\n",
       "      <th>5160</th>\n",
       "      <td>0.009136</td>\n",
       "      <td>0.217303</td>\n",
       "    </tr>\n",
       "    <tr>\n",
       "      <th>5161</th>\n",
       "      <td>0.022891</td>\n",
       "      <td>0.429467</td>\n",
       "    </tr>\n",
       "    <tr>\n",
       "      <th>5162</th>\n",
       "      <td>0.026047</td>\n",
       "      <td>0.105918</td>\n",
       "    </tr>\n",
       "    <tr>\n",
       "      <th>5163</th>\n",
       "      <td>0.022593</td>\n",
       "      <td>0.493836</td>\n",
       "    </tr>\n",
       "    <tr>\n",
       "      <th>5164</th>\n",
       "      <td>0.018817</td>\n",
       "      <td>0.686345</td>\n",
       "    </tr>\n",
       "    <tr>\n",
       "      <th>5165</th>\n",
       "      <td>0.003379</td>\n",
       "      <td>0.028802</td>\n",
       "    </tr>\n",
       "    <tr>\n",
       "      <th>5166</th>\n",
       "      <td>0.004572</td>\n",
       "      <td>0.002585</td>\n",
       "    </tr>\n",
       "    <tr>\n",
       "      <th>5167</th>\n",
       "      <td>0.015150</td>\n",
       "      <td>0.019137</td>\n",
       "    </tr>\n",
       "    <tr>\n",
       "      <th>5168</th>\n",
       "      <td>0.018332</td>\n",
       "      <td>0.036692</td>\n",
       "    </tr>\n",
       "    <tr>\n",
       "      <th>5169</th>\n",
       "      <td>0.015226</td>\n",
       "      <td>0.034497</td>\n",
       "    </tr>\n",
       "    <tr>\n",
       "      <th>5170</th>\n",
       "      <td>0.013106</td>\n",
       "      <td>0.097006</td>\n",
       "    </tr>\n",
       "    <tr>\n",
       "      <th>5171</th>\n",
       "      <td>0.005384</td>\n",
       "      <td>0.048645</td>\n",
       "    </tr>\n",
       "    <tr>\n",
       "      <th>5172</th>\n",
       "      <td>0.011781</td>\n",
       "      <td>0.000985</td>\n",
       "    </tr>\n",
       "    <tr>\n",
       "      <th>5173</th>\n",
       "      <td>0.014970</td>\n",
       "      <td>0.130512</td>\n",
       "    </tr>\n",
       "    <tr>\n",
       "      <th>5174</th>\n",
       "      <td>0.012074</td>\n",
       "      <td>0.000257</td>\n",
       "    </tr>\n",
       "    <tr>\n",
       "      <th>5175</th>\n",
       "      <td>0.011170</td>\n",
       "      <td>0.020092</td>\n",
       "    </tr>\n",
       "    <tr>\n",
       "      <th>5176</th>\n",
       "      <td>0.015045</td>\n",
       "      <td>0.035789</td>\n",
       "    </tr>\n",
       "    <tr>\n",
       "      <th>5177</th>\n",
       "      <td>0.017993</td>\n",
       "      <td>0.019799</td>\n",
       "    </tr>\n",
       "    <tr>\n",
       "      <th>5178</th>\n",
       "      <td>0.013933</td>\n",
       "      <td>0.055969</td>\n",
       "    </tr>\n",
       "    <tr>\n",
       "      <th>5179</th>\n",
       "      <td>0.009725</td>\n",
       "      <td>0.131263</td>\n",
       "    </tr>\n",
       "    <tr>\n",
       "      <th>5180</th>\n",
       "      <td>0.003209</td>\n",
       "      <td>0.108825</td>\n",
       "    </tr>\n",
       "    <tr>\n",
       "      <th>5181</th>\n",
       "      <td>0.003936</td>\n",
       "      <td>0.002247</td>\n",
       "    </tr>\n",
       "    <tr>\n",
       "      <th>5182</th>\n",
       "      <td>0.010961</td>\n",
       "      <td>0.029971</td>\n",
       "    </tr>\n",
       "    <tr>\n",
       "      <th>5183</th>\n",
       "      <td>0.004999</td>\n",
       "      <td>0.142344</td>\n",
       "    </tr>\n",
       "    <tr>\n",
       "      <th>5184</th>\n",
       "      <td>0.012622</td>\n",
       "      <td>0.253018</td>\n",
       "    </tr>\n",
       "    <tr>\n",
       "      <th>5185</th>\n",
       "      <td>0.007623</td>\n",
       "      <td>0.015807</td>\n",
       "    </tr>\n",
       "  </tbody>\n",
       "</table>\n",
       "<p>5186 rows × 2 columns</p>\n",
       "</div>"
      ],
      "text/plain": [
       "             0         1\n",
       "0     0.007061  0.214207\n",
       "1     0.010417  0.348226\n",
       "2     0.010856  0.215034\n",
       "3     0.074268  0.638404\n",
       "4     0.022291  0.247766\n",
       "5     0.011664  0.543192\n",
       "6     0.015567  1.310908\n",
       "7     0.020441  0.912264\n",
       "8     0.029854  0.396998\n",
       "9     0.032312  0.279276\n",
       "10    0.017351  1.480229\n",
       "11    0.070234  0.262037\n",
       "12    0.020162  1.451586\n",
       "13    0.019461  1.232941\n",
       "14    0.028534  1.293843\n",
       "15    0.023529  1.281895\n",
       "16    0.034320  1.426134\n",
       "17    0.026915  0.524922\n",
       "18    0.050116  1.734685\n",
       "19    0.029212  1.653846\n",
       "20    0.074234  1.431904\n",
       "21    0.028728  3.239966\n",
       "22    0.029382  1.276739\n",
       "23    0.030312  1.796191\n",
       "24    0.040982  2.706065\n",
       "25    0.047734  1.330685\n",
       "26    0.055478  3.261569\n",
       "27    0.040839  3.916704\n",
       "28    0.034734  2.315514\n",
       "29    0.035129  1.930497\n",
       "...        ...       ...\n",
       "5156  0.012613  0.241419\n",
       "5157  0.017404  0.380774\n",
       "5158  0.007799  0.267291\n",
       "5159  0.011170  0.471577\n",
       "5160  0.009136  0.217303\n",
       "5161  0.022891  0.429467\n",
       "5162  0.026047  0.105918\n",
       "5163  0.022593  0.493836\n",
       "5164  0.018817  0.686345\n",
       "5165  0.003379  0.028802\n",
       "5166  0.004572  0.002585\n",
       "5167  0.015150  0.019137\n",
       "5168  0.018332  0.036692\n",
       "5169  0.015226  0.034497\n",
       "5170  0.013106  0.097006\n",
       "5171  0.005384  0.048645\n",
       "5172  0.011781  0.000985\n",
       "5173  0.014970  0.130512\n",
       "5174  0.012074  0.000257\n",
       "5175  0.011170  0.020092\n",
       "5176  0.015045  0.035789\n",
       "5177  0.017993  0.019799\n",
       "5178  0.013933  0.055969\n",
       "5179  0.009725  0.131263\n",
       "5180  0.003209  0.108825\n",
       "5181  0.003936  0.002247\n",
       "5182  0.010961  0.029971\n",
       "5183  0.004999  0.142344\n",
       "5184  0.012622  0.253018\n",
       "5185  0.007623  0.015807\n",
       "\n",
       "[5186 rows x 2 columns]"
      ]
     },
     "execution_count": 74,
     "metadata": {},
     "output_type": "execute_result"
    }
   ],
   "source": [
    "pd.DataFrame(vario).T"
   ]
  },
  {
   "cell_type": "code",
   "execution_count": 34,
   "metadata": {},
   "outputs": [
    {
     "data": {
      "text/plain": [
       "5195"
      ]
     },
     "execution_count": 34,
     "metadata": {},
     "output_type": "execute_result"
    }
   ],
   "source": [
    "len(vario[0])"
   ]
  },
  {
   "cell_type": "code",
   "execution_count": 75,
   "metadata": {},
   "outputs": [
    {
     "data": {
      "text/plain": [
       "<matplotlib.collections.PathCollection at 0x11cfea7b8>"
      ]
     },
     "execution_count": 75,
     "metadata": {},
     "output_type": "execute_result"
    },
    {
     "data": {
      "image/png": "[encoded data removed]",
      "text/plain": [
       "<Figure size 432x288 with 1 Axes>"
      ]
     },
     "metadata": {
      "needs_background": "light"
     },
     "output_type": "display_data"
    }
   ],
   "source": [
    "e_vario, lag = variogram.emp_variogram(vario, 15)\n",
    "plt.scatter(e_vario[0], e_vario[1])"
   ]
  },
  {
   "cell_type": "code",
   "execution_count": 77,
   "metadata": {},
   "outputs": [
    {
     "name": "stdout",
     "output_type": "stream",
     "text": [
      "       np      dist     gamma\n",
      "0   101.0  0.003284  0.036528\n",
      "1   250.0  0.005725  0.114821\n",
      "2   308.0  0.008167  0.152323\n",
      "3   342.0  0.010609  0.217832\n",
      "4   381.0  0.013051  0.270616\n",
      "5   364.0  0.015493  0.355029\n",
      "6   409.0  0.017935  0.429487\n",
      "7   373.0  0.020377  0.504559\n",
      "8   372.0  0.022819  0.641318\n",
      "9   377.0  0.025261  0.710389\n",
      "10  378.0  0.027703  0.767815\n",
      "11  388.0  0.030145  0.859413\n",
      "12  383.0  0.032587  0.872786\n",
      "13  386.0  0.035029  0.939473\n",
      "14  374.0  0.037471  0.928029\n"
     ]
    }
   ],
   "source": [
    "a = pd.DataFrame(np.vstack([lag, e_vario[0], e_vario[1]])).T\n",
    "a.columns = ['np', 'dist', 'gamma']\n",
    "print(a)"
   ]
  },
  {
   "cell_type": "code",
   "execution_count": 23,
   "metadata": {},
   "outputs": [],
   "source": [
    "param, lag, fig = variogram.auto_vario(vario, 15, plot=False)"
   ]
  },
  {
   "cell_type": "code",
   "execution_count": 24,
   "metadata": {},
   "outputs": [
    {
     "name": "stdout",
     "output_type": "stream",
     "text": [
      "[1.00000000e+00 1.00000000e+02 3.69193223e-02 1.03285380e+00\n",
      " 2.50434823e-02]\n"
     ]
    }
   ],
   "source": [
    "print(param)"
   ]
  },
  {
   "cell_type": "markdown",
   "metadata": {},
   "source": [
    "## Step3: gls\n",
    "- 共分散関数を推定\n",
    "    - 観測値間の距離行列を作成\n",
    "    - 推定したパラメータから$\\hat{C}(0)$を推定\n",
    "    - 正定値になるように処理を加える(数学的な根拠は不明, Rではどのように処理している?)\n",
    "- 共分散関数の推定量を用いてgls"
   ]
  },
  {
   "cell_type": "code",
   "execution_count": 14,
   "metadata": {},
   "outputs": [],
   "source": [
    "distance_mat = kriging.calc_distance_matrix(data, ['px', 'py'])"
   ]
  },
  {
   "cell_type": "code",
   "execution_count": 15,
   "metadata": {},
   "outputs": [],
   "source": [
    "efrange, c0 = kriging.calc_c0(param, distance_mat)"
   ]
  },
  {
   "cell_type": "code",
   "execution_count": 78,
   "metadata": {},
   "outputs": [
    {
     "name": "stdout",
     "output_type": "stream",
     "text": [
      "0.1499187183409662\n"
     ]
    }
   ],
   "source": [
    "print(efrange)"
   ]
  },
  {
   "cell_type": "code",
   "execution_count": 79,
   "metadata": {},
   "outputs": [
    {
     "name": "stdout",
     "output_type": "stream",
     "text": [
      "0.5143686614446022\n"
     ]
    }
   ],
   "source": [
    "print(c0)"
   ]
  },
  {
   "cell_type": "code",
   "execution_count": 80,
   "metadata": {},
   "outputs": [
    {
     "name": "stdout",
     "output_type": "stream",
     "text": [
      "0.6584961564900041\n"
     ]
    }
   ],
   "source": [
    "# 距離行列と関数形から共分散関数を求める\n",
    "# reg=Trueなので正定値化処理を加えている\n",
    "covariance_mat = kriging.est_covariance_matrix(distance_mat, param, c0)"
   ]
  },
  {
   "cell_type": "code",
   "execution_count": 81,
   "metadata": {
    "scrolled": true
   },
   "outputs": [
    {
     "name": "stdout",
     "output_type": "stream",
     "text": [
      "[[1.17286482 0.92866573 0.95865254 ... 0.5567566  0.53849332 0.55156139]\n",
      " [0.92866573 1.17286482 1.17062241 ... 0.8103761  0.79629471 0.79341613]\n",
      " [0.95865254 1.17062241 1.17286482 ... 0.82450823 0.80967966 0.80876074]\n",
      " ...\n",
      " [0.5567566  0.8103761  0.82450823 ... 1.17286482 1.17232209 1.17209884]\n",
      " [0.53849332 0.79629471 0.80967966 ... 1.17232209 1.17286482 1.17169046]\n",
      " [0.55156139 0.79341613 0.80876074 ... 1.17209884 1.17169046 1.17286482]]\n"
     ]
    }
   ],
   "source": [
    "print(covariance_mat)"
   ]
  },
  {
   "cell_type": "code",
   "execution_count": 82,
   "metadata": {},
   "outputs": [],
   "source": [
    "# 重みを用いてgls\n",
    "# statsmodelsのresultクラスが返る\n",
    "res, resid = kriging.do_gls(y, x, covariance_mat)"
   ]
  },
  {
   "cell_type": "code",
   "execution_count": 83,
   "metadata": {},
   "outputs": [
    {
     "data": {
      "text/html": [
       "<table class=\"simpletable\">\n",
       "<caption>GLS Regression Results</caption>\n",
       "<tr>\n",
       "  <th>Dep. Variable:</th>          <td>price</td>      <th>  R-squared:         </th> <td>   0.278</td>\n",
       "</tr>\n",
       "<tr>\n",
       "  <th>Model:</th>                   <td>GLS</td>       <th>  Adj. R-squared:    </th> <td>   0.266</td>\n",
       "</tr>\n",
       "<tr>\n",
       "  <th>Method:</th>             <td>Least Squares</td>  <th>  F-statistic:       </th> <td>   24.02</td>\n",
       "</tr>\n",
       "<tr>\n",
       "  <th>Date:</th>             <td>Thu, 11 Apr 2019</td> <th>  Prob (F-statistic):</th> <td>1.49e-09</td>\n",
       "</tr>\n",
       "<tr>\n",
       "  <th>Time:</th>                 <td>17:00:52</td>     <th>  Log-Likelihood:    </th> <td>  2.2826</td>\n",
       "</tr>\n",
       "<tr>\n",
       "  <th>No. Observations:</th>      <td>   127</td>      <th>  AIC:               </th> <td> -0.5652</td>\n",
       "</tr>\n",
       "<tr>\n",
       "  <th>Df Residuals:</th>          <td>   125</td>      <th>  BIC:               </th> <td>   5.123</td>\n",
       "</tr>\n",
       "<tr>\n",
       "  <th>Df Model:</th>              <td>     2</td>      <th>                     </th>     <td> </td>   \n",
       "</tr>\n",
       "<tr>\n",
       "  <th>Covariance Type:</th>      <td>nonrobust</td>    <th>                     </th>     <td> </td>   \n",
       "</tr>\n",
       "</table>\n",
       "<table class=\"simpletable\">\n",
       "<tr>\n",
       "     <td></td>        <th>coef</th>     <th>std err</th>      <th>t</th>      <th>P>|t|</th>  <th>[0.025</th>    <th>0.975]</th>  \n",
       "</tr>\n",
       "<tr>\n",
       "  <th>station</th> <td>  -14.0001</td> <td>    4.654</td> <td>   -3.008</td> <td> 0.003</td> <td>  -23.211</td> <td>   -4.789</td>\n",
       "</tr>\n",
       "<tr>\n",
       "  <th>tokyo</th>   <td>  -39.0633</td> <td>    6.961</td> <td>   -5.611</td> <td> 0.000</td> <td>  -52.841</td> <td>  -25.286</td>\n",
       "</tr>\n",
       "</table>\n",
       "<table class=\"simpletable\">\n",
       "<tr>\n",
       "  <th>Omnibus:</th>       <td> 3.540</td> <th>  Durbin-Watson:     </th> <td>   1.922</td>\n",
       "</tr>\n",
       "<tr>\n",
       "  <th>Prob(Omnibus):</th> <td> 0.170</td> <th>  Jarque-Bera (JB):  </th> <td>   2.979</td>\n",
       "</tr>\n",
       "<tr>\n",
       "  <th>Skew:</th>          <td>-0.308</td> <th>  Prob(JB):          </th> <td>   0.225</td>\n",
       "</tr>\n",
       "<tr>\n",
       "  <th>Kurtosis:</th>      <td> 3.429</td> <th>  Cond. No.          </th> <td>    1.56</td>\n",
       "</tr>\n",
       "</table><br/><br/>Warnings:<br/>[1] Standard Errors assume that the covariance matrix of the errors is correctly specified."
      ],
      "text/plain": [
       "<class 'statsmodels.iolib.summary.Summary'>\n",
       "\"\"\"\n",
       "                            GLS Regression Results                            \n",
       "==============================================================================\n",
       "Dep. Variable:                  price   R-squared:                       0.278\n",
       "Model:                            GLS   Adj. R-squared:                  0.266\n",
       "Method:                 Least Squares   F-statistic:                     24.02\n",
       "Date:                Thu, 11 Apr 2019   Prob (F-statistic):           1.49e-09\n",
       "Time:                        17:00:52   Log-Likelihood:                 2.2826\n",
       "No. Observations:                 127   AIC:                           -0.5652\n",
       "Df Residuals:                     125   BIC:                             5.123\n",
       "Df Model:                           2                                         \n",
       "Covariance Type:            nonrobust                                         \n",
       "==============================================================================\n",
       "                 coef    std err          t      P>|t|      [0.025      0.975]\n",
       "------------------------------------------------------------------------------\n",
       "station      -14.0001      4.654     -3.008      0.003     -23.211      -4.789\n",
       "tokyo        -39.0633      6.961     -5.611      0.000     -52.841     -25.286\n",
       "==============================================================================\n",
       "Omnibus:                        3.540   Durbin-Watson:                   1.922\n",
       "Prob(Omnibus):                  0.170   Jarque-Bera (JB):                2.979\n",
       "Skew:                          -0.308   Prob(JB):                        0.225\n",
       "Kurtosis:                       3.429   Cond. No.                         1.56\n",
       "==============================================================================\n",
       "\n",
       "Warnings:\n",
       "[1] Standard Errors assume that the covariance matrix of the errors is correctly specified.\n",
       "\"\"\""
      ]
     },
     "execution_count": 83,
     "metadata": {},
     "output_type": "execute_result"
    }
   ],
   "source": [
    "res.summary()"
   ]
  },
  {
   "cell_type": "markdown",
   "metadata": {},
   "source": [
    "## Step4: kirigng\n",
    "- 観測地点と予測地点の間の共分散関数$c_*$を作成する\n",
    "    - 距離行列作成\n",
    "    - 共分散関数にあてはめる\n",
    "- 足し合わせ $\\hat{Y}(s_o) = X(s_0)\\hat{\\beta}_{gls} + c_*'\\hat{\\Sigma}^{-1}(Y - X\\beta)$"
   ]
  },
  {
   "cell_type": "code",
   "execution_count": 84,
   "metadata": {},
   "outputs": [],
   "source": [
    "mdat = mdat_list[0]"
   ]
  },
  {
   "cell_type": "code",
   "execution_count": 85,
   "metadata": {},
   "outputs": [],
   "source": [
    "mpoints = mdat[['px', 'py']].values\n",
    "mexog = mdat[['station', 'tokyo']].values\n",
    "points = data[['px', 'py']].values"
   ]
  },
  {
   "cell_type": "code",
   "execution_count": 86,
   "metadata": {},
   "outputs": [],
   "source": [
    "mpoints = mpoints.reshape(1,2)"
   ]
  },
  {
   "cell_type": "code",
   "execution_count": 87,
   "metadata": {},
   "outputs": [
    {
     "data": {
      "text/plain": [
       "array([[139.36231,  35.73385]])"
      ]
     },
     "execution_count": 87,
     "metadata": {},
     "output_type": "execute_result"
    }
   ],
   "source": [
    "mpoints"
   ]
  },
  {
   "cell_type": "code",
   "execution_count": 88,
   "metadata": {},
   "outputs": [],
   "source": [
    "# 距離行列作成\n",
    "new_dist_mat = kriging.calc_distance_new_data(mpoints, points)"
   ]
  },
  {
   "cell_type": "code",
   "execution_count": 89,
   "metadata": {},
   "outputs": [],
   "source": [
    "# 距離行列と関数型から共分散行列を推定\n",
    "# reg=Falseを指定して正定値処理をスキップ(正方行列でないのでエラーを防ぐ)\n",
    "c_mat = kriging.est_covariance_matrix(new_dist_mat, param, c0, reg=False)"
   ]
  },
  {
   "cell_type": "code",
   "execution_count": 90,
   "metadata": {},
   "outputs": [],
   "source": [
    "fitted_val = kriging.put_pred_val(res, mexog)"
   ]
  },
  {
   "cell_type": "code",
   "execution_count": 91,
   "metadata": {},
   "outputs": [],
   "source": [
    "kriging_val = kriging.do_kriging(fitted_val, c_mat, covariance_mat, resid)"
   ]
  },
  {
   "cell_type": "code",
   "execution_count": 92,
   "metadata": {},
   "outputs": [
    {
     "data": {
      "text/plain": [
       "array([8305.47621097])"
      ]
     },
     "execution_count": 92,
     "metadata": {},
     "output_type": "execute_result"
    }
   ],
   "source": [
    "kriging_val - mdat['price']"
   ]
  },
  {
   "cell_type": "markdown",
   "metadata": {},
   "source": [
    "# CVを関数化する"
   ]
  },
  {
   "cell_type": "code",
   "execution_count": 93,
   "metadata": {},
   "outputs": [
    {
     "name": "stdout",
     "output_type": "stream",
     "text": [
      "0.6119604678815762\n",
      "0.6232557323198765\n",
      "0.6317748332871018\n",
      "0.6370199190453334\n",
      "0.62777096139768\n",
      "0.6478092341961915\n",
      "0.6275746576516836\n",
      "0.6342028610828943\n",
      "0.646204847674859\n",
      "0.6392966700539007\n",
      "0.6294097076242203\n",
      "0.6307432558780126\n",
      "0.6435813891742648\n",
      "0.6370516669512319\n",
      "0.6427671730459581\n",
      "0.6397266754423966\n",
      "0.6390443291020094\n",
      "0.6387228124416073\n",
      "0.6441828652842712\n",
      "0.655098607993659\n",
      "0.6284629786367381\n",
      "0.6565328344685569\n",
      "0.6518154762325795\n",
      "0.6439165712200349\n",
      "0.6569816355826805\n",
      "0.6545965998587966\n",
      "0.6412858020399181\n",
      "0.6475629695327398\n",
      "0.6520094144889125\n",
      "0.6450373012600167\n",
      "0.6553284926589705\n",
      "0.6548353452371416\n",
      "0.6506025403242983\n",
      "0.6486041864374941\n",
      "0.655204241828633\n",
      "0.6524213875189723\n",
      "0.6537310125755528\n",
      "0.653669426036702\n",
      "0.6573749483176028\n",
      "0.6514635900048726\n",
      "0.6540957077957507\n",
      "0.6506939859063202\n",
      "0.6585173991573258\n",
      "0.6497519523836514\n",
      "0.6530705389732164\n",
      "0.6484927579865982\n",
      "0.6514386928878645\n",
      "0.6532952131694588\n",
      "0.6511837381319868\n",
      "0.6502085127852312\n",
      "0.649684989279691\n",
      "0.6392798661139808\n",
      "0.6579777920459842\n",
      "0.6518948776310771\n",
      "0.6483366007847765\n",
      "0.6502680143567354\n",
      "0.6478303264078904\n",
      "0.6489930326099711\n",
      "0.6471430565012638\n",
      "0.6502238233410098\n",
      "0.6502668005818998\n",
      "0.6489690339451655\n",
      "0.6461143216811931\n",
      "0.6498507668423349\n",
      "0.6435329370934562\n",
      "0.6340855714687983\n",
      "0.6484377963858833\n",
      "0.6518234053228001\n",
      "0.6442079268112766\n",
      "0.6485485995580103\n",
      "0.6465800800499713\n",
      "0.6493174127537776\n",
      "0.6487533510807415\n",
      "0.644877328608987\n",
      "0.647960518614508\n",
      "0.6524490626451562\n",
      "0.6423317790616562\n",
      "0.6365333515249922\n",
      "0.6468694978581169\n",
      "0.6369504465761708\n",
      "0.650053593554162\n",
      "0.6481489401731115\n",
      "0.6513506953008763\n",
      "0.6484875302784876\n",
      "0.6502843052815697\n",
      "0.6492540293718467\n",
      "0.6492419951940485\n",
      "0.6392714414564061\n",
      "0.6488041692086638\n",
      "0.6323577560418474\n",
      "0.646375781122594\n",
      "0.646423145313803\n",
      "0.644892019425347\n",
      "0.6485756796768738\n",
      "0.6476808630029968\n",
      "0.6538369544031019\n",
      "0.6493403044730196\n",
      "0.6495067675598093\n",
      "0.6476739389195013\n",
      "0.6478375364484409\n",
      "0.6456668271747725\n",
      "0.6509082630331618\n",
      "0.6278534941052241\n",
      "0.6297111459209294\n",
      "0.6442708070989992\n",
      "0.6412226402622745\n",
      "0.6566319980881962\n",
      "0.6475147824722896\n",
      "0.6266966170209941\n",
      "0.6400553159353505\n",
      "0.6497091872408204\n",
      "0.6359869774966193\n",
      "0.6503509039212285\n",
      "0.6532012511136709\n",
      "0.6471501518823894\n",
      "0.6267998280069892\n",
      "0.6497395555466818\n",
      "0.6392645990661184\n",
      "0.6380484624126849\n",
      "0.6340422780033593\n",
      "0.6305029275530379\n",
      "0.6461823320742582\n",
      "0.6514165426551107\n",
      "0.6506416686318626\n",
      "0.6500329507720337\n",
      "0.6465717548404405\n",
      "0.6514399716421978\n",
      "0.6584961564900041\n"
     ]
    }
   ],
   "source": [
    "pred_list = []\n",
    "for i in range(0, 128):\n",
    "    data = data_list[i]\n",
    "    mdat = mdat_list[i]\n",
    "    \n",
    "    x = data[['station', 'tokyo']]\n",
    "    y = data['price']\n",
    "    step1 = sm.OLS(y, x)\n",
    "    step1_res = step1.fit()\n",
    "    resid = step1_res.resid\n",
    "    # 前処理\n",
    "    resid = pd.DataFrame(resid, columns=['residuals'])\n",
    "    resid = data[['px', 'py']].join(resid)\n",
    "    resid = resid.values\n",
    "    \n",
    "    vario = variogram.get_diff(resid)\n",
    "    param, lag, fig = variogram.auto_vario(vario, 15, plot=False)\n",
    "    \n",
    "    distance_mat = kriging.calc_distance_matrix(data, ['px', 'py'])\n",
    "    efrange, c0 = kriging.calc_c0(param, distance_mat)\n",
    "    covariance_mat = kriging.est_covariance_matrix(distance_mat, param, c0)\n",
    "    res, resid = kriging.do_gls(y, x, covariance_mat)\n",
    "    \n",
    "    mpoints = mdat[['px', 'py']].values.reshape(1, 2)\n",
    "    mexog = mdat[['station', 'tokyo']].values\n",
    "    points = data[['px', 'py']].values\n",
    "    new_dist_mat = kriging.calc_distance_new_data(mpoints, points)\n",
    "    c_mat = kriging.est_covariance_matrix(new_dist_mat, param, c0, reg=False)\n",
    "    \n",
    "    fitted_val = kriging.put_pred_val(res, mexog)\n",
    "    kriging_val = kriging.do_kriging(fitted_val, c_mat, covariance_mat, resid)\n",
    "    \n",
    "    pred_list.append(kriging_val)"
   ]
  },
  {
   "cell_type": "code",
   "execution_count": 94,
   "metadata": {},
   "outputs": [],
   "source": [
    "obs = pd.read_csv('/Users/LOng/sengokulab/LDAT_LS_2019/data/dev/house_price_raw.csv')"
   ]
  },
  {
   "cell_type": "code",
   "execution_count": 95,
   "metadata": {},
   "outputs": [],
   "source": [
    "price = np.log(obs.price)"
   ]
  },
  {
   "cell_type": "code",
   "execution_count": 99,
   "metadata": {},
   "outputs": [
    {
     "data": {
      "text/plain": [
       "Text(0.5, 1.0, 'Prediction of housing price(log) by hand made functions')"
      ]
     },
     "execution_count": 99,
     "metadata": {},
     "output_type": "execute_result"
    },
    {
     "data": {
      "image/png": "[encoded data removed]",
      "text/plain": [
       "<Figure size 720x720 with 1 Axes>"
      ]
     },
     "metadata": {
      "needs_background": "light"
     },
     "output_type": "display_data"
    }
   ],
   "source": [
    "lim = [11.5, 12.8]\n",
    "fig = plt.figure(figsize=(10, 10))\n",
    "ax = fig.add_subplot(1, 1, 1)\n",
    "ax.scatter(price, pred_list, color='black')\n",
    "ax.plot(np.linspace(11.5, 12.8, 100), np.linspace(11.5, 12.8, 100))\n",
    "ax.set_xlim(lim)\n",
    "ax.set_ylim(lim)\n",
    "ax.set_xlabel('observed values')\n",
    "ax.set_ylabel('predicted values')\n",
    "ax.set_title('Prediction of housing price(log) by hand made functions')"
   ]
  },
  {
   "cell_type": "code",
   "execution_count": 97,
   "metadata": {},
   "outputs": [],
   "source": [
    "from sklearn.metrics import mean_squared_error"
   ]
  },
  {
   "cell_type": "code",
   "execution_count": 98,
   "metadata": {},
   "outputs": [
    {
     "data": {
      "text/plain": [
       "0.12465217633781848"
      ]
     },
     "execution_count": 98,
     "metadata": {},
     "output_type": "execute_result"
    }
   ],
   "source": [
    "np.sqrt(mean_squared_error(price, pred_list))"
   ]
  },
  {
   "cell_type": "code",
   "execution_count": 154,
   "metadata": {},
   "outputs": [
    {
     "data": {
      "text/plain": [
       "0.12344811206164576"
      ]
     },
     "execution_count": 154,
     "metadata": {},
     "output_type": "execute_result"
    }
   ],
   "source": [
    "np.sqrt(mean_squared_error(price, pred))"
   ]
  },
  {
   "cell_type": "code",
   "execution_count": 100,
   "metadata": {},
   "outputs": [],
   "source": [
    "fig.savefig('/Users/LOng/sengokulab/LDAT_LS_2019/data/dev/plot/kriging_cv.png')"
   ]
  }
 ],
 "metadata": {
  "kernelspec": {
   "display_name": "Python 3",
   "language": "python",
   "name": "python3"
  },
  "language_info": {
   "codemirror_mode": {
    "name": "ipython",
    "version": 3
   },
   "file_extension": ".py",
   "mimetype": "text/x-python",
   "name": "python",
   "nbconvert_exporter": "python",
   "pygments_lexer": "ipython3",
   "version": "3.7.0"
  }
 },
 "nbformat": 4,
 "nbformat_minor": 2
}
