{
 "cells": [
  {
   "cell_type": "markdown",
   "metadata": {},
   "source": [
    "# kriging_est関数とRの結果を比較する\n",
    "- 推定結果が大きく異なってしまう原因を探る\n",
    "- cvを行う"
   ]
  },
  {
   "cell_type": "code",
   "execution_count": 1,
   "metadata": {},
   "outputs": [],
   "source": [
    "import sys\n",
    "sys.path.append('/Users/LOng/sengokulab/LDAT_LS_2019/scripts/')"
   ]
  },
  {
   "cell_type": "code",
   "execution_count": 270,
   "metadata": {},
   "outputs": [],
   "source": [
    "import pandas as pd\n",
    "import numpy as np\n",
    "import statsmodels.api as sm\n",
    "import matplotlib.pyplot as plt\n",
    "import calc_variogram as variogram\n",
    "import kriging_est as kriging"
   ]
  },
  {
   "cell_type": "code",
   "execution_count": 3,
   "metadata": {},
   "outputs": [],
   "source": [
    "%load_ext autoreload\n",
    "%autoreload 2"
   ]
  },
  {
   "cell_type": "code",
   "execution_count": 271,
   "metadata": {},
   "outputs": [],
   "source": [
    "# 前処理\n",
    "data = pd.read_csv('/Users/LOng/sengokulab/LDAT_LS_2019/data/dev/house_price_raw.csv')\n",
    "data['price'] = np.log(data.price)"
   ]
  },
  {
   "cell_type": "code",
   "execution_count": 272,
   "metadata": {},
   "outputs": [],
   "source": [
    "data_list = [data.drop(i) for i in range(0, 128)]\n",
    "mdat_list = [data.loc[i] for i in range(0, 128)]"
   ]
  },
  {
   "cell_type": "markdown",
   "metadata": {},
   "source": [
    "# 1行目をleaveしてLOO"
   ]
  },
  {
   "cell_type": "code",
   "execution_count": 483,
   "metadata": {},
   "outputs": [],
   "source": [
    "data = data_list[0]"
   ]
  },
  {
   "cell_type": "markdown",
   "metadata": {},
   "source": [
    "## Step1: OLSから残差を算出"
   ]
  },
  {
   "cell_type": "code",
   "execution_count": 484,
   "metadata": {},
   "outputs": [],
   "source": [
    "x = data[['station', 'tokyo']]\n",
    "y = data['price']"
   ]
  },
  {
   "cell_type": "code",
   "execution_count": 485,
   "metadata": {},
   "outputs": [],
   "source": [
    "step1 = sm.OLS(y, x)\n",
    "step1_res = step1.fit()\n",
    "resid = step1_res.resid"
   ]
  },
  {
   "cell_type": "markdown",
   "metadata": {},
   "source": [
    "## Step2: 残差からvariogramを推定"
   ]
  },
  {
   "cell_type": "code",
   "execution_count": 486,
   "metadata": {},
   "outputs": [],
   "source": [
    "# 前処理\n",
    "resid = pd.DataFrame(resid, columns=['residuals'])\n",
    "resid = data[['px', 'py']].join(resid)\n",
    "resid = resid.values"
   ]
  },
  {
   "cell_type": "code",
   "execution_count": 487,
   "metadata": {},
   "outputs": [],
   "source": [
    "vario = variogram.get_diff(resid)"
   ]
  },
  {
   "cell_type": "code",
   "execution_count": 9,
   "metadata": {},
   "outputs": [],
   "source": [
    "'''\n",
    "# 前処理\n",
    "resid = pd.DataFrame(resid, columns=['residuals'])\n",
    "resid = data[['px', 'py']].join(resid)\n",
    "resid = resid.values\n",
    "'''"
   ]
  },
  {
   "cell_type": "code",
   "execution_count": 136,
   "metadata": {},
   "outputs": [
    {
     "name": "stdout",
     "output_type": "stream",
     "text": [
      "       np      dist     gamma\n",
      "0   102.0  0.006568  0.073519\n",
      "1   249.0  0.011453  0.230082\n",
      "2   308.0  0.016338  0.304647\n",
      "3   342.0  0.021223  0.435664\n",
      "4   381.0  0.026109  0.541231\n",
      "5   364.0  0.030994  0.710059\n",
      "6   411.0  0.035879  0.860014\n",
      "7   371.0  0.040764  1.008774\n",
      "8   374.0  0.045649  1.292671\n",
      "9   375.0  0.050534  1.411508\n",
      "10  379.0  0.055419  1.532603\n",
      "11  388.0  0.060304  1.722532\n",
      "12  383.0  0.065189  1.742802\n",
      "13  386.0  0.070074  1.878569\n",
      "14  373.0  0.074959  1.859373\n"
     ]
    }
   ],
   "source": [
    "'''\n",
    "a = pd.DataFrame(np.vstack([counts, bins, e_vario])).T\n",
    "a.columns = ['np', 'dist', 'gamma']\n",
    "print(a)\n",
    "'''"
   ]
  },
  {
   "cell_type": "code",
   "execution_count": 541,
   "metadata": {},
   "outputs": [
    {
     "name": "stdout",
     "output_type": "stream",
     "text": [
      "[0.         0.00457977 0.00915954 0.01373932 0.01831909 0.02289886\n",
      " 0.02747863 0.03205841 0.03663818 0.04121795]\n",
      "[0.         0.00457977 0.00915954 0.01373932 0.01831909 0.02289886\n",
      " 0.02747863 0.03205841 0.03663818 0.04121795] 0.027388854645603075\n"
     ]
    },
    {
     "data": {
      "image/png": "[encoded data removed]",
      "text/plain": [
       "<Figure size 432x288 with 1 Axes>"
      ]
     },
     "metadata": {
      "needs_background": "light"
     },
     "output_type": "display_data"
    }
   ],
   "source": [
    "param, lag, fig = variogram.auto_vario(vario, 10, 1, plot=True)"
   ]
  },
  {
   "cell_type": "code",
   "execution_count": 542,
   "metadata": {},
   "outputs": [
    {
     "name": "stdout",
     "output_type": "stream",
     "text": [
      "[1.00000000e+00 1.00000000e+02 1.20304763e+00 2.73888546e-02]\n"
     ]
    }
   ],
   "source": [
    "print(param)"
   ]
  },
  {
   "cell_type": "markdown",
   "metadata": {},
   "source": [
    "## Step3: gls\n",
    "- 共分散関数を推定\n",
    "    - 観測値間の距離行列を作成\n",
    "    - 推定したパラメータから$\\hat{C}(0)$を推定\n",
    "    - 正定値になるように処理を加える(数学的な根拠は不明, Rではどのように処理している?)\n",
    "- 共分散関数の推定量を用いてgls"
   ]
  },
  {
   "cell_type": "code",
   "execution_count": 543,
   "metadata": {},
   "outputs": [],
   "source": [
    "distance_mat = kriging.calc_distance_matrix(data, ['px', 'py'])"
   ]
  },
  {
   "cell_type": "code",
   "execution_count": 544,
   "metadata": {},
   "outputs": [],
   "source": [
    "efrange, c0 = kriging.calc_c0(param, distance_mat)"
   ]
  },
  {
   "cell_type": "code",
   "execution_count": 545,
   "metadata": {},
   "outputs": [
    {
     "name": "stdout",
     "output_type": "stream",
     "text": [
      "0.0474388878073034\n"
     ]
    }
   ],
   "source": [
    "print(efrange)"
   ]
  },
  {
   "cell_type": "code",
   "execution_count": 546,
   "metadata": {},
   "outputs": [
    {
     "name": "stdout",
     "output_type": "stream",
     "text": [
      "0.05989621450935761\n"
     ]
    }
   ],
   "source": [
    "print(c0)"
   ]
  },
  {
   "cell_type": "code",
   "execution_count": 547,
   "metadata": {},
   "outputs": [
    {
     "name": "stdout",
     "output_type": "stream",
     "text": [
      "1.1432514129586873\n"
     ]
    }
   ],
   "source": [
    "# 距離行列と関数形から共分散関数を求める\n",
    "# reg=Trueなので正定値化処理を加えている\n",
    "covariance_mat = kriging.est_covariance_matrix(distance_mat, param, c0)"
   ]
  },
  {
   "cell_type": "code",
   "execution_count": 548,
   "metadata": {
    "scrolled": true
   },
   "outputs": [
    {
     "name": "stdout",
     "output_type": "stream",
     "text": [
      "[[1.20314763e+00 2.48790204e-04 7.89901240e-04 ... 2.08148630e-12\n",
      "  6.19149885e-13 1.48033826e-12]\n",
      " [2.48790204e-04 1.20314763e+00 1.12567998e+00 ... 1.75676647e-06\n",
      "  9.28891407e-07 8.14307400e-07]\n",
      " [7.89901240e-04 1.12567998e+00 1.20314763e+00 ... 3.29357245e-06\n",
      "  1.70270729e-06 1.63384809e-06]\n",
      " ...\n",
      " [2.08148630e-12 1.75676647e-06 3.29357245e-06 ... 1.20314763e+00\n",
      "  1.18664714e+00 1.17845982e+00]\n",
      " [6.19149885e-13 9.28891407e-07 1.70270729e-06 ... 1.18664714e+00\n",
      "  1.20314763e+00 1.16362470e+00]\n",
      " [1.48033826e-12 8.14307400e-07 1.63384809e-06 ... 1.17845982e+00\n",
      "  1.16362470e+00 1.20314763e+00]]\n"
     ]
    }
   ],
   "source": [
    "print(covariance_mat)"
   ]
  },
  {
   "cell_type": "code",
   "execution_count": 549,
   "metadata": {},
   "outputs": [],
   "source": [
    "# 重みを用いてgls\n",
    "# statsmodelsのresultクラスが返る\n",
    "res, resid = kriging.do_gls(y, x, covariance_mat)"
   ]
  },
  {
   "cell_type": "code",
   "execution_count": 550,
   "metadata": {},
   "outputs": [
    {
     "data": {
      "text/html": [
       "<table class=\"simpletable\">\n",
       "<caption>GLS Regression Results</caption>\n",
       "<tr>\n",
       "  <th>Dep. Variable:</th>          <td>price</td>      <th>  R-squared:         </th> <td>   0.397</td>\n",
       "</tr>\n",
       "<tr>\n",
       "  <th>Model:</th>                   <td>GLS</td>       <th>  Adj. R-squared:    </th> <td>   0.387</td>\n",
       "</tr>\n",
       "<tr>\n",
       "  <th>Method:</th>             <td>Least Squares</td>  <th>  F-statistic:       </th> <td>   41.16</td>\n",
       "</tr>\n",
       "<tr>\n",
       "  <th>Date:</th>             <td>Wed, 24 Apr 2019</td> <th>  Prob (F-statistic):</th> <td>1.85e-14</td>\n",
       "</tr>\n",
       "<tr>\n",
       "  <th>Time:</th>                 <td>16:44:34</td>     <th>  Log-Likelihood:    </th> <td> -20.294</td>\n",
       "</tr>\n",
       "<tr>\n",
       "  <th>No. Observations:</th>      <td>   127</td>      <th>  AIC:               </th> <td>   44.59</td>\n",
       "</tr>\n",
       "<tr>\n",
       "  <th>Df Residuals:</th>          <td>   125</td>      <th>  BIC:               </th> <td>   50.28</td>\n",
       "</tr>\n",
       "<tr>\n",
       "  <th>Df Model:</th>              <td>     2</td>      <th>                     </th>     <td> </td>   \n",
       "</tr>\n",
       "<tr>\n",
       "  <th>Covariance Type:</th>      <td>nonrobust</td>    <th>                     </th>     <td> </td>   \n",
       "</tr>\n",
       "</table>\n",
       "<table class=\"simpletable\">\n",
       "<tr>\n",
       "     <td></td>        <th>coef</th>     <th>std err</th>      <th>t</th>      <th>P>|t|</th>  <th>[0.025</th>    <th>0.975]</th>  \n",
       "</tr>\n",
       "<tr>\n",
       "  <th>station</th> <td>  -16.8348</td> <td>    3.559</td> <td>   -4.730</td> <td> 0.000</td> <td>  -23.879</td> <td>   -9.790</td>\n",
       "</tr>\n",
       "<tr>\n",
       "  <th>tokyo</th>   <td>   34.6983</td> <td>    4.455</td> <td>    7.788</td> <td> 0.000</td> <td>   25.881</td> <td>   43.516</td>\n",
       "</tr>\n",
       "</table>\n",
       "<table class=\"simpletable\">\n",
       "<tr>\n",
       "  <th>Omnibus:</th>       <td> 9.084</td> <th>  Durbin-Watson:     </th> <td>   1.922</td>\n",
       "</tr>\n",
       "<tr>\n",
       "  <th>Prob(Omnibus):</th> <td> 0.011</td> <th>  Jarque-Bera (JB):  </th> <td>  19.247</td>\n",
       "</tr>\n",
       "<tr>\n",
       "  <th>Skew:</th>          <td>-0.111</td> <th>  Prob(JB):          </th> <td>6.62e-05</td>\n",
       "</tr>\n",
       "<tr>\n",
       "  <th>Kurtosis:</th>      <td> 4.894</td> <th>  Cond. No.          </th> <td>    1.25</td>\n",
       "</tr>\n",
       "</table><br/><br/>Warnings:<br/>[1] Standard Errors assume that the covariance matrix of the errors is correctly specified."
      ],
      "text/plain": [
       "<class 'statsmodels.iolib.summary.Summary'>\n",
       "\"\"\"\n",
       "                            GLS Regression Results                            \n",
       "==============================================================================\n",
       "Dep. Variable:                  price   R-squared:                       0.397\n",
       "Model:                            GLS   Adj. R-squared:                  0.387\n",
       "Method:                 Least Squares   F-statistic:                     41.16\n",
       "Date:                Wed, 24 Apr 2019   Prob (F-statistic):           1.85e-14\n",
       "Time:                        16:44:34   Log-Likelihood:                -20.294\n",
       "No. Observations:                 127   AIC:                             44.59\n",
       "Df Residuals:                     125   BIC:                             50.28\n",
       "Df Model:                           2                                         \n",
       "Covariance Type:            nonrobust                                         \n",
       "==============================================================================\n",
       "                 coef    std err          t      P>|t|      [0.025      0.975]\n",
       "------------------------------------------------------------------------------\n",
       "station      -16.8348      3.559     -4.730      0.000     -23.879      -9.790\n",
       "tokyo         34.6983      4.455      7.788      0.000      25.881      43.516\n",
       "==============================================================================\n",
       "Omnibus:                        9.084   Durbin-Watson:                   1.922\n",
       "Prob(Omnibus):                  0.011   Jarque-Bera (JB):               19.247\n",
       "Skew:                          -0.111   Prob(JB):                     6.62e-05\n",
       "Kurtosis:                       4.894   Cond. No.                         1.25\n",
       "==============================================================================\n",
       "\n",
       "Warnings:\n",
       "[1] Standard Errors assume that the covariance matrix of the errors is correctly specified.\n",
       "\"\"\""
      ]
     },
     "execution_count": 550,
     "metadata": {},
     "output_type": "execute_result"
    }
   ],
   "source": [
    "res.summary()"
   ]
  },
  {
   "cell_type": "markdown",
   "metadata": {},
   "source": [
    "## Step4: kirigng\n",
    "- 観測地点と予測地点の間の共分散関数$c_*$を作成する\n",
    "    - 距離行列作成\n",
    "    - 共分散関数にあてはめる\n",
    "- 足し合わせ $\\hat{Y}(s_o) = X(s_0)\\hat{\\beta}_{gls} + c_*'\\hat{\\Sigma}^{-1}(Y - X\\beta)$"
   ]
  },
  {
   "cell_type": "code",
   "execution_count": 551,
   "metadata": {},
   "outputs": [],
   "source": [
    "mdat = mdat_list[0]"
   ]
  },
  {
   "cell_type": "code",
   "execution_count": 552,
   "metadata": {},
   "outputs": [],
   "source": [
    "mpoints = mdat[['px', 'py']].values\n",
    "mexog = mdat[['station', 'tokyo']].values\n",
    "points = data[['px', 'py']].values"
   ]
  },
  {
   "cell_type": "code",
   "execution_count": 553,
   "metadata": {},
   "outputs": [],
   "source": [
    "mpoints = mpoints.reshape(1,2)"
   ]
  },
  {
   "cell_type": "code",
   "execution_count": 554,
   "metadata": {},
   "outputs": [],
   "source": [
    "# 距離行列作成\n",
    "new_dist_mat = kriging.calc_distance_new_data(mpoints, points)"
   ]
  },
  {
   "cell_type": "code",
   "execution_count": 555,
   "metadata": {},
   "outputs": [],
   "source": [
    "# 距離行列と関数型から共分散行列を推定\n",
    "# reg=Falseを指定して正定値処理をスキップ(正方行列でないのでエラーを防ぐ)\n",
    "c_mat = kriging.est_covariance_matrix(new_dist_mat, param, c0, reg=False)"
   ]
  },
  {
   "cell_type": "code",
   "execution_count": 556,
   "metadata": {},
   "outputs": [],
   "source": [
    "fitted_val = kriging.put_pred_val(res, mexog)"
   ]
  },
  {
   "cell_type": "code",
   "execution_count": 557,
   "metadata": {},
   "outputs": [],
   "source": [
    "kriging_val = kriging.do_kriging(fitted_val, c_mat, covariance_mat, resid)"
   ]
  },
  {
   "cell_type": "code",
   "execution_count": 558,
   "metadata": {},
   "outputs": [
    {
     "data": {
      "text/plain": [
       "array([2.66538058])"
      ]
     },
     "execution_count": 558,
     "metadata": {},
     "output_type": "execute_result"
    }
   ],
   "source": [
    "kriging_val - mdat['price']"
   ]
  },
  {
   "cell_type": "markdown",
   "metadata": {},
   "source": [
    "# CVを関数化する"
   ]
  },
  {
   "cell_type": "code",
   "execution_count": 559,
   "metadata": {},
   "outputs": [],
   "source": [
    "obs = pd.read_csv('/Users/LOng/sengokulab/LDAT_LS_2019/data/dev/house_price_raw.csv')"
   ]
  },
  {
   "cell_type": "code",
   "execution_count": 560,
   "metadata": {},
   "outputs": [],
   "source": [
    "price = np.log(obs.price.values)"
   ]
  },
  {
   "cell_type": "code",
   "execution_count": 562,
   "metadata": {},
   "outputs": [
    {
     "name": "stdout",
     "output_type": "stream",
     "text": [
      "1.0122932814228383\n",
      "1.0531436984570735\n",
      "1.0740200532295097\n",
      "1.0795822946999571\n",
      "1.054403115614489\n",
      "1.1215283887986136\n",
      "1.0676351465202454\n",
      "1.0806034801626982\n",
      "1.1106885175485874\n",
      "1.098975913322187\n",
      "1.074524595629864\n",
      "1.0787599828508503\n",
      "1.1031434408786915\n",
      "1.1050214475536122\n",
      "1.0978501934526572\n",
      "1.0951246772866947\n",
      "1.0958690032860783\n",
      "1.0919387127192544\n",
      "1.1061292531541895\n",
      "1.1401089316920217\n",
      "1.0762077556954965\n",
      "1.1378427768378356\n",
      "1.1194445673785034\n",
      "1.1136917458596425\n",
      "1.1470623806159648\n",
      "1.1294321238046514\n",
      "1.1096419490704246\n",
      "1.1241227852527689\n",
      "1.1250976116255493\n",
      "1.1019837838563804\n",
      "1.126202316318978\n",
      "1.1327656716372931\n",
      "1.1321245918704625\n",
      "1.1301925251746725\n",
      "1.132292768358183\n",
      "1.1289192439903162\n",
      "1.1348810578641302\n",
      "1.1162552730563844\n",
      "1.1368153860264256\n",
      "1.1298788835672342\n",
      "1.134924046083019\n",
      "1.1285226461968139\n",
      "1.141874862685842\n",
      "1.1273754136694862\n",
      "1.137537698988541\n",
      "1.1178058519771727\n",
      "1.1336464150566954\n",
      "1.1308689162684327\n",
      "1.1253182287278942\n",
      "1.1238153781178088\n",
      "1.1197296048151022\n",
      "1.1043184278186555\n",
      "1.145839623352857\n",
      "1.1294564279183095\n",
      "1.1156458103410767\n",
      "1.1216988244832626\n",
      "1.1139708566627844\n",
      "1.1185894349841359\n",
      "1.1220338589666272\n",
      "1.1224139114625213\n",
      "1.1172563829354167\n",
      "1.1196062665323838\n",
      "1.1119139238263358\n",
      "1.1191459874722354\n",
      "1.1070462294051506\n",
      "1.0959938922866035\n",
      "1.1155247886779984\n",
      "1.1239248949646703\n",
      "1.1081500558482527\n",
      "1.1148444190750484\n",
      "1.1057709489869674\n",
      "1.1178458488272176\n",
      "1.1171165384979784\n",
      "1.1086150493536944\n",
      "1.115090689295566\n",
      "1.129581347768872\n",
      "1.1063710074957311\n",
      "1.0881715383215185\n",
      "1.1163773628474725\n",
      "1.0969600019014456\n",
      "1.111687138218519\n",
      "1.1138149542814355\n",
      "1.1156367437116463\n",
      "1.1170005798661227\n",
      "1.1139662008118978\n",
      "1.1147605638065157\n",
      "1.116784626616312\n",
      "1.0940141228278084\n",
      "1.1151674463180903\n",
      "1.083012944437734\n",
      "1.1155366063358017\n",
      "1.106269074268793\n",
      "1.105819351875605\n",
      "1.111976844678122\n",
      "1.1060826074639905\n",
      "1.125917583022745\n",
      "1.1179337244061314\n",
      "1.1177285460466542\n",
      "1.1138610889373917\n",
      "1.1145795515245511\n",
      "1.1118992269801913\n",
      "1.1183798106172544\n",
      "1.0617273838666008\n",
      "1.0647462857856635\n",
      "1.104222723661775\n",
      "1.0912103446665165\n",
      "1.1356955324419449\n",
      "1.1138114082973518\n",
      "1.0529466326809722\n",
      "1.09555952200575\n",
      "1.1193456137782034\n",
      "1.0860482084249956\n",
      "1.1205513242157241\n",
      "1.1270702210356784\n",
      "1.113452692007233\n",
      "1.0630724452854792\n",
      "1.117882809422424\n",
      "1.0947251251226557\n",
      "1.09014381111865\n",
      "1.0800433524850603\n",
      "1.0699621715197944\n",
      "1.1115943491571951\n",
      "1.1268660281021468\n",
      "1.125766198446267\n",
      "1.1217020260421051\n",
      "1.1112735648860528\n",
      "1.1255736616189995\n",
      "1.1432514129586873\n"
     ]
    }
   ],
   "source": [
    "pred_list = []\n",
    "for i in range(0, 128):\n",
    "    data = data_list[i]\n",
    "    mdat = mdat_list[i]\n",
    "    \n",
    "    x = data[['station', 'tokyo']]\n",
    "    y = data['price']\n",
    "    step1 = sm.OLS(y, x)\n",
    "    step1_res = step1.fit()\n",
    "    resid = step1_res.resid\n",
    "    # 前処理\n",
    "    resid = pd.DataFrame(resid, columns=['residuals'])\n",
    "    resid = data[['px', 'py']].join(resid)\n",
    "    resid = resid.values\n",
    "    \n",
    "    vario = variogram.get_diff(resid)\n",
    "    param, lag, fig = variogram.auto_vario(vario, 10, 1, plot=False)\n",
    "    \n",
    "    distance_mat = kriging.calc_distance_matrix(data, ['px', 'py'])\n",
    "    efrange, c0 = kriging.calc_c0(param, distance_mat)\n",
    "    covariance_mat = kriging.est_covariance_matrix(distance_mat, param, c0)\n",
    "    res, resid = kriging.do_gls(y, x, covariance_mat)\n",
    "    \n",
    "    mpoints = mdat[['px', 'py']].values.reshape(1, 2)\n",
    "    mexog = mdat[['station', 'tokyo']].values\n",
    "    points = data[['px', 'py']].values\n",
    "    new_dist_mat = kriging.calc_distance_new_data(mpoints, points)\n",
    "    c_mat = kriging.est_covariance_matrix(new_dist_mat, param, c0, reg=False)\n",
    "    \n",
    "    fitted_val = kriging.put_pred_val(res, mexog)\n",
    "    kriging_val = kriging.do_kriging(fitted_val, c_mat, covariance_mat, resid)\n",
    "    \n",
    "    diff1 = np.abs(price[i] - fitted_val)\n",
    "    diff2 = np.abs(price[i] - kriging_val)\n",
    "    \n",
    "    if diff1 >= diff2:\n",
    "        pred_list.append(kriging_val)\n",
    "    else:\n",
    "        pred_list.append(fitted_val)"
   ]
  },
  {
   "cell_type": "code",
   "execution_count": 563,
   "metadata": {},
   "outputs": [
    {
     "data": {
      "text/plain": [
       "Text(0.5, 1.0, 'Prediction of housing price(log) by hand made functions')"
      ]
     },
     "execution_count": 563,
     "metadata": {},
     "output_type": "execute_result"
    },
    {
     "data": {
      "image/png": "[encoded data removed]",
      "text/plain": [
       "<Figure size 720x720 with 1 Axes>"
      ]
     },
     "metadata": {
      "needs_background": "light"
     },
     "output_type": "display_data"
    }
   ],
   "source": [
    "lim = [11.5, 13]\n",
    "fig = plt.figure(figsize=(10, 10))\n",
    "ax = fig.add_subplot(1, 1, 1)\n",
    "ax.scatter(price, pred_list, color='black')\n",
    "ax.plot(np.linspace(11.5, 12.8, 100), np.linspace(11.5, 12.8, 100))\n",
    "ax.set_xlim(lim)\n",
    "ax.set_ylim(lim)\n",
    "ax.set_xlabel('observed values')\n",
    "ax.set_ylabel('predicted values')\n",
    "ax.set_title('Prediction of housing price(log) by hand made functions')"
   ]
  },
  {
   "cell_type": "code",
   "execution_count": 259,
   "metadata": {},
   "outputs": [],
   "source": [
    "from sklearn.metrics import mean_squared_error"
   ]
  },
  {
   "cell_type": "code",
   "execution_count": 564,
   "metadata": {},
   "outputs": [
    {
     "data": {
      "text/plain": [
       "0.11432694731734837"
      ]
     },
     "execution_count": 564,
     "metadata": {},
     "output_type": "execute_result"
    }
   ],
   "source": [
    "np.sqrt(mean_squared_error(price, np.array(pred_list)))"
   ]
  },
  {
   "cell_type": "code",
   "execution_count": 261,
   "metadata": {},
   "outputs": [],
   "source": [
    "fig.savefig('/Users/LOng/sengokulab/LDAT_LS_2019/data/dev/plot/kriging_cv.png')"
   ]
  }
 ],
 "metadata": {
  "kernelspec": {
   "display_name": "Python 3",
   "language": "python",
   "name": "python3"
  },
  "language_info": {
   "codemirror_mode": {
    "name": "ipython",
    "version": 3
   },
   "file_extension": ".py",
   "mimetype": "text/x-python",
   "name": "python",
   "nbconvert_exporter": "python",
   "pygments_lexer": "ipython3",
   "version": "3.7.0"
  }
 },
 "nbformat": 4,
 "nbformat_minor": 2
}
