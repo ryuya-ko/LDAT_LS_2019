{
 "cells": [
  {
   "cell_type": "code",
   "execution_count": 14,
   "metadata": {},
   "outputs": [],
   "source": [
    "import geopandas\n",
    "import matplotlib.pyplot as plt\n",
    "import numpy as np \n",
    "import pandas as pd\n",
    "import pykrige as pk\n",
    "from shapely.geometry import Point\n",
    "from sklearn.linear_model import LinearRegression"
   ]
  },
  {
   "cell_type": "code",
   "execution_count": 28,
   "metadata": {},
   "outputs": [],
   "source": [
    "dat = pd.read_csv('/Users/LOng/sengokulab/LDAT_LS_2019/data/dev/house_price_raw.csv')\n",
    "mdat = pd.read_csv('/Users/LOng/sengokulab/LDAT_LS_2019/data/dev/house_price_pred.csv')"
   ]
  },
  {
   "cell_type": "code",
   "execution_count": 7,
   "metadata": {
    "lines_to_next_cell": 0,
    "scrolled": true
   },
   "outputs": [
    {
     "data": {
      "text/html": [
       "<div>\n",
       "<style scoped>\n",
       "    .dataframe tbody tr th:only-of-type {\n",
       "        vertical-align: middle;\n",
       "    }\n",
       "\n",
       "    .dataframe tbody tr th {\n",
       "        vertical-align: top;\n",
       "    }\n",
       "\n",
       "    .dataframe thead th {\n",
       "        text-align: right;\n",
       "    }\n",
       "</style>\n",
       "<table border=\"1\" class=\"dataframe\">\n",
       "  <thead>\n",
       "    <tr style=\"text-align: right;\">\n",
       "      <th></th>\n",
       "      <th>px</th>\n",
       "      <th>py</th>\n",
       "      <th>price</th>\n",
       "      <th>station</th>\n",
       "      <th>tokyo</th>\n",
       "    </tr>\n",
       "  </thead>\n",
       "  <tbody>\n",
       "    <tr>\n",
       "      <th>0</th>\n",
       "      <td>139.402984</td>\n",
       "      <td>35.767626</td>\n",
       "      <td>NaN</td>\n",
       "      <td>0.017537</td>\n",
       "      <td>0.374249</td>\n",
       "    </tr>\n",
       "    <tr>\n",
       "      <th>1</th>\n",
       "      <td>139.407036</td>\n",
       "      <td>35.767626</td>\n",
       "      <td>NaN</td>\n",
       "      <td>0.013571</td>\n",
       "      <td>0.370307</td>\n",
       "    </tr>\n",
       "    <tr>\n",
       "      <th>2</th>\n",
       "      <td>139.411089</td>\n",
       "      <td>35.767626</td>\n",
       "      <td>NaN</td>\n",
       "      <td>0.009675</td>\n",
       "      <td>0.366367</td>\n",
       "    </tr>\n",
       "    <tr>\n",
       "      <th>3</th>\n",
       "      <td>139.439457</td>\n",
       "      <td>35.767626</td>\n",
       "      <td>NaN</td>\n",
       "      <td>0.001584</td>\n",
       "      <td>0.338865</td>\n",
       "    </tr>\n",
       "    <tr>\n",
       "      <th>4</th>\n",
       "      <td>139.394878</td>\n",
       "      <td>35.763700</td>\n",
       "      <td>NaN</td>\n",
       "      <td>0.026327</td>\n",
       "      <td>0.381271</td>\n",
       "    </tr>\n",
       "  </tbody>\n",
       "</table>\n",
       "</div>"
      ],
      "text/plain": [
       "           px         py  price   station     tokyo\n",
       "0  139.402984  35.767626    NaN  0.017537  0.374249\n",
       "1  139.407036  35.767626    NaN  0.013571  0.370307\n",
       "2  139.411089  35.767626    NaN  0.009675  0.366367\n",
       "3  139.439457  35.767626    NaN  0.001584  0.338865\n",
       "4  139.394878  35.763700    NaN  0.026327  0.381271"
      ]
     },
     "execution_count": 7,
     "metadata": {},
     "output_type": "execute_result"
    }
   ],
   "source": [
    "mdat.head()"
   ]
  },
  {
   "cell_type": "markdown",
   "metadata": {},
   "source": [
    "## バリオグラム推定"
   ]
  },
  {
   "cell_type": "markdown",
   "metadata": {},
   "source": [
    "### バリオグラム雲\n",
    "- packageに実装なし\n",
    "- 別途調査・実装"
   ]
  },
  {
   "cell_type": "markdown",
   "metadata": {},
   "source": [
    "### 経験バリオグラム"
   ]
  },
  {
   "cell_type": "markdown",
   "metadata": {
    "lines_to_next_cell": 2
   },
   "source": [
    "## Regression kriging\n",
    "- pykrige packageのRegression krigingはsklearnのモデルのみ受け取る\n",
    "- バリオグラム単体を表示・操作するクラスはなく, krigingクラスにvariogramの操作機能が包括されている"
   ]
  },
  {
   "cell_type": "code",
   "execution_count": 8,
   "metadata": {},
   "outputs": [],
   "source": [
    "model = LinearRegression(fit_intercept=False)"
   ]
  },
  {
   "cell_type": "code",
   "execution_count": 29,
   "metadata": {
    "lines_to_next_cell": 0
   },
   "outputs": [],
   "source": [
    "def transform_data(data, columns_latlon, columns_indep):\n",
    "    '''\n",
    "    Change the data format to use in kriging\n",
    "    Input: list of columns:latlon and independent variable\n",
    "    Output: values in np.array\n",
    "    '''\n",
    "    latlon = data[columns_latlon].values\n",
    "    indeps = data[columns_indep].values\n",
    "    return latlon, indeps"
   ]
  },
  {
   "cell_type": "code",
   "execution_count": 30,
   "metadata": {
    "lines_to_next_cell": 0
   },
   "outputs": [],
   "source": [
    "latlon, prop = transform_data(dat, ['px', 'py'], ['station', 'tokyo'])\n",
    "mlatlon, mprop = transform_data(mdat, ['px', 'py'], ['station', 'tokyo'])\n",
    "y = dat['price'].apply(lambda x: np.log(x)).values"
   ]
  },
  {
   "cell_type": "code",
   "execution_count": 12,
   "metadata": {},
   "outputs": [
    {
     "data": {
      "text/plain": [
       "array([11.9381932 , 12.05524976, 12.28765263, 12.06104687, 12.01370075,\n",
       "       12.15477935, 12.14950229, 12.23076526, 12.4874851 , 12.41714362,\n",
       "       12.18075484, 12.01974307, 12.34147728, 12.03171926, 12.14950229,\n",
       "       12.23076526, 12.35879373, 12.13350195, 12.1388639 , 12.20607265,\n",
       "       11.81303006, 12.2010601 , 12.25486281, 12.33710091, 12.08390501,\n",
       "       12.3327053 , 11.91839057, 12.18075484, 12.30591798, 12.17561344,\n",
       "       12.44114477, 12.46071486, 12.15477935, 11.94470788, 12.35449265,\n",
       "       12.29682701, 12.14950229, 12.56723749, 12.60819885, 12.10625231,\n",
       "       12.16525065, 12.16525065, 12.60148742, 12.02574909, 12.00150548,\n",
       "       11.9381932 , 12.86876062, 12.23076526, 12.08390501, 12.00150548,\n",
       "       12.38002595, 11.71993963, 12.19602231, 12.63785506, 12.38002595,\n",
       "       12.00762171, 12.21602298, 11.89818787, 12.79107767, 12.02574909,\n",
       "       12.26904744, 12.18586994, 12.6791964 , 11.97035031, 12.40081672,\n",
       "       12.7628272 , 12.16525065, 11.9511804 , 12.39669301, 11.87756858,\n",
       "       12.5776362 , 11.95761129, 12.46843691, 12.16525065, 12.35449265,\n",
       "       12.17561344, 12.31492705, 12.56374709, 12.43718437, 12.6181823 ,\n",
       "       11.86358234, 12.06681058, 12.39669301, 12.33710091, 12.10625231,\n",
       "       11.98915964, 11.9381932 , 12.4049235 , 12.16002871, 12.25486281,\n",
       "       12.11724143, 12.23563145, 12.35017299, 12.00762171, 12.07823927,\n",
       "       12.06104687, 12.14950229, 12.1388639 , 12.25486281, 12.04941884,\n",
       "       12.31492705, 12.05524976, 12.54966235, 12.34583459, 12.14950229,\n",
       "       12.13350195, 12.29225034, 12.21106019, 12.36307639, 12.19095901,\n",
       "       12.17561344, 12.30138283, 12.04355372, 12.22587527, 12.07254125,\n",
       "       12.39255221, 12.12269104, 12.22587527, 12.23563145, 12.18075484,\n",
       "       12.3883942 , 12.06681058, 12.03765399, 12.1388639 , 11.9316358 ,\n",
       "       12.07823927, 11.86358234, 11.97035031])"
      ]
     },
     "execution_count": 12,
     "metadata": {},
     "output_type": "execute_result"
    }
   ],
   "source": [
    "y"
   ]
  },
  {
   "cell_type": "code",
   "execution_count": 31,
   "metadata": {},
   "outputs": [],
   "source": [
    "from pykrige.rk import RegressionKriging\n",
    "gmodel = RegressionKriging(regression_model=model,  variogram_model='exponential', nlags=15)"
   ]
  },
  {
   "cell_type": "code",
   "execution_count": 32,
   "metadata": {},
   "outputs": [
    {
     "name": "stdout",
     "output_type": "stream",
     "text": [
      "Finished learning regression model\n",
      "Finished kriging residuals\n"
     ]
    }
   ],
   "source": [
    "gmodel.fit(prop, latlon, y)"
   ]
  },
  {
   "cell_type": "code",
   "execution_count": 33,
   "metadata": {},
   "outputs": [
    {
     "name": "stdout",
     "output_type": "stream",
     "text": [
      "[12.63291266 12.23845812 11.87260946 11.6689488  13.23492107 12.87736253\n",
      " 12.66492093 12.26097668 11.88436102 11.62359781 11.53878428 11.58319791\n",
      " 11.80894766 11.89203102 11.90733777 11.81242483 11.97584795 11.73073961\n",
      " 11.74825965 11.78803024 11.91669121 12.0314618  11.97788051 11.96561484\n",
      " 11.97168956 11.8358395  11.87262235 11.89394267 12.05556529 11.9781703\n",
      " 11.94714832 11.99630178 11.93880805 12.04955993 11.96499049 11.94955143\n",
      " 11.94532416 11.99272049 11.99705217 11.99134327 12.05757367 12.09431199\n",
      " 12.1115346  11.95277379 11.97987771 12.04733982 12.0331345  11.98930763\n",
      " 12.07922454 12.07167762 12.07955801 12.07453368 12.18144358 12.06129242\n",
      " 12.10288681 12.21309819 12.23836073 12.17526537 12.19878952 12.23575655\n",
      " 12.16596551 12.13295504 12.61731533 12.12674875 12.16258422 12.26295404\n",
      " 12.3523282  12.30576674 12.30747109 12.26517632 12.20359111 12.19413337\n",
      " 12.77771802 12.41234934 12.13604063 12.12456389 12.24004112 12.39075863\n",
      " 12.36667458 12.19737808 12.25385783 12.3651574  12.42843661 12.39087629\n",
      " 12.31863922 12.29810835 12.2013733  12.12780488 12.60314085 12.27785367\n",
      " 11.95403308 11.94265999 12.06110534 12.25309946 12.43110063 12.42480776\n",
      " 12.2831901  12.15305397 12.04498074 12.05858811 12.13805798 12.26016788\n",
      " 12.28195157 12.2309815  12.1806193  12.3642603  12.47154396 12.30098441\n",
      " 12.5119811  12.30213852 12.01735659 11.87592116 11.93310125 12.17915825\n",
      " 12.28447767 12.32597691 12.23900604 12.06392481 11.93367166 12.00372669\n",
      " 12.16677421 12.32474759 12.37503029 12.39820283 12.39149508 12.46710947\n",
      " 12.50702244 12.12849948 12.17831435 12.15184514 12.0655241  11.98673891\n",
      " 12.02110321 12.15629471 12.28977848 12.34135203 12.34212744 12.27559848\n",
      " 12.41683182 12.487454   12.29866516 12.20797275 12.16358519 12.1471608\n",
      " 12.08645591 12.15659094 12.23721989 12.32869925 12.36054907 12.33476204\n",
      " 12.25829343 12.33700508 12.4125677  12.42939349 12.32281508 12.24982754\n",
      " 12.2406067  12.31353936 12.35289542 12.42306776 12.31264928 12.29602832\n",
      " 12.32908323 12.27118454 12.33566783 12.34994423 12.41400311 12.45002456\n",
      " 12.37255299 12.27219711 12.18473132 12.30197963 12.38052349 12.2695011\n",
      " 12.20050789 12.27382629 12.38432062 12.44215424 12.43380667 12.10272989\n",
      " 12.26077652 12.44602395 12.36025123 12.2521149  12.41107841 12.59968866\n",
      " 12.54561177 12.47490508 12.48286948 12.04502019 12.25115924 12.53866118\n",
      " 12.50683062 12.60692492 12.64574083 12.7659545  12.73102778 12.55995284\n",
      " 12.49689328 12.21203894 12.40763103 12.60421546 12.58575603 12.50675438\n",
      " 12.57311324 12.73790536 12.65741339 12.23427521 12.30659846 12.52049224\n",
      " 12.65954043 12.68190159 12.61529063 12.57479366 12.78406724 12.62906711\n",
      " 12.56440084 12.54686025 12.26812098 12.29924215 12.55116305 12.60617748\n",
      " 12.69332605 12.8076927  12.73886938 12.8064961  12.56184411 12.56639595\n",
      " 12.21931501 12.42904468 12.3209964  12.22617601 12.25556789 12.48623521\n",
      " 12.52523068 12.51325791 12.52705816 12.70833657 12.75351732 12.61643728\n",
      " 12.06223116 12.2498393  12.22809669 12.23749335 12.27120308 12.41387348\n",
      " 12.47320921 12.4207525  12.4746537  12.62205177 12.73665765 12.00946821\n",
      " 12.12156108 12.14429474 12.20742187 12.23258819 12.32387695 12.31192968\n",
      " 12.16977385 12.23248072 12.42098188 12.59190086 12.22071651 12.19172052\n",
      " 12.15676869 12.15799463 12.26307893 12.37496851 12.17350576 11.97812805\n",
      " 12.01983286 12.26743938 12.32070337 12.37019179 12.16581164 12.38310425\n",
      " 12.34757641 12.26726096 12.25895411 12.31398773 12.34484573 12.14264668\n",
      " 12.02374296 12.11876514 12.17386428 12.04518419 12.18312992 12.3711889\n",
      " 12.3932915  12.36437348 12.42839639 12.34449482 12.37539892 12.35165721\n",
      " 12.19705889 12.13163442 12.24876968 12.15945413 11.99688706 12.12199841\n",
      " 12.40696588 12.56565226 12.46666011 12.36774203 12.25590923 12.27495676\n",
      " 12.35587084 12.34272992 12.34188695 12.18428046 12.00523355 12.00065715\n",
      " 12.0534648  12.17607928 12.26712003 12.48172803 12.48896506 12.20647307\n",
      " 12.44318635 12.4370256  12.26522256 12.12446718 12.25885562 12.25043883\n",
      " 12.17874627 12.20994088 12.19378566 12.03890418 11.91834927 11.83157383\n",
      " 11.99976851 12.28617706 12.35040426 12.3330269  12.41900553 12.21514835\n",
      " 12.29957396 12.37019981 12.29683242 12.21936487 12.14306808 12.35140296\n",
      " 12.31154544 12.11662767 12.08840612 12.14273912 12.0017109  11.96827297\n",
      " 12.00223489 11.97422515 12.07972079 12.18132683 12.07982412 12.32250792\n",
      " 12.50247236 12.08357292 12.14623971 12.27628462 12.22117819 12.30733423\n",
      " 12.25241321 12.31386944 12.16726388 11.98631662 12.00493216 11.97872751\n",
      " 12.00966618 11.95321143 12.03110121 12.06789164 12.00833579 11.98953041\n",
      " 12.01932247 12.24148295 12.4587982  12.34543781 12.31010909 12.37577197\n",
      " 12.17841396 12.05047433 12.00642364 12.09654224 12.06073257 12.03553337\n",
      " 12.1705642  12.24338199 11.99320036 11.95271182 11.89762434 11.77915216\n",
      " 11.87120435 12.09840244 12.09719334 12.13543627 12.0690366  11.91556742\n",
      " 11.96249316 12.20871596 12.46834037 12.38487479 12.2477735  12.31156081\n",
      " 12.25877432 12.03185865 11.88996136 11.82690774 11.95816573 12.04135574\n",
      " 12.03845819 11.87785188 11.96440856 11.95458442 11.92730384 11.99717108\n",
      " 11.84631704 11.77462287 11.91608551 11.99479234 12.14240133 12.13253122\n",
      " 12.04253506 12.0235372  12.16159961 12.24658486 12.27161953 12.32002225\n",
      " 12.22013803 12.11615525 12.13141763 11.96568979 11.90059647 11.92319013\n",
      " 11.86853365 12.0542805  12.04476445 11.94203831 12.06316009 12.10210897\n",
      " 12.16101218 12.15475768 12.06103348 12.18973261 12.27629376 12.20931204\n",
      " 12.03778331 12.07428145 12.03562183 11.97014015 12.03314041 12.07977266\n",
      " 12.14386465 12.06992122 12.15868568 12.25270558 12.20064493 12.01431155\n",
      " 11.95058222 11.94022018 11.8911163  12.11257893 12.25283172 12.15254634\n",
      " 12.21307699 12.19228817 12.1547059  12.02107615 11.908686   11.91001617\n",
      " 11.78768958 12.04863091 12.14689332 12.30107152 12.21574543 12.23343517\n",
      " 12.04159205 12.1442115  12.08213569 11.99541958 11.90464431 12.07217396\n",
      " 11.81898348 11.83600126 11.98485271 12.18473031 12.14433601 12.1087327\n",
      " 12.0326915  12.04576339 12.10178781 12.05396721 11.92059495 12.33310287\n",
      " 12.26268303 12.04681522 11.79663703 11.82085029 11.93979918 12.10170734\n",
      " 12.13506717 12.05651899 12.02303745 12.05710575 12.11199192 11.84549885\n",
      " 12.16498081 12.13730896 12.16424875 12.15791727 11.96008374 11.92051584\n",
      " 11.96111512 12.08745035 12.13915231 12.04382315 12.04967642 12.09821873\n",
      " 12.45497489 12.19836813 12.15199714 12.16407689 12.2132386  12.12449935\n",
      " 12.01908154 12.01702133 12.07836509 12.2062725  12.13413792 12.13945032\n",
      " 12.83501537 12.83385565 12.57932025 12.29968615 12.28486414 12.13966976\n",
      " 12.09865934 12.14987663 12.31157262 12.2862334  12.35654158 12.34344652]\n"
     ]
    }
   ],
   "source": [
    "my = gmodel.predict(mprop, mlatlon)\n",
    "print(my)"
   ]
  },
  {
   "cell_type": "code",
   "execution_count": 34,
   "metadata": {},
   "outputs": [],
   "source": [
    "def loo_cv(mod, dat, target, latlon, indep):\n",
    "    '''\n",
    "    perform the LOO cross validation by kriging model\n",
    "    input: kriging model, data(df), column names of dep var, latlon, indep var\n",
    "    output: the result of cv\n",
    "    '''\n",
    "    # LOO cross validation\n",
    "    pred_list = []\n",
    "    for i in range(0,len(dat)):\n",
    "        dsub = dat.drop(i)\n",
    "        msub = dat.iloc[i:i+1, :]\n",
    "\n",
    "        dprop = dsub[indep].values\n",
    "        dlatlon = dsub[latlon].values\n",
    "        dy = dsub[target].apply(lambda x: np.log(x)).values\n",
    "\n",
    "        m_prop = msub[indep].values\n",
    "        m_latlon = msub[latlon].values\n",
    "        gmodel.fit(dprop, dlatlon, dy)\n",
    "        pred = gmodel.predict(m_prop, m_latlon)\n",
    "        pred_list.append(pred)\n",
    "    return pred_list"
   ]
  },
  {
   "cell_type": "code",
   "execution_count": 35,
   "metadata": {},
   "outputs": [
    {
     "name": "stdout",
     "output_type": "stream",
     "text": [
      "Finished learning regression model\n",
      "Finished kriging residuals\n",
      "Finished learning regression model\n",
      "Finished kriging residuals\n",
      "Finished learning regression model\n",
      "Finished kriging residuals\n",
      "Finished learning regression model\n",
      "Finished kriging residuals\n",
      "Finished learning regression model\n",
      "Finished kriging residuals\n",
      "Finished learning regression model\n",
      "Finished kriging residuals\n",
      "Finished learning regression model\n",
      "Finished kriging residuals\n",
      "Finished learning regression model\n",
      "Finished kriging residuals\n",
      "Finished learning regression model\n",
      "Finished kriging residuals\n",
      "Finished learning regression model\n",
      "Finished kriging residuals\n",
      "Finished learning regression model\n",
      "Finished kriging residuals\n",
      "Finished learning regression model\n",
      "Finished kriging residuals\n",
      "Finished learning regression model\n",
      "Finished kriging residuals\n",
      "Finished learning regression model\n",
      "Finished kriging residuals\n",
      "Finished learning regression model\n",
      "Finished kriging residuals\n",
      "Finished learning regression model\n",
      "Finished kriging residuals\n",
      "Finished learning regression model\n",
      "Finished kriging residuals\n",
      "Finished learning regression model\n",
      "Finished kriging residuals\n",
      "Finished learning regression model\n",
      "Finished kriging residuals\n",
      "Finished learning regression model\n",
      "Finished kriging residuals\n",
      "Finished learning regression model\n",
      "Finished kriging residuals\n",
      "Finished learning regression model\n",
      "Finished kriging residuals\n",
      "Finished learning regression model\n",
      "Finished kriging residuals\n",
      "Finished learning regression model\n",
      "Finished kriging residuals\n",
      "Finished learning regression model\n",
      "Finished kriging residuals\n",
      "Finished learning regression model\n",
      "Finished kriging residuals\n",
      "Finished learning regression model\n",
      "Finished kriging residuals\n",
      "Finished learning regression model\n",
      "Finished kriging residuals\n",
      "Finished learning regression model\n",
      "Finished kriging residuals\n",
      "Finished learning regression model\n",
      "Finished kriging residuals\n",
      "Finished learning regression model\n",
      "Finished kriging residuals\n",
      "Finished learning regression model\n",
      "Finished kriging residuals\n",
      "Finished learning regression model\n",
      "Finished kriging residuals\n",
      "Finished learning regression model\n",
      "Finished kriging residuals\n",
      "Finished learning regression model\n",
      "Finished kriging residuals\n",
      "Finished learning regression model\n",
      "Finished kriging residuals\n",
      "Finished learning regression model\n",
      "Finished kriging residuals\n",
      "Finished learning regression model\n",
      "Finished kriging residuals\n",
      "Finished learning regression model\n",
      "Finished kriging residuals\n",
      "Finished learning regression model\n",
      "Finished kriging residuals\n",
      "Finished learning regression model\n",
      "Finished kriging residuals\n",
      "Finished learning regression model\n",
      "Finished kriging residuals\n",
      "Finished learning regression model\n",
      "Finished kriging residuals\n",
      "Finished learning regression model\n",
      "Finished kriging residuals\n",
      "Finished learning regression model\n",
      "Finished kriging residuals\n",
      "Finished learning regression model\n",
      "Finished kriging residuals\n",
      "Finished learning regression model\n",
      "Finished kriging residuals\n",
      "Finished learning regression model\n",
      "Finished kriging residuals\n",
      "Finished learning regression model\n",
      "Finished kriging residuals\n",
      "Finished learning regression model\n",
      "Finished kriging residuals\n",
      "Finished learning regression model\n",
      "Finished kriging residuals\n",
      "Finished learning regression model\n",
      "Finished kriging residuals\n",
      "Finished learning regression model\n",
      "Finished kriging residuals\n",
      "Finished learning regression model\n",
      "Finished kriging residuals\n",
      "Finished learning regression model\n",
      "Finished kriging residuals\n",
      "Finished learning regression model\n",
      "Finished kriging residuals\n",
      "Finished learning regression model\n",
      "Finished kriging residuals\n",
      "Finished learning regression model\n",
      "Finished kriging residuals\n",
      "Finished learning regression model\n",
      "Finished kriging residuals\n",
      "Finished learning regression model\n",
      "Finished kriging residuals\n",
      "Finished learning regression model\n",
      "Finished kriging residuals\n",
      "Finished learning regression model\n",
      "Finished kriging residuals\n",
      "Finished learning regression model\n",
      "Finished kriging residuals\n",
      "Finished learning regression model\n",
      "Finished kriging residuals\n",
      "Finished learning regression model\n",
      "Finished kriging residuals\n",
      "Finished learning regression model\n",
      "Finished kriging residuals\n",
      "Finished learning regression model\n",
      "Finished kriging residuals\n",
      "Finished learning regression model\n",
      "Finished kriging residuals\n",
      "Finished learning regression model\n",
      "Finished kriging residuals\n",
      "Finished learning regression model\n",
      "Finished kriging residuals\n",
      "Finished learning regression model\n",
      "Finished kriging residuals\n",
      "Finished learning regression model\n",
      "Finished kriging residuals\n",
      "Finished learning regression model\n",
      "Finished kriging residuals\n",
      "Finished learning regression model\n",
      "Finished kriging residuals\n",
      "Finished learning regression model\n",
      "Finished kriging residuals\n",
      "Finished learning regression model\n",
      "Finished kriging residuals\n",
      "Finished learning regression model\n",
      "Finished kriging residuals\n",
      "Finished learning regression model\n",
      "Finished kriging residuals\n",
      "Finished learning regression model\n",
      "Finished kriging residuals\n",
      "Finished learning regression model\n",
      "Finished kriging residuals\n",
      "Finished learning regression model\n",
      "Finished kriging residuals\n",
      "Finished learning regression model\n",
      "Finished kriging residuals\n",
      "Finished learning regression model\n",
      "Finished kriging residuals\n",
      "Finished learning regression model\n",
      "Finished kriging residuals\n",
      "Finished learning regression model\n",
      "Finished kriging residuals\n",
      "Finished learning regression model\n",
      "Finished kriging residuals\n",
      "Finished learning regression model\n",
      "Finished kriging residuals\n",
      "Finished learning regression model\n",
      "Finished kriging residuals\n",
      "Finished learning regression model\n",
      "Finished kriging residuals\n",
      "Finished learning regression model\n",
      "Finished kriging residuals\n",
      "Finished learning regression model\n",
      "Finished kriging residuals\n",
      "Finished learning regression model\n",
      "Finished kriging residuals\n",
      "Finished learning regression model\n",
      "Finished kriging residuals\n",
      "Finished learning regression model\n",
      "Finished kriging residuals\n",
      "Finished learning regression model\n",
      "Finished kriging residuals\n",
      "Finished learning regression model\n",
      "Finished kriging residuals\n",
      "Finished learning regression model\n",
      "Finished kriging residuals\n",
      "Finished learning regression model\n",
      "Finished kriging residuals\n",
      "Finished learning regression model\n",
      "Finished kriging residuals\n",
      "Finished learning regression model\n",
      "Finished kriging residuals\n",
      "Finished learning regression model\n",
      "Finished kriging residuals\n",
      "Finished learning regression model\n",
      "Finished kriging residuals\n",
      "Finished learning regression model\n",
      "Finished kriging residuals\n",
      "Finished learning regression model\n",
      "Finished kriging residuals\n",
      "Finished learning regression model\n",
      "Finished kriging residuals\n",
      "Finished learning regression model\n",
      "Finished kriging residuals\n",
      "Finished learning regression model\n",
      "Finished kriging residuals\n",
      "Finished learning regression model\n",
      "Finished kriging residuals\n",
      "Finished learning regression model\n",
      "Finished kriging residuals\n",
      "Finished learning regression model\n",
      "Finished kriging residuals\n",
      "Finished learning regression model\n",
      "Finished kriging residuals\n",
      "Finished learning regression model\n",
      "Finished kriging residuals\n",
      "Finished learning regression model\n",
      "Finished kriging residuals\n",
      "Finished learning regression model\n",
      "Finished kriging residuals\n",
      "Finished learning regression model\n",
      "Finished kriging residuals\n",
      "Finished learning regression model\n",
      "Finished kriging residuals\n",
      "Finished learning regression model\n",
      "Finished kriging residuals\n",
      "Finished learning regression model\n",
      "Finished kriging residuals\n",
      "Finished learning regression model\n",
      "Finished kriging residuals\n",
      "Finished learning regression model\n",
      "Finished kriging residuals\n",
      "Finished learning regression model\n",
      "Finished kriging residuals\n",
      "Finished learning regression model\n",
      "Finished kriging residuals\n",
      "Finished learning regression model\n",
      "Finished kriging residuals\n",
      "Finished learning regression model\n",
      "Finished kriging residuals\n",
      "Finished learning regression model\n",
      "Finished kriging residuals\n",
      "Finished learning regression model\n",
      "Finished kriging residuals\n",
      "Finished learning regression model\n",
      "Finished kriging residuals\n",
      "Finished learning regression model\n",
      "Finished kriging residuals\n"
     ]
    }
   ],
   "source": [
    "pred_list = loo_cv(gmodel, dat, 'price', ['px', 'py'], ['station', 'tokyo'])"
   ]
  },
  {
   "cell_type": "code",
   "execution_count": 36,
   "metadata": {},
   "outputs": [
    {
     "data": {
      "text/plain": [
       "128"
      ]
     },
     "execution_count": 36,
     "metadata": {},
     "output_type": "execute_result"
    }
   ],
   "source": [
    "len(pred_list)"
   ]
  },
  {
   "cell_type": "code",
   "execution_count": 37,
   "metadata": {},
   "outputs": [
    {
     "data": {
      "image/png": "[encoded data removed]",
      "text/plain": [
       "<Figure size 432x288 with 1 Axes>"
      ]
     },
     "metadata": {
      "needs_background": "light"
     },
     "output_type": "display_data"
    }
   ],
   "source": [
    "plt.scatter(y, pred_list)\n",
    "plt.ylim = (11.8, 12.8)\n",
    "plt.savefig('/Users/LOng/sengokulab/LDAT_LS_2019/data/dev/plot/res_pykrige.png')\n",
    "plt.show()"
   ]
  },
  {
   "cell_type": "code",
   "execution_count": 38,
   "metadata": {},
   "outputs": [],
   "source": [
    "mdat['price'] = my"
   ]
  },
  {
   "cell_type": "code",
   "execution_count": 39,
   "metadata": {
    "lines_to_next_cell": 0
   },
   "outputs": [
    {
     "data": {
      "text/html": [
       "<div>\n",
       "<style scoped>\n",
       "    .dataframe tbody tr th:only-of-type {\n",
       "        vertical-align: middle;\n",
       "    }\n",
       "\n",
       "    .dataframe tbody tr th {\n",
       "        vertical-align: top;\n",
       "    }\n",
       "\n",
       "    .dataframe thead th {\n",
       "        text-align: right;\n",
       "    }\n",
       "</style>\n",
       "<table border=\"1\" class=\"dataframe\">\n",
       "  <thead>\n",
       "    <tr style=\"text-align: right;\">\n",
       "      <th></th>\n",
       "      <th>px</th>\n",
       "      <th>py</th>\n",
       "      <th>price</th>\n",
       "      <th>station</th>\n",
       "      <th>tokyo</th>\n",
       "    </tr>\n",
       "  </thead>\n",
       "  <tbody>\n",
       "    <tr>\n",
       "      <th>0</th>\n",
       "      <td>139.402984</td>\n",
       "      <td>35.767626</td>\n",
       "      <td>12.632913</td>\n",
       "      <td>0.017537</td>\n",
       "      <td>0.374249</td>\n",
       "    </tr>\n",
       "    <tr>\n",
       "      <th>1</th>\n",
       "      <td>139.407036</td>\n",
       "      <td>35.767626</td>\n",
       "      <td>12.238458</td>\n",
       "      <td>0.013571</td>\n",
       "      <td>0.370307</td>\n",
       "    </tr>\n",
       "    <tr>\n",
       "      <th>2</th>\n",
       "      <td>139.411089</td>\n",
       "      <td>35.767626</td>\n",
       "      <td>11.872609</td>\n",
       "      <td>0.009675</td>\n",
       "      <td>0.366367</td>\n",
       "    </tr>\n",
       "    <tr>\n",
       "      <th>3</th>\n",
       "      <td>139.439457</td>\n",
       "      <td>35.767626</td>\n",
       "      <td>11.668949</td>\n",
       "      <td>0.001584</td>\n",
       "      <td>0.338865</td>\n",
       "    </tr>\n",
       "    <tr>\n",
       "      <th>4</th>\n",
       "      <td>139.394878</td>\n",
       "      <td>35.763700</td>\n",
       "      <td>13.234921</td>\n",
       "      <td>0.026327</td>\n",
       "      <td>0.381271</td>\n",
       "    </tr>\n",
       "  </tbody>\n",
       "</table>\n",
       "</div>"
      ],
      "text/plain": [
       "           px         py      price   station     tokyo\n",
       "0  139.402984  35.767626  12.632913  0.017537  0.374249\n",
       "1  139.407036  35.767626  12.238458  0.013571  0.370307\n",
       "2  139.411089  35.767626  11.872609  0.009675  0.366367\n",
       "3  139.439457  35.767626  11.668949  0.001584  0.338865\n",
       "4  139.394878  35.763700  13.234921  0.026327  0.381271"
      ]
     },
     "execution_count": 39,
     "metadata": {},
     "output_type": "execute_result"
    }
   ],
   "source": [
    "mdat.head()"
   ]
  },
  {
   "cell_type": "code",
   "execution_count": 47,
   "metadata": {},
   "outputs": [],
   "source": [
    "def transform_to_gpd(df, lat ,lon):\n",
    "    '''\n",
    "    transform the dataframe to the geodataframe\n",
    "    input:dataframe, column names of longitude and latitude\n",
    "    output: geo dataframe\n",
    "    '''\n",
    "    df['Coordinates'] = list(zip(df['px'], df['py']))\n",
    "    df['Coordinates'] = df['Coordinates'].apply(Point)\n",
    "    gdf = geopandas.GeoDataFrame(df, geometry='Coordinates')\n",
    "    return gdf"
   ]
  },
  {
   "cell_type": "code",
   "execution_count": 48,
   "metadata": {},
   "outputs": [],
   "source": [
    "gmdat = transform_to_gpd(mdat, 'px', 'py')"
   ]
  },
  {
   "cell_type": "code",
   "execution_count": 49,
   "metadata": {},
   "outputs": [
    {
     "data": {
      "text/html": [
       "<div>\n",
       "<style scoped>\n",
       "    .dataframe tbody tr th:only-of-type {\n",
       "        vertical-align: middle;\n",
       "    }\n",
       "\n",
       "    .dataframe tbody tr th {\n",
       "        vertical-align: top;\n",
       "    }\n",
       "\n",
       "    .dataframe thead th {\n",
       "        text-align: right;\n",
       "    }\n",
       "</style>\n",
       "<table border=\"1\" class=\"dataframe\">\n",
       "  <thead>\n",
       "    <tr style=\"text-align: right;\">\n",
       "      <th></th>\n",
       "      <th>px</th>\n",
       "      <th>py</th>\n",
       "      <th>price</th>\n",
       "      <th>station</th>\n",
       "      <th>tokyo</th>\n",
       "      <th>Coordinates</th>\n",
       "    </tr>\n",
       "  </thead>\n",
       "  <tbody>\n",
       "    <tr>\n",
       "      <th>0</th>\n",
       "      <td>139.402984</td>\n",
       "      <td>35.767626</td>\n",
       "      <td>12.632913</td>\n",
       "      <td>0.017537</td>\n",
       "      <td>0.374249</td>\n",
       "      <td>POINT (139.4029835 35.7676260119048)</td>\n",
       "    </tr>\n",
       "    <tr>\n",
       "      <th>1</th>\n",
       "      <td>139.407036</td>\n",
       "      <td>35.767626</td>\n",
       "      <td>12.238458</td>\n",
       "      <td>0.013571</td>\n",
       "      <td>0.370307</td>\n",
       "      <td>POINT (139.4070361 35.7676260119048)</td>\n",
       "    </tr>\n",
       "    <tr>\n",
       "      <th>2</th>\n",
       "      <td>139.411089</td>\n",
       "      <td>35.767626</td>\n",
       "      <td>11.872609</td>\n",
       "      <td>0.009675</td>\n",
       "      <td>0.366367</td>\n",
       "      <td>POINT (139.4110887 35.7676260119048)</td>\n",
       "    </tr>\n",
       "    <tr>\n",
       "      <th>3</th>\n",
       "      <td>139.439457</td>\n",
       "      <td>35.767626</td>\n",
       "      <td>11.668949</td>\n",
       "      <td>0.001584</td>\n",
       "      <td>0.338865</td>\n",
       "      <td>POINT (139.4394569 35.7676260119048)</td>\n",
       "    </tr>\n",
       "    <tr>\n",
       "      <th>4</th>\n",
       "      <td>139.394878</td>\n",
       "      <td>35.763700</td>\n",
       "      <td>13.234921</td>\n",
       "      <td>0.026327</td>\n",
       "      <td>0.381271</td>\n",
       "      <td>POINT (139.3948783 35.76370003571429)</td>\n",
       "    </tr>\n",
       "  </tbody>\n",
       "</table>\n",
       "</div>"
      ],
      "text/plain": [
       "           px         py      price   station     tokyo  \\\n",
       "0  139.402984  35.767626  12.632913  0.017537  0.374249   \n",
       "1  139.407036  35.767626  12.238458  0.013571  0.370307   \n",
       "2  139.411089  35.767626  11.872609  0.009675  0.366367   \n",
       "3  139.439457  35.767626  11.668949  0.001584  0.338865   \n",
       "4  139.394878  35.763700  13.234921  0.026327  0.381271   \n",
       "\n",
       "                             Coordinates  \n",
       "0   POINT (139.4029835 35.7676260119048)  \n",
       "1   POINT (139.4070361 35.7676260119048)  \n",
       "2   POINT (139.4110887 35.7676260119048)  \n",
       "3   POINT (139.4394569 35.7676260119048)  \n",
       "4  POINT (139.3948783 35.76370003571429)  "
      ]
     },
     "execution_count": 49,
     "metadata": {},
     "output_type": "execute_result"
    }
   ],
   "source": [
    "mdat.head()"
   ]
  },
  {
   "cell_type": "code",
   "execution_count": 26,
   "metadata": {},
   "outputs": [
    {
     "data": {
      "text/plain": [
       "<matplotlib.axes._subplots.AxesSubplot at 0x1a26fb8438>"
      ]
     },
     "execution_count": 26,
     "metadata": {},
     "output_type": "execute_result"
    },
    {
     "data": {
      "image/png": "[encoded data removed]",
      "text/plain": [
       "<Figure size 432x288 with 1 Axes>"
      ]
     },
     "metadata": {
      "needs_background": "light"
     },
     "output_type": "display_data"
    }
   ],
   "source": [
    "gmdat.plot()"
   ]
  },
  {
   "cell_type": "code",
   "execution_count": 51,
   "metadata": {
    "lines_to_next_cell": 1
   },
   "outputs": [
    {
     "data": {
      "text/plain": [
       "array([11.53878428, 11.72724393, 11.91570357, 12.10416321, 12.29262286,\n",
       "       12.4810825 , 12.66954214, 12.85800179, 13.04646143, 13.23492107])"
      ]
     },
     "execution_count": 51,
     "metadata": {},
     "output_type": "execute_result"
    }
   ],
   "source": [
    "np.linspace(gmdat['price'].min(), gmdat['price'].max(), 10)"
   ]
  },
  {
   "cell_type": "code",
   "execution_count": 52,
   "metadata": {
    "lines_to_next_cell": 1
   },
   "outputs": [],
   "source": [
    "def set_rang(data, column, num):\n",
    "    max_val = data[column].max()\n",
    "    min_val = data[column].min()\n",
    "    rang = np.linspace(min_val, max_val, num=num)\n",
    "    return rang"
   ]
  },
  {
   "cell_type": "code",
   "execution_count": 53,
   "metadata": {},
   "outputs": [],
   "source": [
    "rang = set_rang(gmdat, 'price', 10)"
   ]
  },
  {
   "cell_type": "code",
   "execution_count": 54,
   "metadata": {},
   "outputs": [],
   "source": [
    "gmdat_list = []\n",
    "for i in range(0, len(rang)):\n",
    "    if i< len(rang)-1:\n",
    "        g = gmdat[(gmdat['price'] >= rang[i]) & (gmdat['price'] < rang[i+1])]\n",
    "    else:\n",
    "        g = gmdat[gmdat['price'] >= rang[i]]\n",
    "    gmdat_list.append(g)"
   ]
  },
  {
   "cell_type": "code",
   "execution_count": 55,
   "metadata": {
    "lines_to_next_cell": 0
   },
   "outputs": [],
   "source": [
    "color_list = [str(round(x,2)) for x in np.linspace(0.1, 0.9, len(rang))]"
   ]
  },
  {
   "cell_type": "code",
   "execution_count": null,
   "metadata": {
    "lines_to_next_cell": 2
   },
   "outputs": [],
   "source": [
    "fig = plt.figure(figsize=(12,12))\n",
    "ax = fig.add_subplot(1,1,1)\n",
    "for i in range(0, len(gmdat_list)):\n",
    "    gmdat_list[i].plot(ax=ax, color = color_list[i], marker='s', markersize = 170)\n",
    "ax.legend(['[{0}, {1})'.format(rang[i], rang[i+1]) for i in range(0, len(rang)-1)],loc='upper left')"
   ]
  },
  {
   "cell_type": "code",
   "execution_count": 59,
   "metadata": {
    "lines_to_next_cell": 1
   },
   "outputs": [],
   "source": [
    "def plot_kriging_res(gmdat, column, rang):\n",
    "    ''''\n",
    "    '''\n",
    "    color_list = [str(round(x,2)) for x in np.linspace(0.1, 0.9, len(rang))]\n",
    "    fig = plt.figure(figsize=(12,12))\n",
    "    ax = fig.add_subplot(1,1,1)\n",
    "    for i in range(0, len(rang)):\n",
    "        if i< len(rang)-1:\n",
    "            g = gmdat[(gmdat[column] >= rang[i]) & (gmdat[column] < rang[i+1])]\n",
    "        else:\n",
    "            g = gmdat[gmdat[column] >= rang[i]]\n",
    "        g.plot(ax=ax, color = color_list[i], marker='s', markersize=170)\n",
    "    ax.legend(['[{0}, {1})'.format(rang[i], rang[i+1]) for i in range(0, len(rang)-1)],loc='center left', bbox_to_anchor=(1, 0.5))\n",
    "\n",
    "    return fig"
   ]
  },
  {
   "cell_type": "code",
   "execution_count": 60,
   "metadata": {},
   "outputs": [
    {
     "data": {
      "image/png": "[encoded data removed]",
      "text/plain": [
       "<Figure size 864x864 with 1 Axes>"
      ]
     },
     "metadata": {
      "needs_background": "light"
     },
     "output_type": "display_data"
    }
   ],
   "source": [
    "res_fig = plot_kriging_res(gmdat, 'price', rang)"
   ]
  },
  {
   "cell_type": "code",
   "execution_count": 1,
   "metadata": {},
   "outputs": [
    {
     "ename": "NameError",
     "evalue": "name 'res_fig' is not defined",
     "output_type": "error",
     "traceback": [
      "\u001b[0;31m---------------------------------------------------------------------------\u001b[0m",
      "\u001b[0;31mNameError\u001b[0m                                 Traceback (most recent call last)",
      "\u001b[0;32m<ipython-input-1-a006af976052>\u001b[0m in \u001b[0;36m<module>\u001b[0;34m\u001b[0m\n\u001b[0;32m----> 1\u001b[0;31m \u001b[0mres_fig\u001b[0m\u001b[0;34m.\u001b[0m\u001b[0msavefig\u001b[0m\u001b[0;34m(\u001b[0m\u001b[0;34m'/Users/LOng/sengokulab/LDAT_LS_2019/data/dev/plot/kriging_res_plot.png'\u001b[0m\u001b[0;34m)\u001b[0m\u001b[0;34m\u001b[0m\u001b[0;34m\u001b[0m\u001b[0m\n\u001b[0m",
      "\u001b[0;31mNameError\u001b[0m: name 'res_fig' is not defined"
     ]
    }
   ],
   "source": [
    "res_fig.savefig('/Users/LOng/sengokulab/LDAT_LS_2019/data/dev/plot/kriging_res_plot.png')"
   ]
  },
  {
   "cell_type": "markdown",
   "metadata": {},
   "source": [
    "## 残差の2乗をプロットする\n",
    "期待二乗誤差?"
   ]
  },
  {
   "cell_type": "code",
   "execution_count": 61,
   "metadata": {},
   "outputs": [],
   "source": [
    "gmdat['sq_resid'] = gmodel.krige_residual(mlatlon)**2"
   ]
  },
  {
   "cell_type": "code",
   "execution_count": 62,
   "metadata": {},
   "outputs": [
    {
     "data": {
      "image/png": "[encoded data removed]",
      "text/plain": [
       "<Figure size 864x864 with 1 Axes>"
      ]
     },
     "metadata": {
      "needs_background": "light"
     },
     "output_type": "display_data"
    }
   ],
   "source": [
    "rang = set_rang(gmdat, 'sq_resid', 10)\n",
    "sq_resid_fig = plot_kriging_res(gmdat, 'sq_resid', rang)"
   ]
  },
  {
   "cell_type": "code",
   "execution_count": null,
   "metadata": {},
   "outputs": [],
   "source": [
    "sq_resid_fig.savefig('/Users/LOng/sengokulab/LDAT_LS_2019/data/dev/plot/kriging_resid_plot.png')"
   ]
  }
 ],
 "metadata": {
  "file_extension": ".py",
  "jupytext": {
   "cell_metadata_filter": "-all",
   "main_language": "python",
   "notebook_metadata_filter": "-all",
   "text_representation": {
    "extension": ".py",
    "format_name": "percent"
   }
  },
  "kernelspec": {
   "display_name": "Python 3",
   "language": "python",
   "name": "python3"
  },
  "language_info": {
   "codemirror_mode": {
    "name": "ipython",
    "version": 3
   },
   "file_extension": ".py",
   "mimetype": "text/x-python",
   "name": "python",
   "nbconvert_exporter": "python",
   "pygments_lexer": "ipython3",
   "version": "3.7.2"
  },
  "mimetype": "text/x-python",
  "name": "python",
  "npconvert_exporter": "python",
  "pygments_lexer": "ipython3",
  "version": 3
 },
 "nbformat": 4,
 "nbformat_minor": 2
}
