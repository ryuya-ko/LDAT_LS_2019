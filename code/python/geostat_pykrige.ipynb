{
 "cells": [
  {
   "cell_type": "code",
   "execution_count": 0,
   "metadata": {},
   "outputs": [],
   "source": [
    "# Change directory to VSCode workspace root so that relative path loads work correctly. Turn this addition off with the DataScience.changeDirOnImportExport setting\n",
    "import os\n",
    "try:\n",
    "\tos.chdir(os.path.join(os.getcwd(), '../..'))\n",
    "\tprint(os.getcwd())\n",
    "except:\n",
    "\tpass\n"
   ]
  },
  {
   "cell_type": "code",
   "execution_count": 1,
   "metadata": {},
   "outputs": [],
   "source": [
    "import folium\n",
    "import geopandas\n",
    "import matplotlib.pyplot as plt\n",
    "import numpy as np \n",
    "import pandas as pd\n",
    "import pykrige as pk\n"
   ]
  },
  {
   "cell_type": "code",
   "execution_count": 3,
   "metadata": {},
   "outputs": [],
   "source": [
    "dat = pd.read_csv('/Users/mfjkou/sengokuLab/study/LDAT_LS_2019/data/dev/csv/house_price_raw.csv')\n",
    "mdat = pd.read_csv('/Users/mfjkou/sengokuLab/study/LDAT_LS_2019/data/dev/csv/house_price_pred.csv')\n"
   ]
  },
  {
   "cell_type": "code",
   "execution_count": 4,
   "metadata": {},
   "outputs": [
    {
     "data": {
      "text/html": [
       "<div>\n",
       "<style scoped>\n",
       "    .dataframe tbody tr th:only-of-type {\n",
       "        vertical-align: middle;\n",
       "    }\n",
       "\n",
       "    .dataframe tbody tr th {\n",
       "        vertical-align: top;\n",
       "    }\n",
       "\n",
       "    .dataframe thead th {\n",
       "        text-align: right;\n",
       "    }\n",
       "</style>\n",
       "<table border=\"1\" class=\"dataframe\">\n",
       "  <thead>\n",
       "    <tr style=\"text-align: right;\">\n",
       "      <th></th>\n",
       "      <th>px</th>\n",
       "      <th>py</th>\n",
       "      <th>price</th>\n",
       "      <th>station</th>\n",
       "      <th>tokyo</th>\n",
       "    </tr>\n",
       "  </thead>\n",
       "  <tbody>\n",
       "    <tr>\n",
       "      <th>0</th>\n",
       "      <td>139.402984</td>\n",
       "      <td>35.767626</td>\n",
       "      <td>NaN</td>\n",
       "      <td>0.017537</td>\n",
       "      <td>0.374249</td>\n",
       "    </tr>\n",
       "    <tr>\n",
       "      <th>1</th>\n",
       "      <td>139.407036</td>\n",
       "      <td>35.767626</td>\n",
       "      <td>NaN</td>\n",
       "      <td>0.013571</td>\n",
       "      <td>0.370307</td>\n",
       "    </tr>\n",
       "    <tr>\n",
       "      <th>2</th>\n",
       "      <td>139.411089</td>\n",
       "      <td>35.767626</td>\n",
       "      <td>NaN</td>\n",
       "      <td>0.009675</td>\n",
       "      <td>0.366367</td>\n",
       "    </tr>\n",
       "    <tr>\n",
       "      <th>3</th>\n",
       "      <td>139.439457</td>\n",
       "      <td>35.767626</td>\n",
       "      <td>NaN</td>\n",
       "      <td>0.001584</td>\n",
       "      <td>0.338865</td>\n",
       "    </tr>\n",
       "    <tr>\n",
       "      <th>4</th>\n",
       "      <td>139.394878</td>\n",
       "      <td>35.763700</td>\n",
       "      <td>NaN</td>\n",
       "      <td>0.026327</td>\n",
       "      <td>0.381271</td>\n",
       "    </tr>\n",
       "  </tbody>\n",
       "</table>\n",
       "</div>"
      ],
      "text/plain": [
       "           px         py  price   station     tokyo\n",
       "0  139.402984  35.767626    NaN  0.017537  0.374249\n",
       "1  139.407036  35.767626    NaN  0.013571  0.370307\n",
       "2  139.411089  35.767626    NaN  0.009675  0.366367\n",
       "3  139.439457  35.767626    NaN  0.001584  0.338865\n",
       "4  139.394878  35.763700    NaN  0.026327  0.381271"
      ]
     },
     "execution_count": 4,
     "metadata": {},
     "output_type": "execute_result"
    }
   ],
   "source": [
    "mdat.head()"
   ]
  },
  {
   "cell_type": "markdown",
   "metadata": {},
   "source": [
    " ## バリオグラム推定"
   ]
  },
  {
   "cell_type": "markdown",
   "metadata": {},
   "source": [
    " ### バリオグラム雲\n",
    " - packageに実装なし\n",
    " - 別途調査・実装"
   ]
  },
  {
   "cell_type": "markdown",
   "metadata": {},
   "source": [
    " ### 経験バリオグラム"
   ]
  },
  {
   "cell_type": "markdown",
   "metadata": {},
   "source": [
    " ## Regression kriging\n",
    " - pykrige packageのRegression krigingはsklearnのモデルのみ受け取る\n",
    " - バリオグラム単体を表示・操作するクラスはなく, krigingクラスにvariogramの操作機能が包括されている"
   ]
  },
  {
   "cell_type": "code",
   "execution_count": 5,
   "metadata": {},
   "outputs": [],
   "source": [
    "from sklearn.linear_model import LinearRegression\n"
   ]
  },
  {
   "cell_type": "code",
   "execution_count": 6,
   "metadata": {},
   "outputs": [],
   "source": [
    "model = LinearRegression(fit_intercept=False)\n"
   ]
  },
  {
   "cell_type": "code",
   "execution_count": 7,
   "metadata": {},
   "outputs": [],
   "source": [
    "def transform_data(data, columns_latlon, columns_indep):\n",
    "    '''\n",
    "    Change the data format to use in kriging\n",
    "    Input: list of columns:latlon and independent variable\n",
    "    Output: values in np.array\n",
    "    '''\n",
    "    latlon = data[columns_latlon].values\n",
    "    indeps = data[columns_indep].values\n",
    "    return latlon, indeps\n"
   ]
  },
  {
   "cell_type": "code",
   "execution_count": 8,
   "metadata": {},
   "outputs": [],
   "source": [
    "latlon, prop = transform_data(dat, ['px', 'py'], ['station', 'tokyo'])\n",
    "mlatlon, mprop = transform_data(mdat, ['px', 'py'], ['station', 'tokyo'])"
   ]
  },
  {
   "cell_type": "code",
   "execution_count": 9,
   "metadata": {},
   "outputs": [],
   "source": [
    "latlon, prop = transform_data(dat, ['px', 'py'], ['station', 'tokyo'])\n",
    "mlatlon, mprop = transform_data(mdat, ['px', 'py'], ['station', 'tokyo'])\n",
    "y = dat['price'].apply(lambda x: np.log(x)).values"
   ]
  },
  {
   "cell_type": "code",
   "execution_count": 10,
   "metadata": {},
   "outputs": [
    {
     "data": {
      "text/plain": [
       "array([11.9381932 , 12.05524976, 12.28765263, 12.06104687, 12.01370075,\n",
       "       12.15477935, 12.14950229, 12.23076526, 12.4874851 , 12.41714362,\n",
       "       12.18075484, 12.01974307, 12.34147728, 12.03171926, 12.14950229,\n",
       "       12.23076526, 12.35879373, 12.13350195, 12.1388639 , 12.20607265,\n",
       "       11.81303006, 12.2010601 , 12.25486281, 12.33710091, 12.08390501,\n",
       "       12.3327053 , 11.91839057, 12.18075484, 12.30591798, 12.17561344,\n",
       "       12.44114477, 12.46071486, 12.15477935, 11.94470788, 12.35449265,\n",
       "       12.29682701, 12.14950229, 12.56723749, 12.60819885, 12.10625231,\n",
       "       12.16525065, 12.16525065, 12.60148742, 12.02574909, 12.00150548,\n",
       "       11.9381932 , 12.86876062, 12.23076526, 12.08390501, 12.00150548,\n",
       "       12.38002595, 11.71993963, 12.19602231, 12.63785506, 12.38002595,\n",
       "       12.00762171, 12.21602298, 11.89818787, 12.79107767, 12.02574909,\n",
       "       12.26904744, 12.18586994, 12.6791964 , 11.97035031, 12.40081672,\n",
       "       12.7628272 , 12.16525065, 11.9511804 , 12.39669301, 11.87756858,\n",
       "       12.5776362 , 11.95761129, 12.46843691, 12.16525065, 12.35449265,\n",
       "       12.17561344, 12.31492705, 12.56374709, 12.43718437, 12.6181823 ,\n",
       "       11.86358234, 12.06681058, 12.39669301, 12.33710091, 12.10625231,\n",
       "       11.98915964, 11.9381932 , 12.4049235 , 12.16002871, 12.25486281,\n",
       "       12.11724143, 12.23563145, 12.35017299, 12.00762171, 12.07823927,\n",
       "       12.06104687, 12.14950229, 12.1388639 , 12.25486281, 12.04941884,\n",
       "       12.31492705, 12.05524976, 12.54966235, 12.34583459, 12.14950229,\n",
       "       12.13350195, 12.29225034, 12.21106019, 12.36307639, 12.19095901,\n",
       "       12.17561344, 12.30138283, 12.04355372, 12.22587527, 12.07254125,\n",
       "       12.39255221, 12.12269104, 12.22587527, 12.23563145, 12.18075484,\n",
       "       12.3883942 , 12.06681058, 12.03765399, 12.1388639 , 11.9316358 ,\n",
       "       12.07823927, 11.86358234, 11.97035031])"
      ]
     },
     "execution_count": 10,
     "metadata": {},
     "output_type": "execute_result"
    }
   ],
   "source": [
    "y\n"
   ]
  },
  {
   "cell_type": "code",
   "execution_count": 11,
   "metadata": {},
   "outputs": [],
   "source": [
    "from pykrige.rk import RegressionKriging\n",
    "gmodel = RegressionKriging(regression_model=model,  variogram_model='exponential', nlags=15)\n"
   ]
  },
  {
   "cell_type": "code",
   "execution_count": 12,
   "metadata": {},
   "outputs": [
    {
     "name": "stdout",
     "output_type": "stream",
     "text": [
      "Finished learning regression model\n",
      "Finished kriging residuals\n"
     ]
    }
   ],
   "source": [
    "gmodel.fit(prop, latlon, y)\n"
   ]
  },
  {
   "cell_type": "code",
   "execution_count": 14,
   "metadata": {},
   "outputs": [
    {
     "name": "stdout",
     "output_type": "stream",
     "text": [
      "[12.63291266 12.23845812 11.87260946 11.6689488  13.23492107 12.87736253\n",
      " 12.66492093 12.26097668 11.88436102 11.62359781 11.53878428 11.58319791\n",
      " 11.80894766 11.89203102 11.90733777 11.81242483 11.97584795 11.73073961\n",
      " 11.74825965 11.78803024 11.91669121 12.0314618  11.97788051 11.96561484\n",
      " 11.97168956 11.8358395  11.87262235 11.89394267 12.05556529 11.9781703\n",
      " 11.94714832 11.99630178 11.93880805 12.04955993 11.96499049 11.94955143\n",
      " 11.94532416 11.99272049 11.99705217 11.99134327 12.05757367 12.09431199\n",
      " 12.1115346  11.95277379 11.97987771 12.04733982 12.0331345  11.98930763\n",
      " 12.07922454 12.07167762 12.07955801 12.07453368 12.18144358 12.06129242\n",
      " 12.10288681 12.21309819 12.23836073 12.17526537 12.19878952 12.23575655\n",
      " 12.16596551 12.13295504 12.61731533 12.12674875 12.16258422 12.26295404\n",
      " 12.3523282  12.30576674 12.30747109 12.26517632 12.20359111 12.19413337\n",
      " 12.77771802 12.41234934 12.13604063 12.12456389 12.24004112 12.39075863\n",
      " 12.36667458 12.19737808 12.25385783 12.3651574  12.42843661 12.39087629\n",
      " 12.31863922 12.29810835 12.2013733  12.12780488 12.60314085 12.27785367\n",
      " 11.95403308 11.94265999 12.06110534 12.25309946 12.43110063 12.42480776\n",
      " 12.2831901  12.15305397 12.04498074 12.05858811 12.13805798 12.26016788\n",
      " 12.28195157 12.2309815  12.1806193  12.3642603  12.47154396 12.30098441\n",
      " 12.5119811  12.30213852 12.01735659 11.87592116 11.93310125 12.17915825\n",
      " 12.28447767 12.32597691 12.23900604 12.06392481 11.93367166 12.00372669\n",
      " 12.16677421 12.32474759 12.37503029 12.39820283 12.39149508 12.46710947\n",
      " 12.50702244 12.12849948 12.17831435 12.15184514 12.0655241  11.98673891\n",
      " 12.02110321 12.15629471 12.28977848 12.34135203 12.34212744 12.27559848\n",
      " 12.41683182 12.487454   12.29866516 12.20797275 12.16358519 12.1471608\n",
      " 12.08645591 12.15659094 12.23721989 12.32869925 12.36054907 12.33476204\n",
      " 12.25829343 12.33700508 12.4125677  12.42939349 12.32281508 12.24982754\n",
      " 12.2406067  12.31353936 12.35289542 12.42306776 12.31264928 12.29602832\n",
      " 12.32908323 12.27118454 12.33566783 12.34994423 12.41400311 12.45002456\n",
      " 12.37255299 12.27219711 12.18473132 12.30197963 12.38052349 12.2695011\n",
      " 12.20050789 12.27382629 12.38432062 12.44215424 12.43380667 12.10272989\n",
      " 12.26077652 12.44602395 12.36025123 12.2521149  12.41107841 12.59968866\n",
      " 12.54561177 12.47490508 12.48286948 12.04502019 12.25115924 12.53866118\n",
      " 12.50683062 12.60692492 12.64574083 12.7659545  12.73102778 12.55995284\n",
      " 12.49689328 12.21203894 12.40763103 12.60421546 12.58575603 12.50675438\n",
      " 12.57311324 12.73790536 12.65741339 12.23427521 12.30659846 12.52049224\n",
      " 12.65954043 12.68190159 12.61529063 12.57479366 12.78406724 12.62906711\n",
      " 12.56440084 12.54686025 12.26812098 12.29924215 12.55116305 12.60617748\n",
      " 12.69332605 12.8076927  12.73886938 12.8064961  12.56184411 12.56639595\n",
      " 12.21931501 12.42904468 12.3209964  12.22617601 12.25556789 12.48623521\n",
      " 12.52523068 12.51325791 12.52705816 12.70833657 12.75351732 12.61643728\n",
      " 12.06223116 12.2498393  12.22809669 12.23749335 12.27120308 12.41387348\n",
      " 12.47320921 12.4207525  12.4746537  12.62205177 12.73665765 12.00946821\n",
      " 12.12156108 12.14429474 12.20742187 12.23258819 12.32387695 12.31192968\n",
      " 12.16977385 12.23248072 12.42098188 12.59190086 12.22071651 12.19172052\n",
      " 12.15676869 12.15799463 12.26307893 12.37496851 12.17350576 11.97812805\n",
      " 12.01983286 12.26743938 12.32070337 12.37019179 12.16581164 12.38310425\n",
      " 12.34757641 12.26726096 12.25895411 12.31398773 12.34484573 12.14264668\n",
      " 12.02374296 12.11876514 12.17386428 12.04518419 12.18312992 12.3711889\n",
      " 12.3932915  12.36437348 12.42839639 12.34449482 12.37539892 12.35165721\n",
      " 12.19705889 12.13163442 12.24876968 12.15945413 11.99688706 12.12199841\n",
      " 12.40696588 12.56565226 12.46666011 12.36774203 12.25590923 12.27495676\n",
      " 12.35587084 12.34272992 12.34188695 12.18428046 12.00523355 12.00065715\n",
      " 12.0534648  12.17607928 12.26712003 12.48172803 12.48896506 12.20647307\n",
      " 12.44318635 12.4370256  12.26522256 12.12446718 12.25885562 12.25043883\n",
      " 12.17874627 12.20994088 12.19378566 12.03890418 11.91834927 11.83157383\n",
      " 11.99976851 12.28617706 12.35040426 12.3330269  12.41900553 12.21514835\n",
      " 12.29957396 12.37019981 12.29683242 12.21936487 12.14306808 12.35140296\n",
      " 12.31154544 12.11662767 12.08840612 12.14273912 12.0017109  11.96827297\n",
      " 12.00223489 11.97422515 12.07972079 12.18132683 12.07982412 12.32250792\n",
      " 12.50247236 12.08357292 12.14623971 12.27628462 12.22117819 12.30733423\n",
      " 12.25241321 12.31386944 12.16726388 11.98631662 12.00493216 11.97872751\n",
      " 12.00966618 11.95321143 12.03110121 12.06789164 12.00833579 11.98953041\n",
      " 12.01932247 12.24148295 12.4587982  12.34543781 12.31010909 12.37577197\n",
      " 12.17841396 12.05047433 12.00642364 12.09654224 12.06073257 12.03553337\n",
      " 12.1705642  12.24338199 11.99320036 11.95271182 11.89762434 11.77915216\n",
      " 11.87120435 12.09840244 12.09719334 12.13543627 12.0690366  11.91556742\n",
      " 11.96249316 12.20871596 12.46834037 12.38487479 12.2477735  12.31156081\n",
      " 12.25877432 12.03185865 11.88996136 11.82690774 11.95816573 12.04135574\n",
      " 12.03845819 11.87785188 11.96440856 11.95458442 11.92730384 11.99717108\n",
      " 11.84631704 11.77462287 11.91608551 11.99479234 12.14240133 12.13253122\n",
      " 12.04253506 12.0235372  12.16159961 12.24658486 12.27161953 12.32002225\n",
      " 12.22013803 12.11615525 12.13141763 11.96568979 11.90059647 11.92319013\n",
      " 11.86853365 12.0542805  12.04476445 11.94203831 12.06316009 12.10210897\n",
      " 12.16101218 12.15475768 12.06103348 12.18973261 12.27629376 12.20931204\n",
      " 12.03778331 12.07428145 12.03562183 11.97014015 12.03314041 12.07977266\n",
      " 12.14386465 12.06992122 12.15868568 12.25270558 12.20064493 12.01431155\n",
      " 11.95058222 11.94022018 11.8911163  12.11257893 12.25283172 12.15254634\n",
      " 12.21307699 12.19228817 12.1547059  12.02107615 11.908686   11.91001617\n",
      " 11.78768958 12.04863091 12.14689332 12.30107152 12.21574543 12.23343517\n",
      " 12.04159205 12.1442115  12.08213569 11.99541958 11.90464431 12.07217396\n",
      " 11.81898348 11.83600126 11.98485271 12.18473031 12.14433601 12.1087327\n",
      " 12.0326915  12.04576339 12.10178781 12.05396721 11.92059495 12.33310287\n",
      " 12.26268303 12.04681522 11.79663703 11.82085029 11.93979918 12.10170734\n",
      " 12.13506717 12.05651899 12.02303745 12.05710575 12.11199192 11.84549885\n",
      " 12.16498081 12.13730896 12.16424875 12.15791727 11.96008374 11.92051584\n",
      " 11.96111512 12.08745035 12.13915231 12.04382315 12.04967642 12.09821873\n",
      " 12.45497489 12.19836813 12.15199714 12.16407689 12.2132386  12.12449935\n",
      " 12.01908154 12.01702133 12.07836509 12.2062725  12.13413792 12.13945032\n",
      " 12.83501537 12.83385565 12.57932025 12.29968615 12.28486414 12.13966976\n",
      " 12.09865934 12.14987663 12.31157262 12.2862334  12.35654158 12.34344652]\n"
     ]
    }
   ],
   "source": [
    "my = gmodel.predict(mprop, mlatlon)\n",
    "print(my)\n"
   ]
  },
  {
   "cell_type": "code",
   "execution_count": 16,
   "metadata": {},
   "outputs": [
    {
     "name": "stdout",
     "output_type": "stream",
     "text": [
      "Finished learning regression model\n",
      "Finished kriging residuals\n",
      "Finished learning regression model\n",
      "Finished kriging residuals\n",
      "Finished learning regression model\n",
      "Finished kriging residuals\n",
      "Finished learning regression model\n",
      "Finished kriging residuals\n",
      "Finished learning regression model\n",
      "Finished kriging residuals\n",
      "Finished learning regression model\n",
      "Finished kriging residuals\n",
      "Finished learning regression model\n",
      "Finished kriging residuals\n",
      "Finished learning regression model\n",
      "Finished kriging residuals\n",
      "Finished learning regression model\n",
      "Finished kriging residuals\n",
      "Finished learning regression model\n",
      "Finished kriging residuals\n",
      "Finished learning regression model\n",
      "Finished kriging residuals\n",
      "Finished learning regression model\n",
      "Finished kriging residuals\n",
      "Finished learning regression model\n",
      "Finished kriging residuals\n",
      "Finished learning regression model\n",
      "Finished kriging residuals\n",
      "Finished learning regression model\n",
      "Finished kriging residuals\n",
      "Finished learning regression model\n",
      "Finished kriging residuals\n",
      "Finished learning regression model\n",
      "Finished kriging residuals\n",
      "Finished learning regression model\n",
      "Finished kriging residuals\n",
      "Finished learning regression model\n",
      "Finished kriging residuals\n",
      "Finished learning regression model\n",
      "Finished kriging residuals\n",
      "Finished learning regression model\n",
      "Finished kriging residuals\n",
      "Finished learning regression model\n",
      "Finished kriging residuals\n",
      "Finished learning regression model\n",
      "Finished kriging residuals\n",
      "Finished learning regression model\n",
      "Finished kriging residuals\n",
      "Finished learning regression model\n",
      "Finished kriging residuals\n",
      "Finished learning regression model\n",
      "Finished kriging residuals\n",
      "Finished learning regression model\n",
      "Finished kriging residuals\n",
      "Finished learning regression model\n",
      "Finished kriging residuals\n",
      "Finished learning regression model\n",
      "Finished kriging residuals\n",
      "Finished learning regression model\n",
      "Finished kriging residuals\n",
      "Finished learning regression model\n",
      "Finished kriging residuals\n",
      "Finished learning regression model\n",
      "Finished kriging residuals\n",
      "Finished learning regression model\n",
      "Finished kriging residuals\n",
      "Finished learning regression model\n",
      "Finished kriging residuals\n",
      "Finished learning regression model\n",
      "Finished kriging residuals\n",
      "Finished learning regression model\n",
      "Finished kriging residuals\n",
      "Finished learning regression model\n",
      "Finished kriging residuals\n",
      "Finished learning regression model\n",
      "Finished kriging residuals\n",
      "Finished learning regression model\n",
      "Finished kriging residuals\n",
      "Finished learning regression model\n",
      "Finished kriging residuals\n",
      "Finished learning regression model\n",
      "Finished kriging residuals\n",
      "Finished learning regression model\n",
      "Finished kriging residuals\n",
      "Finished learning regression model\n",
      "Finished kriging residuals\n",
      "Finished learning regression model\n",
      "Finished kriging residuals\n",
      "Finished learning regression model\n",
      "Finished kriging residuals\n",
      "Finished learning regression model\n",
      "Finished kriging residuals\n",
      "Finished learning regression model\n",
      "Finished kriging residuals\n",
      "Finished learning regression model\n",
      "Finished kriging residuals\n",
      "Finished learning regression model\n",
      "Finished kriging residuals\n",
      "Finished learning regression model\n",
      "Finished kriging residuals\n",
      "Finished learning regression model\n",
      "Finished kriging residuals\n",
      "Finished learning regression model\n",
      "Finished kriging residuals\n",
      "Finished learning regression model\n",
      "Finished kriging residuals\n",
      "Finished learning regression model\n",
      "Finished kriging residuals\n",
      "Finished learning regression model\n",
      "Finished kriging residuals\n",
      "Finished learning regression model\n",
      "Finished kriging residuals\n",
      "Finished learning regression model\n",
      "Finished kriging residuals\n",
      "Finished learning regression model\n",
      "Finished kriging residuals\n",
      "Finished learning regression model\n",
      "Finished kriging residuals\n",
      "Finished learning regression model\n",
      "Finished kriging residuals\n",
      "Finished learning regression model\n",
      "Finished kriging residuals\n",
      "Finished learning regression model\n",
      "Finished kriging residuals\n",
      "Finished learning regression model\n",
      "Finished kriging residuals\n",
      "Finished learning regression model\n",
      "Finished kriging residuals\n",
      "Finished learning regression model\n",
      "Finished kriging residuals\n",
      "Finished learning regression model\n",
      "Finished kriging residuals\n",
      "Finished learning regression model\n",
      "Finished kriging residuals\n",
      "Finished learning regression model\n",
      "Finished kriging residuals\n",
      "Finished learning regression model\n",
      "Finished kriging residuals\n",
      "Finished learning regression model\n",
      "Finished kriging residuals\n",
      "Finished learning regression model\n",
      "Finished kriging residuals\n",
      "Finished learning regression model\n",
      "Finished kriging residuals\n",
      "Finished learning regression model\n",
      "Finished kriging residuals\n",
      "Finished learning regression model\n",
      "Finished kriging residuals\n",
      "Finished learning regression model\n",
      "Finished kriging residuals\n",
      "Finished learning regression model\n",
      "Finished kriging residuals\n",
      "Finished learning regression model\n",
      "Finished kriging residuals\n",
      "Finished learning regression model\n",
      "Finished kriging residuals\n",
      "Finished learning regression model\n",
      "Finished kriging residuals\n",
      "Finished learning regression model\n",
      "Finished kriging residuals\n",
      "Finished learning regression model\n",
      "Finished kriging residuals\n",
      "Finished learning regression model\n",
      "Finished kriging residuals\n",
      "Finished learning regression model\n",
      "Finished kriging residuals\n",
      "Finished learning regression model\n",
      "Finished kriging residuals\n",
      "Finished learning regression model\n",
      "Finished kriging residuals\n",
      "Finished learning regression model\n",
      "Finished kriging residuals\n",
      "Finished learning regression model\n",
      "Finished kriging residuals\n",
      "Finished learning regression model\n",
      "Finished kriging residuals\n",
      "Finished learning regression model\n",
      "Finished kriging residuals\n",
      "Finished learning regression model\n",
      "Finished kriging residuals\n",
      "Finished learning regression model\n",
      "Finished kriging residuals\n",
      "Finished learning regression model\n",
      "Finished kriging residuals\n",
      "Finished learning regression model\n",
      "Finished kriging residuals\n",
      "Finished learning regression model\n",
      "Finished kriging residuals\n",
      "Finished learning regression model\n",
      "Finished kriging residuals\n",
      "Finished learning regression model\n",
      "Finished kriging residuals\n",
      "Finished learning regression model\n",
      "Finished kriging residuals\n",
      "Finished learning regression model\n",
      "Finished kriging residuals\n",
      "Finished learning regression model\n",
      "Finished kriging residuals\n",
      "Finished learning regression model\n",
      "Finished kriging residuals\n",
      "Finished learning regression model\n",
      "Finished kriging residuals\n",
      "Finished learning regression model\n",
      "Finished kriging residuals\n",
      "Finished learning regression model\n",
      "Finished kriging residuals\n",
      "Finished learning regression model\n",
      "Finished kriging residuals\n",
      "Finished learning regression model\n",
      "Finished kriging residuals\n",
      "Finished learning regression model\n",
      "Finished kriging residuals\n",
      "Finished learning regression model\n",
      "Finished kriging residuals\n",
      "Finished learning regression model\n",
      "Finished kriging residuals\n",
      "Finished learning regression model\n",
      "Finished kriging residuals\n",
      "Finished learning regression model\n",
      "Finished kriging residuals\n",
      "Finished learning regression model\n",
      "Finished kriging residuals\n",
      "Finished learning regression model\n",
      "Finished kriging residuals\n",
      "Finished learning regression model\n",
      "Finished kriging residuals\n",
      "Finished learning regression model\n",
      "Finished kriging residuals\n",
      "Finished learning regression model\n",
      "Finished kriging residuals\n",
      "Finished learning regression model\n",
      "Finished kriging residuals\n",
      "Finished learning regression model\n",
      "Finished kriging residuals\n",
      "Finished learning regression model\n",
      "Finished kriging residuals\n",
      "Finished learning regression model\n",
      "Finished kriging residuals\n",
      "Finished learning regression model\n",
      "Finished kriging residuals\n",
      "Finished learning regression model\n",
      "Finished kriging residuals\n",
      "Finished learning regression model\n",
      "Finished kriging residuals\n",
      "Finished learning regression model\n",
      "Finished kriging residuals\n",
      "Finished learning regression model\n",
      "Finished kriging residuals\n",
      "Finished learning regression model\n",
      "Finished kriging residuals\n",
      "Finished learning regression model\n",
      "Finished kriging residuals\n",
      "Finished learning regression model\n",
      "Finished kriging residuals\n",
      "Finished learning regression model\n",
      "Finished kriging residuals\n"
     ]
    }
   ],
   "source": [
    "# LOO cross validation\n",
    "pred_list = []\n",
    "for i in range(0,len(dat)):\n",
    "    dsub = dat.drop(i)\n",
    "    msub = dat.iloc[i:i+1, :]\n",
    "\n",
    "    dprop = dsub[['station', 'tokyo']].values\n",
    "    dlatlon = dsub[['px', 'py']].values\n",
    "    dy = dsub['price'].apply(lambda x: np.log(x)).values\n",
    "\n",
    "    m_prop = msub[['station', 'tokyo']].values\n",
    "    m_latlon = msub[['px', 'py']].values\n",
    "    gmodel.fit(dprop, dlatlon, dy)\n",
    "    pred = gmodel.predict(m_prop, m_latlon)\n",
    "    pred_list.append(pred)\n"
   ]
  },
  {
   "cell_type": "code",
   "execution_count": 17,
   "metadata": {},
   "outputs": [
    {
     "data": {
      "text/plain": [
       "128"
      ]
     },
     "execution_count": 17,
     "metadata": {},
     "output_type": "execute_result"
    }
   ],
   "source": [
    "len(pred_list)\n"
   ]
  },
  {
   "cell_type": "code",
   "execution_count": 77,
   "metadata": {},
   "outputs": [
    {
     "data": {
      "image/png": "[encoded data removed]",
      "text/plain": [
       "<Figure size 432x288 with 1 Axes>"
      ]
     },
     "metadata": {
      "needs_background": "light"
     },
     "output_type": "display_data"
    }
   ],
   "source": [
    "plt.scatter(y, pred_list)\n",
    "plt.ylim = (11.8, 12.8)\n",
    "plt.savefig('/Users/mfjkou/sengokuLab/study/LDAT_LS_2019/data/dev/plot/res_pykrige.png')\n",
    "#Rよりも精度が低い. なぜ?"
   ]
  },
  {
   "cell_type": "code",
   "execution_count": 19,
   "metadata": {},
   "outputs": [],
   "source": [
    "mdat['price'] = my\n"
   ]
  },
  {
   "cell_type": "code",
   "execution_count": 20,
   "metadata": {},
   "outputs": [
    {
     "data": {
      "text/html": [
       "<div>\n",
       "<style scoped>\n",
       "    .dataframe tbody tr th:only-of-type {\n",
       "        vertical-align: middle;\n",
       "    }\n",
       "\n",
       "    .dataframe tbody tr th {\n",
       "        vertical-align: top;\n",
       "    }\n",
       "\n",
       "    .dataframe thead th {\n",
       "        text-align: right;\n",
       "    }\n",
       "</style>\n",
       "<table border=\"1\" class=\"dataframe\">\n",
       "  <thead>\n",
       "    <tr style=\"text-align: right;\">\n",
       "      <th></th>\n",
       "      <th>px</th>\n",
       "      <th>py</th>\n",
       "      <th>price</th>\n",
       "      <th>station</th>\n",
       "      <th>tokyo</th>\n",
       "    </tr>\n",
       "  </thead>\n",
       "  <tbody>\n",
       "    <tr>\n",
       "      <th>0</th>\n",
       "      <td>139.402984</td>\n",
       "      <td>35.767626</td>\n",
       "      <td>12.632913</td>\n",
       "      <td>0.017537</td>\n",
       "      <td>0.374249</td>\n",
       "    </tr>\n",
       "    <tr>\n",
       "      <th>1</th>\n",
       "      <td>139.407036</td>\n",
       "      <td>35.767626</td>\n",
       "      <td>12.238458</td>\n",
       "      <td>0.013571</td>\n",
       "      <td>0.370307</td>\n",
       "    </tr>\n",
       "    <tr>\n",
       "      <th>2</th>\n",
       "      <td>139.411089</td>\n",
       "      <td>35.767626</td>\n",
       "      <td>11.872609</td>\n",
       "      <td>0.009675</td>\n",
       "      <td>0.366367</td>\n",
       "    </tr>\n",
       "    <tr>\n",
       "      <th>3</th>\n",
       "      <td>139.439457</td>\n",
       "      <td>35.767626</td>\n",
       "      <td>11.668949</td>\n",
       "      <td>0.001584</td>\n",
       "      <td>0.338865</td>\n",
       "    </tr>\n",
       "    <tr>\n",
       "      <th>4</th>\n",
       "      <td>139.394878</td>\n",
       "      <td>35.763700</td>\n",
       "      <td>13.234921</td>\n",
       "      <td>0.026327</td>\n",
       "      <td>0.381271</td>\n",
       "    </tr>\n",
       "  </tbody>\n",
       "</table>\n",
       "</div>"
      ],
      "text/plain": [
       "           px         py      price   station     tokyo\n",
       "0  139.402984  35.767626  12.632913  0.017537  0.374249\n",
       "1  139.407036  35.767626  12.238458  0.013571  0.370307\n",
       "2  139.411089  35.767626  11.872609  0.009675  0.366367\n",
       "3  139.439457  35.767626  11.668949  0.001584  0.338865\n",
       "4  139.394878  35.763700  13.234921  0.026327  0.381271"
      ]
     },
     "execution_count": 20,
     "metadata": {},
     "output_type": "execute_result"
    }
   ],
   "source": [
    "mdat.head()\n",
    "\n"
   ]
  },
  {
   "cell_type": "code",
   "execution_count": 21,
   "metadata": {},
   "outputs": [],
   "source": [
    "import folium\n",
    "import geopandas\n",
    "import matplotlib.pyplot as plt\n",
    "import numpy as np \n",
    "import pandas as pd\n",
    "import pykrige as pk\n",
    "\n",
    "from shapely.geometry import Point\n"
   ]
  },
  {
   "cell_type": "code",
   "execution_count": 25,
   "metadata": {},
   "outputs": [],
   "source": [
    "# geopandas型にする\n",
    "mdat['Coordinates'] = list(zip(mdat.px, mdat.py))\n",
    "mdat['Coordinates'] = mdat['Coordinates'].apply(Point)"
   ]
  },
  {
   "cell_type": "code",
   "execution_count": 23,
   "metadata": {
    "scrolled": true
   },
   "outputs": [
    {
     "data": {
      "text/html": [
       "<div>\n",
       "<style scoped>\n",
       "    .dataframe tbody tr th:only-of-type {\n",
       "        vertical-align: middle;\n",
       "    }\n",
       "\n",
       "    .dataframe tbody tr th {\n",
       "        vertical-align: top;\n",
       "    }\n",
       "\n",
       "    .dataframe thead th {\n",
       "        text-align: right;\n",
       "    }\n",
       "</style>\n",
       "<table border=\"1\" class=\"dataframe\">\n",
       "  <thead>\n",
       "    <tr style=\"text-align: right;\">\n",
       "      <th></th>\n",
       "      <th>px</th>\n",
       "      <th>py</th>\n",
       "      <th>price</th>\n",
       "      <th>station</th>\n",
       "      <th>tokyo</th>\n",
       "      <th>Coordinates</th>\n",
       "    </tr>\n",
       "  </thead>\n",
       "  <tbody>\n",
       "    <tr>\n",
       "      <th>0</th>\n",
       "      <td>139.402984</td>\n",
       "      <td>35.767626</td>\n",
       "      <td>12.632913</td>\n",
       "      <td>0.017537</td>\n",
       "      <td>0.374249</td>\n",
       "      <td>POINT (139.4029835 35.7676260119048)</td>\n",
       "    </tr>\n",
       "    <tr>\n",
       "      <th>1</th>\n",
       "      <td>139.407036</td>\n",
       "      <td>35.767626</td>\n",
       "      <td>12.238458</td>\n",
       "      <td>0.013571</td>\n",
       "      <td>0.370307</td>\n",
       "      <td>POINT (139.4070361 35.7676260119048)</td>\n",
       "    </tr>\n",
       "    <tr>\n",
       "      <th>2</th>\n",
       "      <td>139.411089</td>\n",
       "      <td>35.767626</td>\n",
       "      <td>11.872609</td>\n",
       "      <td>0.009675</td>\n",
       "      <td>0.366367</td>\n",
       "      <td>POINT (139.4110887 35.7676260119048)</td>\n",
       "    </tr>\n",
       "    <tr>\n",
       "      <th>3</th>\n",
       "      <td>139.439457</td>\n",
       "      <td>35.767626</td>\n",
       "      <td>11.668949</td>\n",
       "      <td>0.001584</td>\n",
       "      <td>0.338865</td>\n",
       "      <td>POINT (139.4394569 35.7676260119048)</td>\n",
       "    </tr>\n",
       "    <tr>\n",
       "      <th>4</th>\n",
       "      <td>139.394878</td>\n",
       "      <td>35.763700</td>\n",
       "      <td>13.234921</td>\n",
       "      <td>0.026327</td>\n",
       "      <td>0.381271</td>\n",
       "      <td>POINT (139.3948783 35.76370003571429)</td>\n",
       "    </tr>\n",
       "  </tbody>\n",
       "</table>\n",
       "</div>"
      ],
      "text/plain": [
       "           px         py      price   station     tokyo  \\\n",
       "0  139.402984  35.767626  12.632913  0.017537  0.374249   \n",
       "1  139.407036  35.767626  12.238458  0.013571  0.370307   \n",
       "2  139.411089  35.767626  11.872609  0.009675  0.366367   \n",
       "3  139.439457  35.767626  11.668949  0.001584  0.338865   \n",
       "4  139.394878  35.763700  13.234921  0.026327  0.381271   \n",
       "\n",
       "                             Coordinates  \n",
       "0   POINT (139.4029835 35.7676260119048)  \n",
       "1   POINT (139.4070361 35.7676260119048)  \n",
       "2   POINT (139.4110887 35.7676260119048)  \n",
       "3   POINT (139.4394569 35.7676260119048)  \n",
       "4  POINT (139.3948783 35.76370003571429)  "
      ]
     },
     "execution_count": 23,
     "metadata": {},
     "output_type": "execute_result"
    }
   ],
   "source": [
    "mdat.head()"
   ]
  },
  {
   "cell_type": "code",
   "execution_count": 24,
   "metadata": {},
   "outputs": [],
   "source": [
    "gmdat = geopandas.GeoDataFrame(mdat, geometry='Coordinates')\n"
   ]
  },
  {
   "cell_type": "code",
   "execution_count": 25,
   "metadata": {},
   "outputs": [
    {
     "data": {
      "text/html": [
       "<div>\n",
       "<style scoped>\n",
       "    .dataframe tbody tr th:only-of-type {\n",
       "        vertical-align: middle;\n",
       "    }\n",
       "\n",
       "    .dataframe tbody tr th {\n",
       "        vertical-align: top;\n",
       "    }\n",
       "\n",
       "    .dataframe thead th {\n",
       "        text-align: right;\n",
       "    }\n",
       "</style>\n",
       "<table border=\"1\" class=\"dataframe\">\n",
       "  <thead>\n",
       "    <tr style=\"text-align: right;\">\n",
       "      <th></th>\n",
       "      <th>px</th>\n",
       "      <th>py</th>\n",
       "      <th>price</th>\n",
       "      <th>station</th>\n",
       "      <th>tokyo</th>\n",
       "      <th>Coordinates</th>\n",
       "    </tr>\n",
       "  </thead>\n",
       "  <tbody>\n",
       "    <tr>\n",
       "      <th>0</th>\n",
       "      <td>139.402984</td>\n",
       "      <td>35.767626</td>\n",
       "      <td>12.632913</td>\n",
       "      <td>0.017537</td>\n",
       "      <td>0.374249</td>\n",
       "      <td>POINT (139.4029835 35.7676260119048)</td>\n",
       "    </tr>\n",
       "    <tr>\n",
       "      <th>1</th>\n",
       "      <td>139.407036</td>\n",
       "      <td>35.767626</td>\n",
       "      <td>12.238458</td>\n",
       "      <td>0.013571</td>\n",
       "      <td>0.370307</td>\n",
       "      <td>POINT (139.4070361 35.7676260119048)</td>\n",
       "    </tr>\n",
       "    <tr>\n",
       "      <th>2</th>\n",
       "      <td>139.411089</td>\n",
       "      <td>35.767626</td>\n",
       "      <td>11.872609</td>\n",
       "      <td>0.009675</td>\n",
       "      <td>0.366367</td>\n",
       "      <td>POINT (139.4110887 35.7676260119048)</td>\n",
       "    </tr>\n",
       "    <tr>\n",
       "      <th>3</th>\n",
       "      <td>139.439457</td>\n",
       "      <td>35.767626</td>\n",
       "      <td>11.668949</td>\n",
       "      <td>0.001584</td>\n",
       "      <td>0.338865</td>\n",
       "      <td>POINT (139.4394569 35.7676260119048)</td>\n",
       "    </tr>\n",
       "    <tr>\n",
       "      <th>4</th>\n",
       "      <td>139.394878</td>\n",
       "      <td>35.763700</td>\n",
       "      <td>13.234921</td>\n",
       "      <td>0.026327</td>\n",
       "      <td>0.381271</td>\n",
       "      <td>POINT (139.3948783 35.76370003571429)</td>\n",
       "    </tr>\n",
       "  </tbody>\n",
       "</table>\n",
       "</div>"
      ],
      "text/plain": [
       "           px         py      price   station     tokyo  \\\n",
       "0  139.402984  35.767626  12.632913  0.017537  0.374249   \n",
       "1  139.407036  35.767626  12.238458  0.013571  0.370307   \n",
       "2  139.411089  35.767626  11.872609  0.009675  0.366367   \n",
       "3  139.439457  35.767626  11.668949  0.001584  0.338865   \n",
       "4  139.394878  35.763700  13.234921  0.026327  0.381271   \n",
       "\n",
       "                             Coordinates  \n",
       "0   POINT (139.4029835 35.7676260119048)  \n",
       "1   POINT (139.4070361 35.7676260119048)  \n",
       "2   POINT (139.4110887 35.7676260119048)  \n",
       "3   POINT (139.4394569 35.7676260119048)  \n",
       "4  POINT (139.3948783 35.76370003571429)  "
      ]
     },
     "execution_count": 25,
     "metadata": {},
     "output_type": "execute_result"
    }
   ],
   "source": [
    "gmdat.head()"
   ]
  },
  {
   "cell_type": "code",
   "execution_count": 26,
   "metadata": {},
   "outputs": [
    {
     "data": {
      "text/plain": [
       "<matplotlib.axes._subplots.AxesSubplot at 0x1a26fb8438>"
      ]
     },
     "execution_count": 26,
     "metadata": {},
     "output_type": "execute_result"
    },
    {
     "data": {
      "image/png": "[encoded data removed]",
      "text/plain": [
       "<Figure size 432x288 with 1 Axes>"
      ]
     },
     "metadata": {
      "needs_background": "light"
     },
     "output_type": "display_data"
    }
   ],
   "source": [
    "gmdat.plot()"
   ]
  },
  {
   "cell_type": "code",
   "execution_count": 27,
   "metadata": {},
   "outputs": [
    {
     "data": {
      "text/plain": [
       "0      12.632913\n",
       "1      12.238458\n",
       "2      11.872609\n",
       "3      11.668949\n",
       "4      13.234921\n",
       "5      12.877363\n",
       "6      12.664921\n",
       "7      12.260977\n",
       "8      11.884361\n",
       "9      11.623598\n",
       "10     11.538784\n",
       "11     11.583198\n",
       "12     11.808948\n",
       "13     11.892031\n",
       "14     11.907338\n",
       "15     11.812425\n",
       "16     11.975848\n",
       "17     11.730740\n",
       "18     11.748260\n",
       "19     11.788030\n",
       "20     11.916691\n",
       "21     12.031462\n",
       "22     11.977881\n",
       "23     11.965615\n",
       "24     11.971690\n",
       "25     11.835839\n",
       "26     11.872622\n",
       "27     11.893943\n",
       "28     12.055565\n",
       "29     11.978170\n",
       "         ...    \n",
       "510    11.961115\n",
       "511    12.087450\n",
       "512    12.139152\n",
       "513    12.043823\n",
       "514    12.049676\n",
       "515    12.098219\n",
       "516    12.454975\n",
       "517    12.198368\n",
       "518    12.151997\n",
       "519    12.164077\n",
       "520    12.213239\n",
       "521    12.124499\n",
       "522    12.019082\n",
       "523    12.017021\n",
       "524    12.078365\n",
       "525    12.206272\n",
       "526    12.134138\n",
       "527    12.139450\n",
       "528    12.835015\n",
       "529    12.833856\n",
       "530    12.579320\n",
       "531    12.299686\n",
       "532    12.284864\n",
       "533    12.139670\n",
       "534    12.098659\n",
       "535    12.149877\n",
       "536    12.311573\n",
       "537    12.286233\n",
       "538    12.356542\n",
       "539    12.343447\n",
       "Name: price, Length: 540, dtype: float64"
      ]
     },
     "execution_count": 27,
     "metadata": {},
     "output_type": "execute_result"
    }
   ],
   "source": [
    "gmdat.price"
   ]
  },
  {
   "cell_type": "code",
   "execution_count": 28,
   "metadata": {},
   "outputs": [
    {
     "data": {
      "text/plain": [
       "count    540.000000\n",
       "mean      12.206771\n",
       "std        0.225002\n",
       "min       11.538784\n",
       "25%       12.045619\n",
       "50%       12.192004\n",
       "75%       12.338092\n",
       "max       13.234921\n",
       "Name: price, dtype: float64"
      ]
     },
     "execution_count": 28,
     "metadata": {},
     "output_type": "execute_result"
    }
   ],
   "source": [
    "gmdat.price.describe()\n"
   ]
  },
  {
   "cell_type": "markdown",
   "metadata": {},
   "source": [
    "## 可視化する"
   ]
  },
  {
   "cell_type": "code",
   "execution_count": 29,
   "metadata": {},
   "outputs": [
    {
     "data": {
      "text/plain": [
       "array([11.53878428, 11.72724393, 11.91570357, 12.10416321, 12.29262286,\n",
       "       12.4810825 , 12.66954214, 12.85800179, 13.04646143, 13.23492107])"
      ]
     },
     "execution_count": 29,
     "metadata": {},
     "output_type": "execute_result"
    }
   ],
   "source": [
    "np.linspace(gmdat['price'].min(), gmdat['price'].max(), 10)"
   ]
  },
  {
   "cell_type": "code",
   "execution_count": 30,
   "metadata": {},
   "outputs": [],
   "source": [
    "def set_rang(data, column, num):\n",
    "    max_val = data[column].max()\n",
    "    min_val = data[column].min()\n",
    "    rang = np.linspace(min_val, max_val, num=num)\n",
    "    return rang"
   ]
  },
  {
   "cell_type": "code",
   "execution_count": 31,
   "metadata": {},
   "outputs": [],
   "source": [
    "rang = set_rang (gmdat, 'price', 10)"
   ]
  },
  {
   "cell_type": "code",
   "execution_count": 32,
   "metadata": {},
   "outputs": [],
   "source": [
    "gmdat_list = []\n",
    "for i in range(0, len(rang)):\n",
    "    if i< 9:\n",
    "        g = gmdat[(gmdat['price'] >= rang[i]) & (gmdat['price'] < rang[i+1])]\n",
    "    else:\n",
    "        g = gmdat[gmdat['price'] >= rang[i]]\n",
    "    gmdat_list.append(g)\n"
   ]
  },
  {
   "cell_type": "code",
   "execution_count": 33,
   "metadata": {},
   "outputs": [],
   "source": [
    "gmdat_list = []\n",
    "for i in range(0, len(rang)):\n",
    "    if i< 9:\n",
    "        g = gmdat[(gmdat['price'] >= rang[i]) & (gmdat['price'] < rang[i+1])]\n",
    "    else:\n",
    "        g = gmdat[gmdat['price'] >= rang[i]]\n",
    "    gmdat_list.append(g)\n"
   ]
  },
  {
   "cell_type": "code",
   "execution_count": 34,
   "metadata": {},
   "outputs": [
    {
     "data": {
      "text/plain": [
       "array([0.1, 0.2, 0.3, 0.4, 0.5, 0.6, 0.7, 0.8, 0.9, 1. ])"
      ]
     },
     "execution_count": 34,
     "metadata": {},
     "output_type": "execute_result"
    }
   ],
   "source": [
    "np.linspace(0.1, 1, len(rang))"
   ]
  },
  {
   "cell_type": "code",
   "execution_count": 35,
   "metadata": {},
   "outputs": [
    {
     "data": {
      "text/plain": [
       "['0.1', '0.2', '0.3', '0.4', '0.5', '0.6', '0.7', '0.8', '0.9', '1.0']"
      ]
     },
     "execution_count": 35,
     "metadata": {},
     "output_type": "execute_result"
    }
   ],
   "source": [
    "[str(round(x,2)) for x in np.linspace(0.1, 1, len(rang))]"
   ]
  },
  {
   "cell_type": "code",
   "execution_count": 36,
   "metadata": {},
   "outputs": [],
   "source": [
    "color_list = [str(round(x,2)) for x in np.linspace(0.1, 1, len(rang))]"
   ]
  },
  {
   "cell_type": "code",
   "execution_count": 58,
   "metadata": {},
   "outputs": [
    {
     "name": "stdout",
     "output_type": "stream",
     "text": [
      "[            px         py      price   station     tokyo  \\\n",
      "3   139.439457  35.767626  11.668949  0.001584  0.338865   \n",
      "9   139.415141  35.763700  11.623598  0.008722  0.361515   \n",
      "10  139.419194  35.763700  11.538784  0.007156  0.357570   \n",
      "11  139.423247  35.763700  11.583198  0.007694  0.353628   \n",
      "\n",
      "                              Coordinates  \n",
      "3    POINT (139.4394569 35.7676260119048)  \n",
      "9   POINT (139.4151413 35.76370003571429)  \n",
      "10  POINT (139.4191939 35.76370003571429)  \n",
      "11  POINT (139.4232465 35.76370003571429)  ,              px         py      price   station     tokyo  \\\n",
      "2    139.411089  35.767626  11.872609  0.009675  0.366367   \n",
      "8    139.411089  35.763700  11.884361  0.011566  0.365462   \n",
      "12   139.427299  35.763700  11.808948  0.010001  0.349688   \n",
      "13   139.431352  35.763700  11.892031  0.010321  0.345751   \n",
      "14   139.435404  35.763700  11.907338  0.007163  0.341817   \n",
      "15   139.439457  35.763700  11.812425  0.003868  0.337886   \n",
      "17   139.415141  35.759774  11.730740  0.012128  0.360639   \n",
      "18   139.419194  35.759774  11.748260  0.011055  0.356685   \n",
      "19   139.423247  35.759774  11.788030  0.011411  0.352733   \n",
      "25   139.415141  35.755848  11.835839  0.010114  0.359805   \n",
      "26   139.419194  35.755848  11.872622  0.010623  0.355841   \n",
      "27   139.423247  35.755848  11.893943  0.012500  0.351880   \n",
      "111  139.366510  35.728366  11.875921  0.003830  0.403378   \n",
      "329  139.415141  35.661625  11.831574  0.000348  0.352530   \n",
      "388  139.398931  35.649847  11.897624  0.005057  0.369530   \n",
      "389  139.402984  35.649847  11.779152  0.001553  0.365492   \n",
      "390  139.407036  35.649847  11.871204  0.001345  0.361454   \n",
      "395  139.427299  35.649847  11.915567  0.008561  0.341273   \n",
      "404  139.463773  35.649847  11.889961  0.011512  0.304972   \n",
      "405  139.467825  35.649847  11.826908  0.014133  0.300941   \n",
      "409  139.378668  35.645921  11.877852  0.001854  0.390059   \n",
      "414  139.398931  35.645921  11.846317  0.005540  0.369884   \n",
      "415  139.402984  35.645921  11.774623  0.002743  0.365850   \n",
      "430  139.467825  35.645921  11.900596  0.017058  0.301376   \n",
      "432  139.386773  35.641995  11.868534  0.008693  0.382371   \n",
      "458  139.467825  35.638069  11.891116  0.019241  0.302397   \n",
      "466  139.459720  35.634143  11.908686  0.012192  0.310991   \n",
      "467  139.463773  35.634143  11.910016  0.015779  0.306986   \n",
      "468  139.467825  35.634143  11.787690  0.015452  0.302982   \n",
      "478  139.463773  35.630217  11.904644  0.011868  0.307613   \n",
      "480  139.423247  35.626291  11.818983  0.001407  0.348240   \n",
      "481  139.427299  35.626291  11.836001  0.003225  0.344239   \n",
      "494  139.423247  35.622365  11.796637  0.001560  0.348881   \n",
      "495  139.427299  35.622365  11.820850  0.003890  0.344888   \n",
      "503  139.459720  35.622365  11.845499  0.006581  0.312992   \n",
      "\n",
      "                               Coordinates  \n",
      "2     POINT (139.4110887 35.7676260119048)  \n",
      "8    POINT (139.4110887 35.76370003571429)  \n",
      "12   POINT (139.4272991 35.76370003571429)  \n",
      "13   POINT (139.4313517 35.76370003571429)  \n",
      "14   POINT (139.4354043 35.76370003571429)  \n",
      "15   POINT (139.4394569 35.76370003571429)  \n",
      "17    POINT (139.4151413 35.7597740595238)  \n",
      "18    POINT (139.4191939 35.7597740595238)  \n",
      "19    POINT (139.4232465 35.7597740595238)  \n",
      "25    POINT (139.4151413 35.7558480833333)  \n",
      "26    POINT (139.4191939 35.7558480833333)  \n",
      "27    POINT (139.4232465 35.7558480833333)  \n",
      "111        POINT (139.3665101 35.72836625)  \n",
      "329  POINT (139.4151413 35.66162465476189)  \n",
      "388   POINT (139.3989309 35.6498467261905)  \n",
      "389   POINT (139.4029835 35.6498467261905)  \n",
      "390   POINT (139.4070361 35.6498467261905)  \n",
      "395   POINT (139.4272991 35.6498467261905)  \n",
      "404   POINT (139.4637725 35.6498467261905)  \n",
      "405   POINT (139.4678251 35.6498467261905)  \n",
      "409        POINT (139.3786679 35.64592075)  \n",
      "414        POINT (139.3989309 35.64592075)  \n",
      "415        POINT (139.4029835 35.64592075)  \n",
      "430        POINT (139.4678251 35.64592075)  \n",
      "432   POINT (139.3867731 35.6419947738095)  \n",
      "458    POINT (139.4678251 35.638068797619)  \n",
      "466   POINT (139.4597199 35.6341428214286)  \n",
      "467   POINT (139.4637725 35.6341428214286)  \n",
      "468   POINT (139.4678251 35.6341428214286)  \n",
      "478   POINT (139.4637725 35.6302168452381)  \n",
      "480   POINT (139.4232465 35.6262908690476)  \n",
      "481   POINT (139.4272991 35.6262908690476)  \n",
      "494  POINT (139.4232465 35.62236489285711)  \n",
      "495  POINT (139.4272991 35.62236489285711)  \n",
      "503  POINT (139.4597199 35.62236489285711)  ,              px         py      price   station     tokyo  \\\n",
      "16   139.411089  35.759774  11.975848  0.014310  0.364596   \n",
      "20   139.427299  35.759774  11.916691  0.013078  0.348783   \n",
      "21   139.431352  35.759774  12.031462  0.012798  0.344836   \n",
      "22   139.435404  35.759774  11.977881  0.009259  0.340891   \n",
      "23   139.439457  35.759774  11.965615  0.005670  0.336949   \n",
      "24   139.411089  35.755848  11.971690  0.011162  0.363770   \n",
      "28   139.427299  35.755848  12.055565  0.015248  0.347920   \n",
      "29   139.431352  35.755848  11.978170  0.012702  0.343963   \n",
      "30   139.435404  35.755848  11.947148  0.008656  0.340008   \n",
      "31   139.439457  35.755848  11.996302  0.004621  0.336056   \n",
      "32   139.443510  35.755848  11.938808  0.000791  0.332105   \n",
      "33   139.411089  35.751922  12.049560  0.007796  0.362985   \n",
      "34   139.415141  35.751922  11.964990  0.006204  0.359011   \n",
      "35   139.419194  35.751922  11.949551  0.007004  0.355039   \n",
      "36   139.423247  35.751922  11.945324  0.009616  0.351068   \n",
      "37   139.427299  35.751922  11.992720  0.012989  0.347100   \n",
      "38   139.431352  35.751922  11.997052  0.013467  0.343133   \n",
      "39   139.435404  35.751922  11.991343  0.009744  0.339168   \n",
      "40   139.439457  35.751922  12.057574  0.006432  0.335206   \n",
      "41   139.443510  35.751922  12.094312  0.004544  0.331245   \n",
      "43   139.415141  35.747996  11.952774  0.002350  0.358259   \n",
      "44   139.419194  35.747996  11.979878  0.004010  0.354278   \n",
      "45   139.423247  35.747996  12.047340  0.007713  0.350299   \n",
      "46   139.427299  35.747996  12.033135  0.011651  0.346321   \n",
      "47   139.431352  35.747996  11.989308  0.015238  0.342346   \n",
      "48   139.435404  35.747996  12.079225  0.012074  0.338372   \n",
      "49   139.439457  35.747996  12.071678  0.009603  0.334400   \n",
      "50   139.443510  35.747996  12.079558  0.008456  0.330430   \n",
      "51   139.447562  35.747996  12.074534  0.009144  0.326462   \n",
      "53   139.415141  35.744070  12.061292  0.001838  0.357548   \n",
      "..          ...        ...        ...       ...       ...   \n",
      "457  139.463773  35.638069  11.940220  0.017455  0.306408   \n",
      "465  139.455667  35.634143  12.021076  0.008451  0.314998   \n",
      "469  139.427299  35.630217  12.048631  0.005496  0.343634   \n",
      "474  139.447562  35.630217  12.041592  0.000604  0.323610   \n",
      "476  139.455667  35.630217  12.082136  0.007502  0.315609   \n",
      "477  139.459720  35.630217  11.995420  0.011555  0.311610   \n",
      "479  139.419194  35.626291  12.072174  0.004339  0.352243   \n",
      "482  139.431352  35.626291  11.984853  0.007108  0.340239   \n",
      "486  139.447562  35.626291  12.032692  0.003651  0.324252   \n",
      "487  139.451615  35.626291  12.045763  0.005013  0.320259   \n",
      "488  139.455667  35.626291  12.101788  0.008354  0.316267   \n",
      "489  139.459720  35.626291  12.053967  0.009475  0.312277   \n",
      "490  139.463773  35.626291  11.920595  0.007973  0.308288   \n",
      "493  139.419194  35.622365  12.046815  0.003888  0.352877   \n",
      "496  139.431352  35.622365  11.939799  0.007433  0.340895   \n",
      "497  139.435404  35.622365  12.101707  0.011324  0.336904   \n",
      "499  139.443510  35.622365  12.056519  0.008838  0.328927   \n",
      "500  139.447562  35.622365  12.023037  0.007554  0.324940   \n",
      "501  139.451615  35.622365  12.057106  0.008299  0.320956   \n",
      "508  139.423247  35.618439  11.960084  0.005436  0.349565   \n",
      "509  139.427299  35.618439  11.920516  0.007051  0.345579   \n",
      "510  139.431352  35.618439  11.961115  0.009529  0.341595   \n",
      "511  139.435404  35.618439  12.087450  0.012798  0.337612   \n",
      "513  139.443510  35.618439  12.043823  0.012356  0.329652   \n",
      "514  139.447562  35.618439  12.049676  0.011473  0.325675   \n",
      "515  139.451615  35.618439  12.098219  0.011976  0.321699   \n",
      "522  139.427299  35.614513  12.019082  0.010376  0.346314   \n",
      "523  139.431352  35.614513  12.017021  0.012538  0.342339   \n",
      "524  139.435404  35.614513  12.078365  0.015171  0.338365   \n",
      "534  139.431352  35.610587  12.098659  0.015793  0.343125   \n",
      "\n",
      "                               Coordinates  \n",
      "16    POINT (139.4110887 35.7597740595238)  \n",
      "20    POINT (139.4272991 35.7597740595238)  \n",
      "21    POINT (139.4313517 35.7597740595238)  \n",
      "22    POINT (139.4354043 35.7597740595238)  \n",
      "23    POINT (139.4394569 35.7597740595238)  \n",
      "24    POINT (139.4110887 35.7558480833333)  \n",
      "28    POINT (139.4272991 35.7558480833333)  \n",
      "29    POINT (139.4313517 35.7558480833333)  \n",
      "30    POINT (139.4354043 35.7558480833333)  \n",
      "31    POINT (139.4394569 35.7558480833333)  \n",
      "32    POINT (139.4435095 35.7558480833333)  \n",
      "33    POINT (139.4110887 35.7519221071429)  \n",
      "34    POINT (139.4151413 35.7519221071429)  \n",
      "35    POINT (139.4191939 35.7519221071429)  \n",
      "36    POINT (139.4232465 35.7519221071429)  \n",
      "37    POINT (139.4272991 35.7519221071429)  \n",
      "38    POINT (139.4313517 35.7519221071429)  \n",
      "39    POINT (139.4354043 35.7519221071429)  \n",
      "40    POINT (139.4394569 35.7519221071429)  \n",
      "41    POINT (139.4435095 35.7519221071429)  \n",
      "43   POINT (139.4151413 35.74799613095239)  \n",
      "44   POINT (139.4191939 35.74799613095239)  \n",
      "45   POINT (139.4232465 35.74799613095239)  \n",
      "46   POINT (139.4272991 35.74799613095239)  \n",
      "47   POINT (139.4313517 35.74799613095239)  \n",
      "48   POINT (139.4354043 35.74799613095239)  \n",
      "49   POINT (139.4394569 35.74799613095239)  \n",
      "50   POINT (139.4435095 35.74799613095239)  \n",
      "51   POINT (139.4475621 35.74799613095239)  \n",
      "53   POINT (139.4151413 35.74407015476189)  \n",
      "..                                     ...  \n",
      "457    POINT (139.4637725 35.638068797619)  \n",
      "465   POINT (139.4556673 35.6341428214286)  \n",
      "469   POINT (139.4272991 35.6302168452381)  \n",
      "474   POINT (139.4475621 35.6302168452381)  \n",
      "476   POINT (139.4556673 35.6302168452381)  \n",
      "477   POINT (139.4597199 35.6302168452381)  \n",
      "479   POINT (139.4191939 35.6262908690476)  \n",
      "482   POINT (139.4313517 35.6262908690476)  \n",
      "486   POINT (139.4475621 35.6262908690476)  \n",
      "487   POINT (139.4516147 35.6262908690476)  \n",
      "488   POINT (139.4556673 35.6262908690476)  \n",
      "489   POINT (139.4597199 35.6262908690476)  \n",
      "490   POINT (139.4637725 35.6262908690476)  \n",
      "493  POINT (139.4191939 35.62236489285711)  \n",
      "496  POINT (139.4313517 35.62236489285711)  \n",
      "497  POINT (139.4354043 35.62236489285711)  \n",
      "499  POINT (139.4435095 35.62236489285711)  \n",
      "500  POINT (139.4475621 35.62236489285711)  \n",
      "501  POINT (139.4516147 35.62236489285711)  \n",
      "508   POINT (139.4232465 35.6184389166667)  \n",
      "509   POINT (139.4272991 35.6184389166667)  \n",
      "510   POINT (139.4313517 35.6184389166667)  \n",
      "511   POINT (139.4354043 35.6184389166667)  \n",
      "513   POINT (139.4435095 35.6184389166667)  \n",
      "514   POINT (139.4475621 35.6184389166667)  \n",
      "515   POINT (139.4516147 35.6184389166667)  \n",
      "522   POINT (139.4272991 35.6145129404762)  \n",
      "523   POINT (139.4313517 35.6145129404762)  \n",
      "524   POINT (139.4354043 35.6145129404762)  \n",
      "534   POINT (139.4313517 35.6105869642857)  \n",
      "\n",
      "[148 rows x 6 columns],              px         py      price   station     tokyo  \\\n",
      "1    139.407036  35.767626  12.238458  0.013571  0.370307   \n",
      "7    139.407036  35.763700  12.260977  0.014978  0.369411   \n",
      "42   139.411089  35.747996  12.111535  0.005274  0.362241   \n",
      "52   139.411089  35.744070  12.181444  0.005066  0.361538   \n",
      "55   139.423247  35.744070  12.213098  0.007572  0.349572   \n",
      "56   139.427299  35.744070  12.238361  0.011558  0.345586   \n",
      "57   139.431352  35.744070  12.175265  0.011547  0.341602   \n",
      "58   139.435404  35.744070  12.198790  0.011220  0.337619   \n",
      "59   139.439457  35.744070  12.235757  0.012301  0.333638   \n",
      "60   139.443510  35.744070  12.165966  0.012376  0.329659   \n",
      "61   139.447562  35.744070  12.132955  0.012857  0.325682   \n",
      "63   139.415141  35.740144  12.126749  0.001797  0.356879   \n",
      "64   139.419194  35.740144  12.162584  0.002863  0.352883   \n",
      "65   139.423247  35.740144  12.262954  0.006783  0.348888   \n",
      "69   139.439457  35.740144  12.265176  0.008891  0.332921   \n",
      "70   139.443510  35.740144  12.203591  0.011718  0.328933   \n",
      "71   139.447562  35.740144  12.194133  0.015114  0.324947   \n",
      "74   139.362458  35.736218  12.136041  0.012352  0.408386   \n",
      "75   139.366510  35.736218  12.124564  0.010519  0.404370   \n",
      "76   139.370563  35.736218  12.240041  0.010079  0.400356   \n",
      "79   139.415141  35.736218  12.197378  0.003152  0.356252   \n",
      "80   139.419194  35.736218  12.253858  0.003860  0.352249   \n",
      "86   139.443510  35.736218  12.201373  0.009792  0.328253   \n",
      "87   139.447562  35.736218  12.127805  0.013675  0.324258   \n",
      "89   139.358405  35.732292  12.277854  0.012803  0.411897   \n",
      "93   139.374615  35.732292  12.253099  0.007872  0.395816   \n",
      "96   139.386773  35.732292  12.283190  0.006563  0.383763   \n",
      "97   139.390826  35.732292  12.153054  0.003785  0.379747   \n",
      "100  139.402984  35.732292  12.138058  0.011189  0.367703   \n",
      "101  139.407036  35.732292  12.260168  0.010709  0.363690   \n",
      "..          ...        ...        ...       ...       ...   \n",
      "462  139.443510  35.634143  12.213077  0.006067  0.327024   \n",
      "463  139.447562  35.634143  12.192288  0.003937  0.323014   \n",
      "464  139.451615  35.634143  12.154706  0.005200  0.319006   \n",
      "470  139.431352  35.630217  12.146893  0.008750  0.339627   \n",
      "472  139.439457  35.630217  12.215745  0.008681  0.331616   \n",
      "473  139.443510  35.630217  12.233435  0.004634  0.327612   \n",
      "475  139.451615  35.630217  12.144211  0.003450  0.319609   \n",
      "483  139.435404  35.626291  12.184730  0.011113  0.336240   \n",
      "484  139.439457  35.626291  12.144336  0.009395  0.332243   \n",
      "485  139.443510  35.626291  12.108733  0.005863  0.328247   \n",
      "492  139.415141  35.622365  12.262683  0.006757  0.356873   \n",
      "498  139.439457  35.622365  12.135067  0.011489  0.332915   \n",
      "502  139.455667  35.622365  12.111992  0.010118  0.316973   \n",
      "504  139.407036  35.618439  12.164981  0.005003  0.365524   \n",
      "505  139.411089  35.618439  12.137309  0.001963  0.361532   \n",
      "506  139.415141  35.618439  12.164249  0.003940  0.357542   \n",
      "507  139.419194  35.618439  12.157917  0.006498  0.353553   \n",
      "512  139.439457  35.618439  12.139152  0.014372  0.333631   \n",
      "517  139.407036  35.614513  12.198368  0.005073  0.366218   \n",
      "518  139.411089  35.614513  12.151997  0.002134  0.362234   \n",
      "519  139.415141  35.614513  12.164077  0.004028  0.358252   \n",
      "520  139.419194  35.614513  12.213239  0.007794  0.354271   \n",
      "521  139.423247  35.614513  12.124499  0.009353  0.350292   \n",
      "525  139.439457  35.614513  12.206272  0.017662  0.334393   \n",
      "526  139.443510  35.614513  12.134138  0.016064  0.330422   \n",
      "527  139.447562  35.614513  12.139450  0.015395  0.326454   \n",
      "532  139.423247  35.610587  12.284864  0.013024  0.351061   \n",
      "533  139.427299  35.610587  12.139670  0.014015  0.347092   \n",
      "535  139.435404  35.610587  12.149877  0.018093  0.339161   \n",
      "537  139.443510  35.610587  12.286233  0.019856  0.331237   \n",
      "\n",
      "                               Coordinates  \n",
      "1     POINT (139.4070361 35.7676260119048)  \n",
      "7    POINT (139.4070361 35.76370003571429)  \n",
      "42   POINT (139.4110887 35.74799613095239)  \n",
      "52   POINT (139.4110887 35.74407015476189)  \n",
      "55   POINT (139.4232465 35.74407015476189)  \n",
      "56   POINT (139.4272991 35.74407015476189)  \n",
      "57   POINT (139.4313517 35.74407015476189)  \n",
      "58   POINT (139.4354043 35.74407015476189)  \n",
      "59   POINT (139.4394569 35.74407015476189)  \n",
      "60   POINT (139.4435095 35.74407015476189)  \n",
      "61   POINT (139.4475621 35.74407015476189)  \n",
      "63    POINT (139.4151413 35.7401441785714)  \n",
      "64    POINT (139.4191939 35.7401441785714)  \n",
      "65    POINT (139.4232465 35.7401441785714)  \n",
      "69    POINT (139.4394569 35.7401441785714)  \n",
      "70    POINT (139.4435095 35.7401441785714)  \n",
      "71    POINT (139.4475621 35.7401441785714)  \n",
      "74     POINT (139.3624575 35.736218202381)  \n",
      "75     POINT (139.3665101 35.736218202381)  \n",
      "76     POINT (139.3705627 35.736218202381)  \n",
      "79     POINT (139.4151413 35.736218202381)  \n",
      "80     POINT (139.4191939 35.736218202381)  \n",
      "86     POINT (139.4435095 35.736218202381)  \n",
      "87     POINT (139.4475621 35.736218202381)  \n",
      "89    POINT (139.3584049 35.7322922261905)  \n",
      "93    POINT (139.3746153 35.7322922261905)  \n",
      "96    POINT (139.3867731 35.7322922261905)  \n",
      "97    POINT (139.3908257 35.7322922261905)  \n",
      "100   POINT (139.4029835 35.7322922261905)  \n",
      "101   POINT (139.4070361 35.7322922261905)  \n",
      "..                                     ...  \n",
      "462   POINT (139.4435095 35.6341428214286)  \n",
      "463   POINT (139.4475621 35.6341428214286)  \n",
      "464   POINT (139.4516147 35.6341428214286)  \n",
      "470   POINT (139.4313517 35.6302168452381)  \n",
      "472   POINT (139.4394569 35.6302168452381)  \n",
      "473   POINT (139.4435095 35.6302168452381)  \n",
      "475   POINT (139.4516147 35.6302168452381)  \n",
      "483   POINT (139.4354043 35.6262908690476)  \n",
      "484   POINT (139.4394569 35.6262908690476)  \n",
      "485   POINT (139.4435095 35.6262908690476)  \n",
      "492  POINT (139.4151413 35.62236489285711)  \n",
      "498  POINT (139.4394569 35.62236489285711)  \n",
      "502  POINT (139.4556673 35.62236489285711)  \n",
      "504   POINT (139.4070361 35.6184389166667)  \n",
      "505   POINT (139.4110887 35.6184389166667)  \n",
      "506   POINT (139.4151413 35.6184389166667)  \n",
      "507   POINT (139.4191939 35.6184389166667)  \n",
      "512   POINT (139.4394569 35.6184389166667)  \n",
      "517   POINT (139.4070361 35.6145129404762)  \n",
      "518   POINT (139.4110887 35.6145129404762)  \n",
      "519   POINT (139.4151413 35.6145129404762)  \n",
      "520   POINT (139.4191939 35.6145129404762)  \n",
      "521   POINT (139.4232465 35.6145129404762)  \n",
      "525   POINT (139.4394569 35.6145129404762)  \n",
      "526   POINT (139.4435095 35.6145129404762)  \n",
      "527   POINT (139.4475621 35.6145129404762)  \n",
      "532   POINT (139.4232465 35.6105869642857)  \n",
      "533   POINT (139.4272991 35.6105869642857)  \n",
      "535   POINT (139.4354043 35.6105869642857)  \n",
      "537   POINT (139.4435095 35.6105869642857)  \n",
      "\n",
      "[178 rows x 6 columns],              px         py      price   station     tokyo  \\\n",
      "66   139.427299  35.740144  12.352328  0.010067  0.344894   \n",
      "67   139.431352  35.740144  12.305767  0.007815  0.340902   \n",
      "68   139.435404  35.740144  12.307471  0.007324  0.336911   \n",
      "73   139.358405  35.736218  12.412349  0.015077  0.412402   \n",
      "77   139.374615  35.736218  12.390759  0.011197  0.396342   \n",
      "78   139.390826  35.736218  12.366675  0.007548  0.380295   \n",
      "81   139.423247  35.736218  12.365157  0.006353  0.348246   \n",
      "82   139.427299  35.736218  12.428437  0.007741  0.344245   \n",
      "83   139.431352  35.736218  12.390876  0.004432  0.340245   \n",
      "84   139.435404  35.736218  12.318639  0.003494  0.336246   \n",
      "85   139.439457  35.736218  12.298108  0.006134  0.332249   \n",
      "94   139.378668  35.732292  12.431101  0.010890  0.391798   \n",
      "95   139.382721  35.732292  12.424808  0.010230  0.387780   \n",
      "105  139.423247  35.732292  12.364260  0.004510  0.347648   \n",
      "106  139.427299  35.732292  12.471544  0.007023  0.343640   \n",
      "107  139.431352  35.732292  12.300984  0.003006  0.339633   \n",
      "109  139.358405  35.728366  12.302139  0.011461  0.411428   \n",
      "115  139.382721  35.728366  12.325977  0.009635  0.387283   \n",
      "121  139.407036  35.728366  12.324748  0.011347  0.363160   \n",
      "122  139.411089  35.728366  12.375030  0.007642  0.359142   \n",
      "123  139.415141  35.728366  12.398203  0.004570  0.355125   \n",
      "124  139.419194  35.728366  12.391495  0.003365  0.351109   \n",
      "125  139.423247  35.728366  12.467109  0.005580  0.347093   \n",
      "135  139.411089  35.724440  12.341352  0.007095  0.358648   \n",
      "136  139.415141  35.724440  12.342127  0.003146  0.354625   \n",
      "138  139.423247  35.724440  12.416832  0.005249  0.346582   \n",
      "140  139.431352  35.724440  12.298665  0.008962  0.338541   \n",
      "147  139.407036  35.720514  12.328699  0.011435  0.362225   \n",
      "148  139.411089  35.720514  12.360549  0.007581  0.358196   \n",
      "149  139.415141  35.720514  12.334762  0.004126  0.354168   \n",
      "..          ...        ...        ...       ...       ...   \n",
      "307  139.394878  35.665551  12.342730  0.010662  0.372577   \n",
      "308  139.398931  35.665551  12.341887  0.012197  0.368528   \n",
      "318  139.370563  35.661625  12.443186  0.010480  0.397047   \n",
      "319  139.374615  35.661625  12.437026  0.007201  0.392999   \n",
      "332  139.427299  35.661625  12.350404  0.005888  0.340391   \n",
      "333  139.431352  35.661625  12.333027  0.004250  0.336346   \n",
      "334  139.435404  35.661625  12.419006  0.005856  0.332300   \n",
      "336  139.366510  35.657699  12.299574  0.011987  0.401306   \n",
      "337  139.370563  35.657699  12.370200  0.011068  0.397260   \n",
      "338  139.374615  35.657699  12.296832  0.007097  0.393215   \n",
      "341  139.386773  35.657699  12.351403  0.005575  0.381079   \n",
      "342  139.390826  35.657699  12.311545  0.003099  0.377035   \n",
      "353  139.435404  35.657699  12.322508  0.004042  0.332555   \n",
      "359  139.378668  35.653773  12.307334  0.006359  0.389427   \n",
      "361  139.386773  35.653773  12.313869  0.005961  0.381342   \n",
      "374  139.439457  35.653773  12.458798  0.007995  0.328817   \n",
      "375  139.443510  35.653773  12.345438  0.004498  0.324779   \n",
      "376  139.447562  35.653773  12.310109  0.003064  0.320741   \n",
      "377  139.451615  35.653773  12.375772  0.005603  0.316703   \n",
      "398  139.439457  35.649847  12.468340  0.007476  0.329168   \n",
      "399  139.443510  35.649847  12.384875  0.003493  0.325134   \n",
      "401  139.451615  35.649847  12.311561  0.004834  0.317068   \n",
      "425  139.447562  35.645921  12.320022  0.004914  0.321508   \n",
      "471  139.435404  35.630217  12.301072  0.012231  0.335621   \n",
      "491  139.411089  35.622365  12.333103  0.005829  0.360871   \n",
      "516  139.402984  35.614513  12.454975  0.008930  0.370204   \n",
      "531  139.419194  35.610587  12.299686  0.009606  0.355031   \n",
      "536  139.439457  35.610587  12.311573  0.020813  0.335198   \n",
      "538  139.427299  35.606661  12.356542  0.017777  0.347912   \n",
      "539  139.435404  35.606661  12.343447  0.021328  0.340000   \n",
      "\n",
      "                               Coordinates  \n",
      "66    POINT (139.4272991 35.7401441785714)  \n",
      "67    POINT (139.4313517 35.7401441785714)  \n",
      "68    POINT (139.4354043 35.7401441785714)  \n",
      "73     POINT (139.3584049 35.736218202381)  \n",
      "77     POINT (139.3746153 35.736218202381)  \n",
      "78     POINT (139.3908257 35.736218202381)  \n",
      "81     POINT (139.4232465 35.736218202381)  \n",
      "82     POINT (139.4272991 35.736218202381)  \n",
      "83     POINT (139.4313517 35.736218202381)  \n",
      "84     POINT (139.4354043 35.736218202381)  \n",
      "85     POINT (139.4394569 35.736218202381)  \n",
      "94    POINT (139.3786679 35.7322922261905)  \n",
      "95    POINT (139.3827205 35.7322922261905)  \n",
      "105   POINT (139.4232465 35.7322922261905)  \n",
      "106   POINT (139.4272991 35.7322922261905)  \n",
      "107   POINT (139.4313517 35.7322922261905)  \n",
      "109        POINT (139.3584049 35.72836625)  \n",
      "115        POINT (139.3827205 35.72836625)  \n",
      "121        POINT (139.4070361 35.72836625)  \n",
      "122        POINT (139.4110887 35.72836625)  \n",
      "123        POINT (139.4151413 35.72836625)  \n",
      "124        POINT (139.4191939 35.72836625)  \n",
      "125        POINT (139.4232465 35.72836625)  \n",
      "135   POINT (139.4110887 35.7244402738095)  \n",
      "136   POINT (139.4151413 35.7244402738095)  \n",
      "138   POINT (139.4232465 35.7244402738095)  \n",
      "140   POINT (139.4313517 35.7244402738095)  \n",
      "147    POINT (139.4070361 35.720514297619)  \n",
      "148    POINT (139.4110887 35.720514297619)  \n",
      "149    POINT (139.4151413 35.720514297619)  \n",
      "..                                     ...  \n",
      "307   POINT (139.3948783 35.6655506309524)  \n",
      "308   POINT (139.3989309 35.6655506309524)  \n",
      "318  POINT (139.3705627 35.66162465476189)  \n",
      "319  POINT (139.3746153 35.66162465476189)  \n",
      "332  POINT (139.4272991 35.66162465476189)  \n",
      "333  POINT (139.4313517 35.66162465476189)  \n",
      "334  POINT (139.4354043 35.66162465476189)  \n",
      "336   POINT (139.3665101 35.6576986785714)  \n",
      "337   POINT (139.3705627 35.6576986785714)  \n",
      "338   POINT (139.3746153 35.6576986785714)  \n",
      "341   POINT (139.3867731 35.6576986785714)  \n",
      "342   POINT (139.3908257 35.6576986785714)  \n",
      "353   POINT (139.4354043 35.6576986785714)  \n",
      "359    POINT (139.3786679 35.653772702381)  \n",
      "361    POINT (139.3867731 35.653772702381)  \n",
      "374    POINT (139.4394569 35.653772702381)  \n",
      "375    POINT (139.4435095 35.653772702381)  \n",
      "376    POINT (139.4475621 35.653772702381)  \n",
      "377    POINT (139.4516147 35.653772702381)  \n",
      "398   POINT (139.4394569 35.6498467261905)  \n",
      "399   POINT (139.4435095 35.6498467261905)  \n",
      "401   POINT (139.4516147 35.6498467261905)  \n",
      "425        POINT (139.4475621 35.64592075)  \n",
      "471   POINT (139.4354043 35.6302168452381)  \n",
      "491  POINT (139.4110887 35.62236489285711)  \n",
      "516   POINT (139.4029835 35.6145129404762)  \n",
      "531   POINT (139.4191939 35.6105869642857)  \n",
      "536   POINT (139.4394569 35.6105869642857)  \n",
      "538   POINT (139.4272991 35.6066609880952)  \n",
      "539   POINT (139.4354043 35.6066609880952)  \n",
      "\n",
      "[114 rows x 6 columns],              px         py      price   station     tokyo  \\\n",
      "0    139.402984  35.767626  12.632913  0.017537  0.374249   \n",
      "6    139.402984  35.763700  12.664921  0.018648  0.373362   \n",
      "62   139.386773  35.740144  12.617315  0.012616  0.384887   \n",
      "88   139.354352  35.732292  12.603141  0.015126  0.415918   \n",
      "108  139.354352  35.728366  12.511981  0.012506  0.415455   \n",
      "126  139.427299  35.728366  12.507022  0.008339  0.343079   \n",
      "139  139.427299  35.724440  12.487454  0.009254  0.342561   \n",
      "185  139.419194  35.708736  12.599689  0.005927  0.349016   \n",
      "186  139.423247  35.708736  12.545612  0.008293  0.344976   \n",
      "188  139.431352  35.708736  12.482869  0.015316  0.336898   \n",
      "191  139.402984  35.704810  12.538661  0.009676  0.364904   \n",
      "192  139.407036  35.704810  12.506831  0.007721  0.360860   \n",
      "193  139.411089  35.704810  12.606925  0.005515  0.356816   \n",
      "194  139.415141  35.704810  12.645741  0.005557  0.352772   \n",
      "197  139.427299  35.704810  12.559953  0.011531  0.340643   \n",
      "198  139.431352  35.704810  12.496893  0.013300  0.336600   \n",
      "201  139.402984  35.700884  12.604215  0.009776  0.364671   \n",
      "202  139.407036  35.700884  12.585756  0.005791  0.360625   \n",
      "203  139.411089  35.700884  12.506754  0.002082  0.356578   \n",
      "204  139.415141  35.700884  12.573113  0.002785  0.352532   \n",
      "206  139.423247  35.700884  12.657413  0.007125  0.344439   \n",
      "209  139.398931  35.696958  12.520492  0.008608  0.368530   \n",
      "210  139.402984  35.696958  12.659540  0.009534  0.364481   \n",
      "212  139.411089  35.696958  12.615291  0.001682  0.356383   \n",
      "213  139.415141  35.696958  12.574794  0.001016  0.352335   \n",
      "215  139.423247  35.696958  12.629067  0.003236  0.344238   \n",
      "216  139.427299  35.696958  12.564401  0.004643  0.340189   \n",
      "217  139.431352  35.696958  12.546860  0.008093  0.336141   \n",
      "220  139.398931  35.693032  12.551163  0.010842  0.368383   \n",
      "221  139.402984  35.693032  12.606177  0.007078  0.364333   \n",
      "226  139.423247  35.693032  12.561844  0.001004  0.344081   \n",
      "227  139.427299  35.693032  12.566396  0.003478  0.340031   \n",
      "233  139.398931  35.689106  12.486235  0.010372  0.368278   \n",
      "234  139.402984  35.689106  12.525231  0.006335  0.364227   \n",
      "235  139.407036  35.689106  12.513258  0.002349  0.360175   \n",
      "236  139.411089  35.689106  12.527058  0.001937  0.356123   \n",
      "239  139.423247  35.689106  12.616437  0.004730  0.343969   \n",
      "249  139.415141  35.685181  12.622052  0.007463  0.352006   \n",
      "261  139.419194  35.681255  12.591901  0.009962  0.347931   \n",
      "301  139.431352  35.669477  12.565652  0.011638  0.335979   \n",
      "315  139.427299  35.665551  12.481728  0.009135  0.340188   \n",
      "316  139.431352  35.665551  12.488965  0.008176  0.336139   \n",
      "354  139.439457  35.657699  12.502472  0.008088  0.328512   \n",
      "530  139.402984  35.610587  12.579320  0.010549  0.370932   \n",
      "\n",
      "                               Coordinates  \n",
      "0     POINT (139.4029835 35.7676260119048)  \n",
      "6    POINT (139.4029835 35.76370003571429)  \n",
      "62    POINT (139.3867731 35.7401441785714)  \n",
      "88    POINT (139.3543523 35.7322922261905)  \n",
      "108        POINT (139.3543523 35.72836625)  \n",
      "126        POINT (139.4272991 35.72836625)  \n",
      "139   POINT (139.4272991 35.7244402738095)  \n",
      "185  POINT (139.4191939 35.70873636904761)  \n",
      "186  POINT (139.4232465 35.70873636904761)  \n",
      "188  POINT (139.4313517 35.70873636904761)  \n",
      "191  POINT (139.4029835 35.70481039285711)  \n",
      "192  POINT (139.4070361 35.70481039285711)  \n",
      "193  POINT (139.4110887 35.70481039285711)  \n",
      "194  POINT (139.4151413 35.70481039285711)  \n",
      "197  POINT (139.4272991 35.70481039285711)  \n",
      "198  POINT (139.4313517 35.70481039285711)  \n",
      "201   POINT (139.4029835 35.7008844166667)  \n",
      "202   POINT (139.4070361 35.7008844166667)  \n",
      "203   POINT (139.4110887 35.7008844166667)  \n",
      "204   POINT (139.4151413 35.7008844166667)  \n",
      "206   POINT (139.4232465 35.7008844166667)  \n",
      "209   POINT (139.3989309 35.6969584404762)  \n",
      "210   POINT (139.4029835 35.6969584404762)  \n",
      "212   POINT (139.4110887 35.6969584404762)  \n",
      "213   POINT (139.4151413 35.6969584404762)  \n",
      "215   POINT (139.4232465 35.6969584404762)  \n",
      "216   POINT (139.4272991 35.6969584404762)  \n",
      "217   POINT (139.4313517 35.6969584404762)  \n",
      "220   POINT (139.3989309 35.6930324642857)  \n",
      "221   POINT (139.4029835 35.6930324642857)  \n",
      "226   POINT (139.4232465 35.6930324642857)  \n",
      "227   POINT (139.4272991 35.6930324642857)  \n",
      "233  POINT (139.3989309 35.68910648809521)  \n",
      "234  POINT (139.4029835 35.68910648809521)  \n",
      "235  POINT (139.4070361 35.68910648809521)  \n",
      "236  POINT (139.4110887 35.68910648809521)  \n",
      "239  POINT (139.4232465 35.68910648809521)  \n",
      "249   POINT (139.4151413 35.6851805119048)  \n",
      "261   POINT (139.4191939 35.6812545357143)  \n",
      "301   POINT (139.4313517 35.6694766071429)  \n",
      "315   POINT (139.4272991 35.6655506309524)  \n",
      "316   POINT (139.4313517 35.6655506309524)  \n",
      "354   POINT (139.4394569 35.6576986785714)  \n",
      "530   POINT (139.4029835 35.6105869642857)  ,              px         py      price   station     tokyo  \\\n",
      "72   139.354352  35.736218  12.777718  0.018221  0.416418   \n",
      "195  139.419194  35.704810  12.765955  0.007902  0.348729   \n",
      "196  139.423247  35.704810  12.731028  0.011040  0.344686   \n",
      "205  139.419194  35.700884  12.737905  0.005672  0.348485   \n",
      "211  139.407036  35.696958  12.681902  0.005595  0.360432   \n",
      "214  139.419194  35.696958  12.784067  0.004923  0.348286   \n",
      "222  139.407036  35.693032  12.693326  0.003935  0.360282   \n",
      "223  139.411089  35.693032  12.807693  0.003472  0.356232   \n",
      "224  139.415141  35.693032  12.738869  0.004053  0.352181   \n",
      "225  139.419194  35.693032  12.806496  0.004772  0.348131   \n",
      "237  139.415141  35.689106  12.708337  0.005902  0.352072   \n",
      "238  139.419194  35.689106  12.753517  0.006643  0.348020   \n",
      "250  139.419194  35.685181  12.736658  0.009814  0.347953   \n",
      "528  139.394878  35.610587  12.835015  0.014918  0.378892   \n",
      "529  139.398931  35.610587  12.833856  0.013958  0.374911   \n",
      "\n",
      "                               Coordinates  \n",
      "72     POINT (139.3543523 35.736218202381)  \n",
      "195  POINT (139.4191939 35.70481039285711)  \n",
      "196  POINT (139.4232465 35.70481039285711)  \n",
      "205   POINT (139.4191939 35.7008844166667)  \n",
      "211   POINT (139.4070361 35.6969584404762)  \n",
      "214   POINT (139.4191939 35.6969584404762)  \n",
      "222   POINT (139.4070361 35.6930324642857)  \n",
      "223   POINT (139.4110887 35.6930324642857)  \n",
      "224   POINT (139.4151413 35.6930324642857)  \n",
      "225   POINT (139.4191939 35.6930324642857)  \n",
      "237  POINT (139.4151413 35.68910648809521)  \n",
      "238  POINT (139.4191939 35.68910648809521)  \n",
      "250   POINT (139.4191939 35.6851805119048)  \n",
      "528   POINT (139.3948783 35.6105869642857)  \n",
      "529   POINT (139.3989309 35.6105869642857)  ,            px       py      price  station     tokyo  \\\n",
      "5  139.398931  35.7637  12.877363  0.02245  0.377316   \n",
      "\n",
      "                             Coordinates  \n",
      "5  POINT (139.3989309 35.76370003571429)  , Empty GeoDataFrame\n",
      "Columns: [px, py, price, station, tokyo, Coordinates]\n",
      "Index: [],            px       py      price   station     tokyo  \\\n",
      "4  139.394878  35.7637  13.234921  0.026327  0.381271   \n",
      "\n",
      "                             Coordinates  \n",
      "4  POINT (139.3948783 35.76370003571429)  ]\n"
     ]
    }
   ],
   "source": [
    "print(gmdat_list)"
   ]
  },
  {
   "cell_type": "code",
   "execution_count": 38,
   "metadata": {},
   "outputs": [
    {
     "name": "stderr",
     "output_type": "stream",
     "text": [
      "No handles with labels found to put in legend.\n"
     ]
    },
    {
     "data": {
      "text/plain": [
       "<matplotlib.legend.Legend at 0x1a2701fc18>"
      ]
     },
     "execution_count": 38,
     "metadata": {},
     "output_type": "execute_result"
    },
    {
     "data": {
      "image/png": "[encoded data removed]",
      "text/plain": [
       "<Figure size 864x864 with 1 Axes>"
      ]
     },
     "metadata": {
      "needs_background": "light"
     },
     "output_type": "display_data"
    }
   ],
   "source": [
    "fig = plt.figure(figsize=(12,12))\n",
    "ax = fig.add_subplot(1,1,1)\n",
    "for i in range(0, len(gmdat_list)):\n",
    "    gmdat_list[i].plot(ax=ax, color = color_list[i])\n",
    "ax.legend()\n",
    "\n"
   ]
  },
  {
   "cell_type": "code",
   "execution_count": 39,
   "metadata": {},
   "outputs": [],
   "source": [
    "rang = set_rang (gmdat, 'price', 8)\n"
   ]
  },
  {
   "cell_type": "code",
   "execution_count": 41,
   "metadata": {},
   "outputs": [],
   "source": [
    "gmdat_list = []\n",
    "for i in range(0, len(rang)):\n",
    "    if i< len(rang)-1:\n",
    "        g = gmdat[(gmdat['price'] >= rang[i]) & (gmdat['price'] < rang[i+1])]\n",
    "    else:\n",
    "        g = gmdat[gmdat['price'] >= rang[i]]\n",
    "    gmdat_list.append(g)\n"
   ]
  },
  {
   "cell_type": "code",
   "execution_count": 42,
   "metadata": {},
   "outputs": [],
   "source": [
    "color_list = [str(round(x,2)) for x in np.linspace(0.1, 1, len(rang))]"
   ]
  },
  {
   "cell_type": "code",
   "execution_count": 43,
   "metadata": {},
   "outputs": [
    {
     "name": "stdout",
     "output_type": "stream",
     "text": [
      "['0.1', '0.23', '0.36', '0.49', '0.61', '0.74', '0.87', '1.0']\n"
     ]
    }
   ],
   "source": [
    "print(color_list)"
   ]
  },
  {
   "cell_type": "code",
   "execution_count": 44,
   "metadata": {},
   "outputs": [
    {
     "name": "stderr",
     "output_type": "stream",
     "text": [
      "No handles with labels found to put in legend.\n"
     ]
    },
    {
     "data": {
      "text/plain": [
       "<matplotlib.legend.Legend at 0x1a27a787f0>"
      ]
     },
     "execution_count": 44,
     "metadata": {},
     "output_type": "execute_result"
    },
    {
     "data": {
      "image/png": "[encoded data removed]",
      "text/plain": [
       "<Figure size 864x864 with 1 Axes>"
      ]
     },
     "metadata": {
      "needs_background": "light"
     },
     "output_type": "display_data"
    }
   ],
   "source": [
    "fig = plt.figure(figsize=(12,12))\n",
    "ax = fig.add_subplot(1,1,1)\n",
    "for i in range(0, len(gmdat_list)):\n",
    "    gmdat_list[i].plot(ax=ax, color = color_list[i])\n",
    "ax.legend()\n",
    "\n"
   ]
  },
  {
   "cell_type": "code",
   "execution_count": 71,
   "metadata": {},
   "outputs": [],
   "source": [
    "fig.savefig('/Users/mfjkou/sengokuLab/study/LDAT_LS_2019/data/dev/plot/test.png')\n"
   ]
  },
  {
   "cell_type": "code",
   "execution_count": 69,
   "metadata": {},
   "outputs": [],
   "source": [
    "rang = set_rang(gmdat, 'price', 8)"
   ]
  },
  {
   "cell_type": "code",
   "execution_count": 70,
   "metadata": {},
   "outputs": [],
   "source": [
    "gmdat_list = []\n",
    "for i in range(0, len(rang)):\n",
    "    if i< len(rang)-1:\n",
    "        g = gmdat[(gmdat['price'] >= rang[i]) & (gmdat['price'] < rang[i+1])]\n",
    "    else:\n",
    "        g = gmdat[gmdat['price'] >= rang[i]]\n",
    "    gmdat_list.append(g)\n"
   ]
  },
  {
   "cell_type": "code",
   "execution_count": 71,
   "metadata": {},
   "outputs": [],
   "source": [
    "color_list = [str(round(x,2)) for x in np.linspace(0.1, 0.9, len(rang))]"
   ]
  },
  {
   "cell_type": "code",
   "execution_count": 76,
   "metadata": {},
   "outputs": [
    {
     "data": {
      "text/plain": [
       "<matplotlib.legend.Legend at 0x1a2d3870b8>"
      ]
     },
     "execution_count": 76,
     "metadata": {},
     "output_type": "execute_result"
    },
    {
     "data": {
      "image/png": "[encoded data removed]",
      "text/plain": [
       "<Figure size 864x864 with 1 Axes>"
      ]
     },
     "metadata": {
      "needs_background": "light"
     },
     "output_type": "display_data"
    }
   ],
   "source": [
    "fig = plt.figure(figsize=(12,12))\n",
    "ax.patch.set_facecolor('white')\n",
    "ax = fig.add_subplot(1,1,1)\n",
    "for i in range(0, len(gmdat_list)):\n",
    "    gmdat_list[i].plot(ax=ax, color = color_list[i], marker='s', markersize = 170)\n",
    "ax.legend(['[{0}, {1})'.format(rang[i], rang[i+1]) for i in range(0, len(rang)-1)],loc='upper left')\n",
    "\n",
    "#Rで実装したversionとはかなり異なる"
   ]
  },
  {
   "cell_type": "code",
   "execution_count": 68,
   "metadata": {},
   "outputs": [],
   "source": [
    "fig.savefig('/Users/mfjkou/sengokuLab/study/LDAT_LS_2019/data/dev/plot/test.png')\n"
   ]
  },
  {
   "cell_type": "code",
   "execution_count": 78,
   "metadata": {},
   "outputs": [],
   "source": [
    "def plot_kriging_res(gmdat, column, rang):\n",
    "    ''''\n",
    "    '''\n",
    "    color_list = [str(round(x,2)) for x in np.linspace(0.1, 0.9, len(rang))]\n",
    "    fig = plt.figure(figsize=(12,12))\n",
    "    ax = fig.add_subplot(1,1,1)\n",
    "    for i in range(0, len(rang)):\n",
    "        if i< len(rang)-1:\n",
    "            g = gmdat[(gmdat[column] >= rang[i]) & (gmdat[column] < rang[i+1])]\n",
    "        else:\n",
    "            g = gmdat[gmdat[column] >= rang[i]]\n",
    "        g.plot(ax=ax, color = color_list[i], marker='s', markersize=170)\n",
    "    ax.legend(['[{0}, {1})'.format(rang[i], rang[i+1]) for i in range(0, len(rang)-1)],loc='best')\n",
    "\n",
    "    return fig"
   ]
  },
  {
   "cell_type": "code",
   "execution_count": 79,
   "metadata": {},
   "outputs": [
    {
     "data": {
      "image/png": "[encoded data removed]",
      "text/plain": [
       "<Figure size 864x864 with 1 Axes>"
      ]
     },
     "metadata": {
      "needs_background": "light"
     },
     "output_type": "display_data"
    }
   ],
   "source": [
    "res_fig = plot_kriging_res(gmdat, 'price', rang)"
   ]
  },
  {
   "cell_type": "markdown",
   "metadata": {},
   "source": [
    "## 残差の2乗をプロットする"
   ]
  },
  {
   "cell_type": "code",
   "execution_count": 80,
   "metadata": {},
   "outputs": [
    {
     "data": {
      "image/png": "[encoded data removed]",
      "text/plain": [
       "<Figure size 864x864 with 1 Axes>"
      ]
     },
     "metadata": {
      "needs_background": "light"
     },
     "output_type": "display_data"
    }
   ],
   "source": [
    "gmdat['sq_resid'] = gmodel.krige_residual(mlatlon)**2\n",
    "rang = set_rang(gmdat, 'sq_resid', 10)\n",
    "sq_resid_fig = plot_kriging_res(gmdat, 'sq_resid', rang)\n",
    "#やはりRで実装した場合と異なってしまう"
   ]
  },
  {
   "cell_type": "code",
   "execution_count": null,
   "metadata": {},
   "outputs": [],
   "source": []
  }
 ],
 "metadata": {
  "file_extension": ".py",
  "kernelspec": {
   "display_name": "Python 3",
   "language": "python",
   "name": "python3"
  },
  "language_info": {
   "codemirror_mode": {
    "name": "ipython",
    "version": 3
   },
   "file_extension": ".py",
   "mimetype": "text/x-python",
   "name": "python",
   "nbconvert_exporter": "python",
   "pygments_lexer": "ipython3",
   "version": "3.6.5"
  },
  "mimetype": "text/x-python",
  "name": "python",
  "npconvert_exporter": "python",
  "pygments_lexer": "ipython3",
  "version": 3
 },
 "nbformat": 4,
 "nbformat_minor": 2
}
