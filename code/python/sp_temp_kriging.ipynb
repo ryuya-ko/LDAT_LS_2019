{
 "cells": [
  {
   "cell_type": "markdown",
   "metadata": {
    "toc-hr-collapsed": false
   },
   "source": [
    "# 時空間krigingを実装する\n",
    "- kalman filterによる実装"
   ]
  },
  {
   "cell_type": "markdown",
   "metadata": {},
   "source": [
    "## Model\n",
    "$\n",
    "x_t = x_{t-1} + w_t \\\\\n",
    "y_t = F x_t + v_t \\\\\n",
    "w_t\\sim N(0, \\Sigma_x),v_t\\sim N(0, \\Sigma_y) \\\\\n",
    "$"
   ]
  },
  {
   "cell_type": "code",
   "execution_count": 2,
   "metadata": {},
   "outputs": [],
   "source": [
    "import numpy as np"
   ]
  },
  {
   "cell_type": "code",
   "execution_count": 60,
   "metadata": {},
   "outputs": [],
   "source": [
    "def kalman(y, x, SigP, SigX, SigY, F):\n",
    "    '''\n",
    "    カルマンフィルタ\n",
    "    input:時点tの観測データ, 時点t-1の状態変数,\n",
    "        分散共分散行列(状態変数, 観測・状態モデル), 状態変数と観測値の関係を表す行列\n",
    "    output:\n",
    "    '''\n",
    "    \n",
    "    # variance of state variable at t\n",
    "    SigP0 = SigP + SigX\n",
    "    \n",
    "    # mean and variance of predicted likelihood of obs\n",
    "    # y0_til = np.dot(F, x)\n",
    "    SX_til = np.dot(np.dot(F, SigP0), F.T) + SigY\n",
    "    SX_til_inv = np.linalg.inv(SX_til)\n",
    "    \n",
    "    # kalman gain\n",
    "    K = np.dot(np.dot(SigP0, F.T), SX_til_inv)\n",
    "    \n",
    "    # update state\n",
    "    # calculate mean\n",
    "    y1_til = y - np.dot(F, x)\n",
    "    x1 = x + np.dot(K, y1_til)\n",
    "    # calculate variance\n",
    "    dim = F.shape\n",
    "    if type(F) == int:\n",
    "        dim = [1]\n",
    "    I = np.identity(dim[0])\n",
    "    Sig = I - np.dot(K, F)\n",
    "    SigP1 = np.dot(Sig, SigP0)\n",
    "    \n",
    "    # calculate predicted val\n",
    "    pred = np.dot(F, x1)\n",
    "    \n",
    "    # calculate model marginal likelihood at t\n",
    "    det = np.linalg.det(SX_til)\n",
    "    var = np.dot(np.dot(y1_til.T, SX_til_inv), y1_til)\n",
    "    logz = 0.5*(np.log(det) - var)\n",
    "    \n",
    "    # pred_val, pred_state, cov-mat of state, log-likeli, \n",
    "    return pred, x1, SigP1, logz, SX_til"
   ]
  },
  {
   "cell_type": "markdown",
   "metadata": {
    "toc-hr-collapsed": false
   },
   "source": [
    "## 一点の時系列データでテストしてみる"
   ]
  },
  {
   "cell_type": "code",
   "execution_count": 4,
   "metadata": {},
   "outputs": [],
   "source": [
    "nt = 50  # number of time points\n",
    "n = 1  # number of sample locations\n",
    "nb = 1  # number of basis functions\t\n",
    "B = 1  # シミュレーションデータ生成用の行列（無視でok）\n",
    "sigY = np.array(1)  # 観測モデルの誤差分散\n",
    "sigX = np.array(1)  # 状態モデルの誤差分散\n",
    "F = np.array(1)"
   ]
  },
  {
   "cell_type": "code",
   "execution_count": 5,
   "metadata": {},
   "outputs": [],
   "source": [
    "def norm(sig):\n",
    "    return np.random.normal(0, sig, 1)"
   ]
  },
  {
   "cell_type": "code",
   "execution_count": 6,
   "metadata": {},
   "outputs": [],
   "source": [
    "x_list = []\n",
    "y_list = []\n",
    "for t in range(1, nt+1):\n",
    "    if t == 1:\n",
    "        e1 = norm(sigX)\n",
    "    else:\n",
    "        e1 = B*e0 + norm(sigX)\n",
    "    x = B * e1 + norm(sigX)\n",
    "    y = x + norm(sigY)\n",
    "    \n",
    "    x_list.append(x)\n",
    "    y_list.append(y)\n",
    "    e0 = e1"
   ]
  },
  {
   "cell_type": "code",
   "execution_count": 7,
   "metadata": {},
   "outputs": [],
   "source": [
    "import matplotlib.pyplot as plt"
   ]
  },
  {
   "cell_type": "code",
   "execution_count": 8,
   "metadata": {},
   "outputs": [],
   "source": [
    "index = [i for i in range(1, len(x_list) + 1)]"
   ]
  },
  {
   "cell_type": "code",
   "execution_count": 9,
   "metadata": {},
   "outputs": [
    {
     "data": {
      "text/plain": [
       "[<matplotlib.lines.Line2D at 0x115731668>]"
      ]
     },
     "execution_count": 9,
     "metadata": {},
     "output_type": "execute_result"
    },
    {
     "data": {
      "image/png": "[encoded data removed]",
      "text/plain": [
       "<Figure size 432x288 with 1 Axes>"
      ]
     },
     "metadata": {
      "needs_background": "light"
     },
     "output_type": "display_data"
    }
   ],
   "source": [
    "plt.plot(index, x_list, color='black')\n",
    "plt.plot(index, y_list, color='red')"
   ]
  },
  {
   "cell_type": "code",
   "execution_count": 10,
   "metadata": {},
   "outputs": [],
   "source": [
    "I = np.identity(n)\n",
    "SigY = np.dot(sigY, I)\n",
    "SigX = np.dot(sigX, I)\n",
    "y_pred_list = []"
   ]
  },
  {
   "cell_type": "code",
   "execution_count": 11,
   "metadata": {},
   "outputs": [],
   "source": [
    "for t in range(2, nt+1):\n",
    "    if t == 2:\n",
    "        x = y_list[0]\n",
    "        SigP = I\n",
    "    else:\n",
    "        x = x1\n",
    "        SigP = SigP1\n",
    "    pred, x1, SigP1, logz, a \\\n",
    "    = kalman(y_list[t-1], x, SigP, SigX, SigY, F)\n",
    "    y_pred_list.append(pred)"
   ]
  },
  {
   "cell_type": "code",
   "execution_count": 17,
   "metadata": {},
   "outputs": [
    {
     "data": {
      "text/plain": [
       "49"
      ]
     },
     "execution_count": 17,
     "metadata": {},
     "output_type": "execute_result"
    }
   ],
   "source": [
    "len(y_pred_list)"
   ]
  },
  {
   "cell_type": "code",
   "execution_count": 18,
   "metadata": {},
   "outputs": [
    {
     "data": {
      "text/plain": [
       "[<matplotlib.lines.Line2D at 0x117e7dc18>]"
      ]
     },
     "execution_count": 18,
     "metadata": {},
     "output_type": "execute_result"
    },
    {
     "data": {
      "image/png": "[encoded data removed]",
      "text/plain": [
       "<Figure size 432x288 with 1 Axes>"
      ]
     },
     "metadata": {
      "needs_background": "light"
     },
     "output_type": "display_data"
    }
   ],
   "source": [
    "plt.plot(index, y_list, color='black')\n",
    "plt.plot(index[1:], y_pred_list, color='red')"
   ]
  },
  {
   "cell_type": "markdown",
   "metadata": {},
   "source": [
    "## 時空間データでテストしてみる"
   ]
  },
  {
   "cell_type": "markdown",
   "metadata": {},
   "source": [
    "### シミュレーションデータ"
   ]
  },
  {
   "cell_type": "code",
   "execution_count": 30,
   "metadata": {},
   "outputs": [],
   "source": [
    "import pandas as pd"
   ]
  },
  {
   "cell_type": "code",
   "execution_count": 28,
   "metadata": {},
   "outputs": [],
   "source": [
    "# Settings\n",
    "nt = 50  # 時点数\n",
    "n = 50  # 地点数 \n",
    "SigY = 1\n",
    "SigX = 1\n",
    "F = 1"
   ]
  },
  {
   "cell_type": "code",
   "execution_count": 36,
   "metadata": {},
   "outputs": [],
   "source": [
    "Y = pd.read_csv('/Users/LOng/sengokulab/LDAT_LS_2019/data/dev/obs_variable_matrix.csv', index_col='Unnamed: 0')\n",
    "Y.columns = [i for i in range(1, 51)]"
   ]
  },
  {
   "cell_type": "code",
   "execution_count": 37,
   "metadata": {},
   "outputs": [],
   "source": [
    "coords = pd.read_csv('/Users/LOng/sengokulab/LDAT_LS_2019/data/dev/coordinates.csv', index_col='Unnamed: 0')\n",
    "coords.columns = ['x', 'y']"
   ]
  },
  {
   "cell_type": "code",
   "execution_count": 93,
   "metadata": {},
   "outputs": [],
   "source": [
    "C = pd.read_csv('/Users/LOng/sengokulab/LDAT_LS_2019/data/dev/simulation_data_covariance.csv', index_col='Unnamed: 0')\n",
    "C.columns = [i for i in range(1, 51)]"
   ]
  },
  {
   "cell_type": "code",
   "execution_count": 44,
   "metadata": {},
   "outputs": [
    {
     "data": {
      "text/html": [
       "<div>\n",
       "<style scoped>\n",
       "    .dataframe tbody tr th:only-of-type {\n",
       "        vertical-align: middle;\n",
       "    }\n",
       "\n",
       "    .dataframe tbody tr th {\n",
       "        vertical-align: top;\n",
       "    }\n",
       "\n",
       "    .dataframe thead th {\n",
       "        text-align: right;\n",
       "    }\n",
       "</style>\n",
       "<table border=\"1\" class=\"dataframe\">\n",
       "  <thead>\n",
       "    <tr style=\"text-align: right;\">\n",
       "      <th></th>\n",
       "      <th>1</th>\n",
       "      <th>2</th>\n",
       "      <th>3</th>\n",
       "      <th>4</th>\n",
       "      <th>5</th>\n",
       "      <th>6</th>\n",
       "      <th>7</th>\n",
       "      <th>8</th>\n",
       "      <th>9</th>\n",
       "      <th>10</th>\n",
       "      <th>...</th>\n",
       "      <th>41</th>\n",
       "      <th>42</th>\n",
       "      <th>43</th>\n",
       "      <th>44</th>\n",
       "      <th>45</th>\n",
       "      <th>46</th>\n",
       "      <th>47</th>\n",
       "      <th>48</th>\n",
       "      <th>49</th>\n",
       "      <th>50</th>\n",
       "    </tr>\n",
       "  </thead>\n",
       "  <tbody>\n",
       "    <tr>\n",
       "      <th>1</th>\n",
       "      <td>-0.763426</td>\n",
       "      <td>2.622124</td>\n",
       "      <td>1.874083</td>\n",
       "      <td>2.542185</td>\n",
       "      <td>-2.127825</td>\n",
       "      <td>-2.275798</td>\n",
       "      <td>0.563393</td>\n",
       "      <td>0.710846</td>\n",
       "      <td>0.391735</td>\n",
       "      <td>4.270546</td>\n",
       "      <td>...</td>\n",
       "      <td>1.842973</td>\n",
       "      <td>1.535547</td>\n",
       "      <td>-1.690706</td>\n",
       "      <td>-3.411947</td>\n",
       "      <td>-8.812684</td>\n",
       "      <td>-7.639371</td>\n",
       "      <td>-8.931781</td>\n",
       "      <td>-8.274470</td>\n",
       "      <td>-8.906630</td>\n",
       "      <td>-7.087467</td>\n",
       "    </tr>\n",
       "    <tr>\n",
       "      <th>2</th>\n",
       "      <td>1.330351</td>\n",
       "      <td>1.181800</td>\n",
       "      <td>2.829193</td>\n",
       "      <td>0.449903</td>\n",
       "      <td>-0.805213</td>\n",
       "      <td>-2.852126</td>\n",
       "      <td>0.130369</td>\n",
       "      <td>1.968104</td>\n",
       "      <td>2.632998</td>\n",
       "      <td>2.869091</td>\n",
       "      <td>...</td>\n",
       "      <td>6.110964</td>\n",
       "      <td>8.281103</td>\n",
       "      <td>1.918742</td>\n",
       "      <td>4.381729</td>\n",
       "      <td>3.539911</td>\n",
       "      <td>-1.976064</td>\n",
       "      <td>-0.674157</td>\n",
       "      <td>0.064696</td>\n",
       "      <td>-3.706775</td>\n",
       "      <td>-3.351284</td>\n",
       "    </tr>\n",
       "    <tr>\n",
       "      <th>3</th>\n",
       "      <td>1.896269</td>\n",
       "      <td>-0.894994</td>\n",
       "      <td>0.388368</td>\n",
       "      <td>-0.140967</td>\n",
       "      <td>-4.315400</td>\n",
       "      <td>-6.580025</td>\n",
       "      <td>-5.530214</td>\n",
       "      <td>-0.081541</td>\n",
       "      <td>-3.912439</td>\n",
       "      <td>-1.325068</td>\n",
       "      <td>...</td>\n",
       "      <td>-5.080373</td>\n",
       "      <td>-3.413901</td>\n",
       "      <td>-4.081062</td>\n",
       "      <td>-7.383311</td>\n",
       "      <td>-7.557372</td>\n",
       "      <td>-9.338766</td>\n",
       "      <td>-9.598783</td>\n",
       "      <td>-7.934065</td>\n",
       "      <td>-10.211029</td>\n",
       "      <td>-8.883541</td>\n",
       "    </tr>\n",
       "    <tr>\n",
       "      <th>4</th>\n",
       "      <td>0.218423</td>\n",
       "      <td>0.948807</td>\n",
       "      <td>-2.559636</td>\n",
       "      <td>-1.005910</td>\n",
       "      <td>-4.427630</td>\n",
       "      <td>-6.338799</td>\n",
       "      <td>-3.208813</td>\n",
       "      <td>-3.277373</td>\n",
       "      <td>-5.662542</td>\n",
       "      <td>-3.958622</td>\n",
       "      <td>...</td>\n",
       "      <td>-9.774783</td>\n",
       "      <td>-12.211212</td>\n",
       "      <td>-12.034127</td>\n",
       "      <td>-14.961022</td>\n",
       "      <td>-16.125339</td>\n",
       "      <td>-19.168398</td>\n",
       "      <td>-17.293310</td>\n",
       "      <td>-16.251890</td>\n",
       "      <td>-17.531638</td>\n",
       "      <td>-15.081929</td>\n",
       "    </tr>\n",
       "    <tr>\n",
       "      <th>5</th>\n",
       "      <td>-1.450014</td>\n",
       "      <td>-0.810102</td>\n",
       "      <td>1.620681</td>\n",
       "      <td>1.927428</td>\n",
       "      <td>0.660851</td>\n",
       "      <td>0.269727</td>\n",
       "      <td>4.694343</td>\n",
       "      <td>2.015782</td>\n",
       "      <td>6.662769</td>\n",
       "      <td>4.287389</td>\n",
       "      <td>...</td>\n",
       "      <td>-1.905253</td>\n",
       "      <td>-6.033669</td>\n",
       "      <td>-6.830704</td>\n",
       "      <td>-8.079764</td>\n",
       "      <td>-10.533101</td>\n",
       "      <td>-12.865716</td>\n",
       "      <td>-14.421968</td>\n",
       "      <td>-9.823012</td>\n",
       "      <td>-14.198642</td>\n",
       "      <td>-10.317001</td>\n",
       "    </tr>\n",
       "  </tbody>\n",
       "</table>\n",
       "<p>5 rows × 50 columns</p>\n",
       "</div>"
      ],
      "text/plain": [
       "         1         2         3         4         5         6         7   \\\n",
       "1 -0.763426  2.622124  1.874083  2.542185 -2.127825 -2.275798  0.563393   \n",
       "2  1.330351  1.181800  2.829193  0.449903 -0.805213 -2.852126  0.130369   \n",
       "3  1.896269 -0.894994  0.388368 -0.140967 -4.315400 -6.580025 -5.530214   \n",
       "4  0.218423  0.948807 -2.559636 -1.005910 -4.427630 -6.338799 -3.208813   \n",
       "5 -1.450014 -0.810102  1.620681  1.927428  0.660851  0.269727  4.694343   \n",
       "\n",
       "         8         9         10  ...        41         42         43  \\\n",
       "1  0.710846  0.391735  4.270546  ...  1.842973   1.535547  -1.690706   \n",
       "2  1.968104  2.632998  2.869091  ...  6.110964   8.281103   1.918742   \n",
       "3 -0.081541 -3.912439 -1.325068  ... -5.080373  -3.413901  -4.081062   \n",
       "4 -3.277373 -5.662542 -3.958622  ... -9.774783 -12.211212 -12.034127   \n",
       "5  2.015782  6.662769  4.287389  ... -1.905253  -6.033669  -6.830704   \n",
       "\n",
       "          44         45         46         47         48         49         50  \n",
       "1  -3.411947  -8.812684  -7.639371  -8.931781  -8.274470  -8.906630  -7.087467  \n",
       "2   4.381729   3.539911  -1.976064  -0.674157   0.064696  -3.706775  -3.351284  \n",
       "3  -7.383311  -7.557372  -9.338766  -9.598783  -7.934065 -10.211029  -8.883541  \n",
       "4 -14.961022 -16.125339 -19.168398 -17.293310 -16.251890 -17.531638 -15.081929  \n",
       "5  -8.079764 -10.533101 -12.865716 -14.421968  -9.823012 -14.198642 -10.317001  \n",
       "\n",
       "[5 rows x 50 columns]"
      ]
     },
     "execution_count": 44,
     "metadata": {},
     "output_type": "execute_result"
    }
   ],
   "source": [
    "Y.head()"
   ]
  },
  {
   "cell_type": "code",
   "execution_count": 96,
   "metadata": {},
   "outputs": [],
   "source": [
    "Y = Y.values\n",
    "coords = coords.values\n",
    "C = C.values"
   ]
  },
  {
   "cell_type": "markdown",
   "metadata": {},
   "source": [
    "### フィルタリング"
   ]
  },
  {
   "cell_type": "code",
   "execution_count": 108,
   "metadata": {},
   "outputs": [],
   "source": [
    "# モデルのSetting\n",
    "I = np.identity(n)\n",
    "F = np.identity(n)\n",
    "SigY = np.dot(SigY, I)\n",
    "SigX = np.dot(SigX, C) + np.dot(SigX, I)\n",
    "y_pred_list = []"
   ]
  },
  {
   "cell_type": "code",
   "execution_count": 109,
   "metadata": {},
   "outputs": [],
   "source": [
    "for t in range(2, nt+1):\n",
    "    if t == 2:\n",
    "        x = np.repeat(np.mean(Y[:, 0]), n)\n",
    "        SigP = np.identity(n)\n",
    "    else:\n",
    "        x = x1\n",
    "        SigP = SigP1\n",
    "    pred, x1, SigP1, logz, a \\\n",
    "    = kalman(Y[:, t-1], x, SigP, SigX, SigY, F)\n",
    "    y_pred_list.append(pred)"
   ]
  },
  {
   "cell_type": "markdown",
   "metadata": {},
   "source": [
    "### フィルタリング結果の確認"
   ]
  },
  {
   "cell_type": "code",
   "execution_count": 110,
   "metadata": {},
   "outputs": [],
   "source": [
    "# 地点10の結果を確認\n",
    "j = 10\n",
    "y_at10 = Y[j-1, :]\n",
    "y_pred_at10 = [preds[j-1] for preds in y_pred_list]"
   ]
  },
  {
   "cell_type": "code",
   "execution_count": 116,
   "metadata": {},
   "outputs": [
    {
     "data": {
      "text/plain": [
       "<matplotlib.legend.Legend at 0x11c6d3c88>"
      ]
     },
     "execution_count": 116,
     "metadata": {},
     "output_type": "execute_result"
    },
    {
     "data": {
      "image/png": "[encoded data removed]",
      "text/plain": [
       "<Figure size 720x720 with 1 Axes>"
      ]
     },
     "metadata": {
      "needs_background": "light"
     },
     "output_type": "display_data"
    }
   ],
   "source": [
    "fig = plt.figure(figsize=(10, 10))\n",
    "ax = fig.add_subplot(1, 1, 1)\n",
    "ax.plot(index, y_at10, color='black', label='observed values')\n",
    "ax.plot(index[1:], y_pred_at10, color='red', label='filtered values')\n",
    "ax.set_title('result of kalman filter in python at point 10')\n",
    "ax.set_xlabel('time')\n",
    "ax.set_ylabel('value')\n",
    "ax.legend()"
   ]
  },
  {
   "cell_type": "code",
   "execution_count": 117,
   "metadata": {},
   "outputs": [],
   "source": [
    "fig.savefig('/Users/LOng/sengokulab/LDAT_LS_2019/data/dev/plot/res_kalmanfiter.png')"
   ]
  }
 ],
 "metadata": {
  "kernelspec": {
   "display_name": "Python 3",
   "language": "python",
   "name": "python3"
  },
  "language_info": {
   "codemirror_mode": {
    "name": "ipython",
    "version": 3
   },
   "file_extension": ".py",
   "mimetype": "text/x-python",
   "name": "python",
   "nbconvert_exporter": "python",
   "pygments_lexer": "ipython3",
   "version": "3.7.0"
  }
 },
 "nbformat": 4,
 "nbformat_minor": 2
}
