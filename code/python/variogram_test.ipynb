{
 "cells": [
  {
   "cell_type": "markdown",
   "metadata": {},
   "source": [
    "# scipyを用いてvariogram, krigingを実装する"
   ]
  },
  {
   "cell_type": "code",
   "execution_count": 1,
   "metadata": {},
   "outputs": [],
   "source": [
    "import numpy as np\n",
    "from scipy.spatial.distance import pdist, squareform\n",
    "from scipy import stats\n",
    "import matplotlib.pyplot as plt"
   ]
  },
  {
   "cell_type": "markdown",
   "metadata": {},
   "source": [
    "## scipyを用いた距離行列の作成・バリオグラムのプロット"
   ]
  },
  {
   "cell_type": "code",
   "execution_count": 2,
   "metadata": {},
   "outputs": [],
   "source": [
    "n = 3\n",
    "data = np.array([[np.random.normal(0, 10) for i in range(n)] for i in range(100)]) #x,y,zを生成"
   ]
  },
  {
   "cell_type": "code",
   "execution_count": 3,
   "metadata": {},
   "outputs": [
    {
     "name": "stdout",
     "output_type": "stream",
     "text": [
      "[[ -8.95508456 -21.03336065  -1.55568158]\n",
      " [ 26.99402319   2.98847671   2.78537252]\n",
      " [ 16.32058691   8.84433312   5.76055033]\n",
      " [ 11.44519355  -7.71066809   4.32024819]\n",
      " [ -0.204099    -7.90206208   4.61955458]\n",
      " [  4.43270759   9.28333599   7.78118697]\n",
      " [ -9.04783112 -12.49059926  -9.17797568]\n",
      " [  5.66848798   3.49757151  -7.98915938]\n",
      " [  7.84543824  -6.47832288  -6.97559889]\n",
      " [ -4.42552544  13.52912738  -2.95833402]\n",
      " [ 12.47653105 -13.42976279  -7.32910701]\n",
      " [ -7.73216869   9.99512916 -14.2658261 ]\n",
      " [  1.8713774  -14.60705692  -3.1868445 ]\n",
      " [  5.40527008 -11.06911629 -12.27621609]\n",
      " [ -7.74789048   3.42140936   8.36117991]\n",
      " [  9.00922439   4.05851116   0.79393396]\n",
      " [-17.97993882 -17.42681051  19.26755862]\n",
      " [ -0.2514351    4.22869117  10.77086764]\n",
      " [  3.85471455 -15.91037069 -13.16210763]\n",
      " [  0.34457329 -11.01137748 -11.45996345]\n",
      " [ 18.72231297   6.47744778   9.56587199]\n",
      " [ -3.69396625  25.40792243   3.66735014]\n",
      " [ -8.14376627  14.59183619 -10.27400403]\n",
      " [  2.20802954   2.74095641  -3.21821248]\n",
      " [ -4.71839219 -26.95087551  -8.82800523]\n",
      " [ 15.34582704  -6.66935533   6.75860278]\n",
      " [  7.6114316   11.52213786 -11.72071954]\n",
      " [-12.59893808  -4.31455183 -10.05223419]\n",
      " [ -5.49412538  10.31274515  14.78124082]\n",
      " [  7.17698398  -5.28317301  17.78070746]\n",
      " [ -3.80517519   8.28109552  -0.33562709]\n",
      " [  2.22383544   4.00008317 -11.99633627]\n",
      " [ -8.7739209   -0.39843167   2.51376501]\n",
      " [  0.65203186   2.0460088    7.56089012]\n",
      " [ 10.99943938  -0.09080152  -3.88328656]\n",
      " [  8.69669167  -0.89052621 -14.0567099 ]\n",
      " [ -1.15774899 -11.95809389   5.85850853]\n",
      " [ -0.81775966 -15.44100685  -8.57438486]\n",
      " [-19.26908511   1.24685735  12.92374444]\n",
      " [  3.05439138   3.9040266   16.0633802 ]\n",
      " [  7.25256762 -17.96384007   0.21192422]\n",
      " [  9.07315515  -5.01801738  -2.03338038]\n",
      " [  4.48988567  -5.0620687    4.64845644]\n",
      " [  3.50306173 -12.00794139  -6.3407123 ]\n",
      " [ -1.74733939  -7.87855255   7.55014781]\n",
      " [ -8.33738443   6.44998415 -15.37171358]\n",
      " [  0.65786603 -25.28320043  -4.32978958]\n",
      " [ -5.95391011  14.90614397  -7.45292894]\n",
      " [ -7.55746016   0.79260194   3.96873005]\n",
      " [ -3.35227675   2.02777572 -13.85579009]\n",
      " [  0.60664933  -3.9591093   -8.79590915]\n",
      " [  3.78338558  11.2231391    5.42028102]\n",
      " [  5.25107929  -6.25119584   3.88557242]\n",
      " [ -9.19060159  -4.76051321  -2.36111855]\n",
      " [-15.40384746  -0.07839662   4.42578025]\n",
      " [ -9.03162853  17.14292012   0.40797634]\n",
      " [-12.97401375 -21.51948599 -17.7564323 ]\n",
      " [ -6.00588073   9.58267432  -5.99770697]\n",
      " [  4.94100933   5.60233845  16.91301686]\n",
      " [  7.99781514  14.89287875 -15.87330553]\n",
      " [ -8.11931489  -5.24388281  -6.82842627]\n",
      " [  7.84994087  -0.05559878  -1.58777496]\n",
      " [ -4.41149551   0.62740943  10.1907131 ]\n",
      " [ 15.90632637   1.93756962  -8.08357151]\n",
      " [ -5.12786656  -6.04327777   0.21068658]\n",
      " [-13.11725037   5.24751541   4.10307158]\n",
      " [  2.66665423  -7.72223883 -10.08159338]\n",
      " [  4.86156308 -10.68391796  21.35094889]\n",
      " [  6.22678924  16.99928487   7.52765   ]\n",
      " [ 23.91664756  -8.54634286  -1.32614406]\n",
      " [ -1.5759745   -2.99666891  -5.6502172 ]\n",
      " [ -0.84506581  -0.66392796   9.63332929]\n",
      " [ -3.02898908  -3.8321588   13.91628801]\n",
      " [-14.93510497 -11.59285002  11.89749753]\n",
      " [  8.28444706  -8.2156218   -9.76537538]\n",
      " [ 13.47401335   0.06938656 -25.27653729]\n",
      " [ -7.37217908  -3.35230097 -12.41339218]\n",
      " [-12.06609965   0.63347174   4.82069983]\n",
      " [ -5.97273631   3.97327158  -6.12143946]\n",
      " [ -5.75192476  -6.78570526  -6.71573841]\n",
      " [ 14.9196414   10.71257372  -0.29615325]\n",
      " [  1.67159817  -5.80766431  11.60886037]\n",
      " [ 14.30004054  -1.28263707 -16.82019399]\n",
      " [ -0.62141768   8.17519775  -9.49297558]\n",
      " [  6.27862503 -22.41800108  14.47378922]\n",
      " [  4.2988438  -20.81432632  -2.881822  ]\n",
      " [  3.74952359 -13.62967379   1.36462533]\n",
      " [ -0.43673815  -0.9055972   -3.72878603]\n",
      " [  3.71351138  15.14635715  -4.16086137]\n",
      " [  0.52342466   3.91769957  -2.03361952]\n",
      " [ 11.68662239 -10.67034827   0.32969334]\n",
      " [ -4.37464664   0.91311877  -5.81399819]\n",
      " [ 12.72142082   2.81281024  12.68145614]\n",
      " [  3.33897096  10.01869743  -8.82624184]\n",
      " [ -9.51733156  18.18663256  -8.49384143]\n",
      " [  9.11116587 -10.67746872   1.00475411]\n",
      " [ -8.15443786 -16.99742434  -2.81967606]\n",
      " [-17.31003694  -1.22264304   4.76393202]\n",
      " [ -5.76060084   4.61455229  -9.2108589 ]\n",
      " [  8.4100952  -20.29285787  -5.58332817]]\n"
     ]
    }
   ],
   "source": [
    "print(data)"
   ]
  },
  {
   "cell_type": "code",
   "execution_count": 4,
   "metadata": {},
   "outputs": [
    {
     "data": {
      "text/plain": [
       "array([[ -8.95508456, -21.03336065],\n",
       "       [ 26.99402319,   2.98847671],\n",
       "       [ 16.32058691,   8.84433312],\n",
       "       [ 11.44519355,  -7.71066809],\n",
       "       [ -0.204099  ,  -7.90206208],\n",
       "       [  4.43270759,   9.28333599],\n",
       "       [ -9.04783112, -12.49059926],\n",
       "       [  5.66848798,   3.49757151],\n",
       "       [  7.84543824,  -6.47832288],\n",
       "       [ -4.42552544,  13.52912738],\n",
       "       [ 12.47653105, -13.42976279],\n",
       "       [ -7.73216869,   9.99512916],\n",
       "       [  1.8713774 , -14.60705692],\n",
       "       [  5.40527008, -11.06911629],\n",
       "       [ -7.74789048,   3.42140936],\n",
       "       [  9.00922439,   4.05851116],\n",
       "       [-17.97993882, -17.42681051],\n",
       "       [ -0.2514351 ,   4.22869117],\n",
       "       [  3.85471455, -15.91037069],\n",
       "       [  0.34457329, -11.01137748],\n",
       "       [ 18.72231297,   6.47744778],\n",
       "       [ -3.69396625,  25.40792243],\n",
       "       [ -8.14376627,  14.59183619],\n",
       "       [  2.20802954,   2.74095641],\n",
       "       [ -4.71839219, -26.95087551],\n",
       "       [ 15.34582704,  -6.66935533],\n",
       "       [  7.6114316 ,  11.52213786],\n",
       "       [-12.59893808,  -4.31455183],\n",
       "       [ -5.49412538,  10.31274515],\n",
       "       [  7.17698398,  -5.28317301],\n",
       "       [ -3.80517519,   8.28109552],\n",
       "       [  2.22383544,   4.00008317],\n",
       "       [ -8.7739209 ,  -0.39843167],\n",
       "       [  0.65203186,   2.0460088 ],\n",
       "       [ 10.99943938,  -0.09080152],\n",
       "       [  8.69669167,  -0.89052621],\n",
       "       [ -1.15774899, -11.95809389],\n",
       "       [ -0.81775966, -15.44100685],\n",
       "       [-19.26908511,   1.24685735],\n",
       "       [  3.05439138,   3.9040266 ],\n",
       "       [  7.25256762, -17.96384007],\n",
       "       [  9.07315515,  -5.01801738],\n",
       "       [  4.48988567,  -5.0620687 ],\n",
       "       [  3.50306173, -12.00794139],\n",
       "       [ -1.74733939,  -7.87855255],\n",
       "       [ -8.33738443,   6.44998415],\n",
       "       [  0.65786603, -25.28320043],\n",
       "       [ -5.95391011,  14.90614397],\n",
       "       [ -7.55746016,   0.79260194],\n",
       "       [ -3.35227675,   2.02777572],\n",
       "       [  0.60664933,  -3.9591093 ],\n",
       "       [  3.78338558,  11.2231391 ],\n",
       "       [  5.25107929,  -6.25119584],\n",
       "       [ -9.19060159,  -4.76051321],\n",
       "       [-15.40384746,  -0.07839662],\n",
       "       [ -9.03162853,  17.14292012],\n",
       "       [-12.97401375, -21.51948599],\n",
       "       [ -6.00588073,   9.58267432],\n",
       "       [  4.94100933,   5.60233845],\n",
       "       [  7.99781514,  14.89287875],\n",
       "       [ -8.11931489,  -5.24388281],\n",
       "       [  7.84994087,  -0.05559878],\n",
       "       [ -4.41149551,   0.62740943],\n",
       "       [ 15.90632637,   1.93756962],\n",
       "       [ -5.12786656,  -6.04327777],\n",
       "       [-13.11725037,   5.24751541],\n",
       "       [  2.66665423,  -7.72223883],\n",
       "       [  4.86156308, -10.68391796],\n",
       "       [  6.22678924,  16.99928487],\n",
       "       [ 23.91664756,  -8.54634286],\n",
       "       [ -1.5759745 ,  -2.99666891],\n",
       "       [ -0.84506581,  -0.66392796],\n",
       "       [ -3.02898908,  -3.8321588 ],\n",
       "       [-14.93510497, -11.59285002],\n",
       "       [  8.28444706,  -8.2156218 ],\n",
       "       [ 13.47401335,   0.06938656],\n",
       "       [ -7.37217908,  -3.35230097],\n",
       "       [-12.06609965,   0.63347174],\n",
       "       [ -5.97273631,   3.97327158],\n",
       "       [ -5.75192476,  -6.78570526],\n",
       "       [ 14.9196414 ,  10.71257372],\n",
       "       [  1.67159817,  -5.80766431],\n",
       "       [ 14.30004054,  -1.28263707],\n",
       "       [ -0.62141768,   8.17519775],\n",
       "       [  6.27862503, -22.41800108],\n",
       "       [  4.2988438 , -20.81432632],\n",
       "       [  3.74952359, -13.62967379],\n",
       "       [ -0.43673815,  -0.9055972 ],\n",
       "       [  3.71351138,  15.14635715],\n",
       "       [  0.52342466,   3.91769957],\n",
       "       [ 11.68662239, -10.67034827],\n",
       "       [ -4.37464664,   0.91311877],\n",
       "       [ 12.72142082,   2.81281024],\n",
       "       [  3.33897096,  10.01869743],\n",
       "       [ -9.51733156,  18.18663256],\n",
       "       [  9.11116587, -10.67746872],\n",
       "       [ -8.15443786, -16.99742434],\n",
       "       [-17.31003694,  -1.22264304],\n",
       "       [ -5.76060084,   4.61455229],\n",
       "       [  8.4100952 , -20.29285787]])"
      ]
     },
     "execution_count": 4,
     "metadata": {},
     "output_type": "execute_result"
    }
   ],
   "source": [
    "data[:,0:2]"
   ]
  },
  {
   "cell_type": "code",
   "execution_count": 5,
   "metadata": {},
   "outputs": [],
   "source": [
    "dist_vec=pdist(data[:,0:2], 'euclidean')"
   ]
  },
  {
   "cell_type": "code",
   "execution_count": 6,
   "metadata": {},
   "outputs": [
    {
     "name": "stdout",
     "output_type": "stream",
     "text": [
      "[43.23640848 39.13484577 24.36525157 ... 12.94072346 32.01871782\n",
      " 28.65637289]\n"
     ]
    }
   ],
   "source": [
    "print(dist_vec)"
   ]
  },
  {
   "cell_type": "code",
   "execution_count": 7,
   "metadata": {},
   "outputs": [],
   "source": [
    "dist_mat = squareform(dist_vec)"
   ]
  },
  {
   "cell_type": "code",
   "execution_count": 8,
   "metadata": {},
   "outputs": [
    {
     "name": "stdout",
     "output_type": "stream",
     "text": [
      "[[ 0.         43.23640848 39.13484577 ... 21.50045957 25.84608606\n",
      "  17.38096121]\n",
      " [43.23640848  0.         12.17428833 ... 44.50374449 32.79496176\n",
      "  29.78897311]\n",
      " [39.13484577 12.17428833  0.         ... 35.10502627 22.48265772\n",
      "  30.19191577]\n",
      " ...\n",
      " [21.50045957 44.50374449 35.10502627 ...  0.         12.94072346\n",
      "  32.01871782]\n",
      " [25.84608606 32.79496176 22.48265772 ... 12.94072346  0.\n",
      "  28.65637289]\n",
      " [17.38096121 29.78897311 30.19191577 ... 32.01871782 28.65637289\n",
      "   0.        ]]\n"
     ]
    }
   ],
   "source": [
    "print(dist_mat)"
   ]
  },
  {
   "cell_type": "code",
   "execution_count": 9,
   "metadata": {},
   "outputs": [],
   "source": [
    "z_mat = squareform(pdist(data[:,2:], 'euclidean')**2/2)"
   ]
  },
  {
   "cell_type": "code",
   "execution_count": 10,
   "metadata": {},
   "outputs": [
    {
     "data": {
      "text/plain": [
       "[array([[ 0.        , 43.23640848, 39.13484577, ..., 21.50045957,\n",
       "         25.84608606, 17.38096121],\n",
       "        [43.23640848,  0.        , 12.17428833, ..., 44.50374449,\n",
       "         32.79496176, 29.78897311],\n",
       "        [39.13484577, 12.17428833,  0.        , ..., 35.10502627,\n",
       "         22.48265772, 30.19191577],\n",
       "        ...,\n",
       "        [21.50045957, 44.50374449, 35.10502627, ...,  0.        ,\n",
       "         12.94072346, 32.01871782],\n",
       "        [25.84608606, 32.79496176, 22.48265772, ..., 12.94072346,\n",
       "          0.        , 28.65637289],\n",
       "        [17.38096121, 29.78897311, 30.19191577, ..., 32.01871782,\n",
       "         28.65637289,  0.        ]]),\n",
       " array([[  0.        ,   9.42237533,  26.76362463, ...,  19.96875797,\n",
       "          29.30086991,   8.11096854],\n",
       "        [  9.42237533,   0.        ,   4.42584149, ...,   1.95734884,\n",
       "          71.95478411,  35.01757561],\n",
       "        [ 26.76362463,   4.42584149,   0.        , ...,   0.49662403,\n",
       "         112.07154708,  64.34178967],\n",
       "        ...,\n",
       "        [ 19.96875797,   1.95734884,   0.49662403, ...,   0.        ,\n",
       "          97.64739051,  53.53289665],\n",
       "        [ 29.30086991,  71.95478411, 112.07154708, ...,  97.64739051,\n",
       "           0.        ,   6.57948959],\n",
       "        [  8.11096854,  35.01757561,  64.34178967, ...,  53.53289665,\n",
       "           6.57948959,   0.        ]])]"
      ]
     },
     "execution_count": 10,
     "metadata": {},
     "output_type": "execute_result"
    }
   ],
   "source": [
    "[dist_mat, z_mat]"
   ]
  },
  {
   "cell_type": "code",
   "execution_count": 11,
   "metadata": {},
   "outputs": [
    {
     "data": {
      "text/plain": [
       "(100, 100)"
      ]
     },
     "execution_count": 11,
     "metadata": {},
     "output_type": "execute_result"
    }
   ],
   "source": [
    "z_mat.shape"
   ]
  },
  {
   "cell_type": "code",
   "execution_count": 12,
   "metadata": {},
   "outputs": [],
   "source": [
    "z_vec = squareform(z_mat)"
   ]
  },
  {
   "cell_type": "code",
   "execution_count": 13,
   "metadata": {},
   "outputs": [
    {
     "name": "stdout",
     "output_type": "stream",
     "text": [
      "[ 9.42237533 26.76362463 17.26327531 ... 97.64739051 53.53289665\n",
      "  6.57948959]\n"
     ]
    }
   ],
   "source": [
    "print(z_vec)"
   ]
  },
  {
   "cell_type": "code",
   "execution_count": 14,
   "metadata": {},
   "outputs": [
    {
     "data": {
      "text/plain": [
       "array([[43.23640848, 39.13484577, 24.36525157, ..., 12.94072346,\n",
       "        32.01871782, 28.65637289],\n",
       "       [ 9.42237533, 26.76362463, 17.26327531, ..., 97.64739051,\n",
       "        53.53289665,  6.57948959]])"
      ]
     },
     "execution_count": 14,
     "metadata": {},
     "output_type": "execute_result"
    }
   ],
   "source": [
    "np.stack([dist_vec, z_vec])"
   ]
  },
  {
   "cell_type": "code",
   "execution_count": 15,
   "metadata": {},
   "outputs": [
    {
     "data": {
      "text/plain": [
       "<matplotlib.collections.PathCollection at 0x122c25240>"
      ]
     },
     "execution_count": 15,
     "metadata": {},
     "output_type": "execute_result"
    },
    {
     "data": {
      "image/png": "[encoded data removed]",
      "text/plain": [
       "<Figure size 432x288 with 1 Axes>"
      ]
     },
     "metadata": {
      "needs_background": "light"
     },
     "output_type": "display_data"
    }
   ],
   "source": [
    "plt.scatter(dist_vec, pdist(data[:,2:], 'euclidean')**2/2, facecolors = 'None', edgecolors='blue')"
   ]
  },
  {
   "cell_type": "code",
   "execution_count": 16,
   "metadata": {},
   "outputs": [],
   "source": [
    "def get_diff(data):\n",
    "    '''\n",
    "    get the difference of spatial data\n",
    "    input: (n,3) matrix data\n",
    "    output: np.array(n,2)\n",
    "    '''\n",
    "    dist_vec = pdist(data[:, :2])\n",
    "    z_vec = pdist(data[:, 2:])**2/2\n",
    "    diff = np.stack([dist_vec, z_vec])\n",
    "    \n",
    "    return diff"
   ]
  },
  {
   "cell_type": "code",
   "execution_count": 17,
   "metadata": {},
   "outputs": [],
   "source": [
    "vario = get_diff(data)"
   ]
  },
  {
   "cell_type": "code",
   "execution_count": 18,
   "metadata": {},
   "outputs": [
    {
     "data": {
      "text/plain": [
       "<matplotlib.collections.PathCollection at 0x122cbc470>"
      ]
     },
     "execution_count": 18,
     "metadata": {},
     "output_type": "execute_result"
    },
    {
     "data": {
      "image/png": "[encoded data removed]",
      "text/plain": [
       "<Figure size 432x288 with 1 Axes>"
      ]
     },
     "metadata": {
      "needs_background": "light"
     },
     "output_type": "display_data"
    }
   ],
   "source": [
    "plt.scatter(vario[0], vario[1],  facecolors = 'None', edgecolors='blue')"
   ]
  },
  {
   "cell_type": "code",
   "execution_count": 19,
   "metadata": {},
   "outputs": [],
   "source": [
    "def variogram(xyv_array):\n",
    "    xy_dist = squareform(pdist(xyv_array[:, 0:2], 'euclidean'))\n",
    "    s_vario = squareform(pdist(xyv_array[:, 2:3], 'euclidean')**2 / 2)\n",
    "    return [xy_dist, s_vario]"
   ]
  },
  {
   "cell_type": "code",
   "execution_count": 20,
   "metadata": {},
   "outputs": [],
   "source": [
    "data = np.array([[np.random.normal(0, 10) for i in range(n)] for i in range(5000)])"
   ]
  },
  {
   "cell_type": "code",
   "execution_count": 21,
   "metadata": {},
   "outputs": [
    {
     "name": "stdout",
     "output_type": "stream",
     "text": [
      "12.5 ms ± 435 µs per loop (mean ± std. dev. of 7 runs, 100 loops each)\n"
     ]
    }
   ],
   "source": [
    "%timeit variogram(data)"
   ]
  },
  {
   "cell_type": "code",
   "execution_count": 22,
   "metadata": {},
   "outputs": [
    {
     "name": "stdout",
     "output_type": "stream",
     "text": [
      "6.85 ms ± 124 µs per loop (mean ± std. dev. of 7 runs, 100 loops each)\n"
     ]
    }
   ],
   "source": [
    "%timeit get_diff(data)"
   ]
  },
  {
   "cell_type": "code",
   "execution_count": 36,
   "metadata": {},
   "outputs": [
    {
     "name": "stdout",
     "output_type": "stream",
     "text": [
      "[43.23640848 39.13484577 24.36525157 ... 12.94072346 32.01871782\n",
      " 28.65637289]\n"
     ]
    }
   ],
   "source": [
    "print(vario[0].flatten())"
   ]
  },
  {
   "cell_type": "code",
   "execution_count": 58,
   "metadata": {},
   "outputs": [
    {
     "data": {
      "text/plain": [
       "52.368818680335515"
      ]
     },
     "execution_count": 58,
     "metadata": {},
     "output_type": "execute_result"
    }
   ],
   "source": [
    "np.max(vario[0])"
   ]
  },
  {
   "cell_type": "code",
   "execution_count": 42,
   "metadata": {},
   "outputs": [
    {
     "data": {
      "text/plain": [
       "(2, 4950)"
      ]
     },
     "execution_count": 42,
     "metadata": {},
     "output_type": "execute_result"
    }
   ],
   "source": [
    "vario.shape"
   ]
  },
  {
   "cell_type": "code",
   "execution_count": 61,
   "metadata": {},
   "outputs": [],
   "source": [
    "def emp_variogram(z_vario, lag_h):\n",
    "    '''\n",
    "    calculate empirical variogram\n",
    "    input: difference of spatial (2, nC2)matrix,  bandwith of bins\n",
    "    '''\n",
    "    num_rank = int(np.max(z_vario[0]) / lag_h)\n",
    "    bin_means, bin_edges, bin_number = stats.binned_statistic(z_vario[0], z_vario[1], statistic='mean', bins=num_rank)\n",
    "    e_vario = np.stack([bin_edges[1:], bin_means[0:]], axis=0) #bin_edgesに関しては最初のものを省く\n",
    "    e_vario = np.delete(e_vario, np.where(e_vario[1] <= 0), axis=1)\n",
    "    \n",
    "    return e_vario"
   ]
  },
  {
   "cell_type": "code",
   "execution_count": 52,
   "metadata": {},
   "outputs": [
    {
     "name": "stdout",
     "output_type": "stream",
     "text": [
      "[90.9112922  89.08501078 88.12167729 86.91670851 87.24549145]\n",
      "=============\n",
      "[ 0.2880758  10.70422437 21.12037295 31.53652153 41.9526701  52.36881868]\n",
      "[[10.70422437 21.12037295 31.53652153 41.9526701  52.36881868]\n",
      " [90.9112922  89.08501078 88.12167729 86.91670851 87.24549145]]\n"
     ]
    }
   ],
   "source": [
    "print(emp_variogram(vario, 10))"
   ]
  },
  {
   "cell_type": "code",
   "execution_count": 28,
   "metadata": {},
   "outputs": [],
   "source": [
    "e_vario = emp_variogram(vario,10)"
   ]
  },
  {
   "cell_type": "code",
   "execution_count": 53,
   "metadata": {},
   "outputs": [
    {
     "data": {
      "text/plain": [
       "array([90.9112922 , 89.08501078, 88.12167729, 86.91670851, 87.24549145])"
      ]
     },
     "execution_count": 53,
     "metadata": {},
     "output_type": "execute_result"
    }
   ],
   "source": [
    "e_vario[1]"
   ]
  },
  {
   "cell_type": "code",
   "execution_count": 59,
   "metadata": {},
   "outputs": [
    {
     "data": {
      "text/plain": [
       "<matplotlib.collections.PathCollection at 0x124924fd0>"
      ]
     },
     "execution_count": 59,
     "metadata": {},
     "output_type": "execute_result"
    },
    {
     "data": {
      "image/png": "[encoded data removed]",
      "text/plain": [
       "<Figure size 432x288 with 1 Axes>"
      ]
     },
     "metadata": {
      "needs_background": "light"
     },
     "output_type": "display_data"
    }
   ],
   "source": [
    "plt.scatter(e_vario[0], e_vario[1])"
   ]
  },
  {
   "cell_type": "code",
   "execution_count": 63,
   "metadata": {},
   "outputs": [],
   "source": [
    "def liner_model(x, a, b):\n",
    "    return a + b * x\n",
    "def gaussian_model(x, a, b, c):\n",
    "    return a + b * (1 - np.exp(-(x / c)**2))\n",
    "def exponential_model(x, a, b, c):\n",
    "    return a + b * (1 - np.exp(-(x / c)))\n",
    "def spherical_model(x, a, b, c):\n",
    "    cond = [x < c, x > c]\n",
    "    func = [lambda x : a + (b / 2)  * (3 * (x / c) - (x / c)**3), lambda x : a + b]\n",
    "    return np.piecewise(x, cond, func)"
   ]
  },
  {
   "cell_type": "code",
   "execution_count": 76,
   "metadata": {},
   "outputs": [],
   "source": [
    "import scipy.optimize as opt\n",
    "def auto_fit(e_vario, fitting_range, selected_model):\n",
    "    # フィッティングレンジまでで標本バリオグラムを削る\n",
    "    data = np.delete(e_vario, np.where(e_vario[0]>fitting_range)[0], axis=1)\n",
    "    if (selected_model == 0):\n",
    "        param, cov = opt.curve_fit(liner_model, data[0], data[1])\n",
    "    elif (selected_model == 1):\n",
    "        param, cov = opt.curve_fit(gaussian_model, data[0], data[1], [0, 0, fitting_range])\n",
    "    elif (selected_model == 2):\n",
    "        param, cov = opt.curve_fit(exponential_model, data[0], data[1], [0, 0, fitting_range])\n",
    "    elif (selected_model == 3):\n",
    "        param, cov = opt.curve_fit(spherical_model, data[0], data[1], [0, 0, fitting_range])\n",
    "    param = np.insert(param, 0, [selected_model,fitting_range])\n",
    "    return param"
   ]
  },
  {
   "cell_type": "code",
   "execution_count": 77,
   "metadata": {},
   "outputs": [],
   "source": [
    "param  = auto_fit(e_vario, 120, 0)"
   ]
  },
  {
   "cell_type": "code",
   "execution_count": 78,
   "metadata": {},
   "outputs": [
    {
     "name": "stdout",
     "output_type": "stream",
     "text": [
      "[ 0.00000000e+00  1.20000000e+02  9.13322807e+01 -9.12036115e-02]\n"
     ]
    }
   ],
   "source": [
    "print(param)"
   ]
  },
  {
   "cell_type": "code",
   "execution_count": 80,
   "metadata": {},
   "outputs": [
    {
     "name": "stdout",
     "output_type": "stream",
     "text": [
      "91.3322807009933 -0.0912036114836168\n"
     ]
    },
    {
     "data": {
      "image/png": "[encoded data removed]",
      "text/plain": [
       "<Figure size 432x288 with 1 Axes>"
      ]
     },
     "metadata": {
      "needs_background": "light"
     },
     "output_type": "display_data"
    }
   ],
   "source": [
    "fig = plt.figure()\n",
    "ax = plt.subplot(111)\n",
    "ax.plot(e_vario[0], e_vario[1], 'o')\n",
    "xlim_arr = np.arange(0, np.max(e_vario[0]), 10)\n",
    "if (param[0] == 0):\n",
    "    ax.plot(xlim_arr, liner_model(xlim_arr, param[2], param[3]), 'r-')\n",
    "    print(param[2], param[3])\n",
    "elif (param[0] == 1):\n",
    "    ax.plot(xlim_arr, gaussian_model(xlim_arr, param[2], param[3], param[4]), 'r-')\n",
    "    print(xlim_arr, param[3], param[4])\n",
    "elif (param[0] == 2):\n",
    "    ax.plot(xlim_arr, exponential_model(xlim_arr, param[2], param[3], param[4]), 'r-')\n",
    "    print(param[2], param[3], param[4])\n",
    "elif (param[0] == 3):\n",
    "    ax.plot(xlim_arr, spherical_model(xlim_arr, param[2], param[3], param[4]), 'r-')\n",
    "    print(param[2], param[3], param[4])\n",
    "# グラフのタイトルの設定\n",
    "ax.set_title('Semivariogram')\n",
    "# 軸ラベルの設定\n",
    "#ax.set_xlim([0, np.max(e_vario[0])])\n",
    "#ax.set_ylim([0, np.max(e_vario[1])])\n",
    "ax.set_xlabel('Distance [m]')\n",
    "ax.set_ylabel('Semivariance')\n",
    "# グラフの縦横比を調整\n",
    "aspect = 0.8 * (ax.get_xlim()[1] - ax.get_xlim()[0]) / (ax.get_ylim()[1] - ax.get_ylim()[0])                     \n",
    "ax.set_aspect(aspect)\n",
    "# グラフの描画\n",
    "plt.show()"
   ]
  }
 ],
 "metadata": {
  "jupytext": {
   "text_representation": {
    "extension": ".py",
    "format_name": "light",
    "format_version": "1.3",
    "jupytext_version": "1.0.2"
   }
  },
  "kernelspec": {
   "display_name": "Python 3",
   "language": "python",
   "name": "python3"
  },
  "language_info": {
   "codemirror_mode": {
    "name": "ipython",
    "version": 3
   },
   "file_extension": ".py",
   "mimetype": "text/x-python",
   "name": "python",
   "nbconvert_exporter": "python",
   "pygments_lexer": "ipython3",
   "version": "3.7.0"
  }
 },
 "nbformat": 4,
 "nbformat_minor": 2
}
