{
 "cells": [
  {
   "cell_type": "markdown",
   "metadata": {},
   "source": [
    "# 関数のテスト"
   ]
  },
  {
   "cell_type": "code",
   "execution_count": 1,
   "metadata": {},
   "outputs": [],
   "source": [
    "import pandas as pd\n",
    "import numpy as np\n",
    "import statsmodels.api as sm\n",
    "import matplotlib.pyplot as plt\n",
    "import calc_variogram as variogram\n",
    "import kriging_est as kriging"
   ]
  },
  {
   "cell_type": "code",
   "execution_count": 2,
   "metadata": {},
   "outputs": [],
   "source": [
    "%load_ext autoreload\n",
    "%autoreload 2"
   ]
  },
  {
   "cell_type": "code",
   "execution_count": 3,
   "metadata": {},
   "outputs": [],
   "source": [
    "data = pd.read_csv('/Users/LOng/sengokulab/LDAT_LS_2019/data/dev/house_price_raw.csv')\n",
    "data['price'] = np.log(data.price)"
   ]
  },
  {
   "cell_type": "markdown",
   "metadata": {},
   "source": [
    "## Step1: OLSから残差を算出"
   ]
  },
  {
   "cell_type": "code",
   "execution_count": 4,
   "metadata": {},
   "outputs": [],
   "source": [
    "# 前処理\n",
    "x = data[['station', 'tokyo']]\n",
    "y = data['price']"
   ]
  },
  {
   "cell_type": "code",
   "execution_count": 5,
   "metadata": {},
   "outputs": [],
   "source": [
    "step1 = sm.OLS(y, x)\n",
    "step1_res = step1.fit()\n",
    "resid = step1_res.resid"
   ]
  },
  {
   "cell_type": "markdown",
   "metadata": {},
   "source": [
    "## Step2: 残差からvariogramを推定"
   ]
  },
  {
   "cell_type": "code",
   "execution_count": 6,
   "metadata": {},
   "outputs": [],
   "source": [
    "# 前処理\n",
    "resid = pd.DataFrame(resid, columns=['residuals'])\n",
    "resid = data[['px', 'py']].join(resid)\n",
    "resid = resid.values"
   ]
  },
  {
   "cell_type": "code",
   "execution_count": 7,
   "metadata": {},
   "outputs": [
    {
     "data": {
      "text/plain": [
       "array([[ 1.39362310e+02,  3.57338500e+01, -2.19762641e+00],\n",
       "       [ 1.39363027e+02,  3.56540780e+01, -2.02881591e+00],\n",
       "       [ 1.39367082e+02,  3.56598590e+01, -1.56820750e+00],\n",
       "       [ 1.39369003e+02,  3.56455460e+01, -1.44905066e+00],\n",
       "       [ 1.39371526e+02,  3.56473230e+01, -1.57131189e+00],\n",
       "       [ 1.39373562e+02,  3.57275950e+01, -1.24026561e+00],\n",
       "       [ 1.39374415e+02,  3.56732410e+01, -1.53129022e+00],\n",
       "       [ 1.39374691e+02,  3.56539720e+01, -1.29646077e+00],\n",
       "       [ 1.39375802e+02,  3.56629740e+01, -8.90992590e-01],\n",
       "       [ 1.39377419e+02,  3.56685930e+01, -1.07634726e+00],\n",
       "       [ 1.39379504e+02,  3.56789730e+01, -1.39733678e+00],\n",
       "       [ 1.39379862e+02,  3.56816580e+01, -1.50014008e+00],\n",
       "       [ 1.39380375e+02,  3.56544240e+01, -8.21454976e-01],\n",
       "       [ 1.39380871e+02,  3.57220070e+01, -1.51691262e+00],\n",
       "       [ 1.39382431e+02,  3.56486010e+01, -8.36495633e-01],\n",
       "       [ 1.39382461e+02,  3.56530610e+01, -9.26234389e-01],\n",
       "       [ 1.39385678e+02,  3.56714310e+01, -8.93294234e-01],\n",
       "       [ 1.39385702e+02,  3.56477970e+01, -9.05117840e-01],\n",
       "       [ 1.39387019e+02,  3.56786190e+01, -8.42299036e-01],\n",
       "       [ 1.39387149e+02,  3.57265590e+01, -8.16901499e-01],\n",
       "       [ 1.39388185e+02,  3.56445140e+01, -1.30887983e+00],\n",
       "       [ 1.39389455e+02,  3.57280240e+01, -6.09633146e-01],\n",
       "       [ 1.39389986e+02,  3.56963250e+01, -7.17448339e-01],\n",
       "       [ 1.39390136e+02,  3.56649620e+01, -7.45589735e-01],\n",
       "       [ 1.39390370e+02,  3.57230930e+01, -8.40479614e-01],\n",
       "       [ 1.39391688e+02,  3.56560460e+01, -2.43724204e-01],\n",
       "       [ 1.39392021e+02,  3.56493210e+01, -9.07535734e-01],\n",
       "       [ 1.39392135e+02,  3.56625380e+01, -6.95133082e-01],\n",
       "       [ 1.39392169e+02,  3.56828930e+01, -3.94432284e-01],\n",
       "       [ 1.39393753e+02,  3.56906080e+01, -8.75676589e-01],\n",
       "       [ 1.39396996e+02,  3.56979400e+01, -2.30514933e-01],\n",
       "       [ 1.39397067e+02,  3.56766410e+01, -6.09300147e-02],\n",
       "       [ 1.39397279e+02,  3.56598450e+01, -5.14833196e-01],\n",
       "       [ 1.39398141e+02,  3.56551010e+01, -6.48588373e-01],\n",
       "       [ 1.39398703e+02,  3.56838470e+01, -2.83984720e-01],\n",
       "       [ 1.39401387e+02,  3.56790670e+01, -2.77489825e-01],\n",
       "       [ 1.39402497e+02,  3.57270650e+01, -6.15705172e-01],\n",
       "       [ 1.39403087e+02,  3.56993760e+01, -5.94629308e-02],\n",
       "       [ 1.39403221e+02,  3.56928720e+01,  1.43028939e-01],\n",
       "       [ 1.39403294e+02,  3.56739470e+01, -3.78154429e-01],\n",
       "       [ 1.39403575e+02,  3.57221250e+01, -6.92530793e-01],\n",
       "       [ 1.39403838e+02,  3.57332550e+01, -6.90348311e-01],\n",
       "       [ 1.39405076e+02,  3.56907070e+01,  3.32684614e-01],\n",
       "       [ 1.39405101e+02,  3.56676180e+01, -5.29632848e-01],\n",
       "       [ 1.39406794e+02,  3.56563890e+01, -2.25272344e-01],\n",
       "       [ 1.39407989e+02,  3.56491310e+01, -1.72843490e-01],\n",
       "       [ 1.39409864e+02,  3.56936330e+01,  7.87375602e-01],\n",
       "       [ 1.39411300e+02,  3.56688750e+01,  3.06762549e-02],\n",
       "       [ 1.39411904e+02,  3.57483580e+01, -1.85977582e-01],\n",
       "       [ 1.39412210e+02,  3.56537620e+01,  5.75502158e-02],\n",
       "       [ 1.39412829e+02,  3.57290970e+01,  1.87837903e-01],\n",
       "       [ 1.39413620e+02,  3.57582920e+01, -9.85281336e-01],\n",
       "       [ 1.39413646e+02,  3.56784660e+01,  2.05473255e-01],\n",
       "       [ 1.39414008e+02,  3.56887560e+01,  6.38643815e-01],\n",
       "       [ 1.39414047e+02,  3.57243710e+01,  3.32934589e-01],\n",
       "       [ 1.39414252e+02,  3.57510790e+01, -2.46502099e-01],\n",
       "       [ 1.39414582e+02,  3.57419210e+01,  1.37811224e-01],\n",
       "       [ 1.39414585e+02,  3.57546990e+01, -5.53798185e-01],\n",
       "       [ 1.39416336e+02,  3.56920620e+01,  8.27642357e-01],\n",
       "       [ 1.39416340e+02,  3.56570870e+01,  1.05519523e-01],\n",
       "       [ 1.39419331e+02,  3.56119660e+01,  4.76291334e-03],\n",
       "       [ 1.39420094e+02,  3.56654440e+01,  3.24693077e-01],\n",
       "       [ 1.39420148e+02,  3.57070900e+01,  7.14335913e-01],\n",
       "       [ 1.39420614e+02,  3.57520930e+01, -2.08534667e-01],\n",
       "       [ 1.39420848e+02,  3.57294490e+01,  6.15226666e-01],\n",
       "       [ 1.39421153e+02,  3.56943090e+01,  1.10422238e+00],\n",
       "       [ 1.39422312e+02,  3.57452200e+01,  1.62463235e-01],\n",
       "       [ 1.39422578e+02,  3.56562660e+01, -4.67686570e-03],\n",
       "       [ 1.39422826e+02,  3.57227880e+01,  6.14665506e-01],\n",
       "       [ 1.39424139e+02,  3.57550260e+01, -4.46460362e-01],\n",
       "       [ 1.39425038e+02,  3.57030190e+01,  6.87596295e-01],\n",
       "       [ 1.39425122e+02,  3.57517390e+01, -2.37288822e-01],\n",
       "       [ 1.39425452e+02,  3.57122240e+01,  6.04235458e-01],\n",
       "       [ 1.39426789e+02,  3.56568150e+01,  5.76302468e-01],\n",
       "       [ 1.39427019e+02,  3.57388400e+01,  3.87459180e-01],\n",
       "       [ 1.39427024e+02,  3.56097610e+01, -1.60730780e-01],\n",
       "       [ 1.39427292e+02,  3.56603250e+01,  7.28225922e-01],\n",
       "       [ 1.39427461e+02,  3.56906460e+01,  1.01516466e+00],\n",
       "       [ 1.39427599e+02,  3.57181640e+01,  6.54492568e-01],\n",
       "       [ 1.39428293e+02,  3.56946940e+01,  1.10688595e+00],\n",
       "       [ 1.39428938e+02,  3.56478410e+01,  4.26905089e-02],\n",
       "       [ 1.39429516e+02,  3.56343550e+01,  3.15016372e-01],\n",
       "       [ 1.39429722e+02,  3.57095340e+01,  4.21937001e-01],\n",
       "       [ 1.39430619e+02,  3.57236430e+01,  5.31678003e-01],\n",
       "       [ 1.39430944e+02,  3.56446360e+01,  1.86068359e-01],\n",
       "       [ 1.39431331e+02,  3.57479810e+01, -2.04475593e-01],\n",
       "       [ 1.39432789e+02,  3.57581520e+01, -7.23139230e-02],\n",
       "       [ 1.39432960e+02,  3.57351640e+01,  1.01269826e+00],\n",
       "       [ 1.39433053e+02,  3.57448980e+01,  2.12811538e-01],\n",
       "       [ 1.39433586e+02,  3.56578370e+01,  1.01936091e+00],\n",
       "       [ 1.39433625e+02,  3.56097140e+01, -1.69160191e-01],\n",
       "       [ 1.39433797e+02,  3.56309020e+01,  4.35368607e-01],\n",
       "       [ 1.39433818e+02,  3.57396030e+01,  7.43901922e-01],\n",
       "       [ 1.39434536e+02,  3.57507660e+01,  1.23254187e-01],\n",
       "       [ 1.39434693e+02,  3.56469830e+01,  3.87988463e-01],\n",
       "       [ 1.39436517e+02,  3.56389400e+01,  2.07623232e-01],\n",
       "       [ 1.39438638e+02,  3.56261530e+01,  5.33828911e-01],\n",
       "       [ 1.39438824e+02,  3.57458450e+01,  3.87434793e-01],\n",
       "       [ 1.39438835e+02,  3.57411960e+01,  6.57767475e-01],\n",
       "       [ 1.39439163e+02,  3.57521830e+01,  5.50271690e-01],\n",
       "       [ 1.39439755e+02,  3.57369700e+01,  9.13140405e-01],\n",
       "       [ 1.39440141e+02,  3.56402260e+01,  4.33510470e-01],\n",
       "       [ 1.39440956e+02,  3.56494710e+01,  1.33274800e+00],\n",
       "       [ 1.39441653e+02,  3.56537110e+01,  1.16892931e+00],\n",
       "       [ 1.39442373e+02,  3.57540380e+01,  9.30242745e-01],\n",
       "       [ 1.39442431e+02,  3.56438820e+01,  8.31401720e-01],\n",
       "       [ 1.39442754e+02,  3.57176720e+01,  5.13977319e-01],\n",
       "       [ 1.39443038e+02,  3.57386780e+01,  7.11795163e-01],\n",
       "       [ 1.39443203e+02,  3.56543670e+01,  1.28490082e+00],\n",
       "       [ 1.39443277e+02,  3.56284930e+01,  1.01425633e+00],\n",
       "       [ 1.39443966e+02,  3.57434760e+01,  5.45597901e-01],\n",
       "       [ 1.39444084e+02,  3.56318790e+01,  1.20392109e+00],\n",
       "       [ 1.39444111e+02,  3.56171670e+01,  3.85778634e-01],\n",
       "       [ 1.39445557e+02,  3.57217170e+01,  6.23590359e-01],\n",
       "       [ 1.39446647e+02,  3.57504090e+01,  8.23953005e-01],\n",
       "       [ 1.39447369e+02,  3.56471830e+01,  1.50901810e+00],\n",
       "       [ 1.39447438e+02,  3.57381660e+01,  5.74606349e-01],\n",
       "       [ 1.39450426e+02,  3.56359590e+01,  1.26396928e+00],\n",
       "       [ 1.39451132e+02,  3.56455990e+01,  1.30712451e+00],\n",
       "       [ 1.39451502e+02,  3.56312190e+01,  1.37249250e+00],\n",
       "       [ 1.39452086e+02,  3.56519080e+01,  1.58633782e+00],\n",
       "       [ 1.39454277e+02,  3.56444230e+01,  1.07534615e+00],\n",
       "       [ 1.39455494e+02,  3.56412710e+01,  9.09811498e-01],\n",
       "       [ 1.39458695e+02,  3.56456000e+01,  1.13036906e+00],\n",
       "       [ 1.39460661e+02,  3.56306840e+01,  9.40638823e-01],\n",
       "       [ 1.39462412e+02,  3.56279950e+01,  1.26697247e+00],\n",
       "       [ 1.39464025e+02,  3.56327270e+01,  8.95666408e-01],\n",
       "       [ 1.39466581e+02,  3.56399090e+01,  7.78645294e-01]])"
      ]
     },
     "execution_count": 7,
     "metadata": {},
     "output_type": "execute_result"
    }
   ],
   "source": [
    "resid"
   ]
  },
  {
   "cell_type": "code",
   "execution_count": 8,
   "metadata": {},
   "outputs": [],
   "source": [
    "vario = variogram.get_diff(resid)"
   ]
  },
  {
   "cell_type": "code",
   "execution_count": 9,
   "metadata": {},
   "outputs": [
    {
     "data": {
      "text/plain": [
       "<matplotlib.collections.PathCollection at 0x122ac1128>"
      ]
     },
     "execution_count": 9,
     "metadata": {},
     "output_type": "execute_result"
    },
    {
     "data": {
      "image/png": "[encoded data removed]",
      "text/plain": [
       "<Figure size 432x288 with 1 Axes>"
      ]
     },
     "metadata": {
      "needs_background": "light"
     },
     "output_type": "display_data"
    }
   ],
   "source": [
    "plt.scatter(vario[0], vario[1])"
   ]
  },
  {
   "cell_type": "code",
   "execution_count": 10,
   "metadata": {},
   "outputs": [
    {
     "data": {
      "text/plain": [
       "<matplotlib.collections.PathCollection at 0x124bcd160>"
      ]
     },
     "execution_count": 10,
     "metadata": {},
     "output_type": "execute_result"
    },
    {
     "data": {
      "image/png": "[encoded data removed]",
      "text/plain": [
       "<Figure size 432x288 with 1 Axes>"
      ]
     },
     "metadata": {
      "needs_background": "light"
     },
     "output_type": "display_data"
    }
   ],
   "source": [
    "e_vario, lag = variogram.emp_variogram(vario, 14)\n",
    "plt.scatter(e_vario[0], e_vario[1])"
   ]
  },
  {
   "cell_type": "code",
   "execution_count": 11,
   "metadata": {},
   "outputs": [
    {
     "name": "stdout",
     "output_type": "stream",
     "text": [
      "[ 0.00000000e+00  1.00000000e+02 -9.31287719e-02  3.05753574e+01]\n",
      "[1.00000000e+00 1.00000000e+02 4.02229290e-02 1.15936237e+00\n",
      " 2.74533641e-02]\n",
      "[2.00000000e+00 1.00000000e+02 5.92766230e-28 1.00000000e+02\n",
      " 3.69238764e+00]\n",
      "[3.00000000e+00 1.00000000e+02 1.01603614e-33 9.99973584e+01\n",
      " 5.55954509e+00]\n",
      "[0.         0.00457977 0.00915954 0.01373932 0.01831909 0.02289886\n",
      " 0.02747863 0.03205841 0.03663818 0.04121795]\n",
      "[0.         0.00457977 0.00915954 0.01373932 0.01831909 0.02289886\n",
      " 0.02747863 0.03205841 0.03663818 0.04121795] 1.159362365092936 0.02745336407021383\n",
      "[1.00000000e+00 1.00000000e+02 4.02229290e-02 1.15936237e+00\n",
      " 2.74533641e-02]\n"
     ]
    },
    {
     "data": {
      "image/png": "[encoded data removed]",
      "text/plain": [
       "<Figure size 432x288 with 1 Axes>"
      ]
     },
     "metadata": {
      "needs_background": "light"
     },
     "output_type": "display_data"
    }
   ],
   "source": [
    "param, lag, fig = variogram.auto_vario(vario, 14)"
   ]
  },
  {
   "cell_type": "code",
   "execution_count": 12,
   "metadata": {},
   "outputs": [
    {
     "name": "stdout",
     "output_type": "stream",
     "text": [
      "[1.00000000e+00 1.00000000e+02 4.02229290e-02 1.15936237e+00\n",
      " 2.74533641e-02]\n"
     ]
    }
   ],
   "source": [
    "print(param)"
   ]
  },
  {
   "cell_type": "markdown",
   "metadata": {},
   "source": [
    "## Step3: gls\n",
    "- 共分散関数を推定\n",
    "    - 観測値間の距離行列を作成\n",
    "    - 推定したパラメータから$\\hat{C}(0)$を推定\n",
    "    - 正定値になるように処理を加える(数学的な根拠は不明, Rではどのように処理している?)\n",
    "- 共分散関数の推定量を用いてgls"
   ]
  },
  {
   "cell_type": "code",
   "execution_count": 13,
   "metadata": {},
   "outputs": [],
   "source": [
    "distance_mat = kriging.calc_distance_matrix(data, ['px', 'py'])"
   ]
  },
  {
   "cell_type": "code",
   "execution_count": 14,
   "metadata": {},
   "outputs": [],
   "source": [
    "efrange, c0 = kriging.calc_c0(param, distance_mat)"
   ]
  },
  {
   "cell_type": "code",
   "execution_count": 15,
   "metadata": {},
   "outputs": [
    {
     "name": "stdout",
     "output_type": "stream",
     "text": [
      "0.1499187183409662\n"
     ]
    }
   ],
   "source": [
    "print(efrange)"
   ]
  },
  {
   "cell_type": "code",
   "execution_count": 16,
   "metadata": {},
   "outputs": [
    {
     "name": "stdout",
     "output_type": "stream",
     "text": [
      "0.511292448046795\n"
     ]
    }
   ],
   "source": [
    "print(c0)"
   ]
  },
  {
   "cell_type": "code",
   "execution_count": 17,
   "metadata": {},
   "outputs": [
    {
     "name": "stdout",
     "output_type": "stream",
     "text": [
      "0.648169917046143\n"
     ]
    }
   ],
   "source": [
    "# 距離行列と関数形から共分散関数を求める\n",
    "# reg=Trueなので正定値化処理を加えている\n",
    "covariance_mat = kriging.est_covariance_matrix(distance_mat, param, c0)"
   ]
  },
  {
   "cell_type": "code",
   "execution_count": 18,
   "metadata": {
    "scrolled": true
   },
   "outputs": [
    {
     "name": "stdout",
     "output_type": "stream",
     "text": [
      "[[1.15946237 0.9194825  0.94897167 ... 0.53510927 0.54800759 0.5657438 ]\n",
      " [0.9194825  1.15946237 1.15725855 ... 0.78922928 0.78639522 0.77876343]\n",
      " [0.94897167 1.15725855 1.15946237 ... 0.80240627 0.80150167 0.79672904]\n",
      " ...\n",
      " [0.53510927 0.78922928 0.80240627 ... 1.15946237 1.15830736 1.15265356]\n",
      " [0.54800759 0.78639522 0.80150167 ... 1.15830736 1.15946237 1.15691078]\n",
      " [0.5657438  0.77876343 0.79672904 ... 1.15265356 1.15691078 1.15946237]]\n"
     ]
    }
   ],
   "source": [
    "print(covariance_mat)"
   ]
  },
  {
   "cell_type": "code",
   "execution_count": 19,
   "metadata": {},
   "outputs": [],
   "source": [
    "# 重みを用いてgls\n",
    "# statsmodelsのresultクラスが返る\n",
    "res, resid = kriging.do_gls(y, x, covariance_mat)"
   ]
  },
  {
   "cell_type": "code",
   "execution_count": 20,
   "metadata": {},
   "outputs": [
    {
     "data": {
      "text/html": [
       "<table class=\"simpletable\">\n",
       "<caption>GLS Regression Results</caption>\n",
       "<tr>\n",
       "  <th>Dep. Variable:</th>          <td>price</td>      <th>  R-squared:         </th> <td>   0.275</td>\n",
       "</tr>\n",
       "<tr>\n",
       "  <th>Model:</th>                   <td>GLS</td>       <th>  Adj. R-squared:    </th> <td>   0.263</td>\n",
       "</tr>\n",
       "<tr>\n",
       "  <th>Method:</th>             <td>Least Squares</td>  <th>  F-statistic:       </th> <td>   23.86</td>\n",
       "</tr>\n",
       "<tr>\n",
       "  <th>Date:</th>             <td>Thu, 11 Apr 2019</td> <th>  Prob (F-statistic):</th> <td>1.64e-09</td>\n",
       "</tr>\n",
       "<tr>\n",
       "  <th>Time:</th>                 <td>15:56:32</td>     <th>  Log-Likelihood:    </th> <td>  54.586</td>\n",
       "</tr>\n",
       "<tr>\n",
       "  <th>No. Observations:</th>      <td>   128</td>      <th>  AIC:               </th> <td>  -105.2</td>\n",
       "</tr>\n",
       "<tr>\n",
       "  <th>Df Residuals:</th>          <td>   126</td>      <th>  BIC:               </th> <td>  -99.47</td>\n",
       "</tr>\n",
       "<tr>\n",
       "  <th>Df Model:</th>              <td>     2</td>      <th>                     </th>     <td> </td>   \n",
       "</tr>\n",
       "<tr>\n",
       "  <th>Covariance Type:</th>      <td>nonrobust</td>    <th>                     </th>     <td> </td>   \n",
       "</tr>\n",
       "</table>\n",
       "<table class=\"simpletable\">\n",
       "<tr>\n",
       "     <td></td>        <th>coef</th>     <th>std err</th>      <th>t</th>      <th>P>|t|</th>  <th>[0.025</th>    <th>0.975]</th>  \n",
       "</tr>\n",
       "<tr>\n",
       "  <th>station</th> <td>  -21.8741</td> <td>    3.269</td> <td>   -6.690</td> <td> 0.000</td> <td>  -28.344</td> <td>  -15.404</td>\n",
       "</tr>\n",
       "<tr>\n",
       "  <th>tokyo</th>   <td>   33.1966</td> <td>   18.766</td> <td>    1.769</td> <td> 0.079</td> <td>   -3.941</td> <td>   70.334</td>\n",
       "</tr>\n",
       "</table>\n",
       "<table class=\"simpletable\">\n",
       "<tr>\n",
       "  <th>Omnibus:</th>       <td> 1.538</td> <th>  Durbin-Watson:     </th> <td>   2.281</td>\n",
       "</tr>\n",
       "<tr>\n",
       "  <th>Prob(Omnibus):</th> <td> 0.464</td> <th>  Jarque-Bera (JB):  </th> <td>   1.069</td>\n",
       "</tr>\n",
       "<tr>\n",
       "  <th>Skew:</th>          <td> 0.170</td> <th>  Prob(JB):          </th> <td>   0.586</td>\n",
       "</tr>\n",
       "<tr>\n",
       "  <th>Kurtosis:</th>      <td> 3.291</td> <th>  Cond. No.          </th> <td>    5.74</td>\n",
       "</tr>\n",
       "</table><br/><br/>Warnings:<br/>[1] Standard Errors assume that the covariance matrix of the errors is correctly specified."
      ],
      "text/plain": [
       "<class 'statsmodels.iolib.summary.Summary'>\n",
       "\"\"\"\n",
       "                            GLS Regression Results                            \n",
       "==============================================================================\n",
       "Dep. Variable:                  price   R-squared:                       0.275\n",
       "Model:                            GLS   Adj. R-squared:                  0.263\n",
       "Method:                 Least Squares   F-statistic:                     23.86\n",
       "Date:                Thu, 11 Apr 2019   Prob (F-statistic):           1.64e-09\n",
       "Time:                        15:56:32   Log-Likelihood:                 54.586\n",
       "No. Observations:                 128   AIC:                            -105.2\n",
       "Df Residuals:                     126   BIC:                            -99.47\n",
       "Df Model:                           2                                         \n",
       "Covariance Type:            nonrobust                                         \n",
       "==============================================================================\n",
       "                 coef    std err          t      P>|t|      [0.025      0.975]\n",
       "------------------------------------------------------------------------------\n",
       "station      -21.8741      3.269     -6.690      0.000     -28.344     -15.404\n",
       "tokyo         33.1966     18.766      1.769      0.079      -3.941      70.334\n",
       "==============================================================================\n",
       "Omnibus:                        1.538   Durbin-Watson:                   2.281\n",
       "Prob(Omnibus):                  0.464   Jarque-Bera (JB):                1.069\n",
       "Skew:                           0.170   Prob(JB):                        0.586\n",
       "Kurtosis:                       3.291   Cond. No.                         5.74\n",
       "==============================================================================\n",
       "\n",
       "Warnings:\n",
       "[1] Standard Errors assume that the covariance matrix of the errors is correctly specified.\n",
       "\"\"\""
      ]
     },
     "execution_count": 20,
     "metadata": {},
     "output_type": "execute_result"
    }
   ],
   "source": [
    "res.summary()"
   ]
  },
  {
   "cell_type": "markdown",
   "metadata": {},
   "source": [
    "## Step4: kirigng\n",
    "- 観測地点と予測地点の間の共分散関数$c_*$を作成する\n",
    "    - 距離行列作成\n",
    "    - 共分散関数にあてはめる\n",
    "- 足し合わせ $\\hat{Y}(s_o) = X(s_0)\\hat{\\beta}_{gls} + c_*'\\hat{\\Sigma}^{-1}(Y - X\\beta)$"
   ]
  },
  {
   "cell_type": "code",
   "execution_count": 21,
   "metadata": {},
   "outputs": [
    {
     "data": {
      "text/html": [
       "<div>\n",
       "<style scoped>\n",
       "    .dataframe tbody tr th:only-of-type {\n",
       "        vertical-align: middle;\n",
       "    }\n",
       "\n",
       "    .dataframe tbody tr th {\n",
       "        vertical-align: top;\n",
       "    }\n",
       "\n",
       "    .dataframe thead th {\n",
       "        text-align: right;\n",
       "    }\n",
       "</style>\n",
       "<table border=\"1\" class=\"dataframe\">\n",
       "  <thead>\n",
       "    <tr style=\"text-align: right;\">\n",
       "      <th></th>\n",
       "      <th>px</th>\n",
       "      <th>py</th>\n",
       "      <th>price</th>\n",
       "      <th>station</th>\n",
       "      <th>tokyo</th>\n",
       "    </tr>\n",
       "  </thead>\n",
       "  <tbody>\n",
       "    <tr>\n",
       "      <th>0</th>\n",
       "      <td>139.402984</td>\n",
       "      <td>35.767626</td>\n",
       "      <td>NaN</td>\n",
       "      <td>0.017537</td>\n",
       "      <td>0.374249</td>\n",
       "    </tr>\n",
       "    <tr>\n",
       "      <th>1</th>\n",
       "      <td>139.407036</td>\n",
       "      <td>35.767626</td>\n",
       "      <td>NaN</td>\n",
       "      <td>0.013571</td>\n",
       "      <td>0.370307</td>\n",
       "    </tr>\n",
       "    <tr>\n",
       "      <th>2</th>\n",
       "      <td>139.411089</td>\n",
       "      <td>35.767626</td>\n",
       "      <td>NaN</td>\n",
       "      <td>0.009675</td>\n",
       "      <td>0.366367</td>\n",
       "    </tr>\n",
       "    <tr>\n",
       "      <th>3</th>\n",
       "      <td>139.439457</td>\n",
       "      <td>35.767626</td>\n",
       "      <td>NaN</td>\n",
       "      <td>0.001584</td>\n",
       "      <td>0.338865</td>\n",
       "    </tr>\n",
       "    <tr>\n",
       "      <th>4</th>\n",
       "      <td>139.394878</td>\n",
       "      <td>35.763700</td>\n",
       "      <td>NaN</td>\n",
       "      <td>0.026327</td>\n",
       "      <td>0.381271</td>\n",
       "    </tr>\n",
       "  </tbody>\n",
       "</table>\n",
       "</div>"
      ],
      "text/plain": [
       "           px         py  price   station     tokyo\n",
       "0  139.402984  35.767626    NaN  0.017537  0.374249\n",
       "1  139.407036  35.767626    NaN  0.013571  0.370307\n",
       "2  139.411089  35.767626    NaN  0.009675  0.366367\n",
       "3  139.439457  35.767626    NaN  0.001584  0.338865\n",
       "4  139.394878  35.763700    NaN  0.026327  0.381271"
      ]
     },
     "execution_count": 21,
     "metadata": {},
     "output_type": "execute_result"
    }
   ],
   "source": [
    "# 前処理\n",
    "mdat = pd.read_csv('/Users/LOng/sengokulab/LDAT_LS_2019/data/dev/house_price_pred.csv')\n",
    "mdat.head()"
   ]
  },
  {
   "cell_type": "code",
   "execution_count": 22,
   "metadata": {},
   "outputs": [],
   "source": [
    "mpoints = mdat[['px', 'py']].values\n",
    "mexog = mdat[['station', 'tokyo']].values"
   ]
  },
  {
   "cell_type": "code",
   "execution_count": 23,
   "metadata": {},
   "outputs": [],
   "source": [
    "points = data[['px', 'py']].values"
   ]
  },
  {
   "cell_type": "code",
   "execution_count": 24,
   "metadata": {},
   "outputs": [],
   "source": [
    "# 距離行列作成\n",
    "new_dist_mat = kriging.calc_distance_new_data(mpoints, points)"
   ]
  },
  {
   "cell_type": "code",
   "execution_count": 25,
   "metadata": {},
   "outputs": [],
   "source": [
    "# 距離行列と関数型から共分散行列を推定\n",
    "# reg=Falseを指定して正定値処理をスキップ(正方行列でないのでエラーを防ぐ)\n",
    "c_mat = kriging.est_covariance_matrix(new_dist_mat, param, c0, reg=False)"
   ]
  },
  {
   "cell_type": "code",
   "execution_count": 26,
   "metadata": {},
   "outputs": [],
   "source": [
    "fitted_val = kriging.put_pred_val(res, mexog)"
   ]
  },
  {
   "cell_type": "code",
   "execution_count": 27,
   "metadata": {},
   "outputs": [],
   "source": [
    "kriging_val = kriging.do_kriging(fitted_val, c_mat, covariance_mat, resid)"
   ]
  },
  {
   "cell_type": "markdown",
   "metadata": {},
   "source": [
    "## Rでの結果との比較"
   ]
  },
  {
   "cell_type": "code",
   "execution_count": 28,
   "metadata": {},
   "outputs": [],
   "source": [
    "res_inR = pd.read_csv('/Users/LOng/sengokulab/LDAT_LS_2019/data/dev/krig_res_R.csv')\n",
    "res_inR = res_inR.iloc[:, 1:-2]"
   ]
  },
  {
   "cell_type": "code",
   "execution_count": 29,
   "metadata": {},
   "outputs": [
    {
     "data": {
      "text/plain": [
       "Text(0, 0.5, 'pred by Python')"
      ]
     },
     "execution_count": 29,
     "metadata": {},
     "output_type": "execute_result"
    },
    {
     "data": {
      "image/png": "[encoded data removed]",
      "text/plain": [
       "<Figure size 864x864 with 1 Axes>"
      ]
     },
     "metadata": {
      "needs_background": "light"
     },
     "output_type": "display_data"
    }
   ],
   "source": [
    "res_fig = plt.figure(figsize=(12, 12))\n",
    "res_ax = res_fig.add_subplot(1, 1, 1)\n",
    "res_ax.scatter(res_inR['var1.pred'], kriging_val)\n",
    "res_ax.plot(np.linspace(10, 14, 1000), np.linspace(10, 14, 1000), color='black')\n",
    "res_ax.set_xlim(10, 14)\n",
    "res_ax.set_ylim(10, 14)\n",
    "res_ax.set_xlabel('pred by R')\n",
    "res_ax.set_ylabel('pred by Python')\n",
    "# Rとの結果とそこそこ整合的になった?"
   ]
  },
  {
   "cell_type": "code",
   "execution_count": 57,
   "metadata": {},
   "outputs": [],
   "source": [
    "res_fig.savefig('/Users/LOng/sengokulab/LDAT_LS_2019/data/dev/plot/kriging_est_func_res2.png')"
   ]
  },
  {
   "cell_type": "markdown",
   "metadata": {},
   "source": [
    "# Todo\n",
    "- 共分散関数の$\\hat{C}(0)$の推定が指数型分布しか対応していないので、ガウス型などにも拡張\n",
    "    - 線形型の場合はユーザーが指定するように設定しているが、それで良いのか確認\n",
    "- クラス化してコードを簡略化"
   ]
  }
 ],
 "metadata": {
  "kernelspec": {
   "display_name": "Python 3",
   "language": "python",
   "name": "python3"
  },
  "language_info": {
   "codemirror_mode": {
    "name": "ipython",
    "version": 3
   },
   "file_extension": ".py",
   "mimetype": "text/x-python",
   "name": "python",
   "nbconvert_exporter": "python",
   "pygments_lexer": "ipython3",
   "version": "3.7.0"
  }
 },
 "nbformat": 4,
 "nbformat_minor": 2
}
