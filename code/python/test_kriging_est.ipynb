{
 "cells": [
  {
   "cell_type": "markdown",
   "metadata": {},
   "source": [
    "# 関数のテスト"
   ]
  },
  {
   "cell_type": "code",
   "execution_count": 1,
   "metadata": {},
   "outputs": [],
   "source": [
    "import sys\n",
    "sys.path.append('/Users/LOng/sengokulab/LDAT_LS_2019/scripts/')"
   ]
  },
  {
   "cell_type": "code",
   "execution_count": 2,
   "metadata": {},
   "outputs": [],
   "source": [
    "import pandas as pd\n",
    "import numpy as np\n",
    "import statsmodels.api as sm\n",
    "import matplotlib.pyplot as plt\n",
    "import calc_variogram as variogram\n",
    "import kriging_est as kriging"
   ]
  },
  {
   "cell_type": "code",
   "execution_count": 3,
   "metadata": {},
   "outputs": [],
   "source": [
    "%load_ext autoreload\n",
    "%autoreload 2"
   ]
  },
  {
   "cell_type": "code",
   "execution_count": 4,
   "metadata": {},
   "outputs": [],
   "source": [
    "data = pd.read_csv('/Users/LOng/sengokulab/LDAT_LS_2019/data/dev/house_price_raw.csv')\n",
    "data['price'] = np.log(data.price)"
   ]
  },
  {
   "cell_type": "markdown",
   "metadata": {},
   "source": [
    "## Step1: OLSから残差を算出"
   ]
  },
  {
   "cell_type": "code",
   "execution_count": 5,
   "metadata": {},
   "outputs": [],
   "source": [
    "# 前処理\n",
    "x = data[['station', 'tokyo']]\n",
    "y = data['price'].values"
   ]
  },
  {
   "cell_type": "code",
   "execution_count": 6,
   "metadata": {},
   "outputs": [
    {
     "name": "stderr",
     "output_type": "stream",
     "text": [
      "/Users/LOng/sengokulab/LDAT_LS_2019/.venv/lib/python3.7/site-packages/numpy/core/fromnumeric.py:2389: FutureWarning: Method .ptp is deprecated and will be removed in a future version. Use numpy.ptp instead.\n",
      "  return ptp(axis=axis, out=out, **kwargs)\n"
     ]
    }
   ],
   "source": [
    "x = sm.add_constant(x).values\n",
    "step1 = sm.OLS(y, x)\n",
    "step1_res = step1.fit()\n",
    "resid = step1_res.resid"
   ]
  },
  {
   "cell_type": "code",
   "execution_count": 7,
   "metadata": {},
   "outputs": [
    {
     "data": {
      "text/html": [
       "<table class=\"simpletable\">\n",
       "<caption>OLS Regression Results</caption>\n",
       "<tr>\n",
       "  <th>Dep. Variable:</th>            <td>y</td>        <th>  R-squared:         </th> <td>   0.136</td>\n",
       "</tr>\n",
       "<tr>\n",
       "  <th>Model:</th>                   <td>OLS</td>       <th>  Adj. R-squared:    </th> <td>   0.122</td>\n",
       "</tr>\n",
       "<tr>\n",
       "  <th>Method:</th>             <td>Least Squares</td>  <th>  F-statistic:       </th> <td>   9.803</td>\n",
       "</tr>\n",
       "<tr>\n",
       "  <th>Date:</th>             <td>Sun, 09 Jun 2019</td> <th>  Prob (F-statistic):</th> <td>0.000111</td>\n",
       "</tr>\n",
       "<tr>\n",
       "  <th>Time:</th>                 <td>10:54:26</td>     <th>  Log-Likelihood:    </th> <td>  26.921</td>\n",
       "</tr>\n",
       "<tr>\n",
       "  <th>No. Observations:</th>      <td>   128</td>      <th>  AIC:               </th> <td>  -47.84</td>\n",
       "</tr>\n",
       "<tr>\n",
       "  <th>Df Residuals:</th>          <td>   125</td>      <th>  BIC:               </th> <td>  -39.29</td>\n",
       "</tr>\n",
       "<tr>\n",
       "  <th>Df Model:</th>              <td>     2</td>      <th>                     </th>     <td> </td>   \n",
       "</tr>\n",
       "<tr>\n",
       "  <th>Covariance Type:</th>      <td>nonrobust</td>    <th>                     </th>     <td> </td>   \n",
       "</tr>\n",
       "</table>\n",
       "<table class=\"simpletable\">\n",
       "<tr>\n",
       "    <td></td>       <th>coef</th>     <th>std err</th>      <th>t</th>      <th>P>|t|</th>  <th>[0.025</th>    <th>0.975]</th>  \n",
       "</tr>\n",
       "<tr>\n",
       "  <th>const</th> <td>   12.6572</td> <td>    0.273</td> <td>   46.363</td> <td> 0.000</td> <td>   12.117</td> <td>   13.198</td>\n",
       "</tr>\n",
       "<tr>\n",
       "  <th>x1</th>    <td>  -20.7934</td> <td>    4.698</td> <td>   -4.426</td> <td> 0.000</td> <td>  -30.092</td> <td>  -11.495</td>\n",
       "</tr>\n",
       "<tr>\n",
       "  <th>x2</th>    <td>   -0.7842</td> <td>    0.743</td> <td>   -1.056</td> <td> 0.293</td> <td>   -2.254</td> <td>    0.686</td>\n",
       "</tr>\n",
       "</table>\n",
       "<table class=\"simpletable\">\n",
       "<tr>\n",
       "  <th>Omnibus:</th>       <td> 4.618</td> <th>  Durbin-Watson:     </th> <td>   2.199</td>\n",
       "</tr>\n",
       "<tr>\n",
       "  <th>Prob(Omnibus):</th> <td> 0.099</td> <th>  Jarque-Bera (JB):  </th> <td>   4.368</td>\n",
       "</tr>\n",
       "<tr>\n",
       "  <th>Skew:</th>          <td> 0.452</td> <th>  Prob(JB):          </th> <td>   0.113</td>\n",
       "</tr>\n",
       "<tr>\n",
       "  <th>Kurtosis:</th>      <td> 3.049</td> <th>  Cond. No.          </th> <td>    284.</td>\n",
       "</tr>\n",
       "</table><br/><br/>Warnings:<br/>[1] Standard Errors assume that the covariance matrix of the errors is correctly specified."
      ],
      "text/plain": [
       "<class 'statsmodels.iolib.summary.Summary'>\n",
       "\"\"\"\n",
       "                            OLS Regression Results                            \n",
       "==============================================================================\n",
       "Dep. Variable:                      y   R-squared:                       0.136\n",
       "Model:                            OLS   Adj. R-squared:                  0.122\n",
       "Method:                 Least Squares   F-statistic:                     9.803\n",
       "Date:                Sun, 09 Jun 2019   Prob (F-statistic):           0.000111\n",
       "Time:                        10:54:26   Log-Likelihood:                 26.921\n",
       "No. Observations:                 128   AIC:                            -47.84\n",
       "Df Residuals:                     125   BIC:                            -39.29\n",
       "Df Model:                           2                                         \n",
       "Covariance Type:            nonrobust                                         \n",
       "==============================================================================\n",
       "                 coef    std err          t      P>|t|      [0.025      0.975]\n",
       "------------------------------------------------------------------------------\n",
       "const         12.6572      0.273     46.363      0.000      12.117      13.198\n",
       "x1           -20.7934      4.698     -4.426      0.000     -30.092     -11.495\n",
       "x2            -0.7842      0.743     -1.056      0.293      -2.254       0.686\n",
       "==============================================================================\n",
       "Omnibus:                        4.618   Durbin-Watson:                   2.199\n",
       "Prob(Omnibus):                  0.099   Jarque-Bera (JB):                4.368\n",
       "Skew:                           0.452   Prob(JB):                        0.113\n",
       "Kurtosis:                       3.049   Cond. No.                         284.\n",
       "==============================================================================\n",
       "\n",
       "Warnings:\n",
       "[1] Standard Errors assume that the covariance matrix of the errors is correctly specified.\n",
       "\"\"\""
      ]
     },
     "execution_count": 7,
     "metadata": {},
     "output_type": "execute_result"
    }
   ],
   "source": [
    "step1_res.summary()"
   ]
  },
  {
   "cell_type": "markdown",
   "metadata": {},
   "source": [
    "## Step2: 残差からvariogramを推定"
   ]
  },
  {
   "cell_type": "code",
   "execution_count": 8,
   "metadata": {},
   "outputs": [],
   "source": [
    "# 前処理\n",
    "resid = pd.DataFrame(resid, columns=['residuals'])\n",
    "resid = data[['px', 'py']].join(resid)\n",
    "resid = resid.values"
   ]
  },
  {
   "cell_type": "code",
   "execution_count": 9,
   "metadata": {},
   "outputs": [
    {
     "data": {
      "text/plain": [
       "array([[ 1.39362310e+02,  3.57338500e+01, -1.78101794e-01],\n",
       "       [ 1.39363027e+02,  3.56540780e+01, -4.20838794e-02],\n",
       "       [ 1.39367082e+02,  3.56598590e+01,  1.54801037e-01],\n",
       "       [ 1.39369003e+02,  3.56455460e+01, -1.95988429e-01],\n",
       "       [ 1.39371526e+02,  3.56473230e+01, -1.81487357e-01],\n",
       "       [ 1.39373562e+02,  3.57275950e+01, -1.05291399e-01],\n",
       "       [ 1.39374415e+02,  3.56732410e+01,  4.37222276e-02],\n",
       "       [ 1.39374691e+02,  3.56539720e+01,  5.77931962e-02],\n",
       "       [ 1.39375802e+02,  3.56629740e+01,  2.76296629e-01],\n",
       "       [ 1.39377419e+02,  3.56685930e+01,  2.73331150e-01],\n",
       "       [ 1.39379504e+02,  3.56789730e+01,  9.78730372e-02],\n",
       "       [ 1.39379862e+02,  3.56816580e+01, -8.14367626e-02],\n",
       "       [ 1.39380375e+02,  3.56544240e+01,  9.57484164e-02],\n",
       "       [ 1.39380871e+02,  3.57220070e+01, -7.21001836e-02],\n",
       "       [ 1.39382431e+02,  3.56486010e+01, -1.45805602e-01],\n",
       "       [ 1.39382461e+02,  3.56530610e+01,  6.93285719e-03],\n",
       "       [ 1.39385678e+02,  3.56714310e+01,  2.22425682e-01],\n",
       "       [ 1.39385702e+02,  3.56477970e+01, -1.02307863e-01],\n",
       "       [ 1.39387019e+02,  3.56786190e+01, -8.55749489e-02],\n",
       "       [ 1.39387149e+02,  3.57265590e+01, -3.32083559e-02],\n",
       "       [ 1.39388185e+02,  3.56445140e+01, -3.63735687e-01],\n",
       "       [ 1.39389455e+02,  3.57280240e+01, -9.53887222e-02],\n",
       "       [ 1.39389986e+02,  3.56963250e+01,  5.96077729e-02],\n",
       "       [ 1.39390136e+02,  3.56649620e+01,  1.86206318e-01],\n",
       "       [ 1.39390370e+02,  3.57230930e+01, -1.50001687e-01],\n",
       "       [ 1.39391688e+02,  3.56560460e+01, -3.09086169e-03],\n",
       "       [ 1.39392021e+02,  3.56493210e+01, -3.22086205e-01],\n",
       "       [ 1.39392135e+02,  3.56625380e+01, -2.79512968e-02],\n",
       "       [ 1.39392169e+02,  3.56828930e+01,  3.46752641e-02],\n",
       "       [ 1.39393753e+02,  3.56906080e+01,  5.94484816e-02],\n",
       "       [ 1.39396996e+02,  3.56979400e+01,  2.13056277e-01],\n",
       "       [ 1.39397067e+02,  3.56766410e+01,  1.79123195e-01],\n",
       "       [ 1.39397279e+02,  3.56598450e+01, -7.36006975e-02],\n",
       "       [ 1.39398141e+02,  3.56551010e+01, -3.06710992e-01],\n",
       "       [ 1.39398703e+02,  3.56838470e+01,  1.38759283e-01],\n",
       "       [ 1.39401387e+02,  3.56790670e+01,  8.88179419e-02],\n",
       "       [ 1.39402497e+02,  3.57270650e+01, -5.30328585e-03],\n",
       "       [ 1.39403087e+02,  3.56993760e+01,  3.95013707e-01],\n",
       "       [ 1.39403221e+02,  3.56928720e+01,  3.77733760e-01],\n",
       "       [ 1.39403294e+02,  3.56739470e+01, -1.14425665e-01],\n",
       "       [ 1.39403575e+02,  3.57221250e+01,  6.68154940e-02],\n",
       "       [ 1.39403838e+02,  3.57332550e+01,  5.19230890e-02],\n",
       "       [ 1.39405076e+02,  3.56907070e+01,  3.17690305e-01],\n",
       "       [ 1.39405101e+02,  3.56676180e+01, -1.47372016e-01],\n",
       "       [ 1.39406794e+02,  3.56563890e+01, -2.86675703e-01],\n",
       "       [ 1.39407989e+02,  3.56491310e+01, -3.87665716e-01],\n",
       "       [ 1.39409864e+02,  3.56936330e+01,  5.69058109e-01],\n",
       "       [ 1.39411300e+02,  3.56688750e+01, -5.01945784e-03],\n",
       "       [ 1.39411904e+02,  3.57483580e+01, -1.91342772e-01],\n",
       "       [ 1.39412210e+02,  3.56537620e+01, -3.33599510e-01],\n",
       "       [ 1.39412829e+02,  3.57290970e+01,  1.23156328e-01],\n",
       "       [ 1.39413620e+02,  3.57582920e+01, -3.88840987e-01],\n",
       "       [ 1.39413646e+02,  3.56784660e+01, -9.05195428e-02],\n",
       "       [ 1.39414008e+02,  3.56887560e+01,  3.58271903e-01],\n",
       "       [ 1.39414047e+02,  3.57243710e+01,  8.85632891e-02],\n",
       "       [ 1.39414252e+02,  3.57510790e+01, -2.51953075e-01],\n",
       "       [ 1.39414582e+02,  3.57419210e+01, -8.79937236e-02],\n",
       "       [ 1.39414585e+02,  3.57546990e+01, -2.88883336e-01],\n",
       "       [ 1.39416336e+02,  3.56920620e+01,  5.24869267e-01],\n",
       "       [ 1.39416340e+02,  3.56570870e+01, -2.65389324e-01],\n",
       "       [ 1.39419331e+02,  3.56119660e+01,  7.56133864e-02],\n",
       "       [ 1.39420094e+02,  3.56654440e+01, -7.67713546e-02],\n",
       "       [ 1.39420148e+02,  3.57070900e+01,  4.50372541e-01],\n",
       "       [ 1.39420614e+02,  3.57520930e+01, -2.44935986e-01],\n",
       "       [ 1.39420848e+02,  3.57294490e+01,  8.14537663e-02],\n",
       "       [ 1.39421153e+02,  3.56943090e+01,  4.35324633e-01],\n",
       "       [ 1.39422312e+02,  3.57452200e+01, -8.24461922e-02],\n",
       "       [ 1.39422578e+02,  3.56562660e+01, -2.50789467e-01],\n",
       "       [ 1.39422826e+02,  3.57227880e+01,  1.10359272e-01],\n",
       "       [ 1.39424139e+02,  3.57550260e+01, -2.46241775e-01],\n",
       "       [ 1.39425038e+02,  3.57030190e+01,  3.82547591e-01],\n",
       "       [ 1.39425122e+02,  3.57517390e+01, -1.96646762e-01],\n",
       "       [ 1.39425452e+02,  3.57122240e+01,  2.59644501e-01],\n",
       "       [ 1.39426789e+02,  3.56568150e+01, -1.28344312e-01],\n",
       "       [ 1.39427019e+02,  3.57388400e+01,  1.63004147e-01],\n",
       "       [ 1.39427024e+02,  3.56097610e+01,  9.69376411e-02],\n",
       "       [ 1.39427292e+02,  3.56603250e+01,  2.94291562e-02],\n",
       "       [ 1.39427461e+02,  3.56906460e+01,  2.71671512e-01],\n",
       "       [ 1.39427599e+02,  3.57181640e+01,  2.15424586e-01],\n",
       "       [ 1.39428293e+02,  3.56946940e+01,  3.20021965e-01],\n",
       "       [ 1.39428938e+02,  3.56478410e+01, -3.22542867e-01],\n",
       "       [ 1.39429516e+02,  3.56343550e+01, -1.58724388e-01],\n",
       "       [ 1.39429722e+02,  3.57095340e+01,  2.85879432e-01],\n",
       "       [ 1.39430619e+02,  3.57236430e+01,  1.53039096e-01],\n",
       "       [ 1.39430944e+02,  3.56446360e+01, -2.07575699e-02],\n",
       "       [ 1.39431331e+02,  3.57479810e+01, -8.22088997e-02],\n",
       "       [ 1.39432789e+02,  3.57581520e+01, -2.13356206e-01],\n",
       "       [ 1.39432960e+02,  3.57351640e+01,  6.76883333e-02],\n",
       "       [ 1.39433053e+02,  3.57448980e+01,  2.01917939e-02],\n",
       "       [ 1.39433586e+02,  3.56578370e+01, -9.32053070e-02],\n",
       "       [ 1.39433625e+02,  3.56097140e+01,  9.77472474e-02],\n",
       "       [ 1.39433797e+02,  3.56309020e+01,  7.47061140e-02],\n",
       "       [ 1.39433818e+02,  3.57396030e+01,  9.79171478e-02],\n",
       "       [ 1.39434536e+02,  3.57507660e+01, -1.53056445e-01],\n",
       "       [ 1.39434693e+02,  3.56469830e+01, -9.00948932e-02],\n",
       "       [ 1.39436517e+02,  3.56389400e+01, -3.26687684e-02],\n",
       "       [ 1.39438638e+02,  3.56261530e+01, -3.43190993e-02],\n",
       "       [ 1.39438824e+02,  3.57458450e+01, -1.05205126e-02],\n",
       "       [ 1.39438835e+02,  3.57411960e+01,  5.58795891e-02],\n",
       "       [ 1.39439163e+02,  3.57521830e+01, -2.10144453e-01],\n",
       "       [ 1.39439755e+02,  3.57369700e+01,  5.96466790e-02],\n",
       "       [ 1.39440141e+02,  3.56402260e+01, -8.31421513e-02],\n",
       "       [ 1.39440956e+02,  3.56494710e+01,  2.75460988e-01],\n",
       "       [ 1.39441653e+02,  3.56537110e+01,  6.91611554e-02],\n",
       "       [ 1.39442373e+02,  3.57540380e+01, -1.86035770e-01],\n",
       "       [ 1.39442431e+02,  3.56438820e+01, -9.67131654e-02],\n",
       "       [ 1.39442754e+02,  3.57176720e+01,  2.53288632e-01],\n",
       "       [ 1.39443038e+02,  3.57386780e+01,  2.97835392e-02],\n",
       "       [ 1.39443203e+02,  3.56543670e+01,  6.73450366e-02],\n",
       "       [ 1.39443277e+02,  3.56284930e+01, -1.03871316e-01],\n",
       "       [ 1.39443966e+02,  3.57434760e+01,  4.59188868e-02],\n",
       "       [ 1.39444084e+02,  3.56318790e+01, -8.23864884e-03],\n",
       "       [ 1.39444111e+02,  3.56171670e+01, -7.78393086e-02],\n",
       "       [ 1.39445557e+02,  3.57217170e+01,  1.46279238e-01],\n",
       "       [ 1.39446647e+02,  3.57504090e+01, -1.91067249e-01],\n",
       "       [ 1.39447369e+02,  3.56471830e+01,  6.31215811e-02],\n",
       "       [ 1.39447438e+02,  3.57381660e+01,  1.44636040e-02],\n",
       "       [ 1.39450426e+02,  3.56359590e+01, -5.28513674e-02],\n",
       "       [ 1.39451132e+02,  3.56455990e+01, -3.26741732e-02],\n",
       "       [ 1.39451502e+02,  3.56312190e+01, -1.53644876e-01],\n",
       "       [ 1.39452086e+02,  3.56519080e+01,  9.01454373e-02],\n",
       "       [ 1.39454277e+02,  3.56444230e+01, -1.40400519e-01],\n",
       "       [ 1.39455494e+02,  3.56412710e+01, -1.06216855e-01],\n",
       "       [ 1.39458695e+02,  3.56456000e+01, -6.46439718e-03],\n",
       "       [ 1.39460661e+02,  3.56306840e+01, -2.22037347e-01],\n",
       "       [ 1.39462412e+02,  3.56279950e+01, -1.30089853e-01],\n",
       "       [ 1.39464025e+02,  3.56327270e+01, -2.54580155e-01],\n",
       "       [ 1.39466581e+02,  3.56399090e+01, -1.66030015e-02]])"
      ]
     },
     "execution_count": 9,
     "metadata": {},
     "output_type": "execute_result"
    }
   ],
   "source": [
    "resid"
   ]
  },
  {
   "cell_type": "code",
   "execution_count": 10,
   "metadata": {},
   "outputs": [],
   "source": [
    "vario = variogram.get_diff(resid)"
   ]
  },
  {
   "cell_type": "code",
   "execution_count": 45,
   "metadata": {},
   "outputs": [
    {
     "data": {
      "image/png": "[encoded data removed]",
      "text/plain": [
       "<Figure size 576x432 with 1 Axes>"
      ]
     },
     "metadata": {
      "needs_background": "light"
     },
     "output_type": "display_data"
    }
   ],
   "source": [
    "fig = plt.figure(figsize=(8, 6))\n",
    "ax = fig.add_subplot(1, 1, 1)\n",
    "ax.scatter(vario[0], vario[1])\n",
    "ax.set_title('Variogram Cloud')\n",
    "ax.set_xlabel('distance[m]')\n",
    "ax.set_ylabel('semi variogram')\n",
    "fig.savefig('/Users/LOng/sengokulab/LDAT_LS_2019/data/dev/plot/vario_cloud.png')"
   ]
  },
  {
   "cell_type": "code",
   "execution_count": 12,
   "metadata": {},
   "outputs": [
    {
     "data": {
      "text/plain": [
       "<matplotlib.collections.PathCollection at 0x11f48b128>"
      ]
     },
     "execution_count": 12,
     "metadata": {},
     "output_type": "execute_result"
    },
    {
     "data": {
      "image/png": "[encoded data removed]",
      "text/plain": [
       "<Figure size 432x288 with 1 Axes>"
      ]
     },
     "metadata": {
      "needs_background": "light"
     },
     "output_type": "display_data"
    }
   ],
   "source": [
    "e_vario, count = variogram.emp_variogram(vario, 12)\n",
    "plt.scatter(e_vario[0], e_vario[1])"
   ]
  },
  {
   "cell_type": "code",
   "execution_count": 16,
   "metadata": {},
   "outputs": [
    {
     "name": "stdout",
     "output_type": "stream",
     "text": [
      "[0.         0.00369736 0.00739472 0.01109208 0.01478944 0.0184868\n",
      " 0.02218416 0.02588152 0.02957888 0.03327625]\n",
      "0.14995212615072695 0.051370220165630455\n"
     ]
    },
    {
     "data": {
      "image/png": "[encoded data removed]",
      "text/plain": [
       "<Figure size 432x288 with 1 Axes>"
      ]
     },
     "metadata": {
      "needs_background": "light"
     },
     "output_type": "display_data"
    }
   ],
   "source": [
    "param, fig = variogram.auto_vario(resid, 12, 2)"
   ]
  },
  {
   "cell_type": "code",
   "execution_count": 17,
   "metadata": {},
   "outputs": [
    {
     "name": "stdout",
     "output_type": "stream",
     "text": [
      "[2.00000000e+00 1.00000000e+02 1.49952126e-01 5.13702202e-02]\n"
     ]
    }
   ],
   "source": [
    "print(param)"
   ]
  },
  {
   "cell_type": "markdown",
   "metadata": {},
   "source": [
    "## Step3: gls\n",
    "- 共分散関数を推定\n",
    "    - 観測値間の距離行列を作成\n",
    "    - 推定したパラメータから$\\hat{C}(0)$を推定\n",
    "    - 正定値になるように処理を加える(数学的な根拠は不明, Rではどのように処理している?)\n",
    "- 共分散関数の推定量を用いてgls"
   ]
  },
  {
   "cell_type": "code",
   "execution_count": 18,
   "metadata": {},
   "outputs": [],
   "source": [
    "distance_mat = kriging.calc_distance_matrix(data, ['px', 'py'])"
   ]
  },
  {
   "cell_type": "code",
   "execution_count": 19,
   "metadata": {},
   "outputs": [],
   "source": [
    "efrange, c0 = kriging.calc_c0(param, distance_mat)"
   ]
  },
  {
   "cell_type": "code",
   "execution_count": 20,
   "metadata": {},
   "outputs": [
    {
     "name": "stdout",
     "output_type": "stream",
     "text": [
      "0.15411066049689137\n"
     ]
    }
   ],
   "source": [
    "print(efrange)"
   ]
  },
  {
   "cell_type": "code",
   "execution_count": 21,
   "metadata": {},
   "outputs": [
    {
     "name": "stdout",
     "output_type": "stream",
     "text": [
      "0.007465676756572802\n"
     ]
    }
   ],
   "source": [
    "print(c0)"
   ]
  },
  {
   "cell_type": "code",
   "execution_count": 27,
   "metadata": {},
   "outputs": [
    {
     "name": "stdout",
     "output_type": "stream",
     "text": [
      "0.1382660312608774\n"
     ]
    }
   ],
   "source": [
    "# 距離行列と関数形から共分散関数を求める\n",
    "# reg=Trueなので正定値化処理を加えている\n",
    "covariance_mat = kriging.est_covariance_matrix(distance_mat, param, c0)"
   ]
  },
  {
   "cell_type": "code",
   "execution_count": 28,
   "metadata": {
    "scrolled": true
   },
   "outputs": [
    {
     "name": "stdout",
     "output_type": "stream",
     "text": [
      "[[0.14573171 0.03173338 0.03540934 ... 0.00879541 0.00919129 0.00975951]\n",
      " [0.03173338 0.14573171 0.1306936  ... 0.02028977 0.02010128 0.01960327]\n",
      " [0.03540934 0.1306936  0.14573171 ... 0.02119259 0.02112918 0.02079818]\n",
      " ...\n",
      " [0.00879541 0.02028977 0.02119259 ... 0.14573171 0.13604639 0.11728449]\n",
      " [0.00919129 0.02010128 0.02112918 ... 0.13604639 0.14573171 0.12927184]\n",
      " [0.00975951 0.01960327 0.02079818 ... 0.11728449 0.12927184 0.14573171]]\n"
     ]
    }
   ],
   "source": [
    "print(covariance_mat)"
   ]
  },
  {
   "cell_type": "code",
   "execution_count": 29,
   "metadata": {},
   "outputs": [],
   "source": [
    "# 重みを用いてgls\n",
    "# statsmodelsのresultクラスが返る\n",
    "res, resid = kriging.do_gls(y, x, covariance_mat)"
   ]
  },
  {
   "cell_type": "code",
   "execution_count": 30,
   "metadata": {},
   "outputs": [
    {
     "data": {
      "text/html": [
       "<table class=\"simpletable\">\n",
       "<caption>GLS Regression Results</caption>\n",
       "<tr>\n",
       "  <th>Dep. Variable:</th>            <td>y</td>        <th>  R-squared:         </th> <td>   0.953</td>\n",
       "</tr>\n",
       "<tr>\n",
       "  <th>Model:</th>                   <td>GLS</td>       <th>  Adj. R-squared:    </th> <td>   0.952</td>\n",
       "</tr>\n",
       "<tr>\n",
       "  <th>Method:</th>             <td>Least Squares</td>  <th>  F-statistic:       </th> <td>   1259.</td>\n",
       "</tr>\n",
       "<tr>\n",
       "  <th>Date:</th>             <td>Sun, 09 Jun 2019</td> <th>  Prob (F-statistic):</th> <td>1.48e-83</td>\n",
       "</tr>\n",
       "<tr>\n",
       "  <th>Time:</th>                 <td>15:45:02</td>     <th>  Log-Likelihood:    </th> <td>  101.84</td>\n",
       "</tr>\n",
       "<tr>\n",
       "  <th>No. Observations:</th>      <td>   128</td>      <th>  AIC:               </th> <td>  -197.7</td>\n",
       "</tr>\n",
       "<tr>\n",
       "  <th>Df Residuals:</th>          <td>   125</td>      <th>  BIC:               </th> <td>  -189.1</td>\n",
       "</tr>\n",
       "<tr>\n",
       "  <th>Df Model:</th>              <td>     2</td>      <th>                     </th>     <td> </td>   \n",
       "</tr>\n",
       "<tr>\n",
       "  <th>Covariance Type:</th>      <td>nonrobust</td>    <th>                     </th>     <td> </td>   \n",
       "</tr>\n",
       "</table>\n",
       "<table class=\"simpletable\">\n",
       "<tr>\n",
       "    <td></td>       <th>coef</th>     <th>std err</th>      <th>t</th>      <th>P>|t|</th>  <th>[0.025</th>    <th>0.975]</th>  \n",
       "</tr>\n",
       "<tr>\n",
       "  <th>const</th> <td>   13.3919</td> <td>    1.156</td> <td>   11.581</td> <td> 0.000</td> <td>   11.103</td> <td>   15.680</td>\n",
       "</tr>\n",
       "<tr>\n",
       "  <th>x1</th>    <td>  -19.3614</td> <td>    3.319</td> <td>   -5.833</td> <td> 0.000</td> <td>  -25.931</td> <td>  -12.792</td>\n",
       "</tr>\n",
       "<tr>\n",
       "  <th>x2</th>    <td>   -3.1629</td> <td>    3.194</td> <td>   -0.990</td> <td> 0.324</td> <td>   -9.483</td> <td>    3.158</td>\n",
       "</tr>\n",
       "</table>\n",
       "<table class=\"simpletable\">\n",
       "<tr>\n",
       "  <th>Omnibus:</th>       <td>20.304</td> <th>  Durbin-Watson:     </th> <td>   1.989</td>\n",
       "</tr>\n",
       "<tr>\n",
       "  <th>Prob(Omnibus):</th> <td> 0.000</td> <th>  Jarque-Bera (JB):  </th> <td>  49.538</td>\n",
       "</tr>\n",
       "<tr>\n",
       "  <th>Skew:</th>          <td> 0.580</td> <th>  Prob(JB):          </th> <td>1.75e-11</td>\n",
       "</tr>\n",
       "<tr>\n",
       "  <th>Kurtosis:</th>      <td> 5.818</td> <th>  Cond. No.          </th> <td>    20.7</td>\n",
       "</tr>\n",
       "</table><br/><br/>Warnings:<br/>[1] Standard Errors assume that the covariance matrix of the errors is correctly specified."
      ],
      "text/plain": [
       "<class 'statsmodels.iolib.summary.Summary'>\n",
       "\"\"\"\n",
       "                            GLS Regression Results                            \n",
       "==============================================================================\n",
       "Dep. Variable:                      y   R-squared:                       0.953\n",
       "Model:                            GLS   Adj. R-squared:                  0.952\n",
       "Method:                 Least Squares   F-statistic:                     1259.\n",
       "Date:                Sun, 09 Jun 2019   Prob (F-statistic):           1.48e-83\n",
       "Time:                        15:45:02   Log-Likelihood:                 101.84\n",
       "No. Observations:                 128   AIC:                            -197.7\n",
       "Df Residuals:                     125   BIC:                            -189.1\n",
       "Df Model:                           2                                         \n",
       "Covariance Type:            nonrobust                                         \n",
       "==============================================================================\n",
       "                 coef    std err          t      P>|t|      [0.025      0.975]\n",
       "------------------------------------------------------------------------------\n",
       "const         13.3919      1.156     11.581      0.000      11.103      15.680\n",
       "x1           -19.3614      3.319     -5.833      0.000     -25.931     -12.792\n",
       "x2            -3.1629      3.194     -0.990      0.324      -9.483       3.158\n",
       "==============================================================================\n",
       "Omnibus:                       20.304   Durbin-Watson:                   1.989\n",
       "Prob(Omnibus):                  0.000   Jarque-Bera (JB):               49.538\n",
       "Skew:                           0.580   Prob(JB):                     1.75e-11\n",
       "Kurtosis:                       5.818   Cond. No.                         20.7\n",
       "==============================================================================\n",
       "\n",
       "Warnings:\n",
       "[1] Standard Errors assume that the covariance matrix of the errors is correctly specified.\n",
       "\"\"\""
      ]
     },
     "execution_count": 30,
     "metadata": {},
     "output_type": "execute_result"
    }
   ],
   "source": [
    "res.summary()"
   ]
  },
  {
   "cell_type": "markdown",
   "metadata": {},
   "source": [
    "## Step4: kirigng\n",
    "- 観測地点と予測地点の間の共分散関数$c_*$を作成する\n",
    "    - 距離行列作成\n",
    "    - 共分散関数にあてはめる\n",
    "- 足し合わせ $\\hat{Y}(s_o) = X(s_0)\\hat{\\beta}_{gls} + c_*'\\hat{\\Sigma}^{-1}(Y - X\\beta)$"
   ]
  },
  {
   "cell_type": "code",
   "execution_count": 31,
   "metadata": {},
   "outputs": [
    {
     "data": {
      "text/html": [
       "<div>\n",
       "<style scoped>\n",
       "    .dataframe tbody tr th:only-of-type {\n",
       "        vertical-align: middle;\n",
       "    }\n",
       "\n",
       "    .dataframe tbody tr th {\n",
       "        vertical-align: top;\n",
       "    }\n",
       "\n",
       "    .dataframe thead th {\n",
       "        text-align: right;\n",
       "    }\n",
       "</style>\n",
       "<table border=\"1\" class=\"dataframe\">\n",
       "  <thead>\n",
       "    <tr style=\"text-align: right;\">\n",
       "      <th></th>\n",
       "      <th>px</th>\n",
       "      <th>py</th>\n",
       "      <th>price</th>\n",
       "      <th>station</th>\n",
       "      <th>tokyo</th>\n",
       "    </tr>\n",
       "  </thead>\n",
       "  <tbody>\n",
       "    <tr>\n",
       "      <th>0</th>\n",
       "      <td>139.402984</td>\n",
       "      <td>35.767626</td>\n",
       "      <td>NaN</td>\n",
       "      <td>0.017537</td>\n",
       "      <td>0.374249</td>\n",
       "    </tr>\n",
       "    <tr>\n",
       "      <th>1</th>\n",
       "      <td>139.407036</td>\n",
       "      <td>35.767626</td>\n",
       "      <td>NaN</td>\n",
       "      <td>0.013571</td>\n",
       "      <td>0.370307</td>\n",
       "    </tr>\n",
       "    <tr>\n",
       "      <th>2</th>\n",
       "      <td>139.411089</td>\n",
       "      <td>35.767626</td>\n",
       "      <td>NaN</td>\n",
       "      <td>0.009675</td>\n",
       "      <td>0.366367</td>\n",
       "    </tr>\n",
       "    <tr>\n",
       "      <th>3</th>\n",
       "      <td>139.439457</td>\n",
       "      <td>35.767626</td>\n",
       "      <td>NaN</td>\n",
       "      <td>0.001584</td>\n",
       "      <td>0.338865</td>\n",
       "    </tr>\n",
       "    <tr>\n",
       "      <th>4</th>\n",
       "      <td>139.394878</td>\n",
       "      <td>35.763700</td>\n",
       "      <td>NaN</td>\n",
       "      <td>0.026327</td>\n",
       "      <td>0.381271</td>\n",
       "    </tr>\n",
       "  </tbody>\n",
       "</table>\n",
       "</div>"
      ],
      "text/plain": [
       "           px         py  price   station     tokyo\n",
       "0  139.402984  35.767626    NaN  0.017537  0.374249\n",
       "1  139.407036  35.767626    NaN  0.013571  0.370307\n",
       "2  139.411089  35.767626    NaN  0.009675  0.366367\n",
       "3  139.439457  35.767626    NaN  0.001584  0.338865\n",
       "4  139.394878  35.763700    NaN  0.026327  0.381271"
      ]
     },
     "execution_count": 31,
     "metadata": {},
     "output_type": "execute_result"
    }
   ],
   "source": [
    "# 前処理\n",
    "mdat = pd.read_csv('/Users/LOng/sengokulab/LDAT_LS_2019/data/dev/house_price_pred.csv')\n",
    "mdat.head()"
   ]
  },
  {
   "cell_type": "code",
   "execution_count": 32,
   "metadata": {},
   "outputs": [
    {
     "name": "stderr",
     "output_type": "stream",
     "text": [
      "/Users/LOng/sengokulab/LDAT_LS_2019/.venv/lib/python3.7/site-packages/numpy/core/fromnumeric.py:2389: FutureWarning: Method .ptp is deprecated and will be removed in a future version. Use numpy.ptp instead.\n",
      "  return ptp(axis=axis, out=out, **kwargs)\n"
     ]
    }
   ],
   "source": [
    "mpoints = mdat[['px', 'py']].values \n",
    "mexog = mdat[['station', 'tokyo']]\n",
    "mexog = sm.add_constant(mexog).values"
   ]
  },
  {
   "cell_type": "code",
   "execution_count": 33,
   "metadata": {},
   "outputs": [],
   "source": [
    "points = data[['px', 'py']].values"
   ]
  },
  {
   "cell_type": "code",
   "execution_count": 34,
   "metadata": {},
   "outputs": [],
   "source": [
    "# 距離行列作成\n",
    "new_dist_mat = kriging.calc_distance_new_data(mpoints, points)"
   ]
  },
  {
   "cell_type": "code",
   "execution_count": 35,
   "metadata": {},
   "outputs": [],
   "source": [
    "# 距離行列と関数型から共分散行列を推定\n",
    "# reg=Falseを指定して正定値処理をスキップ(正方行列でないのでエラーを防ぐ)\n",
    "c_mat = kriging.est_covariance_matrix(new_dist_mat, param, c0, reg=False)"
   ]
  },
  {
   "cell_type": "code",
   "execution_count": 36,
   "metadata": {},
   "outputs": [],
   "source": [
    "fitted_val = kriging.put_pred_val(res, mexog)"
   ]
  },
  {
   "cell_type": "code",
   "execution_count": 37,
   "metadata": {},
   "outputs": [],
   "source": [
    "kriging_val = kriging.do_kriging(fitted_val, c_mat, covariance_mat, resid)"
   ]
  },
  {
   "cell_type": "markdown",
   "metadata": {},
   "source": [
    "## Rでの結果との比較"
   ]
  },
  {
   "cell_type": "code",
   "execution_count": 38,
   "metadata": {},
   "outputs": [],
   "source": [
    "res_inR = pd.read_csv('/Users/LOng/sengokulab/LDAT_LS_2019/data/dev/krig_res_R.csv')\n",
    "res_inR = res_inR.iloc[:, 1:-2]"
   ]
  },
  {
   "cell_type": "code",
   "execution_count": 39,
   "metadata": {},
   "outputs": [
    {
     "data": {
      "text/plain": [
       "Text(0, 0.5, 'pred by Python')"
      ]
     },
     "execution_count": 39,
     "metadata": {},
     "output_type": "execute_result"
    },
    {
     "data": {
      "image/png": "[encoded data removed]",
      "text/plain": [
       "<Figure size 864x864 with 1 Axes>"
      ]
     },
     "metadata": {
      "needs_background": "light"
     },
     "output_type": "display_data"
    }
   ],
   "source": [
    "res_fig = plt.figure(figsize=(12, 12))\n",
    "res_ax = res_fig.add_subplot(1, 1, 1)\n",
    "res_ax.scatter(res_inR['var1.pred'], kriging_val)\n",
    "res_ax.plot(np.linspace(10, 14, 1000), np.linspace(10, 14, 1000), color='black')\n",
    "res_ax.set_xlim(10, 14)\n",
    "res_ax.set_ylim(10, 14)\n",
    "res_ax.set_xlabel('pred by R')\n",
    "res_ax.set_ylabel('pred by Python')"
   ]
  },
  {
   "cell_type": "code",
   "execution_count": 77,
   "metadata": {},
   "outputs": [],
   "source": [
    "res_fig.savefig('/Users/LOng/sengokulab/LDAT_LS_2019/data/dev/plot/kriging_est_func_res2.png')"
   ]
  }
 ],
 "metadata": {
  "kernelspec": {
   "display_name": "Python 3",
   "language": "python",
   "name": "python3"
  },
  "language_info": {
   "codemirror_mode": {
    "name": "ipython",
    "version": 3
   },
   "file_extension": ".py",
   "mimetype": "text/x-python",
   "name": "python",
   "nbconvert_exporter": "python",
   "pygments_lexer": "ipython3",
   "version": "3.7.0"
  }
 },
 "nbformat": 4,
 "nbformat_minor": 2
}
