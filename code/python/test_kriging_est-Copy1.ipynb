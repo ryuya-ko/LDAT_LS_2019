{
 "cells": [
  {
   "cell_type": "markdown",
   "metadata": {},
   "source": [
    "# 関数のテスト"
   ]
  },
  {
   "cell_type": "code",
   "execution_count": 2,
   "metadata": {},
   "outputs": [],
   "source": [
    "import pandas as pd\n",
    "import numpy as np\n",
    "import statsmodels.api as sm\n",
    "import matplotlib.pyplot as plt\n",
    "import calc_variogram as variogram\n",
    "import kriging_est as kriging"
   ]
  },
  {
   "cell_type": "code",
   "execution_count": 3,
   "metadata": {},
   "outputs": [],
   "source": [
    "%load_ext autoreload\n",
    "%autoreload 2"
   ]
  },
  {
   "cell_type": "code",
   "execution_count": 86,
   "metadata": {},
   "outputs": [],
   "source": [
    "data = pd.read_csv('/Users/LOng/sengokulab/LDAT_LS_2019/data/dev/pred_20190407_miyamoto_all_madori_predprice.csv', encoding='Shift_JISx0213')"
   ]
  },
  {
   "cell_type": "code",
   "execution_count": 8,
   "metadata": {},
   "outputs": [
    {
     "name": "stdout",
     "output_type": "stream",
     "text": [
      "<class 'pandas.core.frame.DataFrame'>\n",
      "RangeIndex: 3852 entries, 0 to 3851\n",
      "Data columns (total 26 columns):\n",
      "都道府県               3852 non-null object\n",
      "市区町村               3852 non-null object\n",
      "町丁目                3852 non-null object\n",
      "番地・号               3852 non-null object\n",
      "築年                 3852 non-null int64\n",
      "築月                 3852 non-null float64\n",
      "構造                 3852 non-null object\n",
      "マンション最上階数          3852 non-null float64\n",
      "間取別平均平米単価①         3852 non-null float64\n",
      "間取別平均平米単価②         3852 non-null float64\n",
      "間取別平均平米単価③         3852 non-null float64\n",
      "間取別平均平米単価④         3852 non-null float64\n",
      "間取別平均平米単価⑤         3852 non-null float64\n",
      "key_code           3852 non-null int64\n",
      "id_building        3852 non-null object\n",
      "lat                3852 non-null float64\n",
      "lon                3852 non-null float64\n",
      "station_name       3852 non-null object\n",
      "station_lat        3852 non-null float64\n",
      "station_lon        3852 non-null float64\n",
      "geom               3852 non-null object\n",
      "node_id1           3852 non-null int64\n",
      "node_id2           3852 non-null int64\n",
      "geom_station       3852 non-null object\n",
      "Distance           3852 non-null float64\n",
      "PathNodeNo_List    3852 non-null object\n",
      "dtypes: float64(12), int64(4), object(10)\n",
      "memory usage: 782.5+ KB\n"
     ]
    }
   ],
   "source": [
    "data.info()"
   ]
  },
  {
   "cell_type": "code",
   "execution_count": 87,
   "metadata": {},
   "outputs": [],
   "source": [
    "dummy = pd.get_dummies(data.構造, drop_first=True)\n",
    "dum_col = dummy.columns.values.tolist()"
   ]
  },
  {
   "cell_type": "code",
   "execution_count": 88,
   "metadata": {},
   "outputs": [],
   "source": [
    "station_dummy = pd.get_dummies(data.station_name, drop_first=True)\n",
    "st_col = station_dummy.columns.values.tolist()"
   ]
  },
  {
   "cell_type": "code",
   "execution_count": 89,
   "metadata": {},
   "outputs": [],
   "source": [
    "data['year'] = 2018 - data.築年"
   ]
  },
  {
   "cell_type": "code",
   "execution_count": 90,
   "metadata": {},
   "outputs": [],
   "source": [
    "data = data.join(dummy).join(station_dummy)"
   ]
  },
  {
   "cell_type": "code",
   "execution_count": 91,
   "metadata": {},
   "outputs": [],
   "source": [
    "cols = dum_col + st_col + ['マンション最上階数', 'year']"
   ]
  },
  {
   "cell_type": "markdown",
   "metadata": {},
   "source": [
    "## Step1: OLSから残差を算出"
   ]
  },
  {
   "cell_type": "code",
   "execution_count": 99,
   "metadata": {},
   "outputs": [],
   "source": [
    "# 前処理\n",
    "x = data[cols]\n",
    "y = np.log(data['間取別平均平米単価①'])"
   ]
  },
  {
   "cell_type": "code",
   "execution_count": 100,
   "metadata": {},
   "outputs": [],
   "source": [
    "x = sm.add_constant(x)"
   ]
  },
  {
   "cell_type": "code",
   "execution_count": 101,
   "metadata": {},
   "outputs": [],
   "source": [
    "step1 = sm.OLS(y, x)\n",
    "step1_res = step1.fit()\n",
    "resid = step1_res.resid"
   ]
  },
  {
   "cell_type": "code",
   "execution_count": 102,
   "metadata": {},
   "outputs": [
    {
     "data": {
      "text/html": [
       "<table class=\"simpletable\">\n",
       "<caption>OLS Regression Results</caption>\n",
       "<tr>\n",
       "  <th>Dep. Variable:</th>       <td>間取別平均平米単価①</td>    <th>  R-squared:         </th>  <td>   0.651</td> \n",
       "</tr>\n",
       "<tr>\n",
       "  <th>Model:</th>                   <td>OLS</td>       <th>  Adj. R-squared:    </th>  <td>   0.646</td> \n",
       "</tr>\n",
       "<tr>\n",
       "  <th>Method:</th>             <td>Least Squares</td>  <th>  F-statistic:       </th>  <td>   150.7</td> \n",
       "</tr>\n",
       "<tr>\n",
       "  <th>Date:</th>             <td>Thu, 11 Apr 2019</td> <th>  Prob (F-statistic):</th>   <td>  0.00</td>  \n",
       "</tr>\n",
       "<tr>\n",
       "  <th>Time:</th>                 <td>15:21:22</td>     <th>  Log-Likelihood:    </th>  <td>  5395.5</td> \n",
       "</tr>\n",
       "<tr>\n",
       "  <th>No. Observations:</th>      <td>  3852</td>      <th>  AIC:               </th> <td>-1.069e+04</td>\n",
       "</tr>\n",
       "<tr>\n",
       "  <th>Df Residuals:</th>          <td>  3804</td>      <th>  BIC:               </th> <td>-1.039e+04</td>\n",
       "</tr>\n",
       "<tr>\n",
       "  <th>Df Model:</th>              <td>    47</td>      <th>                     </th>      <td> </td>    \n",
       "</tr>\n",
       "<tr>\n",
       "  <th>Covariance Type:</th>      <td>nonrobust</td>    <th>                     </th>      <td> </td>    \n",
       "</tr>\n",
       "</table>\n",
       "<table class=\"simpletable\">\n",
       "<tr>\n",
       "      <td></td>         <th>coef</th>     <th>std err</th>      <th>t</th>      <th>P>|t|</th>  <th>[0.025</th>    <th>0.975]</th>  \n",
       "</tr>\n",
       "<tr>\n",
       "  <th>const</th>     <td>    8.2660</td> <td>    0.043</td> <td>  192.554</td> <td> 0.000</td> <td>    8.182</td> <td>    8.350</td>\n",
       "</tr>\n",
       "<tr>\n",
       "  <th>他</th>         <td>   -0.0289</td> <td>    0.047</td> <td>   -0.612</td> <td> 0.541</td> <td>   -0.121</td> <td>    0.064</td>\n",
       "</tr>\n",
       "<tr>\n",
       "  <th>鉄骨</th>        <td>   -0.0415</td> <td>    0.043</td> <td>   -0.958</td> <td> 0.338</td> <td>   -0.126</td> <td>    0.043</td>\n",
       "</tr>\n",
       "<tr>\n",
       "  <th>鉄骨造</th>       <td>   -0.0326</td> <td>    0.043</td> <td>   -0.763</td> <td> 0.445</td> <td>   -0.116</td> <td>    0.051</td>\n",
       "</tr>\n",
       "<tr>\n",
       "  <th>ＡＬＣ</th>       <td>   -0.0643</td> <td>    0.043</td> <td>   -1.499</td> <td> 0.134</td> <td>   -0.148</td> <td>    0.020</td>\n",
       "</tr>\n",
       "<tr>\n",
       "  <th>ＨＰＣ</th>       <td>   -0.0669</td> <td>    0.074</td> <td>   -0.903</td> <td> 0.367</td> <td>   -0.212</td> <td>    0.078</td>\n",
       "</tr>\n",
       "<tr>\n",
       "  <th>ＰＣ</th>        <td>   -0.0824</td> <td>    0.045</td> <td>   -1.821</td> <td> 0.069</td> <td>   -0.171</td> <td>    0.006</td>\n",
       "</tr>\n",
       "<tr>\n",
       "  <th>ＲＣ</th>        <td>   -0.0253</td> <td>    0.043</td> <td>   -0.593</td> <td> 0.553</td> <td>   -0.109</td> <td>    0.058</td>\n",
       "</tr>\n",
       "<tr>\n",
       "  <th>ＳＲＣ</th>       <td>   -0.0480</td> <td>    0.043</td> <td>   -1.114</td> <td> 0.265</td> <td>   -0.133</td> <td>    0.037</td>\n",
       "</tr>\n",
       "<tr>\n",
       "  <th>上北沢</th>       <td>   -0.1637</td> <td>    0.008</td> <td>  -21.392</td> <td> 0.000</td> <td>   -0.179</td> <td>   -0.149</td>\n",
       "</tr>\n",
       "<tr>\n",
       "  <th>上町</th>        <td>   -0.0811</td> <td>    0.009</td> <td>   -8.779</td> <td> 0.000</td> <td>   -0.099</td> <td>   -0.063</td>\n",
       "</tr>\n",
       "<tr>\n",
       "  <th>上野毛</th>       <td>   -0.0921</td> <td>    0.007</td> <td>  -13.708</td> <td> 0.000</td> <td>   -0.105</td> <td>   -0.079</td>\n",
       "</tr>\n",
       "<tr>\n",
       "  <th>下北沢</th>       <td>    0.0345</td> <td>    0.010</td> <td>    3.605</td> <td> 0.000</td> <td>    0.016</td> <td>    0.053</td>\n",
       "</tr>\n",
       "<tr>\n",
       "  <th>下高井戸</th>      <td>   -0.0712</td> <td>    0.011</td> <td>   -6.302</td> <td> 0.000</td> <td>   -0.093</td> <td>   -0.049</td>\n",
       "</tr>\n",
       "<tr>\n",
       "  <th>世田谷</th>       <td>   -0.0677</td> <td>    0.010</td> <td>   -6.824</td> <td> 0.000</td> <td>   -0.087</td> <td>   -0.048</td>\n",
       "</tr>\n",
       "<tr>\n",
       "  <th>世田谷代田</th>     <td>   -0.0037</td> <td>    0.008</td> <td>   -0.487</td> <td> 0.627</td> <td>   -0.019</td> <td>    0.011</td>\n",
       "</tr>\n",
       "<tr>\n",
       "  <th>九品仏</th>       <td>   -0.0418</td> <td>    0.007</td> <td>   -5.882</td> <td> 0.000</td> <td>   -0.056</td> <td>   -0.028</td>\n",
       "</tr>\n",
       "<tr>\n",
       "  <th>二子玉川園</th>     <td>   -0.1305</td> <td>    0.007</td> <td>  -19.367</td> <td> 0.000</td> <td>   -0.144</td> <td>   -0.117</td>\n",
       "</tr>\n",
       "<tr>\n",
       "  <th>代田橋</th>       <td>   -0.0240</td> <td>    0.009</td> <td>   -2.652</td> <td> 0.008</td> <td>   -0.042</td> <td>   -0.006</td>\n",
       "</tr>\n",
       "<tr>\n",
       "  <th>千歳船橋</th>      <td>   -0.1457</td> <td>    0.006</td> <td>  -26.127</td> <td> 0.000</td> <td>   -0.157</td> <td>   -0.135</td>\n",
       "</tr>\n",
       "<tr>\n",
       "  <th>千歳鳥山</th>      <td>   -0.2013</td> <td>    0.005</td> <td>  -38.083</td> <td> 0.000</td> <td>   -0.212</td> <td>   -0.191</td>\n",
       "</tr>\n",
       "<tr>\n",
       "  <th>喜多見</th>       <td>   -0.2033</td> <td>    0.009</td> <td>  -23.275</td> <td> 0.000</td> <td>   -0.220</td> <td>   -0.186</td>\n",
       "</tr>\n",
       "<tr>\n",
       "  <th>奥沢</th>        <td>   -0.0377</td> <td>    0.006</td> <td>   -5.890</td> <td> 0.000</td> <td>   -0.050</td> <td>   -0.025</td>\n",
       "</tr>\n",
       "<tr>\n",
       "  <th>宮の坂</th>       <td>   -0.0891</td> <td>    0.011</td> <td>   -7.978</td> <td> 0.000</td> <td>   -0.111</td> <td>   -0.067</td>\n",
       "</tr>\n",
       "<tr>\n",
       "  <th>尾山台</th>       <td>   -0.0995</td> <td>    0.007</td> <td>  -14.561</td> <td> 0.000</td> <td>   -0.113</td> <td>   -0.086</td>\n",
       "</tr>\n",
       "<tr>\n",
       "  <th>山下</th>        <td>   -0.0888</td> <td>    0.012</td> <td>   -7.638</td> <td> 0.000</td> <td>   -0.112</td> <td>   -0.066</td>\n",
       "</tr>\n",
       "<tr>\n",
       "  <th>成城学園前</th>     <td>   -0.1745</td> <td>    0.007</td> <td>  -26.376</td> <td> 0.000</td> <td>   -0.187</td> <td>   -0.162</td>\n",
       "</tr>\n",
       "<tr>\n",
       "  <th>新代田</th>       <td>   -0.0180</td> <td>    0.009</td> <td>   -2.013</td> <td> 0.044</td> <td>   -0.036</td> <td>   -0.000</td>\n",
       "</tr>\n",
       "<tr>\n",
       "  <th>明大前</th>       <td>   -0.0695</td> <td>    0.008</td> <td>   -8.388</td> <td> 0.000</td> <td>   -0.086</td> <td>   -0.053</td>\n",
       "</tr>\n",
       "<tr>\n",
       "  <th>東北沢</th>       <td>    0.0291</td> <td>    0.009</td> <td>    3.193</td> <td> 0.001</td> <td>    0.011</td> <td>    0.047</td>\n",
       "</tr>\n",
       "<tr>\n",
       "  <th>東松原</th>       <td>   -0.0577</td> <td>    0.008</td> <td>   -7.409</td> <td> 0.000</td> <td>   -0.073</td> <td>   -0.042</td>\n",
       "</tr>\n",
       "<tr>\n",
       "  <th>松原</th>        <td>   -0.0821</td> <td>    0.007</td> <td>  -11.433</td> <td> 0.000</td> <td>   -0.096</td> <td>   -0.068</td>\n",
       "</tr>\n",
       "<tr>\n",
       "  <th>松陰神社前</th>     <td>   -0.0658</td> <td>    0.009</td> <td>   -7.499</td> <td> 0.000</td> <td>   -0.083</td> <td>   -0.049</td>\n",
       "</tr>\n",
       "<tr>\n",
       "  <th>桜上水</th>       <td>   -0.0924</td> <td>    0.011</td> <td>   -8.704</td> <td> 0.000</td> <td>   -0.113</td> <td>   -0.072</td>\n",
       "</tr>\n",
       "<tr>\n",
       "  <th>桜新町</th>       <td>   -0.0871</td> <td>    0.006</td> <td>  -14.753</td> <td> 0.000</td> <td>   -0.099</td> <td>   -0.076</td>\n",
       "</tr>\n",
       "<tr>\n",
       "  <th>梅ヶ丘</th>       <td>   -0.0768</td> <td>    0.009</td> <td>   -8.925</td> <td> 0.000</td> <td>   -0.094</td> <td>   -0.060</td>\n",
       "</tr>\n",
       "<tr>\n",
       "  <th>池ノ上</th>       <td>    0.0159</td> <td>    0.007</td> <td>    2.425</td> <td> 0.015</td> <td>    0.003</td> <td>    0.029</td>\n",
       "</tr>\n",
       "<tr>\n",
       "  <th>用賀</th>        <td>   -0.0961</td> <td>    0.006</td> <td>  -16.078</td> <td> 0.000</td> <td>   -0.108</td> <td>   -0.084</td>\n",
       "</tr>\n",
       "<tr>\n",
       "  <th>祖師ヶ谷大蔵</th>    <td>   -0.1706</td> <td>    0.006</td> <td>  -30.629</td> <td> 0.000</td> <td>   -0.182</td> <td>   -0.160</td>\n",
       "</tr>\n",
       "<tr>\n",
       "  <th>等々力</th>       <td>   -0.1039</td> <td>    0.007</td> <td>  -14.351</td> <td> 0.000</td> <td>   -0.118</td> <td>   -0.090</td>\n",
       "</tr>\n",
       "<tr>\n",
       "  <th>経堂</th>        <td>   -0.0977</td> <td>    0.007</td> <td>  -14.712</td> <td> 0.000</td> <td>   -0.111</td> <td>   -0.085</td>\n",
       "</tr>\n",
       "<tr>\n",
       "  <th>芦花公園</th>      <td>   -0.1902</td> <td>    0.007</td> <td>  -26.262</td> <td> 0.000</td> <td>   -0.204</td> <td>   -0.176</td>\n",
       "</tr>\n",
       "<tr>\n",
       "  <th>若林</th>        <td>   -0.0327</td> <td>    0.009</td> <td>   -3.700</td> <td> 0.000</td> <td>   -0.050</td> <td>   -0.015</td>\n",
       "</tr>\n",
       "<tr>\n",
       "  <th>西太子堂</th>      <td>    0.0264</td> <td>    0.009</td> <td>    2.985</td> <td> 0.003</td> <td>    0.009</td> <td>    0.044</td>\n",
       "</tr>\n",
       "<tr>\n",
       "  <th>豪徳寺</th>       <td>   -0.0640</td> <td>    0.011</td> <td>   -5.822</td> <td> 0.000</td> <td>   -0.086</td> <td>   -0.042</td>\n",
       "</tr>\n",
       "<tr>\n",
       "  <th>駒沢大学</th>      <td>   -0.0353</td> <td>    0.006</td> <td>   -6.164</td> <td> 0.000</td> <td>   -0.047</td> <td>   -0.024</td>\n",
       "</tr>\n",
       "<tr>\n",
       "  <th>マンション最上階数</th> <td>    0.0059</td> <td>    0.001</td> <td>   10.553</td> <td> 0.000</td> <td>    0.005</td> <td>    0.007</td>\n",
       "</tr>\n",
       "<tr>\n",
       "  <th>year</th>      <td>   -0.0043</td> <td> 9.54e-05</td> <td>  -44.897</td> <td> 0.000</td> <td>   -0.004</td> <td>   -0.004</td>\n",
       "</tr>\n",
       "</table>\n",
       "<table class=\"simpletable\">\n",
       "<tr>\n",
       "  <th>Omnibus:</th>       <td>2525.044</td> <th>  Durbin-Watson:     </th>  <td>   1.384</td> \n",
       "</tr>\n",
       "<tr>\n",
       "  <th>Prob(Omnibus):</th>  <td> 0.000</td>  <th>  Jarque-Bera (JB):  </th> <td>168476.553</td>\n",
       "</tr>\n",
       "<tr>\n",
       "  <th>Skew:</th>           <td> 2.394</td>  <th>  Prob(JB):          </th>  <td>    0.00</td> \n",
       "</tr>\n",
       "<tr>\n",
       "  <th>Kurtosis:</th>       <td>35.043</td>  <th>  Cond. No.          </th>  <td>3.67e+03</td> \n",
       "</tr>\n",
       "</table><br/><br/>Warnings:<br/>[1] Standard Errors assume that the covariance matrix of the errors is correctly specified.<br/>[2] The condition number is large, 3.67e+03. This might indicate that there are<br/>strong multicollinearity or other numerical problems."
      ],
      "text/plain": [
       "<class 'statsmodels.iolib.summary.Summary'>\n",
       "\"\"\"\n",
       "                            OLS Regression Results                            \n",
       "==============================================================================\n",
       "Dep. Variable:             間取別平均平米単価①   R-squared:                       0.651\n",
       "Model:                            OLS   Adj. R-squared:                  0.646\n",
       "Method:                 Least Squares   F-statistic:                     150.7\n",
       "Date:                Thu, 11 Apr 2019   Prob (F-statistic):               0.00\n",
       "Time:                        15:21:22   Log-Likelihood:                 5395.5\n",
       "No. Observations:                3852   AIC:                        -1.069e+04\n",
       "Df Residuals:                    3804   BIC:                        -1.039e+04\n",
       "Df Model:                          47                                         \n",
       "Covariance Type:            nonrobust                                         \n",
       "==============================================================================\n",
       "                 coef    std err          t      P>|t|      [0.025      0.975]\n",
       "------------------------------------------------------------------------------\n",
       "const          8.2660      0.043    192.554      0.000       8.182       8.350\n",
       "他             -0.0289      0.047     -0.612      0.541      -0.121       0.064\n",
       "鉄骨            -0.0415      0.043     -0.958      0.338      -0.126       0.043\n",
       "鉄骨造           -0.0326      0.043     -0.763      0.445      -0.116       0.051\n",
       "ＡＬＣ           -0.0643      0.043     -1.499      0.134      -0.148       0.020\n",
       "ＨＰＣ           -0.0669      0.074     -0.903      0.367      -0.212       0.078\n",
       "ＰＣ            -0.0824      0.045     -1.821      0.069      -0.171       0.006\n",
       "ＲＣ            -0.0253      0.043     -0.593      0.553      -0.109       0.058\n",
       "ＳＲＣ           -0.0480      0.043     -1.114      0.265      -0.133       0.037\n",
       "上北沢           -0.1637      0.008    -21.392      0.000      -0.179      -0.149\n",
       "上町            -0.0811      0.009     -8.779      0.000      -0.099      -0.063\n",
       "上野毛           -0.0921      0.007    -13.708      0.000      -0.105      -0.079\n",
       "下北沢            0.0345      0.010      3.605      0.000       0.016       0.053\n",
       "下高井戸          -0.0712      0.011     -6.302      0.000      -0.093      -0.049\n",
       "世田谷           -0.0677      0.010     -6.824      0.000      -0.087      -0.048\n",
       "世田谷代田         -0.0037      0.008     -0.487      0.627      -0.019       0.011\n",
       "九品仏           -0.0418      0.007     -5.882      0.000      -0.056      -0.028\n",
       "二子玉川園         -0.1305      0.007    -19.367      0.000      -0.144      -0.117\n",
       "代田橋           -0.0240      0.009     -2.652      0.008      -0.042      -0.006\n",
       "千歳船橋          -0.1457      0.006    -26.127      0.000      -0.157      -0.135\n",
       "千歳鳥山          -0.2013      0.005    -38.083      0.000      -0.212      -0.191\n",
       "喜多見           -0.2033      0.009    -23.275      0.000      -0.220      -0.186\n",
       "奥沢            -0.0377      0.006     -5.890      0.000      -0.050      -0.025\n",
       "宮の坂           -0.0891      0.011     -7.978      0.000      -0.111      -0.067\n",
       "尾山台           -0.0995      0.007    -14.561      0.000      -0.113      -0.086\n",
       "山下            -0.0888      0.012     -7.638      0.000      -0.112      -0.066\n",
       "成城学園前         -0.1745      0.007    -26.376      0.000      -0.187      -0.162\n",
       "新代田           -0.0180      0.009     -2.013      0.044      -0.036      -0.000\n",
       "明大前           -0.0695      0.008     -8.388      0.000      -0.086      -0.053\n",
       "東北沢            0.0291      0.009      3.193      0.001       0.011       0.047\n",
       "東松原           -0.0577      0.008     -7.409      0.000      -0.073      -0.042\n",
       "松原            -0.0821      0.007    -11.433      0.000      -0.096      -0.068\n",
       "松陰神社前         -0.0658      0.009     -7.499      0.000      -0.083      -0.049\n",
       "桜上水           -0.0924      0.011     -8.704      0.000      -0.113      -0.072\n",
       "桜新町           -0.0871      0.006    -14.753      0.000      -0.099      -0.076\n",
       "梅ヶ丘           -0.0768      0.009     -8.925      0.000      -0.094      -0.060\n",
       "池ノ上            0.0159      0.007      2.425      0.015       0.003       0.029\n",
       "用賀            -0.0961      0.006    -16.078      0.000      -0.108      -0.084\n",
       "祖師ヶ谷大蔵        -0.1706      0.006    -30.629      0.000      -0.182      -0.160\n",
       "等々力           -0.1039      0.007    -14.351      0.000      -0.118      -0.090\n",
       "経堂            -0.0977      0.007    -14.712      0.000      -0.111      -0.085\n",
       "芦花公園          -0.1902      0.007    -26.262      0.000      -0.204      -0.176\n",
       "若林            -0.0327      0.009     -3.700      0.000      -0.050      -0.015\n",
       "西太子堂           0.0264      0.009      2.985      0.003       0.009       0.044\n",
       "豪徳寺           -0.0640      0.011     -5.822      0.000      -0.086      -0.042\n",
       "駒沢大学          -0.0353      0.006     -6.164      0.000      -0.047      -0.024\n",
       "マンション最上階数      0.0059      0.001     10.553      0.000       0.005       0.007\n",
       "year          -0.0043   9.54e-05    -44.897      0.000      -0.004      -0.004\n",
       "==============================================================================\n",
       "Omnibus:                     2525.044   Durbin-Watson:                   1.384\n",
       "Prob(Omnibus):                  0.000   Jarque-Bera (JB):           168476.553\n",
       "Skew:                           2.394   Prob(JB):                         0.00\n",
       "Kurtosis:                      35.043   Cond. No.                     3.67e+03\n",
       "==============================================================================\n",
       "\n",
       "Warnings:\n",
       "[1] Standard Errors assume that the covariance matrix of the errors is correctly specified.\n",
       "[2] The condition number is large, 3.67e+03. This might indicate that there are\n",
       "strong multicollinearity or other numerical problems.\n",
       "\"\"\""
      ]
     },
     "execution_count": 102,
     "metadata": {},
     "output_type": "execute_result"
    }
   ],
   "source": [
    "step1_res.summary()"
   ]
  },
  {
   "cell_type": "markdown",
   "metadata": {},
   "source": [
    "## Step2: 残差からvariogramを推定"
   ]
  },
  {
   "cell_type": "code",
   "execution_count": 103,
   "metadata": {},
   "outputs": [
    {
     "data": {
      "text/plain": [
       "count    3.852000e+03\n",
       "mean     1.023499e-13\n",
       "std      5.963593e-02\n",
       "min     -4.198582e-01\n",
       "25%     -3.155061e-02\n",
       "50%      8.720624e-04\n",
       "75%      3.193894e-02\n",
       "max      6.657146e-01\n",
       "dtype: float64"
      ]
     },
     "execution_count": 103,
     "metadata": {},
     "output_type": "execute_result"
    }
   ],
   "source": [
    "resid.describe()"
   ]
  },
  {
   "cell_type": "code",
   "execution_count": 104,
   "metadata": {},
   "outputs": [],
   "source": [
    "# 前処理\n",
    "resid = pd.DataFrame(resid, columns=['residuals'])\n",
    "resid = data[['lon', 'lat']].join(resid)\n",
    "resid = resid.values"
   ]
  },
  {
   "cell_type": "code",
   "execution_count": 131,
   "metadata": {},
   "outputs": [],
   "source": [
    "b = variogram.get_diff(resid)"
   ]
  },
  {
   "cell_type": "code",
   "execution_count": 132,
   "metadata": {},
   "outputs": [
    {
     "data": {
      "text/plain": [
       "(2, 6308735)"
      ]
     },
     "execution_count": 132,
     "metadata": {},
     "output_type": "execute_result"
    }
   ],
   "source": [
    "b.shape"
   ]
  },
  {
   "cell_type": "code",
   "execution_count": 112,
   "metadata": {},
   "outputs": [],
   "source": [
    "vario = variogram.get_diff(resid)"
   ]
  },
  {
   "cell_type": "code",
   "execution_count": 117,
   "metadata": {},
   "outputs": [
    {
     "data": {
      "text/plain": [
       "array([ True,  True,  True, ...,  True,  True,  True])"
      ]
     },
     "execution_count": 117,
     "metadata": {},
     "output_type": "execute_result"
    }
   ],
   "source": [
    "vario[0] < vario[0].max()*1/2"
   ]
  },
  {
   "cell_type": "code",
   "execution_count": 119,
   "metadata": {},
   "outputs": [
    {
     "data": {
      "text/plain": [
       "(2, 6308735)"
      ]
     },
     "execution_count": 119,
     "metadata": {},
     "output_type": "execute_result"
    }
   ],
   "source": [
    "np.array([var[vario[0] < vario[0].max()*1/2] for var in vario]).sh"
   ]
  },
  {
   "cell_type": "code",
   "execution_count": 115,
   "metadata": {},
   "outputs": [
    {
     "data": {
      "text/plain": [
       "[array([0.00148878, 0.01043231, 0.0110742 , ..., 0.00327072, 0.00121241,\n",
       "        0.00304398]),\n",
       " array([2.00933869e-05, 3.12659012e-03, 7.62012432e-04, ...,\n",
       "        1.37823636e-03, 1.02090124e-04, 7.30114994e-04])]"
      ]
     },
     "execution_count": 115,
     "metadata": {},
     "output_type": "execute_result"
    }
   ],
   "source": []
  },
  {
   "cell_type": "code",
   "execution_count": 106,
   "metadata": {},
   "outputs": [],
   "source": [
    "vario = pd.DataFrame(vario).T[vario[0] < vario[0].max()*1/2].T.values"
   ]
  },
  {
   "cell_type": "code",
   "execution_count": 108,
   "metadata": {},
   "outputs": [
    {
     "data": {
      "image/png": "[encoded data removed]",
      "text/plain": [
       "<Figure size 432x288 with 1 Axes>"
      ]
     },
     "metadata": {
      "needs_background": "light"
     },
     "output_type": "display_data"
    }
   ],
   "source": [
    "plt.scatter(vario[0], vario[1])\n",
    "plt.savefig('/Users/LOng/sengokulab/LDAT_LS_2019/data/dev/plot/variogram_cloud.png')"
   ]
  },
  {
   "cell_type": "code",
   "execution_count": 109,
   "metadata": {},
   "outputs": [
    {
     "data": {
      "text/plain": [
       "<matplotlib.collections.PathCollection at 0x102650668>"
      ]
     },
     "execution_count": 109,
     "metadata": {},
     "output_type": "execute_result"
    },
    {
     "data": {
      "image/png": "[encoded data removed]",
      "text/plain": [
       "<Figure size 432x288 with 1 Axes>"
      ]
     },
     "metadata": {
      "needs_background": "light"
     },
     "output_type": "display_data"
    }
   ],
   "source": [
    "e_vario, lag = variogram.emp_variogram(vario, 15)\n",
    "plt.scatter(e_vario[0], e_vario[1])"
   ]
  },
  {
   "cell_type": "code",
   "execution_count": 110,
   "metadata": {},
   "outputs": [
    {
     "name": "stdout",
     "output_type": "stream",
     "text": [
      "[0.00000000e+00 1.00000000e+02 2.97225211e-03 2.40571460e-02]\n",
      "[1.00000000e+00 1.00000000e+02 3.15394743e-03 9.66374058e+01\n",
      " 1.25841520e+01]\n",
      "[2.00000000e+00 1.00000000e+02 2.97222069e-03 2.34037986e+00\n",
      " 9.72642850e+01]\n",
      "[3.00000000e+00 1.00000000e+02 2.97225232e-03 1.57850767e+00\n",
      " 9.84224038e+01]\n",
      "[0.         0.0038905  0.00778099 0.01167149 0.01556198 0.01945248\n",
      " 0.02334298 0.02723347 0.03112397 0.03501446]\n",
      "0.002972220686987921 2.340379857533158 97.26428502696608\n",
      "[2.00000000e+00 1.00000000e+02 2.97222069e-03 2.34037986e+00\n",
      " 9.72642850e+01]\n"
     ]
    },
    {
     "data": {
      "image/png": "[encoded data removed]",
      "text/plain": [
       "<Figure size 432x288 with 1 Axes>"
      ]
     },
     "metadata": {
      "needs_background": "light"
     },
     "output_type": "display_data"
    }
   ],
   "source": [
    "param, lag, fig = variogram.auto_vario(vario, 14)"
   ]
  },
  {
   "cell_type": "code",
   "execution_count": 111,
   "metadata": {},
   "outputs": [
    {
     "name": "stdout",
     "output_type": "stream",
     "text": [
      "[2.00000000e+00 1.00000000e+02 2.97222069e-03 2.34037986e+00\n",
      " 9.72642850e+01]\n"
     ]
    }
   ],
   "source": [
    "print(param)"
   ]
  },
  {
   "cell_type": "markdown",
   "metadata": {},
   "source": [
    "## Step3: gls\n",
    "- 共分散関数を推定\n",
    "    - 観測値間の距離行列を作成\n",
    "    - 推定したパラメータから$\\hat{C}(0)$を推定\n",
    "    - 正定値になるように処理を加える(数学的な根拠は不明, Rではどのように処理している?)\n",
    "- 共分散関数の推定量を用いてgls"
   ]
  },
  {
   "cell_type": "code",
   "execution_count": 40,
   "metadata": {},
   "outputs": [],
   "source": [
    "distance_mat = kriging.calc_distance_matrix(data, ['px', 'py'])"
   ]
  },
  {
   "cell_type": "code",
   "execution_count": 41,
   "metadata": {},
   "outputs": [],
   "source": [
    "efrange, c0 = kriging.calc_c0(param, distance_mat)"
   ]
  },
  {
   "cell_type": "code",
   "execution_count": 42,
   "metadata": {},
   "outputs": [
    {
     "name": "stdout",
     "output_type": "stream",
     "text": [
      "0.1499187183409662\n"
     ]
    }
   ],
   "source": [
    "print(efrange)"
   ]
  },
  {
   "cell_type": "code",
   "execution_count": 43,
   "metadata": {},
   "outputs": [
    {
     "name": "stdout",
     "output_type": "stream",
     "text": [
      "0.19730812928798586\n"
     ]
    }
   ],
   "source": [
    "print(c0)"
   ]
  },
  {
   "cell_type": "code",
   "execution_count": 44,
   "metadata": {},
   "outputs": [
    {
     "name": "stdout",
     "output_type": "stream",
     "text": [
      "0.2733364224372941\n"
     ]
    }
   ],
   "source": [
    "# 距離行列と関数形から共分散関数を求める\n",
    "# reg=Trueなので正定値化処理を加えている\n",
    "covariance_mat = kriging.est_covariance_matrix(distance_mat, param, c0)"
   ]
  },
  {
   "cell_type": "code",
   "execution_count": 45,
   "metadata": {
    "scrolled": true
   },
   "outputs": [
    {
     "name": "stdout",
     "output_type": "stream",
     "text": [
      "[[0.47064455 0.36789361 0.3804317  ... 0.20707913 0.21238202 0.21968644]\n",
      " [0.36789361 0.47064455 0.46963813 ... 0.31282009 0.3116277  0.30841805]\n",
      " [0.3804317  0.46963813 0.47064455 ... 0.31836757 0.31798655 0.31597677]\n",
      " ...\n",
      " [0.20707913 0.31282009 0.31836757 ... 0.47064455 0.47008999 0.46765444]\n",
      " [0.21238202 0.3116277  0.31798655 ... 0.47008999 0.47064455 0.4694883 ]\n",
      " [0.21968644 0.30841805 0.31597677 ... 0.46765444 0.4694883  0.47064455]]\n"
     ]
    }
   ],
   "source": [
    "print(covariance_mat)"
   ]
  },
  {
   "cell_type": "code",
   "execution_count": 46,
   "metadata": {},
   "outputs": [],
   "source": [
    "# 重みを用いてgls\n",
    "# statsmodelsのresultクラスが返る\n",
    "res, resid = kriging.do_gls(y, x, covariance_mat)"
   ]
  },
  {
   "cell_type": "code",
   "execution_count": 47,
   "metadata": {},
   "outputs": [
    {
     "data": {
      "text/html": [
       "<table class=\"simpletable\">\n",
       "<caption>GLS Regression Results</caption>\n",
       "<tr>\n",
       "  <th>Dep. Variable:</th>          <td>price</td>      <th>  R-squared:         </th> <td>   0.286</td>\n",
       "</tr>\n",
       "<tr>\n",
       "  <th>Model:</th>                   <td>GLS</td>       <th>  Adj. R-squared:    </th> <td>   0.274</td>\n",
       "</tr>\n",
       "<tr>\n",
       "  <th>Method:</th>             <td>Least Squares</td>  <th>  F-statistic:       </th> <td>   25.20</td>\n",
       "</tr>\n",
       "<tr>\n",
       "  <th>Date:</th>             <td>Wed, 10 Apr 2019</td> <th>  Prob (F-statistic):</th> <td>6.22e-10</td>\n",
       "</tr>\n",
       "<tr>\n",
       "  <th>Time:</th>                 <td>15:49:59</td>     <th>  Log-Likelihood:    </th> <td>  57.496</td>\n",
       "</tr>\n",
       "<tr>\n",
       "  <th>No. Observations:</th>      <td>   128</td>      <th>  AIC:               </th> <td>  -111.0</td>\n",
       "</tr>\n",
       "<tr>\n",
       "  <th>Df Residuals:</th>          <td>   126</td>      <th>  BIC:               </th> <td>  -105.3</td>\n",
       "</tr>\n",
       "<tr>\n",
       "  <th>Df Model:</th>              <td>     2</td>      <th>                     </th>     <td> </td>   \n",
       "</tr>\n",
       "<tr>\n",
       "  <th>Covariance Type:</th>      <td>nonrobust</td>    <th>                     </th>     <td> </td>   \n",
       "</tr>\n",
       "</table>\n",
       "<table class=\"simpletable\">\n",
       "<tr>\n",
       "     <td></td>        <th>coef</th>     <th>std err</th>      <th>t</th>      <th>P>|t|</th>  <th>[0.025</th>    <th>0.975]</th>  \n",
       "</tr>\n",
       "<tr>\n",
       "  <th>station</th> <td>  -21.5004</td> <td>    3.268</td> <td>   -6.578</td> <td> 0.000</td> <td>  -27.969</td> <td>  -15.032</td>\n",
       "</tr>\n",
       "<tr>\n",
       "  <th>tokyo</th>   <td>   34.0618</td> <td>   12.496</td> <td>    2.726</td> <td> 0.007</td> <td>    9.333</td> <td>   58.790</td>\n",
       "</tr>\n",
       "</table>\n",
       "<table class=\"simpletable\">\n",
       "<tr>\n",
       "  <th>Omnibus:</th>       <td> 2.844</td> <th>  Durbin-Watson:     </th> <td>   2.302</td>\n",
       "</tr>\n",
       "<tr>\n",
       "  <th>Prob(Omnibus):</th> <td> 0.241</td> <th>  Jarque-Bera (JB):  </th> <td>   2.303</td>\n",
       "</tr>\n",
       "<tr>\n",
       "  <th>Skew:</th>          <td> 0.292</td> <th>  Prob(JB):          </th> <td>   0.316</td>\n",
       "</tr>\n",
       "<tr>\n",
       "  <th>Kurtosis:</th>      <td> 3.301</td> <th>  Cond. No.          </th> <td>    3.82</td>\n",
       "</tr>\n",
       "</table><br/><br/>Warnings:<br/>[1] Standard Errors assume that the covariance matrix of the errors is correctly specified."
      ],
      "text/plain": [
       "<class 'statsmodels.iolib.summary.Summary'>\n",
       "\"\"\"\n",
       "                            GLS Regression Results                            \n",
       "==============================================================================\n",
       "Dep. Variable:                  price   R-squared:                       0.286\n",
       "Model:                            GLS   Adj. R-squared:                  0.274\n",
       "Method:                 Least Squares   F-statistic:                     25.20\n",
       "Date:                Wed, 10 Apr 2019   Prob (F-statistic):           6.22e-10\n",
       "Time:                        15:49:59   Log-Likelihood:                 57.496\n",
       "No. Observations:                 128   AIC:                            -111.0\n",
       "Df Residuals:                     126   BIC:                            -105.3\n",
       "Df Model:                           2                                         \n",
       "Covariance Type:            nonrobust                                         \n",
       "==============================================================================\n",
       "                 coef    std err          t      P>|t|      [0.025      0.975]\n",
       "------------------------------------------------------------------------------\n",
       "station      -21.5004      3.268     -6.578      0.000     -27.969     -15.032\n",
       "tokyo         34.0618     12.496      2.726      0.007       9.333      58.790\n",
       "==============================================================================\n",
       "Omnibus:                        2.844   Durbin-Watson:                   2.302\n",
       "Prob(Omnibus):                  0.241   Jarque-Bera (JB):                2.303\n",
       "Skew:                           0.292   Prob(JB):                        0.316\n",
       "Kurtosis:                       3.301   Cond. No.                         3.82\n",
       "==============================================================================\n",
       "\n",
       "Warnings:\n",
       "[1] Standard Errors assume that the covariance matrix of the errors is correctly specified.\n",
       "\"\"\""
      ]
     },
     "execution_count": 47,
     "metadata": {},
     "output_type": "execute_result"
    }
   ],
   "source": [
    "res.summary()"
   ]
  },
  {
   "cell_type": "markdown",
   "metadata": {},
   "source": [
    "## Step4: kirigng\n",
    "- 観測地点と予測地点の間の共分散関数$c_*$を作成する\n",
    "    - 距離行列作成\n",
    "    - 共分散関数にあてはめる\n",
    "- 足し合わせ $\\hat{Y}(s_o) = X(s_0)\\hat{\\beta}_{gls} + c_*'\\hat{\\Sigma}^{-1}(Y - X\\beta)$"
   ]
  },
  {
   "cell_type": "code",
   "execution_count": 48,
   "metadata": {},
   "outputs": [
    {
     "data": {
      "text/html": [
       "<div>\n",
       "<style scoped>\n",
       "    .dataframe tbody tr th:only-of-type {\n",
       "        vertical-align: middle;\n",
       "    }\n",
       "\n",
       "    .dataframe tbody tr th {\n",
       "        vertical-align: top;\n",
       "    }\n",
       "\n",
       "    .dataframe thead th {\n",
       "        text-align: right;\n",
       "    }\n",
       "</style>\n",
       "<table border=\"1\" class=\"dataframe\">\n",
       "  <thead>\n",
       "    <tr style=\"text-align: right;\">\n",
       "      <th></th>\n",
       "      <th>px</th>\n",
       "      <th>py</th>\n",
       "      <th>price</th>\n",
       "      <th>station</th>\n",
       "      <th>tokyo</th>\n",
       "    </tr>\n",
       "  </thead>\n",
       "  <tbody>\n",
       "    <tr>\n",
       "      <th>0</th>\n",
       "      <td>139.402984</td>\n",
       "      <td>35.767626</td>\n",
       "      <td>NaN</td>\n",
       "      <td>0.017537</td>\n",
       "      <td>0.374249</td>\n",
       "    </tr>\n",
       "    <tr>\n",
       "      <th>1</th>\n",
       "      <td>139.407036</td>\n",
       "      <td>35.767626</td>\n",
       "      <td>NaN</td>\n",
       "      <td>0.013571</td>\n",
       "      <td>0.370307</td>\n",
       "    </tr>\n",
       "    <tr>\n",
       "      <th>2</th>\n",
       "      <td>139.411089</td>\n",
       "      <td>35.767626</td>\n",
       "      <td>NaN</td>\n",
       "      <td>0.009675</td>\n",
       "      <td>0.366367</td>\n",
       "    </tr>\n",
       "    <tr>\n",
       "      <th>3</th>\n",
       "      <td>139.439457</td>\n",
       "      <td>35.767626</td>\n",
       "      <td>NaN</td>\n",
       "      <td>0.001584</td>\n",
       "      <td>0.338865</td>\n",
       "    </tr>\n",
       "    <tr>\n",
       "      <th>4</th>\n",
       "      <td>139.394878</td>\n",
       "      <td>35.763700</td>\n",
       "      <td>NaN</td>\n",
       "      <td>0.026327</td>\n",
       "      <td>0.381271</td>\n",
       "    </tr>\n",
       "  </tbody>\n",
       "</table>\n",
       "</div>"
      ],
      "text/plain": [
       "           px         py  price   station     tokyo\n",
       "0  139.402984  35.767626    NaN  0.017537  0.374249\n",
       "1  139.407036  35.767626    NaN  0.013571  0.370307\n",
       "2  139.411089  35.767626    NaN  0.009675  0.366367\n",
       "3  139.439457  35.767626    NaN  0.001584  0.338865\n",
       "4  139.394878  35.763700    NaN  0.026327  0.381271"
      ]
     },
     "execution_count": 48,
     "metadata": {},
     "output_type": "execute_result"
    }
   ],
   "source": [
    "# 前処理\n",
    "mdat = pd.read_csv('/Users/LOng/sengokulab/LDAT_LS_2019/data/dev/house_price_pred.csv')\n",
    "mdat.head()"
   ]
  },
  {
   "cell_type": "code",
   "execution_count": 49,
   "metadata": {},
   "outputs": [],
   "source": [
    "mpoints = mdat[['px', 'py']].values\n",
    "mexog = mdat[['station', 'tokyo']].values"
   ]
  },
  {
   "cell_type": "code",
   "execution_count": 50,
   "metadata": {},
   "outputs": [],
   "source": [
    "points = data[['px', 'py']].values"
   ]
  },
  {
   "cell_type": "code",
   "execution_count": 51,
   "metadata": {},
   "outputs": [],
   "source": [
    "# 距離行列作成\n",
    "new_dist_mat = kriging.calc_distance_new_data(mpoints, points)"
   ]
  },
  {
   "cell_type": "code",
   "execution_count": 52,
   "metadata": {},
   "outputs": [],
   "source": [
    "# 距離行列と関数型から共分散行列を推定\n",
    "# reg=Falseを指定して正定値処理をスキップ(正方行列でないのでエラーを防ぐ)\n",
    "c_mat = kriging.est_covariance_matrix(new_dist_mat, param, c0, reg=False)"
   ]
  },
  {
   "cell_type": "code",
   "execution_count": 53,
   "metadata": {},
   "outputs": [],
   "source": [
    "fitted_val = kriging.put_pred_val(res, mexog)"
   ]
  },
  {
   "cell_type": "code",
   "execution_count": 54,
   "metadata": {},
   "outputs": [],
   "source": [
    "kriging_val = kriging.do_kriging(fitted_val, c_mat, covariance_mat, resid)"
   ]
  },
  {
   "cell_type": "markdown",
   "metadata": {},
   "source": [
    "## Rでの結果との比較"
   ]
  },
  {
   "cell_type": "code",
   "execution_count": 55,
   "metadata": {},
   "outputs": [],
   "source": [
    "res_inR = pd.read_csv('/Users/LOng/sengokulab/LDAT_LS_2019/data/dev/krig_res_R.csv')\n",
    "res_inR = res_inR.iloc[:, 1:-2]"
   ]
  },
  {
   "cell_type": "code",
   "execution_count": 56,
   "metadata": {},
   "outputs": [
    {
     "data": {
      "text/plain": [
       "Text(0, 0.5, 'pred by Python')"
      ]
     },
     "execution_count": 56,
     "metadata": {},
     "output_type": "execute_result"
    },
    {
     "data": {
      "image/png": "[encoded data removed]",
      "text/plain": [
       "<Figure size 864x864 with 1 Axes>"
      ]
     },
     "metadata": {
      "needs_background": "light"
     },
     "output_type": "display_data"
    }
   ],
   "source": [
    "res_fig = plt.figure(figsize=(12, 12))\n",
    "res_ax = res_fig.add_subplot(1, 1, 1)\n",
    "res_ax.scatter(res_inR['var1.pred'], kriging_val)\n",
    "res_ax.plot(np.linspace(10, 14, 1000), np.linspace(10, 14, 1000), color='black')\n",
    "res_ax.set_xlim(10, 14)\n",
    "res_ax.set_ylim(10, 14)\n",
    "res_ax.set_xlabel('pred by R')\n",
    "res_ax.set_ylabel('pred by Python')\n",
    "# Rとの結果とそこそこ整合的になった?"
   ]
  },
  {
   "cell_type": "code",
   "execution_count": 57,
   "metadata": {},
   "outputs": [],
   "source": [
    "res_fig.savefig('/Users/LOng/sengokulab/LDAT_LS_2019/data/dev/plot/kriging_est_func_res2.png')"
   ]
  },
  {
   "cell_type": "markdown",
   "metadata": {},
   "source": [
    "# Todo\n",
    "- 共分散関数の$\\hat{C}(0)$の推定が指数型分布しか対応していないので、ガウス型などにも拡張\n",
    "    - 線形型の場合はユーザーが指定するように設定しているが、それで良いのか確認\n",
    "- クラス化してコードを簡略化"
   ]
  }
 ],
 "metadata": {
  "kernelspec": {
   "display_name": "Python 3",
   "language": "python",
   "name": "python3"
  },
  "language_info": {
   "codemirror_mode": {
    "name": "ipython",
    "version": 3
   },
   "file_extension": ".py",
   "mimetype": "text/x-python",
   "name": "python",
   "nbconvert_exporter": "python",
   "pygments_lexer": "ipython3",
   "version": "3.7.0"
  }
 },
 "nbformat": 4,
 "nbformat_minor": 2
}
