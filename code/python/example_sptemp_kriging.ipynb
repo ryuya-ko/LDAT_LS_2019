{
 "cells": [
  {
   "cell_type": "markdown",
   "metadata": {},
   "source": [
    "# 不動産時系列データにカルマンフィルタを適用する"
   ]
  },
  {
   "cell_type": "code",
   "execution_count": 1,
   "metadata": {},
   "outputs": [],
   "source": [
    "import sys\n",
    "sys.path.append('/Users/LOng/sengokulab/LDAT_LS_2019/scripts/')"
   ]
  },
  {
   "cell_type": "code",
   "execution_count": 90,
   "metadata": {},
   "outputs": [],
   "source": [
    "import numpy as np\n",
    "import matplotlib.pyplot as plt\n",
    "import pandas as pd\n",
    "import calc_variogram as variogram\n",
    "import kriging_est as kriging\n",
    "import kalmanfilter as kalman"
   ]
  },
  {
   "cell_type": "code",
   "execution_count": 3,
   "metadata": {},
   "outputs": [],
   "source": [
    "data = pd.read_csv('/Users/LOng/sengokulab/LDAT_LS_2019/data/dev/peseudo_monthly_rent_data.csv')"
   ]
  },
  {
   "cell_type": "code",
   "execution_count": 4,
   "metadata": {},
   "outputs": [
    {
     "data": {
      "text/html": [
       "<div>\n",
       "<style scoped>\n",
       "    .dataframe tbody tr th:only-of-type {\n",
       "        vertical-align: middle;\n",
       "    }\n",
       "\n",
       "    .dataframe tbody tr th {\n",
       "        vertical-align: top;\n",
       "    }\n",
       "\n",
       "    .dataframe thead th {\n",
       "        text-align: right;\n",
       "    }\n",
       "</style>\n",
       "<table border=\"1\" class=\"dataframe\">\n",
       "  <thead>\n",
       "    <tr style=\"text-align: right;\">\n",
       "      <th></th>\n",
       "      <th>No</th>\n",
       "      <th>都道府県</th>\n",
       "      <th>市区町村</th>\n",
       "      <th>町丁目</th>\n",
       "      <th>築年</th>\n",
       "      <th>築月</th>\n",
       "      <th>構造</th>\n",
       "      <th>マンション最上階数</th>\n",
       "      <th>間取別平均平米単価①</th>\n",
       "      <th>間取別平均平米単価②</th>\n",
       "      <th>...</th>\n",
       "      <th>最寄駅経度</th>\n",
       "      <th>始点ノード</th>\n",
       "      <th>終点ノード</th>\n",
       "      <th>最寄駅までの距離</th>\n",
       "      <th>month</th>\n",
       "      <th>月別間取別平均平米単価①</th>\n",
       "      <th>月別間取別平均平米単価②</th>\n",
       "      <th>月別間取別平均平米単価③</th>\n",
       "      <th>月別間取別平均平米単価④</th>\n",
       "      <th>月別間取別平均平米単価⑤</th>\n",
       "    </tr>\n",
       "  </thead>\n",
       "  <tbody>\n",
       "    <tr>\n",
       "      <th>0</th>\n",
       "      <td>1</td>\n",
       "      <td>東京都</td>\n",
       "      <td>世田谷区</td>\n",
       "      <td>喜多見７丁目</td>\n",
       "      <td>1988</td>\n",
       "      <td>3</td>\n",
       "      <td>ＲＣ</td>\n",
       "      <td>2</td>\n",
       "      <td>2812.2742</td>\n",
       "      <td>2311.9321</td>\n",
       "      <td>...</td>\n",
       "      <td>139.587513</td>\n",
       "      <td>1.395870e+14</td>\n",
       "      <td>1.395930e+14</td>\n",
       "      <td>1096.93</td>\n",
       "      <td>9</td>\n",
       "      <td>2868.519684</td>\n",
       "      <td>2358.170742</td>\n",
       "      <td>2273.304804</td>\n",
       "      <td>2188.708860</td>\n",
       "      <td>2687.040060</td>\n",
       "    </tr>\n",
       "    <tr>\n",
       "      <th>1</th>\n",
       "      <td>2</td>\n",
       "      <td>東京都</td>\n",
       "      <td>世田谷区</td>\n",
       "      <td>喜多見７丁目</td>\n",
       "      <td>2005</td>\n",
       "      <td>3</td>\n",
       "      <td>鉄骨造</td>\n",
       "      <td>3</td>\n",
       "      <td>3006.8074</td>\n",
       "      <td>2633.6113</td>\n",
       "      <td>...</td>\n",
       "      <td>139.587513</td>\n",
       "      <td>1.395870e+14</td>\n",
       "      <td>1.395920e+14</td>\n",
       "      <td>930.57</td>\n",
       "      <td>3</td>\n",
       "      <td>3217.283918</td>\n",
       "      <td>2817.964091</td>\n",
       "      <td>2654.611792</td>\n",
       "      <td>2753.539712</td>\n",
       "      <td>2925.088746</td>\n",
       "    </tr>\n",
       "    <tr>\n",
       "      <th>2</th>\n",
       "      <td>3</td>\n",
       "      <td>東京都</td>\n",
       "      <td>世田谷区</td>\n",
       "      <td>喜多見９丁目</td>\n",
       "      <td>2001</td>\n",
       "      <td>4</td>\n",
       "      <td>ＲＣ</td>\n",
       "      <td>3</td>\n",
       "      <td>2828.1343</td>\n",
       "      <td>2675.7913</td>\n",
       "      <td>...</td>\n",
       "      <td>139.587513</td>\n",
       "      <td>1.395870e+14</td>\n",
       "      <td>1.395860e+14</td>\n",
       "      <td>457.66</td>\n",
       "      <td>6</td>\n",
       "      <td>2941.259672</td>\n",
       "      <td>2782.822952</td>\n",
       "      <td>2617.707040</td>\n",
       "      <td>2496.012480</td>\n",
       "      <td>2934.125168</td>\n",
       "    </tr>\n",
       "    <tr>\n",
       "      <th>3</th>\n",
       "      <td>4</td>\n",
       "      <td>東京都</td>\n",
       "      <td>世田谷区</td>\n",
       "      <td>喜多見９丁目</td>\n",
       "      <td>1991</td>\n",
       "      <td>9</td>\n",
       "      <td>ＲＣ</td>\n",
       "      <td>3</td>\n",
       "      <td>2787.3645</td>\n",
       "      <td>2428.8105</td>\n",
       "      <td>...</td>\n",
       "      <td>139.587513</td>\n",
       "      <td>1.395870e+14</td>\n",
       "      <td>1.395850e+14</td>\n",
       "      <td>567.25</td>\n",
       "      <td>9</td>\n",
       "      <td>2843.111790</td>\n",
       "      <td>2477.386710</td>\n",
       "      <td>2427.445878</td>\n",
       "      <td>2354.673774</td>\n",
       "      <td>2804.593836</td>\n",
       "    </tr>\n",
       "    <tr>\n",
       "      <th>4</th>\n",
       "      <td>5</td>\n",
       "      <td>東京都</td>\n",
       "      <td>世田谷区</td>\n",
       "      <td>喜多見９丁目</td>\n",
       "      <td>1987</td>\n",
       "      <td>3</td>\n",
       "      <td>ＡＬＣ</td>\n",
       "      <td>2</td>\n",
       "      <td>2665.9316</td>\n",
       "      <td>2389.2583</td>\n",
       "      <td>...</td>\n",
       "      <td>139.587513</td>\n",
       "      <td>1.395870e+14</td>\n",
       "      <td>1.395860e+14</td>\n",
       "      <td>630.01</td>\n",
       "      <td>7</td>\n",
       "      <td>2719.250232</td>\n",
       "      <td>2437.043466</td>\n",
       "      <td>2419.430310</td>\n",
       "      <td>2332.399626</td>\n",
       "      <td>2529.010848</td>\n",
       "    </tr>\n",
       "  </tbody>\n",
       "</table>\n",
       "<p>5 rows × 27 columns</p>\n",
       "</div>"
      ],
      "text/plain": [
       "   No 都道府県  市区町村     町丁目    築年  築月   構造  マンション最上階数  間取別平均平米単価①  間取別平均平米単価②  \\\n",
       "0   1  東京都  世田谷区  喜多見７丁目  1988   3   ＲＣ          2   2812.2742   2311.9321   \n",
       "1   2  東京都  世田谷区  喜多見７丁目  2005   3  鉄骨造          3   3006.8074   2633.6113   \n",
       "2   3  東京都  世田谷区  喜多見９丁目  2001   4   ＲＣ          3   2828.1343   2675.7913   \n",
       "3   4  東京都  世田谷区  喜多見９丁目  1991   9   ＲＣ          3   2787.3645   2428.8105   \n",
       "4   5  東京都  世田谷区  喜多見９丁目  1987   3  ＡＬＣ          2   2665.9316   2389.2583   \n",
       "\n",
       "   ...       最寄駅経度         始点ノード         終点ノード  最寄駅までの距離  month 月別間取別平均平米単価①  \\\n",
       "0  ...  139.587513  1.395870e+14  1.395930e+14   1096.93      9  2868.519684   \n",
       "1  ...  139.587513  1.395870e+14  1.395920e+14    930.57      3  3217.283918   \n",
       "2  ...  139.587513  1.395870e+14  1.395860e+14    457.66      6  2941.259672   \n",
       "3  ...  139.587513  1.395870e+14  1.395850e+14    567.25      9  2843.111790   \n",
       "4  ...  139.587513  1.395870e+14  1.395860e+14    630.01      7  2719.250232   \n",
       "\n",
       "   月別間取別平均平米単価②  月別間取別平均平米単価③  月別間取別平均平米単価④  月別間取別平均平米単価⑤  \n",
       "0   2358.170742   2273.304804   2188.708860   2687.040060  \n",
       "1   2817.964091   2654.611792   2753.539712   2925.088746  \n",
       "2   2782.822952   2617.707040   2496.012480   2934.125168  \n",
       "3   2477.386710   2427.445878   2354.673774   2804.593836  \n",
       "4   2437.043466   2419.430310   2332.399626   2529.010848  \n",
       "\n",
       "[5 rows x 27 columns]"
      ]
     },
     "execution_count": 4,
     "metadata": {},
     "output_type": "execute_result"
    }
   ],
   "source": [
    "data.head()"
   ]
  },
  {
   "cell_type": "code",
   "execution_count": 5,
   "metadata": {},
   "outputs": [
    {
     "data": {
      "text/plain": [
       "3852"
      ]
     },
     "execution_count": 5,
     "metadata": {},
     "output_type": "execute_result"
    }
   ],
   "source": [
    "len(data)"
   ]
  },
  {
   "cell_type": "code",
   "execution_count": 6,
   "metadata": {},
   "outputs": [],
   "source": [
    "data.columns = ['No', '都道府県', '市区町村', '町丁目', 'year', '築月', '構造', 'マンション最上階数',\n",
    "       '間取別平均平米単価①', '間取別平均平米単価②', '間取別平均平米単価③', '間取別平均平米単価④',\n",
    "       '間取別平均平米単価⑤', '物件緯度', '物件経度', '最寄駅', '最寄駅緯度', '最寄駅経度', '始点ノード',\n",
    "       '終点ノード', '最寄駅までの距離', 'month', '月別間取別平均平米単価①', '月別間取別平均平米単価②',\n",
    "       '月別間取別平均平米単価③', '月別間取別平均平米単価④', '月別間取別平均平米単価⑤']"
   ]
  },
  {
   "cell_type": "code",
   "execution_count": 7,
   "metadata": {},
   "outputs": [
    {
     "data": {
      "text/plain": [
       "array(['No', '都道府県', '市区町村', '町丁目', 'year', '築月', '構造', 'マンション最上階数',\n",
       "       '間取別平均平米単価①', '間取別平均平米単価②', '間取別平均平米単価③', '間取別平均平米単価④',\n",
       "       '間取別平均平米単価⑤', '物件緯度', '物件経度', '最寄駅', '最寄駅緯度', '最寄駅経度', '始点ノード',\n",
       "       '終点ノード', '最寄駅までの距離', 'month', '月別間取別平均平米単価①', '月別間取別平均平米単価②',\n",
       "       '月別間取別平均平米単価③', '月別間取別平均平米単価④', '月別間取別平均平米単価⑤'], dtype=object)"
      ]
     },
     "execution_count": 7,
     "metadata": {},
     "output_type": "execute_result"
    }
   ],
   "source": [
    "data.columns.values"
   ]
  },
  {
   "cell_type": "markdown",
   "metadata": {},
   "source": [
    "## 時系列データの作成\n",
    "- 分散一定の減少トレンドを描く。月-10円すると考える\n",
    "- 季節性のサイクルを描く。１月から始まって12月まで。1年間\n",
    "    - 1: 1.00, 2: 1.02, 3: 1.07, 4: 1.06, 5: 1.06, 6: 1.04, 7: 1.02, 8: 1.00, 9: 1.02, 10: 1.05, 11: 1.04, 12: 1.04"
   ]
  },
  {
   "cell_type": "code",
   "execution_count": 474,
   "metadata": {},
   "outputs": [],
   "source": [
    "np.random.seed(1)"
   ]
  },
  {
   "cell_type": "code",
   "execution_count": 475,
   "metadata": {},
   "outputs": [],
   "source": [
    "trend = 50*np.random.randn(12, 3852) - 10"
   ]
  },
  {
   "cell_type": "code",
   "execution_count": 476,
   "metadata": {},
   "outputs": [
    {
     "data": {
      "text/plain": [
       "array([ 71.21726818, -59.69905605, -60.70178294,  37.26361946,\n",
       "       -40.87517201,  18.3786943 ,  66.28950513,  17.25604885,\n",
       "       -18.38170899, -58.14349662,  88.64279309, -79.82871272])"
      ]
     },
     "execution_count": 476,
     "metadata": {},
     "output_type": "execute_result"
    }
   ],
   "source": [
    "trend.T[0]"
   ]
  },
  {
   "cell_type": "code",
   "execution_count": 477,
   "metadata": {},
   "outputs": [],
   "source": [
    "tes = np.array([np.sum(trend.T[0][:i]) for i in range(1, 13)])"
   ]
  },
  {
   "cell_type": "code",
   "execution_count": 478,
   "metadata": {},
   "outputs": [
    {
     "data": {
      "text/plain": [
       "[<matplotlib.lines.Line2D at 0x12c0b2c88>]"
      ]
     },
     "execution_count": 478,
     "metadata": {},
     "output_type": "execute_result"
    },
    {
     "data": {
      "image/png": "[encoded data removed]",
      "text/plain": [
       "<Figure size 432x288 with 1 Axes>"
      ]
     },
     "metadata": {
      "needs_background": "light"
     },
     "output_type": "display_data"
    }
   ],
   "source": [
    "plt.plot(np.linspace(1, 12, 12), tes)"
   ]
  },
  {
   "cell_type": "code",
   "execution_count": 479,
   "metadata": {},
   "outputs": [],
   "source": [
    "pre_name = \"間取別平均平米単価①\"\n",
    "for i in range(0, 12):\n",
    "    col_name = \"price_{}\".format(str(i+1))\n",
    "    data[col_name] = data[pre_name] + trend.T[:, :i].sum(axis=1)\n",
    "    '''if i == 1:\n",
    "        data[col_name] += 2*unit\n",
    "    if i == 2:\n",
    "        data[col_name] += 7*unit\n",
    "    if i == 3:\n",
    "        data[col_name] = 6*unit\n",
    "    if i == 4:\n",
    "        data[col_name] += 6*unit\n",
    "    if i == 5:\n",
    "        data[col_name] += 4*unit\n",
    "    if i == 6:\n",
    "        data[col_name] += 2*unit\n",
    "    if i == 8:\n",
    "        data[col_name] += 2*unit\n",
    "    pre_name = col_name\n",
    "    '''"
   ]
  },
  {
   "cell_type": "code",
   "execution_count": 480,
   "metadata": {},
   "outputs": [],
   "source": [
    "tes = data.iloc[0:1, -12:].values"
   ]
  },
  {
   "cell_type": "code",
   "execution_count": 481,
   "metadata": {},
   "outputs": [
    {
     "data": {
      "text/plain": [
       "array([2812.2742    , 2883.49146818, 2823.79241214, 2763.0906292 ,\n",
       "       2800.35424866, 2759.47907665, 2777.85777095, 2844.14727609,\n",
       "       2861.40332494, 2843.02161595, 2784.87811933, 2873.52091242])"
      ]
     },
     "execution_count": 481,
     "metadata": {},
     "output_type": "execute_result"
    }
   ],
   "source": [
    "tes[0]"
   ]
  },
  {
   "cell_type": "code",
   "execution_count": 482,
   "metadata": {},
   "outputs": [
    {
     "data": {
      "text/plain": [
       "[<matplotlib.lines.Line2D at 0x12c171b00>]"
      ]
     },
     "execution_count": 482,
     "metadata": {},
     "output_type": "execute_result"
    },
    {
     "data": {
      "image/png": "[encoded data removed]",
      "text/plain": [
       "<Figure size 432x288 with 1 Axes>"
      ]
     },
     "metadata": {
      "needs_background": "light"
     },
     "output_type": "display_data"
    }
   ],
   "source": [
    "plt.plot(np.linspace(1, 12, 12), tes[0])"
   ]
  },
  {
   "cell_type": "code",
   "execution_count": 483,
   "metadata": {},
   "outputs": [],
   "source": [
    "np.random.seed(0)\n",
    "indices = np.random.randint(0, 3852, 200)"
   ]
  },
  {
   "cell_type": "code",
   "execution_count": 484,
   "metadata": {},
   "outputs": [],
   "source": [
    "dat = data[data.No.isin(indices)]"
   ]
  },
  {
   "cell_type": "markdown",
   "metadata": {},
   "source": [
    "# 時空間krigingの実装例\n",
    "- 一時点krigingによる空間相関の推定\n",
    "- kalmanfilter関数による時系列krigingの実施"
   ]
  },
  {
   "cell_type": "markdown",
   "metadata": {},
   "source": [
    "## Krigingによる空間相関(分散共分散行列)の推定"
   ]
  },
  {
   "cell_type": "code",
   "execution_count": 485,
   "metadata": {},
   "outputs": [],
   "source": [
    "Y = np.log(dat.iloc[:, -12:].values)"
   ]
  },
  {
   "cell_type": "code",
   "execution_count": 486,
   "metadata": {},
   "outputs": [
    {
     "data": {
      "text/plain": [
       "(196, 12)"
      ]
     },
     "execution_count": 486,
     "metadata": {},
     "output_type": "execute_result"
    }
   ],
   "source": [
    "Y.shape # 196地点, 12ヶ月分のデータ"
   ]
  },
  {
   "cell_type": "code",
   "execution_count": 487,
   "metadata": {},
   "outputs": [],
   "source": [
    "dum = pd.get_dummies(dat.町丁目, drop_first=True)\n",
    "dum2 = pd.get_dummies(dat.構造, drop_first=True)"
   ]
  },
  {
   "cell_type": "code",
   "execution_count": 488,
   "metadata": {},
   "outputs": [],
   "source": [
    "X1 = dat[['マンション最上階数', '最寄駅までの距離', 'year']]\n",
    "# X1 = X1.join(dum).join(dum2).values"
   ]
  },
  {
   "cell_type": "code",
   "execution_count": 489,
   "metadata": {},
   "outputs": [],
   "source": [
    "x = kriging.sm.add_constant(X1).values"
   ]
  },
  {
   "cell_type": "code",
   "execution_count": 490,
   "metadata": {},
   "outputs": [],
   "source": [
    "x_reg = kriging.sm.add_constant(X1).values"
   ]
  },
  {
   "cell_type": "code",
   "execution_count": 491,
   "metadata": {},
   "outputs": [],
   "source": [
    "y1 = Y[:, 0:1]"
   ]
  },
  {
   "cell_type": "code",
   "execution_count": 492,
   "metadata": {},
   "outputs": [],
   "source": [
    "resid = pd.DataFrame(kriging.sm.OLS(y1, x).fit().resid)"
   ]
  },
  {
   "cell_type": "code",
   "execution_count": 493,
   "metadata": {},
   "outputs": [],
   "source": [
    "mod = kriging.sm.OLS(y1, x).fit()\n",
    "params = mod.params.T"
   ]
  },
  {
   "cell_type": "code",
   "execution_count": 494,
   "metadata": {},
   "outputs": [],
   "source": [
    "coords = dat[['物件経度', '物件緯度']].reset_index(drop=True)"
   ]
  },
  {
   "cell_type": "code",
   "execution_count": 495,
   "metadata": {},
   "outputs": [],
   "source": [
    "resid = coords.join(resid).values"
   ]
  },
  {
   "cell_type": "code",
   "execution_count": 496,
   "metadata": {},
   "outputs": [
    {
     "data": {
      "text/plain": [
       "<matplotlib.collections.PathCollection at 0x12757c278>"
      ]
     },
     "execution_count": 496,
     "metadata": {},
     "output_type": "execute_result"
    },
    {
     "data": {
      "image/png": "[encoded data removed]",
      "text/plain": [
       "<Figure size 432x288 with 1 Axes>"
      ]
     },
     "metadata": {
      "needs_background": "light"
     },
     "output_type": "display_data"
    }
   ],
   "source": [
    "vario = variogram.get_diff(resid)\n",
    "plt.scatter(vario[0], vario[1])"
   ]
  },
  {
   "cell_type": "code",
   "execution_count": 497,
   "metadata": {},
   "outputs": [
    {
     "data": {
      "text/plain": [
       "(array([[0.00270378, 0.00534346, 0.00798314, 0.01062282, 0.0132625 ,\n",
       "         0.01590219, 0.01854187, 0.02118155, 0.02382123, 0.02646091,\n",
       "         0.02910059],\n",
       "        [0.00124512, 0.00193519, 0.00223686, 0.00286301, 0.00354152,\n",
       "         0.00373245, 0.00436615, 0.0047026 , 0.00493014, 0.00608437,\n",
       "         0.00632488]]),\n",
       " array([ 337.,  785., 1157., 1395., 1514., 1656., 1731., 1731., 1607.,\n",
       "        1575., 1414.]))"
      ]
     },
     "execution_count": 497,
     "metadata": {},
     "output_type": "execute_result"
    }
   ],
   "source": [
    "variogram.emp_variogram(vario, 11)"
   ]
  },
  {
   "cell_type": "code",
   "execution_count": 498,
   "metadata": {},
   "outputs": [
    {
     "name": "stdout",
     "output_type": "stream",
     "text": [
      "[0.         0.00355674 0.00711348 0.01067022 0.01422696 0.0177837\n",
      " 0.02134043 0.02489717 0.02845391 0.03201065]\n",
      "0.01050129786242792 0.033471740430757665\n"
     ]
    },
    {
     "data": {
      "image/png": "[encoded data removed]",
      "text/plain": [
       "<Figure size 432x288 with 1 Axes>"
      ]
     },
     "metadata": {
      "needs_background": "light"
     },
     "output_type": "display_data"
    }
   ],
   "source": [
    "param, lag, fig = variogram.auto_vario(vario, 11, 2)"
   ]
  },
  {
   "cell_type": "code",
   "execution_count": 499,
   "metadata": {},
   "outputs": [],
   "source": [
    "distance_mat = kriging.calc_distance_matrix(coords, ['物件経度', '物件緯度'])\n",
    "efrange, c0 = kriging.calc_c0(param, distance_mat)"
   ]
  },
  {
   "cell_type": "code",
   "execution_count": 500,
   "metadata": {},
   "outputs": [
    {
     "name": "stdout",
     "output_type": "stream",
     "text": [
      "0.0005228288346280024\n"
     ]
    }
   ],
   "source": [
    "print(c0)"
   ]
  },
  {
   "cell_type": "code",
   "execution_count": 501,
   "metadata": {},
   "outputs": [
    {
     "name": "stdout",
     "output_type": "stream",
     "text": [
      "0.0100402332173935\n"
     ]
    }
   ],
   "source": [
    "covariance_mat = kriging.est_covariance_matrix(distance_mat, param, c0)"
   ]
  },
  {
   "cell_type": "markdown",
   "metadata": {},
   "source": [
    "## 時空間krigingの実装 "
   ]
  },
  {
   "cell_type": "code",
   "execution_count": 502,
   "metadata": {
    "slideshow": {
     "slide_type": "-"
    }
   },
   "outputs": [],
   "source": [
    "# Settings\n",
    "nt = 12\n",
    "n = 196\n",
    "SigP = np.identity(n+4) # 状態変数のpriorの分散\n",
    "SigX = np.identity(n+4) # 状態方程式の攪乱項の分散\n",
    "SigY = np.identity(n) # 観測方程式の攪乱項の分散\n",
    "F = np.identity(n)\n",
    "F = np.hstack([F, x_reg]) # 状態変数と観測値の関係式. Local level + Regression"
   ]
  },
  {
   "cell_type": "code",
   "execution_count": 503,
   "metadata": {},
   "outputs": [],
   "source": [
    "params = params.reshape(4, 1)"
   ]
  },
  {
   "cell_type": "code",
   "execution_count": 504,
   "metadata": {},
   "outputs": [],
   "source": [
    "y_pred_list = []\n",
    "state_est_list = []\n",
    "for t in range(2, nt+1):\n",
    "    y = Y[:, t-1].reshape(n, 1)\n",
    "    if t == 2:\n",
    "        x = np.vstack([resid[:, 2:], params])\n",
    "        SigP[0:n, 0:n] = covariance_mat # 状態変数に空間相関を想定\n",
    "    else:\n",
    "        x = x1\n",
    "        SigP = SigP1\n",
    "        F[:, -1:] = F[:, -1:] - 1\n",
    "    pred, x1, SigP1, logz, a \\\n",
    "        = kalman.kalman(y, x, SigP, SigX, SigY, F)\n",
    "    y_pred_list.append(pred)\n",
    "    state_est_list.append(x1[0:n, 0:n])"
   ]
  },
  {
   "cell_type": "code",
   "execution_count": 505,
   "metadata": {},
   "outputs": [],
   "source": [
    "# 地点10の結果を確認\n",
    "j = 10\n",
    "y_at10 = Y[j-1, :]\n",
    "y_pred_at10 = [preds[j-1] for preds in y_pred_list]"
   ]
  },
  {
   "cell_type": "code",
   "execution_count": 506,
   "metadata": {},
   "outputs": [],
   "source": [
    "index = np.linspace(1, 12, 12)"
   ]
  },
  {
   "cell_type": "code",
   "execution_count": 507,
   "metadata": {},
   "outputs": [
    {
     "data": {
      "text/plain": [
       "<matplotlib.legend.Legend at 0x1341ad940>"
      ]
     },
     "execution_count": 507,
     "metadata": {},
     "output_type": "execute_result"
    },
    {
     "data": {
      "image/png": "[encoded data removed]",
      "text/plain": [
       "<Figure size 720x720 with 1 Axes>"
      ]
     },
     "metadata": {
      "needs_background": "light"
     },
     "output_type": "display_data"
    }
   ],
   "source": [
    "fig = plt.figure(figsize=(10, 10))\n",
    "ax = fig.add_subplot(1, 1, 1)\n",
    "ax.plot(index, y_at10, color='black', label='observed values')\n",
    "ax.plot(index[1:], y_pred_at10, color='red', label='filtered values')\n",
    "ax.set_title('result of kalman filter in python at point 10')\n",
    "ax.set_xlabel('time')\n",
    "ax.set_ylabel('value')\n",
    "ax.legend()"
   ]
  },
  {
   "cell_type": "code",
   "execution_count": 508,
   "metadata": {},
   "outputs": [],
   "source": [
    "fig.savefig('/Users/LOng/sengokulab/LDAT_LS_2019/data/dev/plot/res_sptemp_kriging.png')"
   ]
  },
  {
   "cell_type": "code",
   "execution_count": 317,
   "metadata": {},
   "outputs": [],
   "source": [
    "state_at10 = [preds[j-1] for preds in state_est_list]"
   ]
  },
  {
   "cell_type": "code",
   "execution_count": 318,
   "metadata": {},
   "outputs": [
    {
     "data": {
      "text/plain": [
       "[<matplotlib.lines.Line2D at 0x12a21c630>]"
      ]
     },
     "execution_count": 318,
     "metadata": {},
     "output_type": "execute_result"
    },
    {
     "data": {
      "image/png": "[encoded data removed]",
      "text/plain": [
       "<Figure size 432x288 with 1 Axes>"
      ]
     },
     "metadata": {
      "needs_background": "light"
     },
     "output_type": "display_data"
    }
   ],
   "source": [
    "plt.plot(index[1:], state_at10)"
   ]
  }
 ],
 "metadata": {
  "kernelspec": {
   "display_name": "Python 3",
   "language": "python",
   "name": "python3"
  },
  "language_info": {
   "codemirror_mode": {
    "name": "ipython",
    "version": 3
   },
   "file_extension": ".py",
   "mimetype": "text/x-python",
   "name": "python",
   "nbconvert_exporter": "python",
   "pygments_lexer": "ipython3",
   "version": "3.7.0"
  }
 },
 "nbformat": 4,
 "nbformat_minor": 2
}
